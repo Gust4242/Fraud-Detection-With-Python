{
 "cells": [
  {
   "cell_type": "code",
   "execution_count": 203,
   "metadata": {},
   "outputs": [],
   "source": [
    "import numpy as np\n",
    "import pandas as pd\n",
    "import matplotlib.pyplot as plt\n",
    "import plotly.graph_objects as go\n",
    "import plotly.express as px\n",
    "import yfinance as yf\n",
    "import pygad\n",
    "import random\n",
    "\n",
    "from deap import algorithms, base, creator, tools"
   ]
  },
  {
   "cell_type": "code",
   "execution_count": 209,
   "metadata": {},
   "outputs": [
    {
     "name": "stdout",
     "output_type": "stream",
     "text": [
      "[*********************100%***********************]  7 of 7 completed\n"
     ]
    },
    {
     "data": {
      "text/html": [
       "<div>\n",
       "<style scoped>\n",
       "    .dataframe tbody tr th:only-of-type {\n",
       "        vertical-align: middle;\n",
       "    }\n",
       "\n",
       "    .dataframe tbody tr th {\n",
       "        vertical-align: top;\n",
       "    }\n",
       "\n",
       "    .dataframe thead th {\n",
       "        text-align: right;\n",
       "    }\n",
       "</style>\n",
       "<table border=\"1\" class=\"dataframe\">\n",
       "  <thead>\n",
       "    <tr style=\"text-align: right;\">\n",
       "      <th></th>\n",
       "      <th>ELET6.SA</th>\n",
       "      <th>ITUB4.SA</th>\n",
       "      <th>MGLU3.SA</th>\n",
       "      <th>PETR4.SA</th>\n",
       "      <th>RADL3.SA</th>\n",
       "      <th>RENT3.SA</th>\n",
       "      <th>WEGE3.SA</th>\n",
       "    </tr>\n",
       "    <tr>\n",
       "      <th>Date</th>\n",
       "      <th></th>\n",
       "      <th></th>\n",
       "      <th></th>\n",
       "      <th></th>\n",
       "      <th></th>\n",
       "      <th></th>\n",
       "      <th></th>\n",
       "    </tr>\n",
       "  </thead>\n",
       "  <tbody>\n",
       "    <tr>\n",
       "      <th>2021-01-04</th>\n",
       "      <td>30.883390</td>\n",
       "      <td>27.964476</td>\n",
       "      <td>25.181740</td>\n",
       "      <td>11.470777</td>\n",
       "      <td>23.486467</td>\n",
       "      <td>65.240555</td>\n",
       "      <td>35.927433</td>\n",
       "    </tr>\n",
       "    <tr>\n",
       "      <th>2021-01-05</th>\n",
       "      <td>29.996130</td>\n",
       "      <td>27.783466</td>\n",
       "      <td>24.742058</td>\n",
       "      <td>11.919137</td>\n",
       "      <td>23.420790</td>\n",
       "      <td>64.855530</td>\n",
       "      <td>38.132565</td>\n",
       "    </tr>\n",
       "    <tr>\n",
       "      <th>2021-01-06</th>\n",
       "      <td>29.825502</td>\n",
       "      <td>28.597969</td>\n",
       "      <td>23.442999</td>\n",
       "      <td>11.942942</td>\n",
       "      <td>22.876554</td>\n",
       "      <td>61.120907</td>\n",
       "      <td>39.143661</td>\n",
       "    </tr>\n",
       "    <tr>\n",
       "      <th>2021-01-07</th>\n",
       "      <td>29.262436</td>\n",
       "      <td>29.711126</td>\n",
       "      <td>23.143217</td>\n",
       "      <td>12.300038</td>\n",
       "      <td>22.585672</td>\n",
       "      <td>64.018135</td>\n",
       "      <td>40.761414</td>\n",
       "    </tr>\n",
       "    <tr>\n",
       "      <th>2021-01-08</th>\n",
       "      <td>30.115568</td>\n",
       "      <td>29.702066</td>\n",
       "      <td>23.822723</td>\n",
       "      <td>12.347653</td>\n",
       "      <td>23.242504</td>\n",
       "      <td>68.339912</td>\n",
       "      <td>43.226547</td>\n",
       "    </tr>\n",
       "    <tr>\n",
       "      <th>...</th>\n",
       "      <td>...</td>\n",
       "      <td>...</td>\n",
       "      <td>...</td>\n",
       "      <td>...</td>\n",
       "      <td>...</td>\n",
       "      <td>...</td>\n",
       "      <td>...</td>\n",
       "    </tr>\n",
       "    <tr>\n",
       "      <th>2022-12-23</th>\n",
       "      <td>42.900005</td>\n",
       "      <td>24.574020</td>\n",
       "      <td>2.680000</td>\n",
       "      <td>20.983215</td>\n",
       "      <td>22.873898</td>\n",
       "      <td>55.563160</td>\n",
       "      <td>38.168091</td>\n",
       "    </tr>\n",
       "    <tr>\n",
       "      <th>2022-12-26</th>\n",
       "      <td>42.582867</td>\n",
       "      <td>24.086245</td>\n",
       "      <td>2.660000</td>\n",
       "      <td>20.832857</td>\n",
       "      <td>22.749372</td>\n",
       "      <td>54.043736</td>\n",
       "      <td>37.860764</td>\n",
       "    </tr>\n",
       "    <tr>\n",
       "      <th>2022-12-27</th>\n",
       "      <td>41.621845</td>\n",
       "      <td>23.949671</td>\n",
       "      <td>2.520000</td>\n",
       "      <td>20.974861</td>\n",
       "      <td>22.644007</td>\n",
       "      <td>52.027775</td>\n",
       "      <td>37.682316</td>\n",
       "    </tr>\n",
       "    <tr>\n",
       "      <th>2022-12-28</th>\n",
       "      <td>42.131187</td>\n",
       "      <td>24.437441</td>\n",
       "      <td>2.690000</td>\n",
       "      <td>20.715912</td>\n",
       "      <td>22.787687</td>\n",
       "      <td>53.914639</td>\n",
       "      <td>38.366367</td>\n",
       "    </tr>\n",
       "    <tr>\n",
       "      <th>2022-12-29</th>\n",
       "      <td>41.544964</td>\n",
       "      <td>24.388664</td>\n",
       "      <td>2.740000</td>\n",
       "      <td>20.465317</td>\n",
       "      <td>22.720636</td>\n",
       "      <td>52.832176</td>\n",
       "      <td>38.178005</td>\n",
       "    </tr>\n",
       "  </tbody>\n",
       "</table>\n",
       "<p>497 rows × 7 columns</p>\n",
       "</div>"
      ],
      "text/plain": [
       "             ELET6.SA   ITUB4.SA   MGLU3.SA   PETR4.SA   RADL3.SA   RENT3.SA  \\\n",
       "Date                                                                           \n",
       "2021-01-04  30.883390  27.964476  25.181740  11.470777  23.486467  65.240555   \n",
       "2021-01-05  29.996130  27.783466  24.742058  11.919137  23.420790  64.855530   \n",
       "2021-01-06  29.825502  28.597969  23.442999  11.942942  22.876554  61.120907   \n",
       "2021-01-07  29.262436  29.711126  23.143217  12.300038  22.585672  64.018135   \n",
       "2021-01-08  30.115568  29.702066  23.822723  12.347653  23.242504  68.339912   \n",
       "...               ...        ...        ...        ...        ...        ...   \n",
       "2022-12-23  42.900005  24.574020   2.680000  20.983215  22.873898  55.563160   \n",
       "2022-12-26  42.582867  24.086245   2.660000  20.832857  22.749372  54.043736   \n",
       "2022-12-27  41.621845  23.949671   2.520000  20.974861  22.644007  52.027775   \n",
       "2022-12-28  42.131187  24.437441   2.690000  20.715912  22.787687  53.914639   \n",
       "2022-12-29  41.544964  24.388664   2.740000  20.465317  22.720636  52.832176   \n",
       "\n",
       "             WEGE3.SA  \n",
       "Date                   \n",
       "2021-01-04  35.927433  \n",
       "2021-01-05  38.132565  \n",
       "2021-01-06  39.143661  \n",
       "2021-01-07  40.761414  \n",
       "2021-01-08  43.226547  \n",
       "...               ...  \n",
       "2022-12-23  38.168091  \n",
       "2022-12-26  37.860764  \n",
       "2022-12-27  37.682316  \n",
       "2022-12-28  38.366367  \n",
       "2022-12-29  38.178005  \n",
       "\n",
       "[497 rows x 7 columns]"
      ]
     },
     "execution_count": 209,
     "metadata": {},
     "output_type": "execute_result"
    }
   ],
   "source": [
    "stocks = ['ITUB4.SA', 'MGLU3.SA', 'RENT3.SA', 'PETR4.SA', 'WEGE3.SA', 'ELET6.SA', 'RADL3.SA']\n",
    "\n",
    "data = yf.download(stocks, start='2021-01-01', end='2022-12-31')['Adj Close']\n",
    "\n",
    "data"
   ]
  },
  {
   "cell_type": "code",
   "execution_count": 3,
   "metadata": {},
   "outputs": [
    {
     "data": {
      "text/html": [
       "<div>\n",
       "<style scoped>\n",
       "    .dataframe tbody tr th:only-of-type {\n",
       "        vertical-align: middle;\n",
       "    }\n",
       "\n",
       "    .dataframe tbody tr th {\n",
       "        vertical-align: top;\n",
       "    }\n",
       "\n",
       "    .dataframe thead th {\n",
       "        text-align: right;\n",
       "    }\n",
       "</style>\n",
       "<table border=\"1\" class=\"dataframe\">\n",
       "  <thead>\n",
       "    <tr style=\"text-align: right;\">\n",
       "      <th></th>\n",
       "      <th>ELET6.SA</th>\n",
       "      <th>ITUB4.SA</th>\n",
       "      <th>MGLU3.SA</th>\n",
       "      <th>PETR4.SA</th>\n",
       "      <th>RADL3.SA</th>\n",
       "      <th>RENT3.SA</th>\n",
       "      <th>WEGE3.SA</th>\n",
       "    </tr>\n",
       "    <tr>\n",
       "      <th>Date</th>\n",
       "      <th></th>\n",
       "      <th></th>\n",
       "      <th></th>\n",
       "      <th></th>\n",
       "      <th></th>\n",
       "      <th></th>\n",
       "      <th></th>\n",
       "    </tr>\n",
       "  </thead>\n",
       "  <tbody>\n",
       "    <tr>\n",
       "      <th>2021-01-05</th>\n",
       "      <td>-0.028729</td>\n",
       "      <td>-0.006473</td>\n",
       "      <td>-0.017460</td>\n",
       "      <td>0.039087</td>\n",
       "      <td>-0.002796</td>\n",
       "      <td>-0.005902</td>\n",
       "      <td>0.061378</td>\n",
       "    </tr>\n",
       "    <tr>\n",
       "      <th>2021-01-06</th>\n",
       "      <td>-0.005688</td>\n",
       "      <td>0.029316</td>\n",
       "      <td>-0.052504</td>\n",
       "      <td>0.001997</td>\n",
       "      <td>-0.023237</td>\n",
       "      <td>-0.057584</td>\n",
       "      <td>0.026515</td>\n",
       "    </tr>\n",
       "    <tr>\n",
       "      <th>2021-01-07</th>\n",
       "      <td>-0.018879</td>\n",
       "      <td>0.038924</td>\n",
       "      <td>-0.012788</td>\n",
       "      <td>0.029900</td>\n",
       "      <td>-0.012715</td>\n",
       "      <td>0.047402</td>\n",
       "      <td>0.041329</td>\n",
       "    </tr>\n",
       "    <tr>\n",
       "      <th>2021-01-08</th>\n",
       "      <td>0.029154</td>\n",
       "      <td>-0.000304</td>\n",
       "      <td>0.029361</td>\n",
       "      <td>0.003871</td>\n",
       "      <td>0.029082</td>\n",
       "      <td>0.067509</td>\n",
       "      <td>0.060477</td>\n",
       "    </tr>\n",
       "    <tr>\n",
       "      <th>2021-01-11</th>\n",
       "      <td>-0.021813</td>\n",
       "      <td>-0.022547</td>\n",
       "      <td>-0.014681</td>\n",
       "      <td>-0.008355</td>\n",
       "      <td>-0.005248</td>\n",
       "      <td>-0.019437</td>\n",
       "      <td>-0.030630</td>\n",
       "    </tr>\n",
       "    <tr>\n",
       "      <th>...</th>\n",
       "      <td>...</td>\n",
       "      <td>...</td>\n",
       "      <td>...</td>\n",
       "      <td>...</td>\n",
       "      <td>...</td>\n",
       "      <td>...</td>\n",
       "      <td>...</td>\n",
       "    </tr>\n",
       "    <tr>\n",
       "      <th>2022-12-23</th>\n",
       "      <td>0.015931</td>\n",
       "      <td>0.015726</td>\n",
       "      <td>0.030769</td>\n",
       "      <td>0.047103</td>\n",
       "      <td>0.013152</td>\n",
       "      <td>0.054665</td>\n",
       "      <td>-0.011299</td>\n",
       "    </tr>\n",
       "    <tr>\n",
       "      <th>2022-12-26</th>\n",
       "      <td>-0.007393</td>\n",
       "      <td>-0.019849</td>\n",
       "      <td>-0.007463</td>\n",
       "      <td>-0.007166</td>\n",
       "      <td>-0.005444</td>\n",
       "      <td>-0.027346</td>\n",
       "      <td>-0.008052</td>\n",
       "    </tr>\n",
       "    <tr>\n",
       "      <th>2022-12-27</th>\n",
       "      <td>-0.022568</td>\n",
       "      <td>-0.005670</td>\n",
       "      <td>-0.052632</td>\n",
       "      <td>0.006816</td>\n",
       "      <td>-0.004632</td>\n",
       "      <td>-0.037302</td>\n",
       "      <td>-0.004713</td>\n",
       "    </tr>\n",
       "    <tr>\n",
       "      <th>2022-12-28</th>\n",
       "      <td>0.012237</td>\n",
       "      <td>0.020367</td>\n",
       "      <td>0.067460</td>\n",
       "      <td>-0.012346</td>\n",
       "      <td>0.006345</td>\n",
       "      <td>0.036266</td>\n",
       "      <td>0.018153</td>\n",
       "    </tr>\n",
       "    <tr>\n",
       "      <th>2022-12-29</th>\n",
       "      <td>-0.013914</td>\n",
       "      <td>-0.001996</td>\n",
       "      <td>0.018587</td>\n",
       "      <td>-0.012097</td>\n",
       "      <td>-0.002942</td>\n",
       "      <td>-0.020077</td>\n",
       "      <td>-0.004910</td>\n",
       "    </tr>\n",
       "  </tbody>\n",
       "</table>\n",
       "<p>496 rows × 7 columns</p>\n",
       "</div>"
      ],
      "text/plain": [
       "            ELET6.SA  ITUB4.SA  MGLU3.SA  PETR4.SA  RADL3.SA  RENT3.SA  \\\n",
       "Date                                                                     \n",
       "2021-01-05 -0.028729 -0.006473 -0.017460  0.039087 -0.002796 -0.005902   \n",
       "2021-01-06 -0.005688  0.029316 -0.052504  0.001997 -0.023237 -0.057584   \n",
       "2021-01-07 -0.018879  0.038924 -0.012788  0.029900 -0.012715  0.047402   \n",
       "2021-01-08  0.029154 -0.000304  0.029361  0.003871  0.029082  0.067509   \n",
       "2021-01-11 -0.021813 -0.022547 -0.014681 -0.008355 -0.005248 -0.019437   \n",
       "...              ...       ...       ...       ...       ...       ...   \n",
       "2022-12-23  0.015931  0.015726  0.030769  0.047103  0.013152  0.054665   \n",
       "2022-12-26 -0.007393 -0.019849 -0.007463 -0.007166 -0.005444 -0.027346   \n",
       "2022-12-27 -0.022568 -0.005670 -0.052632  0.006816 -0.004632 -0.037302   \n",
       "2022-12-28  0.012237  0.020367  0.067460 -0.012346  0.006345  0.036266   \n",
       "2022-12-29 -0.013914 -0.001996  0.018587 -0.012097 -0.002942 -0.020077   \n",
       "\n",
       "            WEGE3.SA  \n",
       "Date                  \n",
       "2021-01-05  0.061378  \n",
       "2021-01-06  0.026515  \n",
       "2021-01-07  0.041329  \n",
       "2021-01-08  0.060477  \n",
       "2021-01-11 -0.030630  \n",
       "...              ...  \n",
       "2022-12-23 -0.011299  \n",
       "2022-12-26 -0.008052  \n",
       "2022-12-27 -0.004713  \n",
       "2022-12-28  0.018153  \n",
       "2022-12-29 -0.004910  \n",
       "\n",
       "[496 rows x 7 columns]"
      ]
     },
     "execution_count": 3,
     "metadata": {},
     "output_type": "execute_result"
    }
   ],
   "source": [
    "returns = data.pct_change().dropna()\n",
    "returns"
   ]
  },
  {
   "cell_type": "code",
   "execution_count": 30,
   "metadata": {},
   "outputs": [],
   "source": [
    "def portfolio_returns(solution):\n",
    "    port_returns = 0\n",
    "    for i in range(len(solution)):\n",
    "        port_returns += returns.iloc[:, i] * solution[i]\n",
    "    return port_returns\n",
    "\n",
    "def cvm(solution):\n",
    "    \"\"\"\n",
    "    Carteira de variância mínima\n",
    "    \"\"\"\n",
    "    port_returns = portfolio_returns(solution)\n",
    "    return np.std(port_returns)\n",
    "\n",
    "def constraints(solution):\n",
    "    bound = (sum(solution) - 1)**2\n",
    "    return bound\n",
    "\n",
    "def fitness_function(ga_instance, solution, solution_idx):\n",
    "    return (cvm(solution) + 100*constraints(solution))\n"
   ]
  },
  {
   "cell_type": "code",
   "execution_count": 31,
   "metadata": {},
   "outputs": [
    {
     "name": "stderr",
     "output_type": "stream",
     "text": [
      "c:\\Users\\Yamac\\AppData\\Local\\Programs\\Python\\Python310\\lib\\site-packages\\pygad\\pygad.py:738: UserWarning: The percentage of genes to mutate (mutation_percent_genes=10) resutled in selecting (0) genes. The number of genes to mutate is set to 1 (mutation_num_genes=1).\n",
      "If you do not want to mutate any gene, please set mutation_type=None.\n",
      "  warnings.warn(f\"The percentage of genes to mutate (mutation_percent_genes={mutation_percent_genes}) resutled in selecting ({mutation_num_genes}) genes. The number of genes to mutate is set to 1 (mutation_num_genes=1).\\nIf you do not want to mutate any gene, please set mutation_type=None.\")\n"
     ]
    }
   ],
   "source": [
    "ga = pygad.GA(num_generations=50, num_parents_mating=10,\n",
    "              fitness_func=fitness_function, sol_per_pop=20,\n",
    "              gene_type=np.float32, mutation_percent_genes=10,\n",
    "              gene_space=bounds, num_genes=num_stocks)\n",
    "\n",
    "ga.run()"
   ]
  },
  {
   "attachments": {},
   "cell_type": "markdown",
   "metadata": {},
   "source": [
    "### Teste 2"
   ]
  },
  {
   "cell_type": "code",
   "execution_count": 57,
   "metadata": {},
   "outputs": [],
   "source": [
    "def portfolio_generate(df):\n",
    "    portfolio = df.copy()\n",
    "    portfolio['Total'] = portfolio.sum()\n",
    "    portfolio['Total'] = portfolio['Total']  / 100\n",
    "    portfolio['Total'] = portfolio['Total'] + 1\n",
    "    portfolio = portfolio[['Total']]\n",
    "    return portfolio\n",
    "\n",
    "def portfolio_return(portfolio):\n",
    "    return np.prod(portfolio['Total']) -1\n",
    "\n",
    "def fitness_function(ga_instance, solution, solution_idx):\n",
    "    portfolio = portfolio_generate(returns)\n",
    "    ret = portfolio_return(portfolio)\n",
    "    return ret"
   ]
  },
  {
   "cell_type": "code",
   "execution_count": 65,
   "metadata": {},
   "outputs": [
    {
     "name": "stderr",
     "output_type": "stream",
     "text": [
      "c:\\Users\\Yamac\\AppData\\Local\\Programs\\Python\\Python310\\lib\\site-packages\\pygad\\pygad.py:738: UserWarning: The percentage of genes to mutate (mutation_percent_genes=10) resutled in selecting (0) genes. The number of genes to mutate is set to 1 (mutation_num_genes=1).\n",
      "If you do not want to mutate any gene, please set mutation_type=None.\n",
      "  warnings.warn(f\"The percentage of genes to mutate (mutation_percent_genes={mutation_percent_genes}) resutled in selecting ({mutation_num_genes}) genes. The number of genes to mutate is set to 1 (mutation_num_genes=1).\\nIf you do not want to mutate any gene, please set mutation_type=None.\")\n"
     ]
    }
   ],
   "source": [
    "ga_instance = pygad.GA(num_generations=30, num_parents_mating=50,\n",
    "                       fitness_func=fitness_function, sol_per_pop=90,\n",
    "                       init_range_low=0, init_range_high=1,\n",
    "                       parent_selection_type='sss', keep_parents=30,\n",
    "                       crossover_type='single_point', mutation_percent_genes=10,\n",
    "                       random_seed=42, num_genes=7)\n",
    "\n",
    "ga_instance.run() "
   ]
  },
  {
   "cell_type": "code",
   "execution_count": 66,
   "metadata": {},
   "outputs": [
    {
     "data": {
      "text/plain": [
       "(array([6.31302552, 3.92887282, 5.22131094, 5.60241688, 5.04461411,\n",
       "        5.74429642, 6.69531025]),\n",
       " 140999.10240085586,\n",
       " 0)"
      ]
     },
     "execution_count": 66,
     "metadata": {},
     "output_type": "execute_result"
    }
   ],
   "source": [
    "ga_instance.best_solution()"
   ]
  },
  {
   "attachments": {},
   "cell_type": "markdown",
   "metadata": {},
   "source": [
    "### Teste 3"
   ]
  },
  {
   "cell_type": "code",
   "execution_count": 88,
   "metadata": {},
   "outputs": [],
   "source": [
    "teste = [21,32,43,54,65,76,87]"
   ]
  },
  {
   "cell_type": "code",
   "execution_count": 89,
   "metadata": {},
   "outputs": [],
   "source": [
    "def constraint(solution):\n",
    "    bounduary_constraint = (sum(solution) - 1)**2\n",
    "    return bounduary_constraint\n",
    "\n",
    "def fitness_function(ga_intance, solution, solution_idx):\n",
    "    fitness = np.dot(teste, solution)\n",
    "    return fitness -100*constraint(solution)"
   ]
  },
  {
   "cell_type": "code",
   "execution_count": 96,
   "metadata": {},
   "outputs": [
    {
     "name": "stderr",
     "output_type": "stream",
     "text": [
      "c:\\Users\\Yamac\\AppData\\Local\\Programs\\Python\\Python310\\lib\\site-packages\\pygad\\pygad.py:738: UserWarning: The percentage of genes to mutate (mutation_percent_genes=10) resutled in selecting (0) genes. The number of genes to mutate is set to 1 (mutation_num_genes=1).\n",
      "If you do not want to mutate any gene, please set mutation_type=None.\n",
      "  warnings.warn(f\"The percentage of genes to mutate (mutation_percent_genes={mutation_percent_genes}) resutled in selecting ({mutation_num_genes}) genes. The number of genes to mutate is set to 1 (mutation_num_genes=1).\\nIf you do not want to mutate any gene, please set mutation_type=None.\")\n"
     ]
    }
   ],
   "source": [
    "ga_instance = pygad.GA(num_generations=30, num_parents_mating=50,\n",
    "                       fitness_func=fitness_function, sol_per_pop=90,\n",
    "                       init_range_low=0, init_range_high=1,\n",
    "                       parent_selection_type='sss', keep_parents=30,\n",
    "                       crossover_type='single_point', mutation_percent_genes=10,\n",
    "                       random_seed=42, num_genes=7, gene_space=gene_space)\n",
    "\n",
    "ga_instance.run() "
   ]
  },
  {
   "cell_type": "code",
   "execution_count": 99,
   "metadata": {},
   "outputs": [
    {
     "data": {
      "text/plain": [
       "(array([0.03673194, 0.00977085, 0.03142919, 0.01009061, 0.11573761,\n",
       "        0.14032452, 0.9623102 ]),\n",
       " 95.50119723987602,\n",
       " 0)"
      ]
     },
     "execution_count": 99,
     "metadata": {},
     "output_type": "execute_result"
    }
   ],
   "source": [
    "ga_instance.best_solution()"
   ]
  },
  {
   "cell_type": "code",
   "execution_count": 100,
   "metadata": {},
   "outputs": [
    {
     "data": {
      "text/plain": [
       "1.30639492"
      ]
     },
     "execution_count": 100,
     "metadata": {},
     "output_type": "execute_result"
    }
   ],
   "source": [
    "np.sum([0.03673194, 0.00977085, 0.03142919, 0.01009061, 0.11573761, 0.14032452, 0.9623102])"
   ]
  },
  {
   "attachments": {},
   "cell_type": "markdown",
   "metadata": {},
   "source": [
    "### Teste 4 - DEAP"
   ]
  },
  {
   "cell_type": "code",
   "execution_count": 25,
   "metadata": {},
   "outputs": [],
   "source": [
    "n_stocks = 7"
   ]
  },
  {
   "cell_type": "code",
   "execution_count": 190,
   "metadata": {},
   "outputs": [
    {
     "name": "stderr",
     "output_type": "stream",
     "text": [
      "c:\\Users\\Yamac\\AppData\\Local\\Programs\\Python\\Python310\\lib\\site-packages\\deap\\creator.py:138: RuntimeWarning: A class named 'FitnessMax' has already been created and it will be overwritten. Consider deleting previous creation of that class or rename it.\n",
      "  warnings.warn(\"A class named '{0}' has already been created and it \"\n",
      "c:\\Users\\Yamac\\AppData\\Local\\Programs\\Python\\Python310\\lib\\site-packages\\deap\\creator.py:138: RuntimeWarning: A class named 'Individual' has already been created and it will be overwritten. Consider deleting previous creation of that class or rename it.\n",
      "  warnings.warn(\"A class named '{0}' has already been created and it \"\n"
     ]
    }
   ],
   "source": [
    "creator.create('FitnessMax', base.Fitness, weights=(1.0,-1.0))  # O objetivo é maximizar a solução\n",
    "creator.create(\"Individual\", list, fitness=creator.FitnessMax)  # Lista com os primeiros indivíduos"
   ]
  },
  {
   "cell_type": "code",
   "execution_count": 191,
   "metadata": {},
   "outputs": [],
   "source": [
    "def generateES(icls, size, imin, imax):\n",
    "    ind = icls(random.uniform(imin, imax) for _ in range(size))\n",
    "    return ind\n",
    "\n",
    "def calculate_returns(individual):\n",
    "    x = returns.mul(individual).sum(axis=1)  # Soma dos retornos da carteira dia a dia\n",
    "    x = x + 1\n",
    "    x = x.cumprod() - 1\n",
    "    return x.tail(1)\n",
    "    \n",
    "def calculate_risk(individual):\n",
    "    individual = np.array(individual)\n",
    "    cov_matrix = returns.cov()\n",
    "    port_variance = np.dot(individual.T, np.dot(cov_matrix, individual))\n",
    "    port_risk = np.sqrt(port_variance)\n",
    "    return port_risk\n",
    "    \n",
    "def evaluate_portfolio(individual):\n",
    "    # Calculate returns and risk based on individual weights\n",
    "    returns = calculate_returns(individual)\n",
    "    risk = calculate_risk(individual)\n",
    "\n",
    "    penalty = abs((np.sum(individual) - 1)**2)  # Penalidade para a soma dos pesos ser 1\n",
    "    \n",
    "    # Return a tuple of the fitness values (returns, -risk as it's a maximization problem)\n",
    "    return float(returns - 100*penalty), float(-risk - 100*penalty)"
   ]
  },
  {
   "cell_type": "code",
   "execution_count": 193,
   "metadata": {},
   "outputs": [],
   "source": [
    "toolbox = base.Toolbox()\n",
    "toolbox.register('attr_bool', random.randint, 0, 1)\n",
    "#toolbox.register(\"individual\", tools.initRepeat, creator.Individual, toolbox.attr_bool, n_stocks)  # Cria os indivíduos iniciais com n_stocks cromossomos\n",
    "toolbox.register(\"individual\", generateES, creator.Individual, 7, 0, 1)\n",
    "toolbox.register(\"population\", tools.initRepeat, list, toolbox.individual)  # Coleção dos indívduos iniciais - serão armazenados em uma lista\n",
    "toolbox.register(\"evaluate\", evaluate_portfolio)\n",
    "toolbox.register(\"mate\", tools.cxTwoPoint)\n",
    "#toolbox.register(\"mutate\", tools.mutGaussian, mu=0, sigma=0.1, indpb=0.1)\n",
    "toolbox.register(\"mutate\", tools.mutPolynomialBounded, eta=0.5, low=lower_bound, up=upper_bound, indpb=0.1)\n",
    "toolbox.register(\"select\", tools.selTournament, tournsize=3)"
   ]
  },
  {
   "cell_type": "code",
   "execution_count": 194,
   "metadata": {},
   "outputs": [],
   "source": [
    "population_size = 100\n",
    "num_generations = 50\n",
    "cx_prob = 0.5\n",
    "mut_prob = 0.2"
   ]
  },
  {
   "cell_type": "code",
   "execution_count": 195,
   "metadata": {},
   "outputs": [
    {
     "name": "stdout",
     "output_type": "stream",
     "text": [
      "gen\tnevals\n",
      "0  \t100   \n",
      "1  \t51    \n",
      "2  \t58    \n",
      "3  \t54    \n",
      "4  \t56    \n",
      "5  \t57    \n",
      "6  \t59    \n",
      "7  \t51    \n",
      "8  \t66    \n",
      "9  \t65    \n",
      "10 \t56    \n",
      "11 \t72    \n",
      "12 \t63    \n",
      "13 \t58    \n",
      "14 \t61    \n",
      "15 \t59    \n",
      "16 \t57    \n",
      "17 \t60    \n",
      "18 \t67    \n",
      "19 \t57    \n",
      "20 \t56    \n",
      "21 \t60    \n",
      "22 \t44    \n",
      "23 \t56    \n",
      "24 \t68    \n",
      "25 \t62    \n",
      "26 \t55    \n",
      "27 \t60    \n",
      "28 \t53    \n",
      "29 \t66    \n",
      "30 \t70    \n",
      "31 \t61    \n",
      "32 \t65    \n",
      "33 \t62    \n",
      "34 \t58    \n",
      "35 \t60    \n",
      "36 \t65    \n",
      "37 \t64    \n",
      "38 \t64    \n",
      "39 \t63    \n",
      "40 \t41    \n",
      "41 \t73    \n",
      "42 \t58    \n",
      "43 \t66    \n",
      "44 \t55    \n",
      "45 \t51    \n",
      "46 \t66    \n",
      "47 \t48    \n",
      "48 \t55    \n",
      "49 \t63    \n",
      "50 \t67    \n"
     ]
    },
    {
     "data": {
      "text/plain": [
       "([[0.41579183817901777,\n",
       "   0.03241582242137542,\n",
       "   0.007121255425956985,\n",
       "   0.06813424819146996,\n",
       "   0.37255404024520355,\n",
       "   0.017317211328799598,\n",
       "   0.07321945296493482],\n",
       "  [0.41579183817901777,\n",
       "   0.03241582242137542,\n",
       "   0.007121255425956985,\n",
       "   0.06813424819146996,\n",
       "   0.37255404024520355,\n",
       "   0.017317211328799598,\n",
       "   0.07321945296493482],\n",
       "  [0.41579183817901777,\n",
       "   0.03241582242137542,\n",
       "   0.007121255425956985,\n",
       "   0.06813424819146996,\n",
       "   0.37255404024520355,\n",
       "   0.017317211328799598,\n",
       "   0.07321945296493482],\n",
       "  [0.41579183817901777,\n",
       "   0.03241582242137542,\n",
       "   0.007121255425956985,\n",
       "   0.06813424819146996,\n",
       "   0.37255404024520355,\n",
       "   0.017317211328799598,\n",
       "   0.07321945296493482],\n",
       "  [0.41579183817901777,\n",
       "   0.03241582242137542,\n",
       "   0.007121255425956985,\n",
       "   0.06813424819146996,\n",
       "   0.37255404024520355,\n",
       "   0.017317211328799598,\n",
       "   0.07321945296493482],\n",
       "  [0.41579183817901777,\n",
       "   0.03241582242137542,\n",
       "   0.007121255425956985,\n",
       "   0.06813424819146996,\n",
       "   0.37255404024520355,\n",
       "   0.017317211328799598,\n",
       "   0.07321945296493482],\n",
       "  [0.41579183817901777,\n",
       "   0.03241582242137542,\n",
       "   0.007121255425956985,\n",
       "   0.06813424819146996,\n",
       "   0.37255404024520355,\n",
       "   0.017317211328799598,\n",
       "   0.07321945296493482],\n",
       "  [0.41579183817901777,\n",
       "   0.3612972433739057,\n",
       "   0.007121255425956985,\n",
       "   0.06813424819146996,\n",
       "   0.37255404024520355,\n",
       "   0.017317211328799598,\n",
       "   0.07321945296493482],\n",
       "  [0.41579183817901777,\n",
       "   0.03241582242137542,\n",
       "   0.007121255425956985,\n",
       "   0.06813424819146996,\n",
       "   0.37255404024520355,\n",
       "   0.017317211328799598,\n",
       "   0.07321945296493482],\n",
       "  [0.41579183817901777,\n",
       "   0.03241582242137542,\n",
       "   0.007121255425956985,\n",
       "   0.06813424819146996,\n",
       "   0.37255404024520355,\n",
       "   0.017317211328799598,\n",
       "   0.07321945296493482],\n",
       "  [0.41579183817901777,\n",
       "   0.03241582242137542,\n",
       "   0.007121255425956985,\n",
       "   0.06813424819146996,\n",
       "   0.37255404024520355,\n",
       "   0.017317211328799598,\n",
       "   0.07321945296493482],\n",
       "  [0.41579183817901777,\n",
       "   0.03241582242137542,\n",
       "   0.007121255425956985,\n",
       "   0.06813424819146996,\n",
       "   0.37255404024520355,\n",
       "   0.017317211328799598,\n",
       "   0.07321945296493482],\n",
       "  [0.41579183817901777,\n",
       "   0.03241582242137542,\n",
       "   0.007121255425956985,\n",
       "   0.06813424819146996,\n",
       "   0.37255404024520355,\n",
       "   0.017317211328799598,\n",
       "   0.07321945296493482],\n",
       "  [0.41579183817901777,\n",
       "   0.03241582242137542,\n",
       "   0.007121255425956985,\n",
       "   0.06813424819146996,\n",
       "   0.37255404024520355,\n",
       "   0.017317211328799598,\n",
       "   0.07321945296493482],\n",
       "  [0.41579183817901777,\n",
       "   0.03241582242137542,\n",
       "   0.007121255425956985,\n",
       "   0.06813424819146996,\n",
       "   0.37255404024520355,\n",
       "   0.017317211328799598,\n",
       "   0.07321945296493482],\n",
       "  [0.41579183817901777,\n",
       "   0.03241582242137542,\n",
       "   0.007121255425956985,\n",
       "   0.06813424819146996,\n",
       "   0.37255404024520355,\n",
       "   0.017317211328799598,\n",
       "   0.07321945296493482],\n",
       "  [0.41579183817901777,\n",
       "   0.03241582242137542,\n",
       "   0.007121255425956985,\n",
       "   0.06813424819146996,\n",
       "   0.37255404024520355,\n",
       "   0.017317211328799598,\n",
       "   0.07321945296493482],\n",
       "  [0.41579183817901777,\n",
       "   0.03241582242137542,\n",
       "   0.007121255425956985,\n",
       "   0.06813424819146996,\n",
       "   0.37255404024520355,\n",
       "   0.017317211328799598,\n",
       "   0.07321945296493482],\n",
       "  [0.41579183817901777,\n",
       "   0.03241582242137542,\n",
       "   0.007121255425956985,\n",
       "   0.06813424819146996,\n",
       "   0.37255404024520355,\n",
       "   0.017317211328799598,\n",
       "   0.07321945296493482],\n",
       "  [0.41579183817901777,\n",
       "   0.03241582242137542,\n",
       "   0.007121255425956985,\n",
       "   0.06813424819146996,\n",
       "   0.37255404024520355,\n",
       "   0.017317211328799598,\n",
       "   0.07321945296493482],\n",
       "  [0.41579183817901777,\n",
       "   0.03241582242137542,\n",
       "   0.007121255425956985,\n",
       "   0.06813424819146996,\n",
       "   0.37255404024520355,\n",
       "   0.017317211328799598,\n",
       "   0.07321945296493482],\n",
       "  [0.41579183817901777,\n",
       "   0.03241582242137542,\n",
       "   0.007121255425956985,\n",
       "   0.06813424819146996,\n",
       "   0.37255404024520355,\n",
       "   0.017317211328799598,\n",
       "   0.07321945296493482],\n",
       "  [0.41579183817901777,\n",
       "   0.03241582242137542,\n",
       "   0.007121255425956985,\n",
       "   0.06813424819146996,\n",
       "   0.37255404024520355,\n",
       "   0.017317211328799598,\n",
       "   0.07321945296493482],\n",
       "  [0.41579183817901777,\n",
       "   0.03241582242137542,\n",
       "   0.007121255425956985,\n",
       "   0.06813424819146996,\n",
       "   0.37255404024520355,\n",
       "   0.017317211328799598,\n",
       "   0.07321945296493482],\n",
       "  [0.41579183817901777,\n",
       "   0.03241582242137542,\n",
       "   0.007121255425956985,\n",
       "   0.06813424819146996,\n",
       "   0.37255404024520355,\n",
       "   0.017317211328799598,\n",
       "   0.07321945296493482],\n",
       "  [0.41579183817901777,\n",
       "   0.03241582242137542,\n",
       "   0.007121255425956985,\n",
       "   0.06813424819146996,\n",
       "   0.37255404024520355,\n",
       "   0.017317211328799598,\n",
       "   0.07321945296493482],\n",
       "  [0.41579183817901777,\n",
       "   0.03241582242137542,\n",
       "   0.007121255425956985,\n",
       "   0.06813424819146996,\n",
       "   0.37255404024520355,\n",
       "   0.017317211328799598,\n",
       "   0.07321945296493482],\n",
       "  [0.41579183817901777,\n",
       "   0.03241582242137542,\n",
       "   0.007121255425956985,\n",
       "   0.06813424819146996,\n",
       "   0.37255404024520355,\n",
       "   0.017317211328799598,\n",
       "   0.07321945296493482],\n",
       "  [0.41579183817901777,\n",
       "   0.03241582242137542,\n",
       "   0.007121255425956985,\n",
       "   0.06813424819146996,\n",
       "   0.37255404024520355,\n",
       "   0.017317211328799598,\n",
       "   0.07321945296493482],\n",
       "  [0.41579183817901777,\n",
       "   0.03241582242137542,\n",
       "   0.007121255425956985,\n",
       "   0.06813424819146996,\n",
       "   0.37255404024520355,\n",
       "   0.017317211328799598,\n",
       "   0.07321945296493482],\n",
       "  [0.41579183817901777,\n",
       "   0.03241582242137542,\n",
       "   0.007121255425956985,\n",
       "   0.06813424819146996,\n",
       "   0.37255404024520355,\n",
       "   0.017317211328799598,\n",
       "   0.07321945296493482],\n",
       "  [0.41579183817901777,\n",
       "   0.03241582242137542,\n",
       "   0.007121255425956985,\n",
       "   0.06813424819146996,\n",
       "   0.37255404024520355,\n",
       "   0.017317211328799598,\n",
       "   0.07321945296493482],\n",
       "  [0.41579183817901777,\n",
       "   0.03241582242137542,\n",
       "   0.007121255425956985,\n",
       "   0.06813424819146996,\n",
       "   0.37255404024520355,\n",
       "   0.017317211328799598,\n",
       "   0.07321945296493482],\n",
       "  [0.41579183817901777,\n",
       "   0.03241582242137542,\n",
       "   0.007121255425956985,\n",
       "   0.06813424819146996,\n",
       "   0.37255404024520355,\n",
       "   0.017317211328799598,\n",
       "   0.07321945296493482],\n",
       "  [0.41579183817901777,\n",
       "   0.03241582242137542,\n",
       "   0.007121255425956985,\n",
       "   0.06813424819146996,\n",
       "   0.37255404024520355,\n",
       "   0.017317211328799598,\n",
       "   0.07321945296493482],\n",
       "  [0.41579183817901777,\n",
       "   0.03241582242137542,\n",
       "   0.007121255425956985,\n",
       "   0.06813424819146996,\n",
       "   0.37255404024520355,\n",
       "   0.017317211328799598,\n",
       "   0.07321945296493482],\n",
       "  [0.41579183817901777,\n",
       "   0.03241582242137542,\n",
       "   0.007121255425956985,\n",
       "   0.06813424819146996,\n",
       "   0.37255404024520355,\n",
       "   0.017317211328799598,\n",
       "   0.07321945296493482],\n",
       "  [0.41579183817901777,\n",
       "   0.03241582242137542,\n",
       "   0.007121255425956985,\n",
       "   0.06813424819146996,\n",
       "   0.37255404024520355,\n",
       "   0.017317211328799598,\n",
       "   0.07321945296493482],\n",
       "  [0.41579183817901777,\n",
       "   0.03241582242137542,\n",
       "   0.007121255425956985,\n",
       "   0.06813424819146996,\n",
       "   0.37255404024520355,\n",
       "   0.017317211328799598,\n",
       "   0.07321945296493482],\n",
       "  [0.41579183817901777,\n",
       "   0.03241582242137542,\n",
       "   0.007121255425956985,\n",
       "   0.06813424819146996,\n",
       "   0.37255404024520355,\n",
       "   0.017317211328799598,\n",
       "   0.07321945296493482],\n",
       "  [0.41579183817901777,\n",
       "   0.03241582242137542,\n",
       "   0.007121255425956985,\n",
       "   0.06813424819146996,\n",
       "   0.37255404024520355,\n",
       "   0.017317211328799598,\n",
       "   0.07321945296493482],\n",
       "  [0.41579183817901777,\n",
       "   0.03241582242137542,\n",
       "   0.007121255425956985,\n",
       "   0.06813424819146996,\n",
       "   0.37255404024520355,\n",
       "   0.017317211328799598,\n",
       "   0.07321945296493482],\n",
       "  [0.41579183817901777,\n",
       "   0.03241582242137542,\n",
       "   0.007121255425956985,\n",
       "   0.06813424819146996,\n",
       "   0.37255404024520355,\n",
       "   0.017317211328799598,\n",
       "   0.07321945296493482],\n",
       "  [0.41579183817901777,\n",
       "   0.03241582242137542,\n",
       "   0.007121255425956985,\n",
       "   0.06813424819146996,\n",
       "   0.37255404024520355,\n",
       "   0.017317211328799598,\n",
       "   0.07321945296493482],\n",
       "  [0.41579183817901777,\n",
       "   0.03241582242137542,\n",
       "   0.007121255425956985,\n",
       "   0.06813424819146996,\n",
       "   0.37255404024520355,\n",
       "   0.017317211328799598,\n",
       "   0.07321945296493482],\n",
       "  [0.41579183817901777,\n",
       "   0.03241582242137542,\n",
       "   0.007121255425956985,\n",
       "   0.06813424819146996,\n",
       "   0.37255404024520355,\n",
       "   0.017317211328799598,\n",
       "   0.05173897936236571],\n",
       "  [0.41579183817901777,\n",
       "   0.03241582242137542,\n",
       "   0.007121255425956985,\n",
       "   0.06813424819146996,\n",
       "   0.37255404024520355,\n",
       "   0.017317211328799598,\n",
       "   0.07321945296493482],\n",
       "  [0.41579183817901777,\n",
       "   0.03241582242137542,\n",
       "   0.007121255425956985,\n",
       "   0.06813424819146996,\n",
       "   0.37255404024520355,\n",
       "   0.017317211328799598,\n",
       "   0.07321945296493482],\n",
       "  [0.41579183817901777,\n",
       "   0.03241582242137542,\n",
       "   0.007121255425956985,\n",
       "   0.06813424819146996,\n",
       "   0.37255404024520355,\n",
       "   0.017317211328799598,\n",
       "   0.07321945296493482],\n",
       "  [0.41579183817901777,\n",
       "   0.03241582242137542,\n",
       "   0.007121255425956985,\n",
       "   0.06813424819146996,\n",
       "   0.37255404024520355,\n",
       "   0.017317211328799598,\n",
       "   0.07321945296493482],\n",
       "  [0.41579183817901777,\n",
       "   0.03241582242137542,\n",
       "   0.007121255425956985,\n",
       "   0.06813424819146996,\n",
       "   0.37255404024520355,\n",
       "   0.017317211328799598,\n",
       "   0.07321945296493482],\n",
       "  [0.41579183817901777,\n",
       "   0.03241582242137542,\n",
       "   0.007121255425956985,\n",
       "   0.06813424819146996,\n",
       "   0.37255404024520355,\n",
       "   0.017317211328799598,\n",
       "   0.07321945296493482],\n",
       "  [0.41579183817901777,\n",
       "   0.03241582242137542,\n",
       "   0.007121255425956985,\n",
       "   0.06813424819146996,\n",
       "   0.26939821529822494,\n",
       "   0.017317211328799598,\n",
       "   0.07321945296493482],\n",
       "  [0.41579183817901777,\n",
       "   0.03241582242137542,\n",
       "   0.007121255425956985,\n",
       "   0.06813424819146996,\n",
       "   0.37255404024520355,\n",
       "   0.017317211328799598,\n",
       "   0.07321945296493482],\n",
       "  [0.41579183817901777,\n",
       "   0.03241582242137542,\n",
       "   0.007121255425956985,\n",
       "   0.06813424819146996,\n",
       "   0.37255404024520355,\n",
       "   0.017317211328799598,\n",
       "   0.07321945296493482],\n",
       "  [0.41579183817901777,\n",
       "   0.03241582242137542,\n",
       "   0.007121255425956985,\n",
       "   0.06813424819146996,\n",
       "   0.37255404024520355,\n",
       "   0.017317211328799598,\n",
       "   0.07321945296493482],\n",
       "  [0.41579183817901777,\n",
       "   0.03241582242137542,\n",
       "   0.007121255425956985,\n",
       "   0.06813424819146996,\n",
       "   0.37255404024520355,\n",
       "   0.017317211328799598,\n",
       "   0.07321945296493482],\n",
       "  [0.41579183817901777,\n",
       "   0.03241582242137542,\n",
       "   0.007121255425956985,\n",
       "   0.06813424819146996,\n",
       "   0.37255404024520355,\n",
       "   0.017317211328799598,\n",
       "   0.07321945296493482],\n",
       "  [0.41579183817901777,\n",
       "   0.03241582242137542,\n",
       "   0.007121255425956985,\n",
       "   0.06813424819146996,\n",
       "   0.37255404024520355,\n",
       "   0.017317211328799598,\n",
       "   0.07321945296493482],\n",
       "  [0.41579183817901777,\n",
       "   0.03241582242137542,\n",
       "   0.007121255425956985,\n",
       "   0.06813424819146996,\n",
       "   0.37255404024520355,\n",
       "   0.017317211328799598,\n",
       "   0.07321945296493482],\n",
       "  [0.41579183817901777,\n",
       "   0.03241582242137542,\n",
       "   0.007121255425956985,\n",
       "   0.06813424819146996,\n",
       "   0.37255404024520355,\n",
       "   0.017317211328799598,\n",
       "   0.07321945296493482],\n",
       "  [0.41579183817901777,\n",
       "   0.03241582242137542,\n",
       "   0.007121255425956985,\n",
       "   0.06813424819146996,\n",
       "   0.37255404024520355,\n",
       "   0.017317211328799598,\n",
       "   0.07321945296493482],\n",
       "  [0.4344885054516099,\n",
       "   0.03241582242137542,\n",
       "   0.007121255425956985,\n",
       "   0.06813424819146996,\n",
       "   0.37255404024520355,\n",
       "   0.01091048423392782,\n",
       "   0.07321945296493482],\n",
       "  [0.41579183817901777,\n",
       "   0.03241582242137542,\n",
       "   0.007121255425956985,\n",
       "   0.06813424819146996,\n",
       "   0.37255404024520355,\n",
       "   0.017317211328799598,\n",
       "   0.07321945296493482],\n",
       "  [0.41579183817901777,\n",
       "   0.03241582242137542,\n",
       "   0.007121255425956985,\n",
       "   0.06813424819146996,\n",
       "   0.37255404024520355,\n",
       "   0.017317211328799598,\n",
       "   0.07321945296493482],\n",
       "  [0.41579183817901777,\n",
       "   0.03241582242137542,\n",
       "   0.007121255425956985,\n",
       "   0.06813424819146996,\n",
       "   0.37255404024520355,\n",
       "   0.017317211328799598,\n",
       "   0.07321945296493482],\n",
       "  [0.8064645438236862,\n",
       "   0.03241582242137542,\n",
       "   0.007121255425956985,\n",
       "   0.06813424819146996,\n",
       "   0.37255404024520355,\n",
       "   0.017317211328799598,\n",
       "   0.07321945296493482],\n",
       "  [0.41579183817901777,\n",
       "   0.03241582242137542,\n",
       "   0.007121255425956985,\n",
       "   0.06813424819146996,\n",
       "   0.37255404024520355,\n",
       "   0.017317211328799598,\n",
       "   0.07321945296493482],\n",
       "  [0.41579183817901777,\n",
       "   0.03241582242137542,\n",
       "   0.007121255425956985,\n",
       "   0.06813424819146996,\n",
       "   0.37255404024520355,\n",
       "   0.017317211328799598,\n",
       "   0.07321945296493482],\n",
       "  [0.41579183817901777,\n",
       "   0.03241582242137542,\n",
       "   0.007121255425956985,\n",
       "   0.06813424819146996,\n",
       "   0.37255404024520355,\n",
       "   0.017317211328799598,\n",
       "   0.07321945296493482],\n",
       "  [0.41579183817901777,\n",
       "   0.03241582242137542,\n",
       "   0.007121255425956985,\n",
       "   0.06813424819146996,\n",
       "   0.37255404024520355,\n",
       "   0.017317211328799598,\n",
       "   0.07321945296493482],\n",
       "  [0.41579183817901777,\n",
       "   0.03241582242137542,\n",
       "   0.007121255425956985,\n",
       "   0.06813424819146996,\n",
       "   0.37255404024520355,\n",
       "   0.017317211328799598,\n",
       "   0.07321945296493482],\n",
       "  [0.41579183817901777,\n",
       "   0.03241582242137542,\n",
       "   0.007121255425956985,\n",
       "   0.06813424819146996,\n",
       "   0.37255404024520355,\n",
       "   0.017317211328799598,\n",
       "   0.07321945296493482],\n",
       "  [0.41579183817901777,\n",
       "   0.03241582242137542,\n",
       "   0.007121255425956985,\n",
       "   0.06813424819146996,\n",
       "   0.37255404024520355,\n",
       "   0.017317211328799598,\n",
       "   0.07321945296493482],\n",
       "  [0.41579183817901777,\n",
       "   0.03241582242137542,\n",
       "   0.007121255425956985,\n",
       "   0.06813424819146996,\n",
       "   0.37255404024520355,\n",
       "   0.017317211328799598,\n",
       "   0.07321945296493482],\n",
       "  [0.41579183817901777,\n",
       "   0.03241582242137542,\n",
       "   0.007121255425956985,\n",
       "   0.06813424819146996,\n",
       "   0.37255404024520355,\n",
       "   0.017317211328799598,\n",
       "   0.07321945296493482],\n",
       "  [0.41579183817901777,\n",
       "   0.03241582242137542,\n",
       "   0.007121255425956985,\n",
       "   0.06813424819146996,\n",
       "   0.37255404024520355,\n",
       "   0.017317211328799598,\n",
       "   0.07321945296493482],\n",
       "  [0.41579183817901777,\n",
       "   0.03241582242137542,\n",
       "   0.007121255425956985,\n",
       "   0.06813424819146996,\n",
       "   0.37255404024520355,\n",
       "   0.017317211328799598,\n",
       "   0.07321945296493482],\n",
       "  [0.41579183817901777,\n",
       "   0.03241582242137542,\n",
       "   0.007121255425956985,\n",
       "   0.06813424819146996,\n",
       "   0.37255404024520355,\n",
       "   0.017317211328799598,\n",
       "   0.07321945296493482],\n",
       "  [0.41579183817901777,\n",
       "   0.03241582242137542,\n",
       "   0.007121255425956985,\n",
       "   0.06813424819146996,\n",
       "   0.37255404024520355,\n",
       "   0.017317211328799598,\n",
       "   0.07321945296493482],\n",
       "  [0.41579183817901777,\n",
       "   0.03241582242137542,\n",
       "   0.007121255425956985,\n",
       "   0.06813424819146996,\n",
       "   0.37255404024520355,\n",
       "   0.017317211328799598,\n",
       "   0.07321945296493482],\n",
       "  [0.41579183817901777,\n",
       "   0.03241582242137542,\n",
       "   0.007121255425956985,\n",
       "   0.06813424819146996,\n",
       "   0.37255404024520355,\n",
       "   0.017317211328799598,\n",
       "   0.07321945296493482],\n",
       "  [0.41579183817901777,\n",
       "   0.03241582242137542,\n",
       "   0.007121255425956985,\n",
       "   0.06813424819146996,\n",
       "   0.37255404024520355,\n",
       "   0.017317211328799598,\n",
       "   0.07321945296493482],\n",
       "  [0.41579183817901777,\n",
       "   0.03241582242137542,\n",
       "   0.007121255425956985,\n",
       "   0.06813424819146996,\n",
       "   0.37255404024520355,\n",
       "   0.017317211328799598,\n",
       "   0.07321945296493482],\n",
       "  [0.41579183817901777,\n",
       "   0.03241582242137542,\n",
       "   0.007121255425956985,\n",
       "   0.06813424819146996,\n",
       "   0.37255404024520355,\n",
       "   0.017317211328799598,\n",
       "   0.07321945296493482],\n",
       "  [0.41579183817901777,\n",
       "   0.03241582242137542,\n",
       "   0.007121255425956985,\n",
       "   0.06813424819146996,\n",
       "   0.37255404024520355,\n",
       "   0.017317211328799598,\n",
       "   0.07321945296493482],\n",
       "  [0.41579183817901777,\n",
       "   0.4509591642399179,\n",
       "   0.0013669878725879325,\n",
       "   0.06813424819146996,\n",
       "   0.37255404024520355,\n",
       "   0.017317211328799598,\n",
       "   0.07321945296493482],\n",
       "  [0.41579183817901777,\n",
       "   0.03241582242137542,\n",
       "   0.007121255425956985,\n",
       "   0.06813424819146996,\n",
       "   0.37255404024520355,\n",
       "   0.017317211328799598,\n",
       "   0.07321945296493482],\n",
       "  [0.41579183817901777,\n",
       "   0.03241582242137542,\n",
       "   0.007121255425956985,\n",
       "   0.06813424819146996,\n",
       "   0.37255404024520355,\n",
       "   0.017317211328799598,\n",
       "   0.07321945296493482],\n",
       "  [0.41579183817901777,\n",
       "   0.03241582242137542,\n",
       "   0.007121255425956985,\n",
       "   0.06813424819146996,\n",
       "   0.37255404024520355,\n",
       "   0.017317211328799598,\n",
       "   0.07321945296493482],\n",
       "  [0.41579183817901777,\n",
       "   0.03241582242137542,\n",
       "   0.007121255425956985,\n",
       "   0.06813424819146996,\n",
       "   0.37255404024520355,\n",
       "   0.017317211328799598,\n",
       "   0.07321945296493482],\n",
       "  [0.41579183817901777,\n",
       "   0.03241582242137542,\n",
       "   0.007121255425956985,\n",
       "   0.06813424819146996,\n",
       "   0.37255404024520355,\n",
       "   0.017317211328799598,\n",
       "   0.07321945296493482],\n",
       "  [0.41579183817901777,\n",
       "   0.03241582242137542,\n",
       "   0.007121255425956985,\n",
       "   0.06813424819146996,\n",
       "   0.37255404024520355,\n",
       "   0.017317211328799598,\n",
       "   0.07321945296493482],\n",
       "  [0.41579183817901777,\n",
       "   0.03241582242137542,\n",
       "   0.007121255425956985,\n",
       "   0.06813424819146996,\n",
       "   0.37255404024520355,\n",
       "   0.017317211328799598,\n",
       "   0.07321945296493482],\n",
       "  [0.41579183817901777,\n",
       "   0.03241582242137542,\n",
       "   0.007121255425956985,\n",
       "   0.06813424819146996,\n",
       "   0.37255404024520355,\n",
       "   0.017317211328799598,\n",
       "   0.07321945296493482],\n",
       "  [0.41579183817901777,\n",
       "   0.03241582242137542,\n",
       "   0.007121255425956985,\n",
       "   0.06813424819146996,\n",
       "   0.37255404024520355,\n",
       "   0.017317211328799598,\n",
       "   0.07321945296493482],\n",
       "  [0.41579183817901777,\n",
       "   0.03241582242137542,\n",
       "   0.007121255425956985,\n",
       "   0.06813424819146996,\n",
       "   0.37255404024520355,\n",
       "   0.017317211328799598,\n",
       "   0.07321945296493482],\n",
       "  [0.41579183817901777,\n",
       "   0.03241582242137542,\n",
       "   0.007121255425956985,\n",
       "   0.06813424819146996,\n",
       "   0.37255404024520355,\n",
       "   0.017317211328799598,\n",
       "   0.07321945296493482],\n",
       "  [0.41579183817901777,\n",
       "   0.03241582242137542,\n",
       "   0.007121255425956985,\n",
       "   0.06813424819146996,\n",
       "   0.37255404024520355,\n",
       "   0.017317211328799598,\n",
       "   0.07321945296493482],\n",
       "  [0.41579183817901777,\n",
       "   0.03241582242137542,\n",
       "   0.007121255425956985,\n",
       "   0.06813424819146996,\n",
       "   0.37255404024520355,\n",
       "   0.017317211328799598,\n",
       "   0.07321945296493482]],\n",
       " [{'gen': 0, 'nevals': 100},\n",
       "  {'gen': 1, 'nevals': 51},\n",
       "  {'gen': 2, 'nevals': 58},\n",
       "  {'gen': 3, 'nevals': 54},\n",
       "  {'gen': 4, 'nevals': 56},\n",
       "  {'gen': 5, 'nevals': 57},\n",
       "  {'gen': 6, 'nevals': 59},\n",
       "  {'gen': 7, 'nevals': 51},\n",
       "  {'gen': 8, 'nevals': 66},\n",
       "  {'gen': 9, 'nevals': 65},\n",
       "  {'gen': 10, 'nevals': 56},\n",
       "  {'gen': 11, 'nevals': 72},\n",
       "  {'gen': 12, 'nevals': 63},\n",
       "  {'gen': 13, 'nevals': 58},\n",
       "  {'gen': 14, 'nevals': 61},\n",
       "  {'gen': 15, 'nevals': 59},\n",
       "  {'gen': 16, 'nevals': 57},\n",
       "  {'gen': 17, 'nevals': 60},\n",
       "  {'gen': 18, 'nevals': 67},\n",
       "  {'gen': 19, 'nevals': 57},\n",
       "  {'gen': 20, 'nevals': 56},\n",
       "  {'gen': 21, 'nevals': 60},\n",
       "  {'gen': 22, 'nevals': 44},\n",
       "  {'gen': 23, 'nevals': 56},\n",
       "  {'gen': 24, 'nevals': 68},\n",
       "  {'gen': 25, 'nevals': 62},\n",
       "  {'gen': 26, 'nevals': 55},\n",
       "  {'gen': 27, 'nevals': 60},\n",
       "  {'gen': 28, 'nevals': 53},\n",
       "  {'gen': 29, 'nevals': 66},\n",
       "  {'gen': 30, 'nevals': 70},\n",
       "  {'gen': 31, 'nevals': 61},\n",
       "  {'gen': 32, 'nevals': 65},\n",
       "  {'gen': 33, 'nevals': 62},\n",
       "  {'gen': 34, 'nevals': 58},\n",
       "  {'gen': 35, 'nevals': 60},\n",
       "  {'gen': 36, 'nevals': 65},\n",
       "  {'gen': 37, 'nevals': 64},\n",
       "  {'gen': 38, 'nevals': 64},\n",
       "  {'gen': 39, 'nevals': 63},\n",
       "  {'gen': 40, 'nevals': 41},\n",
       "  {'gen': 41, 'nevals': 73},\n",
       "  {'gen': 42, 'nevals': 58},\n",
       "  {'gen': 43, 'nevals': 66},\n",
       "  {'gen': 44, 'nevals': 55},\n",
       "  {'gen': 45, 'nevals': 51},\n",
       "  {'gen': 46, 'nevals': 66},\n",
       "  {'gen': 47, 'nevals': 48},\n",
       "  {'gen': 48, 'nevals': 55},\n",
       "  {'gen': 49, 'nevals': 63},\n",
       "  {'gen': 50, 'nevals': 67}])"
      ]
     },
     "execution_count": 195,
     "metadata": {},
     "output_type": "execute_result"
    }
   ],
   "source": [
    "population = toolbox.population(n=population_size)\n",
    "algorithms.eaSimple(population, toolbox, cx_prob, mut_prob, num_generations)"
   ]
  },
  {
   "cell_type": "code",
   "execution_count": 196,
   "metadata": {},
   "outputs": [],
   "source": [
    "best_individual = tools.selBest(population, k=1)[0]"
   ]
  },
  {
   "cell_type": "code",
   "execution_count": 197,
   "metadata": {},
   "outputs": [
    {
     "data": {
      "text/plain": [
       "0.9988438089344784"
      ]
     },
     "execution_count": 197,
     "metadata": {},
     "output_type": "execute_result"
    }
   ],
   "source": [
    "np.sum(best_individual)"
   ]
  },
  {
   "cell_type": "code",
   "execution_count": 206,
   "metadata": {},
   "outputs": [
    {
     "data": {
      "text/plain": [
       "[0.4344885054516099,\n",
       " 0.03241582242137542,\n",
       " 0.007121255425956985,\n",
       " 0.06813424819146996,\n",
       " 0.37255404024520355,\n",
       " 0.01091048423392782,\n",
       " 0.07321945296493482]"
      ]
     },
     "execution_count": 206,
     "metadata": {},
     "output_type": "execute_result"
    }
   ],
   "source": [
    "best_individual"
   ]
  },
  {
   "cell_type": "code",
   "execution_count": 210,
   "metadata": {},
   "outputs": [
    {
     "data": {
      "text/html": [
       "<div>\n",
       "<style scoped>\n",
       "    .dataframe tbody tr th:only-of-type {\n",
       "        vertical-align: middle;\n",
       "    }\n",
       "\n",
       "    .dataframe tbody tr th {\n",
       "        vertical-align: top;\n",
       "    }\n",
       "\n",
       "    .dataframe thead th {\n",
       "        text-align: right;\n",
       "    }\n",
       "</style>\n",
       "<table border=\"1\" class=\"dataframe\">\n",
       "  <thead>\n",
       "    <tr style=\"text-align: right;\">\n",
       "      <th></th>\n",
       "      <th>ELET6.SA</th>\n",
       "      <th>ITUB4.SA</th>\n",
       "      <th>MGLU3.SA</th>\n",
       "      <th>PETR4.SA</th>\n",
       "      <th>RADL3.SA</th>\n",
       "      <th>RENT3.SA</th>\n",
       "      <th>WEGE3.SA</th>\n",
       "    </tr>\n",
       "    <tr>\n",
       "      <th>Date</th>\n",
       "      <th></th>\n",
       "      <th></th>\n",
       "      <th></th>\n",
       "      <th></th>\n",
       "      <th></th>\n",
       "      <th></th>\n",
       "      <th></th>\n",
       "    </tr>\n",
       "  </thead>\n",
       "  <tbody>\n",
       "    <tr>\n",
       "      <th>2021-01-04</th>\n",
       "      <td>30.88339</td>\n",
       "      <td>27.964476</td>\n",
       "      <td>25.18174</td>\n",
       "      <td>11.470777</td>\n",
       "      <td>23.486467</td>\n",
       "      <td>65.240555</td>\n",
       "      <td>35.927433</td>\n",
       "    </tr>\n",
       "  </tbody>\n",
       "</table>\n",
       "</div>"
      ],
      "text/plain": [
       "            ELET6.SA   ITUB4.SA  MGLU3.SA   PETR4.SA   RADL3.SA   RENT3.SA  \\\n",
       "Date                                                                         \n",
       "2021-01-04  30.88339  27.964476  25.18174  11.470777  23.486467  65.240555   \n",
       "\n",
       "             WEGE3.SA  \n",
       "Date                   \n",
       "2021-01-04  35.927433  "
      ]
     },
     "execution_count": 210,
     "metadata": {},
     "output_type": "execute_result"
    }
   ],
   "source": [
    "data.head(1)"
   ]
  },
  {
   "cell_type": "code",
   "execution_count": 212,
   "metadata": {},
   "outputs": [
    {
     "name": "stdout",
     "output_type": "stream",
     "text": [
      "Retorno ELET6: 0.3452203033006047\n",
      "Retorno ITUB4: -0.12786978140413097\n",
      "Retorno MGLU3: -0.8911909967094072\n",
      "Retorno PETR4: 0.7841265296311992\n",
      "Retorno RADL3: -0.03260733007933536\n",
      "Retorno RENT3: -0.19019425321094907\n",
      "Retorno WEGE3: 0.06264216549281754\n"
     ]
    }
   ],
   "source": [
    "print('Retorno ELET6:', data['ELET6.SA'].iloc[-1] / data['ELET6.SA'].iloc[0] - 1)\n",
    "print('Retorno ITUB4:', data['ITUB4.SA'].iloc[-1] / data['ITUB4.SA'].iloc[0] - 1)\n",
    "print('Retorno MGLU3:', data['MGLU3.SA'].iloc[-1] / data['MGLU3.SA'].iloc[0] - 1)\n",
    "print('Retorno PETR4:', data['PETR4.SA'].iloc[-1] / data['PETR4.SA'].iloc[0] - 1)\n",
    "print('Retorno RADL3:', data['RADL3.SA'].iloc[-1] / data['RADL3.SA'].iloc[0] - 1)\n",
    "print('Retorno RENT3:', data['RENT3.SA'].iloc[-1] / data['RENT3.SA'].iloc[0] - 1)\n",
    "print('Retorno WEGE3:', data['WEGE3.SA'].iloc[-1] / data['WEGE3.SA'].iloc[0] - 1)"
   ]
  },
  {
   "cell_type": "code",
   "execution_count": 213,
   "metadata": {},
   "outputs": [
    {
     "data": {
      "text/plain": [
       "0.183292243494318"
      ]
     },
     "execution_count": 213,
     "metadata": {},
     "output_type": "execute_result"
    }
   ],
   "source": [
    "np.dot([0.3452203033006047, -0.12786978140413097, -0.8911909967094072, 0.7841265296311992, -0.03260733007933536, -0.19019425321094907, 0.06264216549281754], best_individual)"
   ]
  },
  {
   "cell_type": "code",
   "execution_count": 204,
   "metadata": {},
   "outputs": [
    {
     "data": {
      "application/vnd.plotly.v1+json": {
       "config": {
        "plotlyServerURL": "https://plot.ly"
       },
       "data": [
        {
         "hovertemplate": "Date=%{x}<br>y=%{y}<extra></extra>",
         "legendgroup": "",
         "line": {
          "color": "#636efa",
          "dash": "solid"
         },
         "marker": {
          "symbol": "circle"
         },
         "mode": "lines",
         "name": "",
         "orientation": "v",
         "showlegend": false,
         "type": "scatter",
         "x": [
          "2021-01-05T00:00:00",
          "2021-01-06T00:00:00",
          "2021-01-07T00:00:00",
          "2021-01-08T00:00:00",
          "2021-01-11T00:00:00",
          "2021-01-12T00:00:00",
          "2021-01-13T00:00:00",
          "2021-01-14T00:00:00",
          "2021-01-15T00:00:00",
          "2021-01-18T00:00:00",
          "2021-01-19T00:00:00",
          "2021-01-20T00:00:00",
          "2021-01-21T00:00:00",
          "2021-01-22T00:00:00",
          "2021-01-26T00:00:00",
          "2021-01-27T00:00:00",
          "2021-01-28T00:00:00",
          "2021-01-29T00:00:00",
          "2021-02-01T00:00:00",
          "2021-02-02T00:00:00",
          "2021-02-03T00:00:00",
          "2021-02-04T00:00:00",
          "2021-02-05T00:00:00",
          "2021-02-08T00:00:00",
          "2021-02-09T00:00:00",
          "2021-02-10T00:00:00",
          "2021-02-11T00:00:00",
          "2021-02-12T00:00:00",
          "2021-02-17T00:00:00",
          "2021-02-18T00:00:00",
          "2021-02-19T00:00:00",
          "2021-02-22T00:00:00",
          "2021-02-23T00:00:00",
          "2021-02-24T00:00:00",
          "2021-02-25T00:00:00",
          "2021-02-26T00:00:00",
          "2021-03-01T00:00:00",
          "2021-03-02T00:00:00",
          "2021-03-03T00:00:00",
          "2021-03-04T00:00:00",
          "2021-03-05T00:00:00",
          "2021-03-08T00:00:00",
          "2021-03-09T00:00:00",
          "2021-03-10T00:00:00",
          "2021-03-11T00:00:00",
          "2021-03-12T00:00:00",
          "2021-03-15T00:00:00",
          "2021-03-16T00:00:00",
          "2021-03-17T00:00:00",
          "2021-03-18T00:00:00",
          "2021-03-19T00:00:00",
          "2021-03-22T00:00:00",
          "2021-03-23T00:00:00",
          "2021-03-24T00:00:00",
          "2021-03-25T00:00:00",
          "2021-03-26T00:00:00",
          "2021-03-29T00:00:00",
          "2021-03-30T00:00:00",
          "2021-03-31T00:00:00",
          "2021-04-01T00:00:00",
          "2021-04-05T00:00:00",
          "2021-04-06T00:00:00",
          "2021-04-07T00:00:00",
          "2021-04-08T00:00:00",
          "2021-04-09T00:00:00",
          "2021-04-12T00:00:00",
          "2021-04-13T00:00:00",
          "2021-04-14T00:00:00",
          "2021-04-15T00:00:00",
          "2021-04-16T00:00:00",
          "2021-04-19T00:00:00",
          "2021-04-20T00:00:00",
          "2021-04-22T00:00:00",
          "2021-04-23T00:00:00",
          "2021-04-26T00:00:00",
          "2021-04-27T00:00:00",
          "2021-04-28T00:00:00",
          "2021-04-29T00:00:00",
          "2021-04-30T00:00:00",
          "2021-05-03T00:00:00",
          "2021-05-04T00:00:00",
          "2021-05-05T00:00:00",
          "2021-05-06T00:00:00",
          "2021-05-07T00:00:00",
          "2021-05-10T00:00:00",
          "2021-05-11T00:00:00",
          "2021-05-12T00:00:00",
          "2021-05-13T00:00:00",
          "2021-05-14T00:00:00",
          "2021-05-17T00:00:00",
          "2021-05-18T00:00:00",
          "2021-05-19T00:00:00",
          "2021-05-20T00:00:00",
          "2021-05-21T00:00:00",
          "2021-05-24T00:00:00",
          "2021-05-25T00:00:00",
          "2021-05-26T00:00:00",
          "2021-05-27T00:00:00",
          "2021-05-28T00:00:00",
          "2021-05-31T00:00:00",
          "2021-06-01T00:00:00",
          "2021-06-02T00:00:00",
          "2021-06-04T00:00:00",
          "2021-06-07T00:00:00",
          "2021-06-08T00:00:00",
          "2021-06-09T00:00:00",
          "2021-06-10T00:00:00",
          "2021-06-11T00:00:00",
          "2021-06-14T00:00:00",
          "2021-06-15T00:00:00",
          "2021-06-16T00:00:00",
          "2021-06-17T00:00:00",
          "2021-06-18T00:00:00",
          "2021-06-21T00:00:00",
          "2021-06-22T00:00:00",
          "2021-06-23T00:00:00",
          "2021-06-24T00:00:00",
          "2021-06-25T00:00:00",
          "2021-06-28T00:00:00",
          "2021-06-29T00:00:00",
          "2021-06-30T00:00:00",
          "2021-07-01T00:00:00",
          "2021-07-02T00:00:00",
          "2021-07-05T00:00:00",
          "2021-07-06T00:00:00",
          "2021-07-07T00:00:00",
          "2021-07-08T00:00:00",
          "2021-07-12T00:00:00",
          "2021-07-13T00:00:00",
          "2021-07-14T00:00:00",
          "2021-07-15T00:00:00",
          "2021-07-16T00:00:00",
          "2021-07-19T00:00:00",
          "2021-07-20T00:00:00",
          "2021-07-21T00:00:00",
          "2021-07-22T00:00:00",
          "2021-07-23T00:00:00",
          "2021-07-26T00:00:00",
          "2021-07-27T00:00:00",
          "2021-07-28T00:00:00",
          "2021-07-29T00:00:00",
          "2021-07-30T00:00:00",
          "2021-08-02T00:00:00",
          "2021-08-03T00:00:00",
          "2021-08-04T00:00:00",
          "2021-08-05T00:00:00",
          "2021-08-06T00:00:00",
          "2021-08-09T00:00:00",
          "2021-08-10T00:00:00",
          "2021-08-11T00:00:00",
          "2021-08-12T00:00:00",
          "2021-08-13T00:00:00",
          "2021-08-16T00:00:00",
          "2021-08-17T00:00:00",
          "2021-08-18T00:00:00",
          "2021-08-19T00:00:00",
          "2021-08-20T00:00:00",
          "2021-08-23T00:00:00",
          "2021-08-24T00:00:00",
          "2021-08-25T00:00:00",
          "2021-08-26T00:00:00",
          "2021-08-27T00:00:00",
          "2021-08-30T00:00:00",
          "2021-08-31T00:00:00",
          "2021-09-01T00:00:00",
          "2021-09-02T00:00:00",
          "2021-09-03T00:00:00",
          "2021-09-06T00:00:00",
          "2021-09-08T00:00:00",
          "2021-09-09T00:00:00",
          "2021-09-10T00:00:00",
          "2021-09-13T00:00:00",
          "2021-09-14T00:00:00",
          "2021-09-15T00:00:00",
          "2021-09-16T00:00:00",
          "2021-09-17T00:00:00",
          "2021-09-20T00:00:00",
          "2021-09-21T00:00:00",
          "2021-09-22T00:00:00",
          "2021-09-23T00:00:00",
          "2021-09-24T00:00:00",
          "2021-09-27T00:00:00",
          "2021-09-28T00:00:00",
          "2021-09-29T00:00:00",
          "2021-09-30T00:00:00",
          "2021-10-01T00:00:00",
          "2021-10-04T00:00:00",
          "2021-10-05T00:00:00",
          "2021-10-06T00:00:00",
          "2021-10-07T00:00:00",
          "2021-10-08T00:00:00",
          "2021-10-11T00:00:00",
          "2021-10-13T00:00:00",
          "2021-10-14T00:00:00",
          "2021-10-15T00:00:00",
          "2021-10-18T00:00:00",
          "2021-10-19T00:00:00",
          "2021-10-20T00:00:00",
          "2021-10-21T00:00:00",
          "2021-10-22T00:00:00",
          "2021-10-25T00:00:00",
          "2021-10-26T00:00:00",
          "2021-10-27T00:00:00",
          "2021-10-28T00:00:00",
          "2021-10-29T00:00:00",
          "2021-11-01T00:00:00",
          "2021-11-03T00:00:00",
          "2021-11-04T00:00:00",
          "2021-11-05T00:00:00",
          "2021-11-08T00:00:00",
          "2021-11-09T00:00:00",
          "2021-11-10T00:00:00",
          "2021-11-11T00:00:00",
          "2021-11-12T00:00:00",
          "2021-11-16T00:00:00",
          "2021-11-17T00:00:00",
          "2021-11-18T00:00:00",
          "2021-11-19T00:00:00",
          "2021-11-22T00:00:00",
          "2021-11-23T00:00:00",
          "2021-11-24T00:00:00",
          "2021-11-25T00:00:00",
          "2021-11-26T00:00:00",
          "2021-11-29T00:00:00",
          "2021-11-30T00:00:00",
          "2021-12-01T00:00:00",
          "2021-12-02T00:00:00",
          "2021-12-03T00:00:00",
          "2021-12-06T00:00:00",
          "2021-12-07T00:00:00",
          "2021-12-08T00:00:00",
          "2021-12-09T00:00:00",
          "2021-12-10T00:00:00",
          "2021-12-13T00:00:00",
          "2021-12-14T00:00:00",
          "2021-12-15T00:00:00",
          "2021-12-16T00:00:00",
          "2021-12-17T00:00:00",
          "2021-12-20T00:00:00",
          "2021-12-21T00:00:00",
          "2021-12-22T00:00:00",
          "2021-12-23T00:00:00",
          "2021-12-27T00:00:00",
          "2021-12-28T00:00:00",
          "2021-12-29T00:00:00",
          "2021-12-30T00:00:00",
          "2022-01-03T00:00:00",
          "2022-01-04T00:00:00",
          "2022-01-05T00:00:00",
          "2022-01-06T00:00:00",
          "2022-01-07T00:00:00",
          "2022-01-10T00:00:00",
          "2022-01-11T00:00:00",
          "2022-01-12T00:00:00",
          "2022-01-13T00:00:00",
          "2022-01-14T00:00:00",
          "2022-01-17T00:00:00",
          "2022-01-18T00:00:00",
          "2022-01-19T00:00:00",
          "2022-01-20T00:00:00",
          "2022-01-21T00:00:00",
          "2022-01-24T00:00:00",
          "2022-01-25T00:00:00",
          "2022-01-26T00:00:00",
          "2022-01-27T00:00:00",
          "2022-01-28T00:00:00",
          "2022-01-31T00:00:00",
          "2022-02-01T00:00:00",
          "2022-02-02T00:00:00",
          "2022-02-03T00:00:00",
          "2022-02-04T00:00:00",
          "2022-02-07T00:00:00",
          "2022-02-08T00:00:00",
          "2022-02-09T00:00:00",
          "2022-02-10T00:00:00",
          "2022-02-11T00:00:00",
          "2022-02-14T00:00:00",
          "2022-02-15T00:00:00",
          "2022-02-16T00:00:00",
          "2022-02-17T00:00:00",
          "2022-02-18T00:00:00",
          "2022-02-21T00:00:00",
          "2022-02-22T00:00:00",
          "2022-02-23T00:00:00",
          "2022-02-24T00:00:00",
          "2022-02-25T00:00:00",
          "2022-03-02T00:00:00",
          "2022-03-03T00:00:00",
          "2022-03-04T00:00:00",
          "2022-03-07T00:00:00",
          "2022-03-08T00:00:00",
          "2022-03-09T00:00:00",
          "2022-03-10T00:00:00",
          "2022-03-11T00:00:00",
          "2022-03-14T00:00:00",
          "2022-03-15T00:00:00",
          "2022-03-16T00:00:00",
          "2022-03-17T00:00:00",
          "2022-03-18T00:00:00",
          "2022-03-21T00:00:00",
          "2022-03-22T00:00:00",
          "2022-03-23T00:00:00",
          "2022-03-24T00:00:00",
          "2022-03-25T00:00:00",
          "2022-03-28T00:00:00",
          "2022-03-29T00:00:00",
          "2022-03-30T00:00:00",
          "2022-03-31T00:00:00",
          "2022-04-01T00:00:00",
          "2022-04-04T00:00:00",
          "2022-04-05T00:00:00",
          "2022-04-06T00:00:00",
          "2022-04-07T00:00:00",
          "2022-04-08T00:00:00",
          "2022-04-11T00:00:00",
          "2022-04-12T00:00:00",
          "2022-04-13T00:00:00",
          "2022-04-14T00:00:00",
          "2022-04-18T00:00:00",
          "2022-04-19T00:00:00",
          "2022-04-20T00:00:00",
          "2022-04-22T00:00:00",
          "2022-04-25T00:00:00",
          "2022-04-26T00:00:00",
          "2022-04-27T00:00:00",
          "2022-04-28T00:00:00",
          "2022-04-29T00:00:00",
          "2022-05-02T00:00:00",
          "2022-05-03T00:00:00",
          "2022-05-04T00:00:00",
          "2022-05-05T00:00:00",
          "2022-05-06T00:00:00",
          "2022-05-09T00:00:00",
          "2022-05-10T00:00:00",
          "2022-05-11T00:00:00",
          "2022-05-12T00:00:00",
          "2022-05-13T00:00:00",
          "2022-05-16T00:00:00",
          "2022-05-17T00:00:00",
          "2022-05-18T00:00:00",
          "2022-05-19T00:00:00",
          "2022-05-20T00:00:00",
          "2022-05-23T00:00:00",
          "2022-05-24T00:00:00",
          "2022-05-25T00:00:00",
          "2022-05-26T00:00:00",
          "2022-05-27T00:00:00",
          "2022-05-30T00:00:00",
          "2022-05-31T00:00:00",
          "2022-06-01T00:00:00",
          "2022-06-02T00:00:00",
          "2022-06-03T00:00:00",
          "2022-06-06T00:00:00",
          "2022-06-07T00:00:00",
          "2022-06-08T00:00:00",
          "2022-06-09T00:00:00",
          "2022-06-10T00:00:00",
          "2022-06-13T00:00:00",
          "2022-06-14T00:00:00",
          "2022-06-15T00:00:00",
          "2022-06-17T00:00:00",
          "2022-06-20T00:00:00",
          "2022-06-21T00:00:00",
          "2022-06-22T00:00:00",
          "2022-06-23T00:00:00",
          "2022-06-24T00:00:00",
          "2022-06-27T00:00:00",
          "2022-06-28T00:00:00",
          "2022-06-29T00:00:00",
          "2022-06-30T00:00:00",
          "2022-07-01T00:00:00",
          "2022-07-04T00:00:00",
          "2022-07-05T00:00:00",
          "2022-07-06T00:00:00",
          "2022-07-07T00:00:00",
          "2022-07-08T00:00:00",
          "2022-07-11T00:00:00",
          "2022-07-12T00:00:00",
          "2022-07-13T00:00:00",
          "2022-07-14T00:00:00",
          "2022-07-15T00:00:00",
          "2022-07-18T00:00:00",
          "2022-07-19T00:00:00",
          "2022-07-20T00:00:00",
          "2022-07-21T00:00:00",
          "2022-07-22T00:00:00",
          "2022-07-25T00:00:00",
          "2022-07-26T00:00:00",
          "2022-07-27T00:00:00",
          "2022-07-28T00:00:00",
          "2022-07-29T00:00:00",
          "2022-08-01T00:00:00",
          "2022-08-02T00:00:00",
          "2022-08-03T00:00:00",
          "2022-08-04T00:00:00",
          "2022-08-05T00:00:00",
          "2022-08-08T00:00:00",
          "2022-08-09T00:00:00",
          "2022-08-10T00:00:00",
          "2022-08-11T00:00:00",
          "2022-08-12T00:00:00",
          "2022-08-15T00:00:00",
          "2022-08-16T00:00:00",
          "2022-08-17T00:00:00",
          "2022-08-18T00:00:00",
          "2022-08-19T00:00:00",
          "2022-08-22T00:00:00",
          "2022-08-23T00:00:00",
          "2022-08-24T00:00:00",
          "2022-08-25T00:00:00",
          "2022-08-26T00:00:00",
          "2022-08-29T00:00:00",
          "2022-08-30T00:00:00",
          "2022-08-31T00:00:00",
          "2022-09-01T00:00:00",
          "2022-09-02T00:00:00",
          "2022-09-05T00:00:00",
          "2022-09-06T00:00:00",
          "2022-09-08T00:00:00",
          "2022-09-09T00:00:00",
          "2022-09-12T00:00:00",
          "2022-09-13T00:00:00",
          "2022-09-14T00:00:00",
          "2022-09-15T00:00:00",
          "2022-09-16T00:00:00",
          "2022-09-19T00:00:00",
          "2022-09-20T00:00:00",
          "2022-09-21T00:00:00",
          "2022-09-22T00:00:00",
          "2022-09-23T00:00:00",
          "2022-09-26T00:00:00",
          "2022-09-27T00:00:00",
          "2022-09-28T00:00:00",
          "2022-09-29T00:00:00",
          "2022-09-30T00:00:00",
          "2022-10-03T00:00:00",
          "2022-10-04T00:00:00",
          "2022-10-05T00:00:00",
          "2022-10-06T00:00:00",
          "2022-10-07T00:00:00",
          "2022-10-10T00:00:00",
          "2022-10-11T00:00:00",
          "2022-10-13T00:00:00",
          "2022-10-14T00:00:00",
          "2022-10-17T00:00:00",
          "2022-10-18T00:00:00",
          "2022-10-19T00:00:00",
          "2022-10-20T00:00:00",
          "2022-10-21T00:00:00",
          "2022-10-24T00:00:00",
          "2022-10-25T00:00:00",
          "2022-10-26T00:00:00",
          "2022-10-27T00:00:00",
          "2022-10-28T00:00:00",
          "2022-10-31T00:00:00",
          "2022-11-01T00:00:00",
          "2022-11-03T00:00:00",
          "2022-11-04T00:00:00",
          "2022-11-07T00:00:00",
          "2022-11-08T00:00:00",
          "2022-11-09T00:00:00",
          "2022-11-10T00:00:00",
          "2022-11-11T00:00:00",
          "2022-11-14T00:00:00",
          "2022-11-16T00:00:00",
          "2022-11-17T00:00:00",
          "2022-11-18T00:00:00",
          "2022-11-21T00:00:00",
          "2022-11-22T00:00:00",
          "2022-11-23T00:00:00",
          "2022-11-24T00:00:00",
          "2022-11-25T00:00:00",
          "2022-11-28T00:00:00",
          "2022-11-29T00:00:00",
          "2022-11-30T00:00:00",
          "2022-12-01T00:00:00",
          "2022-12-02T00:00:00",
          "2022-12-05T00:00:00",
          "2022-12-06T00:00:00",
          "2022-12-07T00:00:00",
          "2022-12-08T00:00:00",
          "2022-12-09T00:00:00",
          "2022-12-12T00:00:00",
          "2022-12-13T00:00:00",
          "2022-12-14T00:00:00",
          "2022-12-15T00:00:00",
          "2022-12-16T00:00:00",
          "2022-12-19T00:00:00",
          "2022-12-20T00:00:00",
          "2022-12-21T00:00:00",
          "2022-12-22T00:00:00",
          "2022-12-23T00:00:00",
          "2022-12-26T00:00:00",
          "2022-12-27T00:00:00",
          "2022-12-28T00:00:00",
          "2022-12-29T00:00:00"
         ],
         "xaxis": "x",
         "y": [
          -0.0067658136046568895,
          -0.015807184639194505,
          -0.021897967787572248,
          0.006593628247043792,
          -0.008799439722566804,
          0.007101814242149063,
          0.0004927753581636107,
          0.028942547522653017,
          0.0053379516949580985,
          0.019426089270834224,
          0.00919906507068835,
          -0.0042377473622144946,
          -0.0444508363771996,
          -0.06231310720563632,
          -0.07997834235054546,
          -0.08354849669657172,
          -0.06666699668462106,
          -0.0941171442515032,
          -0.05405124731909139,
          -0.0343177828408483,
          -0.02098844514884357,
          -0.03735683548153512,
          -0.033362065369816674,
          -0.039591155669746136,
          -0.038473249724060965,
          -0.047612075412407084,
          -0.03582952067696277,
          -0.03314383030204815,
          -0.0446801787708333,
          -0.0567047680990892,
          -0.06317586353886351,
          -0.08778749394023988,
          -0.030122668839299815,
          -0.010950832790437293,
          -0.034166430699898775,
          -0.06199796466945884,
          -0.07912412071520947,
          -0.07080124023955436,
          -0.06397962632570664,
          -0.05722204016228827,
          -0.056704503314336185,
          -0.09556505581077523,
          -0.08324860591885908,
          -0.05585258002611038,
          -0.05810729362623701,
          -0.05255664331533716,
          -0.028470234067556333,
          -0.010545540825963817,
          0.00007407977499607199,
          -0.004167004761292725,
          -0.0030764975234165437,
          -0.011213870541798898,
          -0.008480113654929844,
          -0.03294284576485784,
          -0.015665121106390067,
          -0.01642494881523504,
          -0.011534814318167275,
          -0.002068427586099264,
          -0.001970536287276947,
          -0.019614671706648212,
          -0.004896383582778996,
          -0.0004534803333163806,
          0.0007147426682010405,
          0.009231714156462623,
          -0.002188953988236819,
          -0.006076292373346948,
          -0.0012251152211468774,
          -0.003896877463314241,
          -0.0021718098087593063,
          0.015830348745512035,
          0.012601703715674262,
          0.0074867125900281994,
          0.008081534478393992,
          0.0256485145248746,
          0.022820033430107634,
          0.01320760281253519,
          0.04662114311847465,
          0.0350627375484962,
          0.054944285005253946,
          0.0608526481645284,
          0.029899899530643648,
          0.044372619478285635,
          0.05618091187577878,
          0.08739533444807113,
          0.08280964833423843,
          0.09717739277701876,
          0.053551649380939814,
          0.07879776035330344,
          0.08658596657961692,
          0.10077966154885143,
          0.11317959288795887,
          0.12844041464992006,
          0.11965272163549834,
          0.12154859881703639,
          0.15606376256748544,
          0.15722695031742173,
          0.14898012757657053,
          0.1485389664147485,
          0.15626552714701236,
          0.17629828374927992,
          0.19216564413743864,
          0.19407153593129278,
          0.20896013385109558,
          0.21866455182664524,
          0.19686032594859348,
          0.19722190835250886,
          0.20129095591478996,
          0.17553462317176693,
          0.183167386714584,
          0.19181382292774263,
          0.1858004624339451,
          0.15548104881095925,
          0.17057470388023588,
          0.1948704896831044,
          0.1957985577813175,
          0.17183370167695244,
          0.17912654287597474,
          0.140487739676036,
          0.1524841812465394,
          0.1421241515721443,
          0.12613998641050306,
          0.12432568794843757,
          0.13116882634237514,
          0.12148227729124139,
          0.10869340441919983,
          0.14202794136805097,
          0.12785867680847018,
          0.14159575973393346,
          0.14907124875540534,
          0.16022565716492343,
          0.16167121658768413,
          0.16397530218876688,
          0.14812572355692888,
          0.14569093344424466,
          0.1503383484124554,
          0.157045609433484,
          0.13942914859855837,
          0.13216248583874513,
          0.13159545881285006,
          0.15327451750843246,
          0.1369393752786079,
          0.10264205723687603,
          0.10727146734679205,
          0.11470309253933397,
          0.10107751267355836,
          0.10789326223104001,
          0.12511616199891207,
          0.1306072633894404,
          0.11415392561496973,
          0.1005188352267461,
          0.10151949562533091,
          0.10090421961710305,
          0.08193436061224224,
          0.07324275103567945,
          0.0666652876130791,
          0.0916979343884472,
          0.10292499883743012,
          0.0960888437164309,
          0.1041606255537848,
          0.11121568949266525,
          0.10097153349575061,
          0.10763793258690568,
          0.09749784427606434,
          0.07989502780078461,
          0.10441458177954899,
          0.06706501978739121,
          0.08689834821289621,
          0.09620434830908953,
          0.03672311791234728,
          0.07289883680136433,
          0.07010093793974259,
          0.093724187611675,
          0.10091748495451203,
          0.09485070925672856,
          0.09781957231281857,
          0.09601209493885965,
          0.08212813688597054,
          0.09064775207385489,
          0.08649294365086013,
          0.11000157086801177,
          0.11177567422418444,
          0.10311048835388492,
          0.08521519636164587,
          0.07892959565494051,
          0.06196754885405764,
          0.07426191428655904,
          0.02314131139046638,
          0.022888058934185107,
          0.020459757399609257,
          0.035549523518573656,
          0.05490670321816582,
          0.042902602917257227,
          0.059666918066865415,
          0.07315667747498567,
          0.07053366842507036,
          0.07607333129728655,
          0.04601914953294162,
          0.02460573420789225,
          -0.009329561643209416,
          -0.021124605378135874,
          0.012022885950689899,
          0.0021587302516188345,
          0.020820048243015865,
          0.005739714993209688,
          -0.013407265054448447,
          0.003730709184822878,
          0.014338854278219682,
          -0.00842328906007117,
          0.0036008678698018493,
          -0.0017643494101655666,
          0.013982814957884226,
          0.0054739339680878185,
          0.0018590892725460773,
          -0.004975586960077605,
          -0.01477457806160265,
          -0.03909202827061575,
          -0.03907516429936064,
          -0.0299062946315789,
          -0.042567725507422716,
          -0.025378481453699142,
          -0.02932426013431033,
          -0.014832820120544876,
          -0.04553338133341134,
          -0.04358626146585631,
          -0.05159101894182072,
          -0.06091924111268421,
          -0.026221413797817505,
          -0.006068058379219532,
          0.0008995681287728985,
          0.009085388057137767,
          0.018275175334714344,
          0.003125872646598804,
          0.025660246220823524,
          0.03198618983369261,
          0.015284354803381861,
          0.014169559552959843,
          0.004914521955192708,
          0.008630167698596036,
          -0.011228081021178005,
          -0.009658142424632588,
          -0.004086756368435029,
          -0.00873925928381325,
          -0.0052918781952999705,
          -0.01060020196334166,
          -0.01582773281019445,
          -0.0015783281341797961,
          -0.027612010322416336,
          -0.0372211059218831,
          -0.06329272401136832,
          -0.07063869290795544,
          -0.09005204212512397,
          -0.10883956629645497,
          -0.09258042980060965,
          -0.061984047636294615,
          -0.08060112823103682,
          -0.07377863881692093,
          -0.08031357235866654,
          -0.07840063105194384,
          -0.06585939439711685,
          -0.06137787302221176,
          -0.042016166210352535,
          -0.05078069289057585,
          -0.03073962047463119,
          -0.011020732765917751,
          -0.00034286928940452377,
          0.007886291895830455,
          0.015701853018062817,
          0.0034971251648017176,
          -0.010452334554773568,
          -0.009336976580098022,
          -0.023367420959728658,
          -0.0290996869089849,
          -0.03563822659804794,
          -0.017302890194761167,
          -0.016541958909888743,
          -0.01881025442705586,
          -0.00877016030741451,
          0.03245492402098593,
          0.02501769282418742,
          0.02195692796666049,
          0.020051359049608752,
          0.005321419126955496,
          0.013348269477895913,
          0.0024278834126396642,
          0.005595196704644367,
          0.017405556268223377,
          0.015111857899352543,
          0.03894272736610582,
          0.03370926343854852,
          -0.013148312773415438,
          -0.013425843146827376,
          0.01856051744071574,
          0.0029612332175623646,
          -0.014999166379697892,
          -0.02156738711085804,
          -0.018206991847025233,
          -0.009990135732981908,
          0.0010169071317185363,
          0.018488945978556437,
          0.011032423248643841,
          0.032338877628425466,
          0.032829550958814124,
          0.05033160159267336,
          0.055853196103534675,
          0.05689292203078078,
          0.07018237751779433,
          0.07325617174967425,
          0.08420046674269921,
          0.10603729523456118,
          0.10538070519572917,
          0.0771676148168916,
          0.08959017920467427,
          0.10039691965190567,
          0.11205062965812451,
          0.09385828673138219,
          0.09758469776443257,
          0.11285647519914233,
          0.10947577069095349,
          0.09498086803913353,
          0.08747480007227826,
          0.10856219768120945,
          0.08585490315553224,
          0.11119422254921196,
          0.0796700467621092,
          0.08957167103575125,
          0.08870066002142529,
          0.06354220716551495,
          0.035435402034914576,
          0.025668146199944175,
          0.044354948880531486,
          0.013975705786162473,
          0.0028460818132882704,
          -0.0003369590499359143,
          0.005957376669192271,
          -0.003016610370818462,
          0.015040330886291864,
          0.01763729355442112,
          0.022184376846785092,
          0.04369698632358787,
          0.031058484778653694,
          0.04255406816976204,
          0.043682983211186466,
          0.05209635698656001,
          0.0624081123009228,
          0.06990395852101039,
          0.08469975624401815,
          0.08986244486250983,
          0.06358853016272548,
          0.07386624757008375,
          0.08978872934527571,
          0.09664362714907826,
          0.08787916792905759,
          0.09530065255113085,
          0.08559902706668088,
          0.0749749435091327,
          0.07701967933433207,
          0.04510861174193348,
          0.027095966355920043,
          0.024686521722046217,
          0.03800945379241116,
          0.030796398646637746,
          0.032909351593715996,
          0.045287758705755854,
          0.06871399947900936,
          0.06384105480493574,
          0.07543794490368372,
          0.08989638154894064,
          0.0916248815303018,
          0.08327884119903306,
          0.09068991807320903,
          0.08537152805104209,
          0.07627503847636263,
          0.07677352095129142,
          0.07916028928687635,
          0.10120173453555137,
          0.09532875091355497,
          0.07223365084335764,
          0.08789865830533095,
          0.08880012836107709,
          0.10494238363752162,
          0.10943404077325569,
          0.10587431534454228,
          0.1078848312691969,
          0.09332343610147431,
          0.09260503485901994,
          0.10489890157225412,
          0.12291998037743945,
          0.10992272889206522,
          0.13334747005314318,
          0.14641290833639853,
          0.16157761389854786,
          0.18270734662870636,
          0.18707219080635573,
          0.1982539727975039,
          0.2282852228599943,
          0.22646228332086715,
          0.2385929562392366,
          0.2410874489668735,
          0.24207177208761088,
          0.22294578487329608,
          0.2383516091818374,
          0.25317366364812166,
          0.2539440008442029,
          0.2874984584916418,
          0.2855203193230016,
          0.25587191001477616,
          0.24070707357038335,
          0.2455919913313005,
          0.2405335622881648,
          0.2327665425218357,
          0.21927938585952234,
          0.2226139509402525,
          0.21489895561805827,
          0.2101163901101306,
          0.22920901708109565,
          0.234543942707663,
          0.24003642651903756,
          0.2199792574974766,
          0.2183915010686599,
          0.2219060449056316,
          0.24271139631379812,
          0.228173262465883,
          0.22641155937740742,
          0.21264342099953226,
          0.20084094832299226,
          0.21130987109426447,
          0.2192353141598946,
          0.22072534609587713,
          0.24459029284139056,
          0.24535086393410466,
          0.21975104377505428,
          0.20416864590816175,
          0.19411735053137846,
          0.18318456550103934,
          0.20675844209602157,
          0.27371952044916426,
          0.253838209882141,
          0.25119283555708005,
          0.2772966966889143,
          0.26718294648845187,
          0.2810047451464015,
          0.2754522962796475,
          0.26342095037132673,
          0.23310919834157606,
          0.2673460188281582,
          0.295344922664027,
          0.30421336121455433,
          0.3186312698061624,
          0.34303282090869347,
          0.3281528484059846,
          0.31476720767003563,
          0.2958864481086467,
          0.3301734539213754,
          0.35003635561474633,
          0.40414845399032084,
          0.40224387887033286,
          0.4164616609084544,
          0.42395203426465033,
          0.37976923985660416,
          0.37869132387321014,
          0.3706200216167279,
          0.29049301810010775,
          0.2751996236343288,
          0.2914946232267128,
          0.25962165103525137,
          0.24718120205351313,
          0.25376256255802954,
          0.2784333185731942,
          0.25666330044341024,
          0.25090033730568306,
          0.2850927040555733,
          0.2517600906563042,
          0.24812418379975743,
          0.25892202334256464,
          0.279426695781116,
          0.25749792794828297,
          0.2602877429563393,
          0.2443250895653335,
          0.2601839137198587,
          0.2584214090284105,
          0.2363539673887738,
          0.22987290081406098,
          0.2045815123949013,
          0.17918516828828035,
          0.1761299653141022,
          0.16376132087816786,
          0.15056768192272885,
          0.1911340183855219,
          0.2161249948452313,
          0.22287371914713128,
          0.21845450623069929,
          0.23737594614769253,
          0.2283272067848665,
          0.21312365182078108,
          0.22489726963096257,
          0.2145139831579237
         ],
         "yaxis": "y"
        }
       ],
       "layout": {
        "legend": {
         "tracegroupgap": 0
        },
        "template": {
         "data": {
          "bar": [
           {
            "error_x": {
             "color": "#2a3f5f"
            },
            "error_y": {
             "color": "#2a3f5f"
            },
            "marker": {
             "line": {
              "color": "#E5ECF6",
              "width": 0.5
             },
             "pattern": {
              "fillmode": "overlay",
              "size": 10,
              "solidity": 0.2
             }
            },
            "type": "bar"
           }
          ],
          "barpolar": [
           {
            "marker": {
             "line": {
              "color": "#E5ECF6",
              "width": 0.5
             },
             "pattern": {
              "fillmode": "overlay",
              "size": 10,
              "solidity": 0.2
             }
            },
            "type": "barpolar"
           }
          ],
          "carpet": [
           {
            "aaxis": {
             "endlinecolor": "#2a3f5f",
             "gridcolor": "white",
             "linecolor": "white",
             "minorgridcolor": "white",
             "startlinecolor": "#2a3f5f"
            },
            "baxis": {
             "endlinecolor": "#2a3f5f",
             "gridcolor": "white",
             "linecolor": "white",
             "minorgridcolor": "white",
             "startlinecolor": "#2a3f5f"
            },
            "type": "carpet"
           }
          ],
          "choropleth": [
           {
            "colorbar": {
             "outlinewidth": 0,
             "ticks": ""
            },
            "type": "choropleth"
           }
          ],
          "contour": [
           {
            "colorbar": {
             "outlinewidth": 0,
             "ticks": ""
            },
            "colorscale": [
             [
              0,
              "#0d0887"
             ],
             [
              0.1111111111111111,
              "#46039f"
             ],
             [
              0.2222222222222222,
              "#7201a8"
             ],
             [
              0.3333333333333333,
              "#9c179e"
             ],
             [
              0.4444444444444444,
              "#bd3786"
             ],
             [
              0.5555555555555556,
              "#d8576b"
             ],
             [
              0.6666666666666666,
              "#ed7953"
             ],
             [
              0.7777777777777778,
              "#fb9f3a"
             ],
             [
              0.8888888888888888,
              "#fdca26"
             ],
             [
              1,
              "#f0f921"
             ]
            ],
            "type": "contour"
           }
          ],
          "contourcarpet": [
           {
            "colorbar": {
             "outlinewidth": 0,
             "ticks": ""
            },
            "type": "contourcarpet"
           }
          ],
          "heatmap": [
           {
            "colorbar": {
             "outlinewidth": 0,
             "ticks": ""
            },
            "colorscale": [
             [
              0,
              "#0d0887"
             ],
             [
              0.1111111111111111,
              "#46039f"
             ],
             [
              0.2222222222222222,
              "#7201a8"
             ],
             [
              0.3333333333333333,
              "#9c179e"
             ],
             [
              0.4444444444444444,
              "#bd3786"
             ],
             [
              0.5555555555555556,
              "#d8576b"
             ],
             [
              0.6666666666666666,
              "#ed7953"
             ],
             [
              0.7777777777777778,
              "#fb9f3a"
             ],
             [
              0.8888888888888888,
              "#fdca26"
             ],
             [
              1,
              "#f0f921"
             ]
            ],
            "type": "heatmap"
           }
          ],
          "heatmapgl": [
           {
            "colorbar": {
             "outlinewidth": 0,
             "ticks": ""
            },
            "colorscale": [
             [
              0,
              "#0d0887"
             ],
             [
              0.1111111111111111,
              "#46039f"
             ],
             [
              0.2222222222222222,
              "#7201a8"
             ],
             [
              0.3333333333333333,
              "#9c179e"
             ],
             [
              0.4444444444444444,
              "#bd3786"
             ],
             [
              0.5555555555555556,
              "#d8576b"
             ],
             [
              0.6666666666666666,
              "#ed7953"
             ],
             [
              0.7777777777777778,
              "#fb9f3a"
             ],
             [
              0.8888888888888888,
              "#fdca26"
             ],
             [
              1,
              "#f0f921"
             ]
            ],
            "type": "heatmapgl"
           }
          ],
          "histogram": [
           {
            "marker": {
             "pattern": {
              "fillmode": "overlay",
              "size": 10,
              "solidity": 0.2
             }
            },
            "type": "histogram"
           }
          ],
          "histogram2d": [
           {
            "colorbar": {
             "outlinewidth": 0,
             "ticks": ""
            },
            "colorscale": [
             [
              0,
              "#0d0887"
             ],
             [
              0.1111111111111111,
              "#46039f"
             ],
             [
              0.2222222222222222,
              "#7201a8"
             ],
             [
              0.3333333333333333,
              "#9c179e"
             ],
             [
              0.4444444444444444,
              "#bd3786"
             ],
             [
              0.5555555555555556,
              "#d8576b"
             ],
             [
              0.6666666666666666,
              "#ed7953"
             ],
             [
              0.7777777777777778,
              "#fb9f3a"
             ],
             [
              0.8888888888888888,
              "#fdca26"
             ],
             [
              1,
              "#f0f921"
             ]
            ],
            "type": "histogram2d"
           }
          ],
          "histogram2dcontour": [
           {
            "colorbar": {
             "outlinewidth": 0,
             "ticks": ""
            },
            "colorscale": [
             [
              0,
              "#0d0887"
             ],
             [
              0.1111111111111111,
              "#46039f"
             ],
             [
              0.2222222222222222,
              "#7201a8"
             ],
             [
              0.3333333333333333,
              "#9c179e"
             ],
             [
              0.4444444444444444,
              "#bd3786"
             ],
             [
              0.5555555555555556,
              "#d8576b"
             ],
             [
              0.6666666666666666,
              "#ed7953"
             ],
             [
              0.7777777777777778,
              "#fb9f3a"
             ],
             [
              0.8888888888888888,
              "#fdca26"
             ],
             [
              1,
              "#f0f921"
             ]
            ],
            "type": "histogram2dcontour"
           }
          ],
          "mesh3d": [
           {
            "colorbar": {
             "outlinewidth": 0,
             "ticks": ""
            },
            "type": "mesh3d"
           }
          ],
          "parcoords": [
           {
            "line": {
             "colorbar": {
              "outlinewidth": 0,
              "ticks": ""
             }
            },
            "type": "parcoords"
           }
          ],
          "pie": [
           {
            "automargin": true,
            "type": "pie"
           }
          ],
          "scatter": [
           {
            "fillpattern": {
             "fillmode": "overlay",
             "size": 10,
             "solidity": 0.2
            },
            "type": "scatter"
           }
          ],
          "scatter3d": [
           {
            "line": {
             "colorbar": {
              "outlinewidth": 0,
              "ticks": ""
             }
            },
            "marker": {
             "colorbar": {
              "outlinewidth": 0,
              "ticks": ""
             }
            },
            "type": "scatter3d"
           }
          ],
          "scattercarpet": [
           {
            "marker": {
             "colorbar": {
              "outlinewidth": 0,
              "ticks": ""
             }
            },
            "type": "scattercarpet"
           }
          ],
          "scattergeo": [
           {
            "marker": {
             "colorbar": {
              "outlinewidth": 0,
              "ticks": ""
             }
            },
            "type": "scattergeo"
           }
          ],
          "scattergl": [
           {
            "marker": {
             "colorbar": {
              "outlinewidth": 0,
              "ticks": ""
             }
            },
            "type": "scattergl"
           }
          ],
          "scattermapbox": [
           {
            "marker": {
             "colorbar": {
              "outlinewidth": 0,
              "ticks": ""
             }
            },
            "type": "scattermapbox"
           }
          ],
          "scatterpolar": [
           {
            "marker": {
             "colorbar": {
              "outlinewidth": 0,
              "ticks": ""
             }
            },
            "type": "scatterpolar"
           }
          ],
          "scatterpolargl": [
           {
            "marker": {
             "colorbar": {
              "outlinewidth": 0,
              "ticks": ""
             }
            },
            "type": "scatterpolargl"
           }
          ],
          "scatterternary": [
           {
            "marker": {
             "colorbar": {
              "outlinewidth": 0,
              "ticks": ""
             }
            },
            "type": "scatterternary"
           }
          ],
          "surface": [
           {
            "colorbar": {
             "outlinewidth": 0,
             "ticks": ""
            },
            "colorscale": [
             [
              0,
              "#0d0887"
             ],
             [
              0.1111111111111111,
              "#46039f"
             ],
             [
              0.2222222222222222,
              "#7201a8"
             ],
             [
              0.3333333333333333,
              "#9c179e"
             ],
             [
              0.4444444444444444,
              "#bd3786"
             ],
             [
              0.5555555555555556,
              "#d8576b"
             ],
             [
              0.6666666666666666,
              "#ed7953"
             ],
             [
              0.7777777777777778,
              "#fb9f3a"
             ],
             [
              0.8888888888888888,
              "#fdca26"
             ],
             [
              1,
              "#f0f921"
             ]
            ],
            "type": "surface"
           }
          ],
          "table": [
           {
            "cells": {
             "fill": {
              "color": "#EBF0F8"
             },
             "line": {
              "color": "white"
             }
            },
            "header": {
             "fill": {
              "color": "#C8D4E3"
             },
             "line": {
              "color": "white"
             }
            },
            "type": "table"
           }
          ]
         },
         "layout": {
          "annotationdefaults": {
           "arrowcolor": "#2a3f5f",
           "arrowhead": 0,
           "arrowwidth": 1
          },
          "autotypenumbers": "strict",
          "coloraxis": {
           "colorbar": {
            "outlinewidth": 0,
            "ticks": ""
           }
          },
          "colorscale": {
           "diverging": [
            [
             0,
             "#8e0152"
            ],
            [
             0.1,
             "#c51b7d"
            ],
            [
             0.2,
             "#de77ae"
            ],
            [
             0.3,
             "#f1b6da"
            ],
            [
             0.4,
             "#fde0ef"
            ],
            [
             0.5,
             "#f7f7f7"
            ],
            [
             0.6,
             "#e6f5d0"
            ],
            [
             0.7,
             "#b8e186"
            ],
            [
             0.8,
             "#7fbc41"
            ],
            [
             0.9,
             "#4d9221"
            ],
            [
             1,
             "#276419"
            ]
           ],
           "sequential": [
            [
             0,
             "#0d0887"
            ],
            [
             0.1111111111111111,
             "#46039f"
            ],
            [
             0.2222222222222222,
             "#7201a8"
            ],
            [
             0.3333333333333333,
             "#9c179e"
            ],
            [
             0.4444444444444444,
             "#bd3786"
            ],
            [
             0.5555555555555556,
             "#d8576b"
            ],
            [
             0.6666666666666666,
             "#ed7953"
            ],
            [
             0.7777777777777778,
             "#fb9f3a"
            ],
            [
             0.8888888888888888,
             "#fdca26"
            ],
            [
             1,
             "#f0f921"
            ]
           ],
           "sequentialminus": [
            [
             0,
             "#0d0887"
            ],
            [
             0.1111111111111111,
             "#46039f"
            ],
            [
             0.2222222222222222,
             "#7201a8"
            ],
            [
             0.3333333333333333,
             "#9c179e"
            ],
            [
             0.4444444444444444,
             "#bd3786"
            ],
            [
             0.5555555555555556,
             "#d8576b"
            ],
            [
             0.6666666666666666,
             "#ed7953"
            ],
            [
             0.7777777777777778,
             "#fb9f3a"
            ],
            [
             0.8888888888888888,
             "#fdca26"
            ],
            [
             1,
             "#f0f921"
            ]
           ]
          },
          "colorway": [
           "#636efa",
           "#EF553B",
           "#00cc96",
           "#ab63fa",
           "#FFA15A",
           "#19d3f3",
           "#FF6692",
           "#B6E880",
           "#FF97FF",
           "#FECB52"
          ],
          "font": {
           "color": "#2a3f5f"
          },
          "geo": {
           "bgcolor": "white",
           "lakecolor": "white",
           "landcolor": "#E5ECF6",
           "showlakes": true,
           "showland": true,
           "subunitcolor": "white"
          },
          "hoverlabel": {
           "align": "left"
          },
          "hovermode": "closest",
          "mapbox": {
           "style": "light"
          },
          "paper_bgcolor": "white",
          "plot_bgcolor": "#E5ECF6",
          "polar": {
           "angularaxis": {
            "gridcolor": "white",
            "linecolor": "white",
            "ticks": ""
           },
           "bgcolor": "#E5ECF6",
           "radialaxis": {
            "gridcolor": "white",
            "linecolor": "white",
            "ticks": ""
           }
          },
          "scene": {
           "xaxis": {
            "backgroundcolor": "#E5ECF6",
            "gridcolor": "white",
            "gridwidth": 2,
            "linecolor": "white",
            "showbackground": true,
            "ticks": "",
            "zerolinecolor": "white"
           },
           "yaxis": {
            "backgroundcolor": "#E5ECF6",
            "gridcolor": "white",
            "gridwidth": 2,
            "linecolor": "white",
            "showbackground": true,
            "ticks": "",
            "zerolinecolor": "white"
           },
           "zaxis": {
            "backgroundcolor": "#E5ECF6",
            "gridcolor": "white",
            "gridwidth": 2,
            "linecolor": "white",
            "showbackground": true,
            "ticks": "",
            "zerolinecolor": "white"
           }
          },
          "shapedefaults": {
           "line": {
            "color": "#2a3f5f"
           }
          },
          "ternary": {
           "aaxis": {
            "gridcolor": "white",
            "linecolor": "white",
            "ticks": ""
           },
           "baxis": {
            "gridcolor": "white",
            "linecolor": "white",
            "ticks": ""
           },
           "bgcolor": "#E5ECF6",
           "caxis": {
            "gridcolor": "white",
            "linecolor": "white",
            "ticks": ""
           }
          },
          "title": {
           "x": 0.05
          },
          "xaxis": {
           "automargin": true,
           "gridcolor": "white",
           "linecolor": "white",
           "ticks": "",
           "title": {
            "standoff": 15
           },
           "zerolinecolor": "white",
           "zerolinewidth": 2
          },
          "yaxis": {
           "automargin": true,
           "gridcolor": "white",
           "linecolor": "white",
           "ticks": "",
           "title": {
            "standoff": 15
           },
           "zerolinecolor": "white",
           "zerolinewidth": 2
          }
         }
        },
        "title": {
         "text": "Estratégia otimizada"
        },
        "xaxis": {
         "anchor": "y",
         "domain": [
          0,
          1
         ],
         "title": {
          "text": "Date"
         }
        },
        "yaxis": {
         "anchor": "x",
         "domain": [
          0,
          1
         ],
         "title": {
          "text": "y"
         }
        }
       }
      }
     },
     "metadata": {},
     "output_type": "display_data"
    }
   ],
   "source": [
    "optimized_portfolio = returns.mul(best_individual).sum(axis=1)  # Soma dos retornos da carteira dia a dia\n",
    "optimized_portfolio = optimized_portfolio + 1\n",
    "optimized_portfolio = optimized_portfolio.cumprod() - 1\n",
    "px.line(optimized_portfolio, title='Estratégia otimizada', x=optimized_portfolio.index, y=optimized_portfolio.values)"
   ]
  },
  {
   "cell_type": "code",
   "execution_count": 215,
   "metadata": {},
   "outputs": [
    {
     "data": {
      "text/html": [
       "<div>\n",
       "<style scoped>\n",
       "    .dataframe tbody tr th:only-of-type {\n",
       "        vertical-align: middle;\n",
       "    }\n",
       "\n",
       "    .dataframe tbody tr th {\n",
       "        vertical-align: top;\n",
       "    }\n",
       "\n",
       "    .dataframe thead th {\n",
       "        text-align: right;\n",
       "    }\n",
       "</style>\n",
       "<table border=\"1\" class=\"dataframe\">\n",
       "  <thead>\n",
       "    <tr style=\"text-align: right;\">\n",
       "      <th></th>\n",
       "      <th>ELET6.SA</th>\n",
       "      <th>ITUB4.SA</th>\n",
       "      <th>MGLU3.SA</th>\n",
       "      <th>PETR4.SA</th>\n",
       "      <th>RADL3.SA</th>\n",
       "      <th>RENT3.SA</th>\n",
       "      <th>WEGE3.SA</th>\n",
       "    </tr>\n",
       "    <tr>\n",
       "      <th>Date</th>\n",
       "      <th></th>\n",
       "      <th></th>\n",
       "      <th></th>\n",
       "      <th></th>\n",
       "      <th></th>\n",
       "      <th></th>\n",
       "      <th></th>\n",
       "    </tr>\n",
       "  </thead>\n",
       "  <tbody>\n",
       "    <tr>\n",
       "      <th>2021-01-05</th>\n",
       "      <td>-0.028729</td>\n",
       "      <td>-0.006473</td>\n",
       "      <td>-0.017460</td>\n",
       "      <td>0.039087</td>\n",
       "      <td>-0.002796</td>\n",
       "      <td>-0.005902</td>\n",
       "      <td>0.061378</td>\n",
       "    </tr>\n",
       "    <tr>\n",
       "      <th>2021-01-06</th>\n",
       "      <td>-0.005688</td>\n",
       "      <td>0.029316</td>\n",
       "      <td>-0.052504</td>\n",
       "      <td>0.001997</td>\n",
       "      <td>-0.023237</td>\n",
       "      <td>-0.057584</td>\n",
       "      <td>0.026515</td>\n",
       "    </tr>\n",
       "    <tr>\n",
       "      <th>2021-01-07</th>\n",
       "      <td>-0.018879</td>\n",
       "      <td>0.038924</td>\n",
       "      <td>-0.012788</td>\n",
       "      <td>0.029900</td>\n",
       "      <td>-0.012715</td>\n",
       "      <td>0.047402</td>\n",
       "      <td>0.041329</td>\n",
       "    </tr>\n",
       "    <tr>\n",
       "      <th>2021-01-08</th>\n",
       "      <td>0.029154</td>\n",
       "      <td>-0.000304</td>\n",
       "      <td>0.029361</td>\n",
       "      <td>0.003871</td>\n",
       "      <td>0.029082</td>\n",
       "      <td>0.067509</td>\n",
       "      <td>0.060477</td>\n",
       "    </tr>\n",
       "    <tr>\n",
       "      <th>2021-01-11</th>\n",
       "      <td>-0.021813</td>\n",
       "      <td>-0.022547</td>\n",
       "      <td>-0.014681</td>\n",
       "      <td>-0.008355</td>\n",
       "      <td>-0.005248</td>\n",
       "      <td>-0.019437</td>\n",
       "      <td>-0.030630</td>\n",
       "    </tr>\n",
       "    <tr>\n",
       "      <th>...</th>\n",
       "      <td>...</td>\n",
       "      <td>...</td>\n",
       "      <td>...</td>\n",
       "      <td>...</td>\n",
       "      <td>...</td>\n",
       "      <td>...</td>\n",
       "      <td>...</td>\n",
       "    </tr>\n",
       "    <tr>\n",
       "      <th>2022-12-23</th>\n",
       "      <td>0.015931</td>\n",
       "      <td>0.015726</td>\n",
       "      <td>0.030769</td>\n",
       "      <td>0.047103</td>\n",
       "      <td>0.013152</td>\n",
       "      <td>0.054665</td>\n",
       "      <td>-0.011299</td>\n",
       "    </tr>\n",
       "    <tr>\n",
       "      <th>2022-12-26</th>\n",
       "      <td>-0.007393</td>\n",
       "      <td>-0.019849</td>\n",
       "      <td>-0.007463</td>\n",
       "      <td>-0.007166</td>\n",
       "      <td>-0.005444</td>\n",
       "      <td>-0.027346</td>\n",
       "      <td>-0.008052</td>\n",
       "    </tr>\n",
       "    <tr>\n",
       "      <th>2022-12-27</th>\n",
       "      <td>-0.022568</td>\n",
       "      <td>-0.005670</td>\n",
       "      <td>-0.052632</td>\n",
       "      <td>0.006816</td>\n",
       "      <td>-0.004632</td>\n",
       "      <td>-0.037302</td>\n",
       "      <td>-0.004713</td>\n",
       "    </tr>\n",
       "    <tr>\n",
       "      <th>2022-12-28</th>\n",
       "      <td>0.012237</td>\n",
       "      <td>0.020367</td>\n",
       "      <td>0.067460</td>\n",
       "      <td>-0.012346</td>\n",
       "      <td>0.006345</td>\n",
       "      <td>0.036266</td>\n",
       "      <td>0.018153</td>\n",
       "    </tr>\n",
       "    <tr>\n",
       "      <th>2022-12-29</th>\n",
       "      <td>-0.013914</td>\n",
       "      <td>-0.001996</td>\n",
       "      <td>0.018587</td>\n",
       "      <td>-0.012097</td>\n",
       "      <td>-0.002942</td>\n",
       "      <td>-0.020077</td>\n",
       "      <td>-0.004910</td>\n",
       "    </tr>\n",
       "  </tbody>\n",
       "</table>\n",
       "<p>496 rows × 7 columns</p>\n",
       "</div>"
      ],
      "text/plain": [
       "            ELET6.SA  ITUB4.SA  MGLU3.SA  PETR4.SA  RADL3.SA  RENT3.SA  \\\n",
       "Date                                                                     \n",
       "2021-01-05 -0.028729 -0.006473 -0.017460  0.039087 -0.002796 -0.005902   \n",
       "2021-01-06 -0.005688  0.029316 -0.052504  0.001997 -0.023237 -0.057584   \n",
       "2021-01-07 -0.018879  0.038924 -0.012788  0.029900 -0.012715  0.047402   \n",
       "2021-01-08  0.029154 -0.000304  0.029361  0.003871  0.029082  0.067509   \n",
       "2021-01-11 -0.021813 -0.022547 -0.014681 -0.008355 -0.005248 -0.019437   \n",
       "...              ...       ...       ...       ...       ...       ...   \n",
       "2022-12-23  0.015931  0.015726  0.030769  0.047103  0.013152  0.054665   \n",
       "2022-12-26 -0.007393 -0.019849 -0.007463 -0.007166 -0.005444 -0.027346   \n",
       "2022-12-27 -0.022568 -0.005670 -0.052632  0.006816 -0.004632 -0.037302   \n",
       "2022-12-28  0.012237  0.020367  0.067460 -0.012346  0.006345  0.036266   \n",
       "2022-12-29 -0.013914 -0.001996  0.018587 -0.012097 -0.002942 -0.020077   \n",
       "\n",
       "            WEGE3.SA  \n",
       "Date                  \n",
       "2021-01-05  0.061378  \n",
       "2021-01-06  0.026515  \n",
       "2021-01-07  0.041329  \n",
       "2021-01-08  0.060477  \n",
       "2021-01-11 -0.030630  \n",
       "...              ...  \n",
       "2022-12-23 -0.011299  \n",
       "2022-12-26 -0.008052  \n",
       "2022-12-27 -0.004713  \n",
       "2022-12-28  0.018153  \n",
       "2022-12-29 -0.004910  \n",
       "\n",
       "[496 rows x 7 columns]"
      ]
     },
     "execution_count": 215,
     "metadata": {},
     "output_type": "execute_result"
    }
   ],
   "source": [
    "returns"
   ]
  },
  {
   "cell_type": "code",
   "execution_count": 214,
   "metadata": {},
   "outputs": [
    {
     "data": {
      "text/plain": [
       "Date\n",
       "2021-01-05    0.039104\n",
       "2021-01-06   -0.081185\n",
       "2021-01-07    0.113173\n",
       "2021-01-08    0.219150\n",
       "2021-01-11   -0.122712\n",
       "                ...   \n",
       "2022-12-23    0.166047\n",
       "2022-12-26   -0.082712\n",
       "2022-12-27   -0.120701\n",
       "2022-12-28    0.148483\n",
       "2022-12-29   -0.037349\n",
       "Length: 496, dtype: float64"
      ]
     },
     "execution_count": 214,
     "metadata": {},
     "output_type": "execute_result"
    }
   ],
   "source": [
    "vanilla_portfolio = returns.sum(axis=1)\n",
    "vanilla_portfolio"
   ]
  },
  {
   "cell_type": "code",
   "execution_count": 205,
   "metadata": {},
   "outputs": [
    {
     "data": {
      "application/vnd.plotly.v1+json": {
       "config": {
        "plotlyServerURL": "https://plot.ly"
       },
       "data": [
        {
         "hovertemplate": "Date=%{x}<br>y=%{y}<extra></extra>",
         "legendgroup": "",
         "line": {
          "color": "#636efa",
          "dash": "solid"
         },
         "marker": {
          "symbol": "circle"
         },
         "mode": "lines",
         "name": "",
         "orientation": "v",
         "showlegend": false,
         "type": "scatter",
         "x": [
          "2021-01-05T00:00:00",
          "2021-01-06T00:00:00",
          "2021-01-07T00:00:00",
          "2021-01-08T00:00:00",
          "2021-01-11T00:00:00",
          "2021-01-12T00:00:00",
          "2021-01-13T00:00:00",
          "2021-01-14T00:00:00",
          "2021-01-15T00:00:00",
          "2021-01-18T00:00:00",
          "2021-01-19T00:00:00",
          "2021-01-20T00:00:00",
          "2021-01-21T00:00:00",
          "2021-01-22T00:00:00",
          "2021-01-26T00:00:00",
          "2021-01-27T00:00:00",
          "2021-01-28T00:00:00",
          "2021-01-29T00:00:00",
          "2021-02-01T00:00:00",
          "2021-02-02T00:00:00",
          "2021-02-03T00:00:00",
          "2021-02-04T00:00:00",
          "2021-02-05T00:00:00",
          "2021-02-08T00:00:00",
          "2021-02-09T00:00:00",
          "2021-02-10T00:00:00",
          "2021-02-11T00:00:00",
          "2021-02-12T00:00:00",
          "2021-02-17T00:00:00",
          "2021-02-18T00:00:00",
          "2021-02-19T00:00:00",
          "2021-02-22T00:00:00",
          "2021-02-23T00:00:00",
          "2021-02-24T00:00:00",
          "2021-02-25T00:00:00",
          "2021-02-26T00:00:00",
          "2021-03-01T00:00:00",
          "2021-03-02T00:00:00",
          "2021-03-03T00:00:00",
          "2021-03-04T00:00:00",
          "2021-03-05T00:00:00",
          "2021-03-08T00:00:00",
          "2021-03-09T00:00:00",
          "2021-03-10T00:00:00",
          "2021-03-11T00:00:00",
          "2021-03-12T00:00:00",
          "2021-03-15T00:00:00",
          "2021-03-16T00:00:00",
          "2021-03-17T00:00:00",
          "2021-03-18T00:00:00",
          "2021-03-19T00:00:00",
          "2021-03-22T00:00:00",
          "2021-03-23T00:00:00",
          "2021-03-24T00:00:00",
          "2021-03-25T00:00:00",
          "2021-03-26T00:00:00",
          "2021-03-29T00:00:00",
          "2021-03-30T00:00:00",
          "2021-03-31T00:00:00",
          "2021-04-01T00:00:00",
          "2021-04-05T00:00:00",
          "2021-04-06T00:00:00",
          "2021-04-07T00:00:00",
          "2021-04-08T00:00:00",
          "2021-04-09T00:00:00",
          "2021-04-12T00:00:00",
          "2021-04-13T00:00:00",
          "2021-04-14T00:00:00",
          "2021-04-15T00:00:00",
          "2021-04-16T00:00:00",
          "2021-04-19T00:00:00",
          "2021-04-20T00:00:00",
          "2021-04-22T00:00:00",
          "2021-04-23T00:00:00",
          "2021-04-26T00:00:00",
          "2021-04-27T00:00:00",
          "2021-04-28T00:00:00",
          "2021-04-29T00:00:00",
          "2021-04-30T00:00:00",
          "2021-05-03T00:00:00",
          "2021-05-04T00:00:00",
          "2021-05-05T00:00:00",
          "2021-05-06T00:00:00",
          "2021-05-07T00:00:00",
          "2021-05-10T00:00:00",
          "2021-05-11T00:00:00",
          "2021-05-12T00:00:00",
          "2021-05-13T00:00:00",
          "2021-05-14T00:00:00",
          "2021-05-17T00:00:00",
          "2021-05-18T00:00:00",
          "2021-05-19T00:00:00",
          "2021-05-20T00:00:00",
          "2021-05-21T00:00:00",
          "2021-05-24T00:00:00",
          "2021-05-25T00:00:00",
          "2021-05-26T00:00:00",
          "2021-05-27T00:00:00",
          "2021-05-28T00:00:00",
          "2021-05-31T00:00:00",
          "2021-06-01T00:00:00",
          "2021-06-02T00:00:00",
          "2021-06-04T00:00:00",
          "2021-06-07T00:00:00",
          "2021-06-08T00:00:00",
          "2021-06-09T00:00:00",
          "2021-06-10T00:00:00",
          "2021-06-11T00:00:00",
          "2021-06-14T00:00:00",
          "2021-06-15T00:00:00",
          "2021-06-16T00:00:00",
          "2021-06-17T00:00:00",
          "2021-06-18T00:00:00",
          "2021-06-21T00:00:00",
          "2021-06-22T00:00:00",
          "2021-06-23T00:00:00",
          "2021-06-24T00:00:00",
          "2021-06-25T00:00:00",
          "2021-06-28T00:00:00",
          "2021-06-29T00:00:00",
          "2021-06-30T00:00:00",
          "2021-07-01T00:00:00",
          "2021-07-02T00:00:00",
          "2021-07-05T00:00:00",
          "2021-07-06T00:00:00",
          "2021-07-07T00:00:00",
          "2021-07-08T00:00:00",
          "2021-07-12T00:00:00",
          "2021-07-13T00:00:00",
          "2021-07-14T00:00:00",
          "2021-07-15T00:00:00",
          "2021-07-16T00:00:00",
          "2021-07-19T00:00:00",
          "2021-07-20T00:00:00",
          "2021-07-21T00:00:00",
          "2021-07-22T00:00:00",
          "2021-07-23T00:00:00",
          "2021-07-26T00:00:00",
          "2021-07-27T00:00:00",
          "2021-07-28T00:00:00",
          "2021-07-29T00:00:00",
          "2021-07-30T00:00:00",
          "2021-08-02T00:00:00",
          "2021-08-03T00:00:00",
          "2021-08-04T00:00:00",
          "2021-08-05T00:00:00",
          "2021-08-06T00:00:00",
          "2021-08-09T00:00:00",
          "2021-08-10T00:00:00",
          "2021-08-11T00:00:00",
          "2021-08-12T00:00:00",
          "2021-08-13T00:00:00",
          "2021-08-16T00:00:00",
          "2021-08-17T00:00:00",
          "2021-08-18T00:00:00",
          "2021-08-19T00:00:00",
          "2021-08-20T00:00:00",
          "2021-08-23T00:00:00",
          "2021-08-24T00:00:00",
          "2021-08-25T00:00:00",
          "2021-08-26T00:00:00",
          "2021-08-27T00:00:00",
          "2021-08-30T00:00:00",
          "2021-08-31T00:00:00",
          "2021-09-01T00:00:00",
          "2021-09-02T00:00:00",
          "2021-09-03T00:00:00",
          "2021-09-06T00:00:00",
          "2021-09-08T00:00:00",
          "2021-09-09T00:00:00",
          "2021-09-10T00:00:00",
          "2021-09-13T00:00:00",
          "2021-09-14T00:00:00",
          "2021-09-15T00:00:00",
          "2021-09-16T00:00:00",
          "2021-09-17T00:00:00",
          "2021-09-20T00:00:00",
          "2021-09-21T00:00:00",
          "2021-09-22T00:00:00",
          "2021-09-23T00:00:00",
          "2021-09-24T00:00:00",
          "2021-09-27T00:00:00",
          "2021-09-28T00:00:00",
          "2021-09-29T00:00:00",
          "2021-09-30T00:00:00",
          "2021-10-01T00:00:00",
          "2021-10-04T00:00:00",
          "2021-10-05T00:00:00",
          "2021-10-06T00:00:00",
          "2021-10-07T00:00:00",
          "2021-10-08T00:00:00",
          "2021-10-11T00:00:00",
          "2021-10-13T00:00:00",
          "2021-10-14T00:00:00",
          "2021-10-15T00:00:00",
          "2021-10-18T00:00:00",
          "2021-10-19T00:00:00",
          "2021-10-20T00:00:00",
          "2021-10-21T00:00:00",
          "2021-10-22T00:00:00",
          "2021-10-25T00:00:00",
          "2021-10-26T00:00:00",
          "2021-10-27T00:00:00",
          "2021-10-28T00:00:00",
          "2021-10-29T00:00:00",
          "2021-11-01T00:00:00",
          "2021-11-03T00:00:00",
          "2021-11-04T00:00:00",
          "2021-11-05T00:00:00",
          "2021-11-08T00:00:00",
          "2021-11-09T00:00:00",
          "2021-11-10T00:00:00",
          "2021-11-11T00:00:00",
          "2021-11-12T00:00:00",
          "2021-11-16T00:00:00",
          "2021-11-17T00:00:00",
          "2021-11-18T00:00:00",
          "2021-11-19T00:00:00",
          "2021-11-22T00:00:00",
          "2021-11-23T00:00:00",
          "2021-11-24T00:00:00",
          "2021-11-25T00:00:00",
          "2021-11-26T00:00:00",
          "2021-11-29T00:00:00",
          "2021-11-30T00:00:00",
          "2021-12-01T00:00:00",
          "2021-12-02T00:00:00",
          "2021-12-03T00:00:00",
          "2021-12-06T00:00:00",
          "2021-12-07T00:00:00",
          "2021-12-08T00:00:00",
          "2021-12-09T00:00:00",
          "2021-12-10T00:00:00",
          "2021-12-13T00:00:00",
          "2021-12-14T00:00:00",
          "2021-12-15T00:00:00",
          "2021-12-16T00:00:00",
          "2021-12-17T00:00:00",
          "2021-12-20T00:00:00",
          "2021-12-21T00:00:00",
          "2021-12-22T00:00:00",
          "2021-12-23T00:00:00",
          "2021-12-27T00:00:00",
          "2021-12-28T00:00:00",
          "2021-12-29T00:00:00",
          "2021-12-30T00:00:00",
          "2022-01-03T00:00:00",
          "2022-01-04T00:00:00",
          "2022-01-05T00:00:00",
          "2022-01-06T00:00:00",
          "2022-01-07T00:00:00",
          "2022-01-10T00:00:00",
          "2022-01-11T00:00:00",
          "2022-01-12T00:00:00",
          "2022-01-13T00:00:00",
          "2022-01-14T00:00:00",
          "2022-01-17T00:00:00",
          "2022-01-18T00:00:00",
          "2022-01-19T00:00:00",
          "2022-01-20T00:00:00",
          "2022-01-21T00:00:00",
          "2022-01-24T00:00:00",
          "2022-01-25T00:00:00",
          "2022-01-26T00:00:00",
          "2022-01-27T00:00:00",
          "2022-01-28T00:00:00",
          "2022-01-31T00:00:00",
          "2022-02-01T00:00:00",
          "2022-02-02T00:00:00",
          "2022-02-03T00:00:00",
          "2022-02-04T00:00:00",
          "2022-02-07T00:00:00",
          "2022-02-08T00:00:00",
          "2022-02-09T00:00:00",
          "2022-02-10T00:00:00",
          "2022-02-11T00:00:00",
          "2022-02-14T00:00:00",
          "2022-02-15T00:00:00",
          "2022-02-16T00:00:00",
          "2022-02-17T00:00:00",
          "2022-02-18T00:00:00",
          "2022-02-21T00:00:00",
          "2022-02-22T00:00:00",
          "2022-02-23T00:00:00",
          "2022-02-24T00:00:00",
          "2022-02-25T00:00:00",
          "2022-03-02T00:00:00",
          "2022-03-03T00:00:00",
          "2022-03-04T00:00:00",
          "2022-03-07T00:00:00",
          "2022-03-08T00:00:00",
          "2022-03-09T00:00:00",
          "2022-03-10T00:00:00",
          "2022-03-11T00:00:00",
          "2022-03-14T00:00:00",
          "2022-03-15T00:00:00",
          "2022-03-16T00:00:00",
          "2022-03-17T00:00:00",
          "2022-03-18T00:00:00",
          "2022-03-21T00:00:00",
          "2022-03-22T00:00:00",
          "2022-03-23T00:00:00",
          "2022-03-24T00:00:00",
          "2022-03-25T00:00:00",
          "2022-03-28T00:00:00",
          "2022-03-29T00:00:00",
          "2022-03-30T00:00:00",
          "2022-03-31T00:00:00",
          "2022-04-01T00:00:00",
          "2022-04-04T00:00:00",
          "2022-04-05T00:00:00",
          "2022-04-06T00:00:00",
          "2022-04-07T00:00:00",
          "2022-04-08T00:00:00",
          "2022-04-11T00:00:00",
          "2022-04-12T00:00:00",
          "2022-04-13T00:00:00",
          "2022-04-14T00:00:00",
          "2022-04-18T00:00:00",
          "2022-04-19T00:00:00",
          "2022-04-20T00:00:00",
          "2022-04-22T00:00:00",
          "2022-04-25T00:00:00",
          "2022-04-26T00:00:00",
          "2022-04-27T00:00:00",
          "2022-04-28T00:00:00",
          "2022-04-29T00:00:00",
          "2022-05-02T00:00:00",
          "2022-05-03T00:00:00",
          "2022-05-04T00:00:00",
          "2022-05-05T00:00:00",
          "2022-05-06T00:00:00",
          "2022-05-09T00:00:00",
          "2022-05-10T00:00:00",
          "2022-05-11T00:00:00",
          "2022-05-12T00:00:00",
          "2022-05-13T00:00:00",
          "2022-05-16T00:00:00",
          "2022-05-17T00:00:00",
          "2022-05-18T00:00:00",
          "2022-05-19T00:00:00",
          "2022-05-20T00:00:00",
          "2022-05-23T00:00:00",
          "2022-05-24T00:00:00",
          "2022-05-25T00:00:00",
          "2022-05-26T00:00:00",
          "2022-05-27T00:00:00",
          "2022-05-30T00:00:00",
          "2022-05-31T00:00:00",
          "2022-06-01T00:00:00",
          "2022-06-02T00:00:00",
          "2022-06-03T00:00:00",
          "2022-06-06T00:00:00",
          "2022-06-07T00:00:00",
          "2022-06-08T00:00:00",
          "2022-06-09T00:00:00",
          "2022-06-10T00:00:00",
          "2022-06-13T00:00:00",
          "2022-06-14T00:00:00",
          "2022-06-15T00:00:00",
          "2022-06-17T00:00:00",
          "2022-06-20T00:00:00",
          "2022-06-21T00:00:00",
          "2022-06-22T00:00:00",
          "2022-06-23T00:00:00",
          "2022-06-24T00:00:00",
          "2022-06-27T00:00:00",
          "2022-06-28T00:00:00",
          "2022-06-29T00:00:00",
          "2022-06-30T00:00:00",
          "2022-07-01T00:00:00",
          "2022-07-04T00:00:00",
          "2022-07-05T00:00:00",
          "2022-07-06T00:00:00",
          "2022-07-07T00:00:00",
          "2022-07-08T00:00:00",
          "2022-07-11T00:00:00",
          "2022-07-12T00:00:00",
          "2022-07-13T00:00:00",
          "2022-07-14T00:00:00",
          "2022-07-15T00:00:00",
          "2022-07-18T00:00:00",
          "2022-07-19T00:00:00",
          "2022-07-20T00:00:00",
          "2022-07-21T00:00:00",
          "2022-07-22T00:00:00",
          "2022-07-25T00:00:00",
          "2022-07-26T00:00:00",
          "2022-07-27T00:00:00",
          "2022-07-28T00:00:00",
          "2022-07-29T00:00:00",
          "2022-08-01T00:00:00",
          "2022-08-02T00:00:00",
          "2022-08-03T00:00:00",
          "2022-08-04T00:00:00",
          "2022-08-05T00:00:00",
          "2022-08-08T00:00:00",
          "2022-08-09T00:00:00",
          "2022-08-10T00:00:00",
          "2022-08-11T00:00:00",
          "2022-08-12T00:00:00",
          "2022-08-15T00:00:00",
          "2022-08-16T00:00:00",
          "2022-08-17T00:00:00",
          "2022-08-18T00:00:00",
          "2022-08-19T00:00:00",
          "2022-08-22T00:00:00",
          "2022-08-23T00:00:00",
          "2022-08-24T00:00:00",
          "2022-08-25T00:00:00",
          "2022-08-26T00:00:00",
          "2022-08-29T00:00:00",
          "2022-08-30T00:00:00",
          "2022-08-31T00:00:00",
          "2022-09-01T00:00:00",
          "2022-09-02T00:00:00",
          "2022-09-05T00:00:00",
          "2022-09-06T00:00:00",
          "2022-09-08T00:00:00",
          "2022-09-09T00:00:00",
          "2022-09-12T00:00:00",
          "2022-09-13T00:00:00",
          "2022-09-14T00:00:00",
          "2022-09-15T00:00:00",
          "2022-09-16T00:00:00",
          "2022-09-19T00:00:00",
          "2022-09-20T00:00:00",
          "2022-09-21T00:00:00",
          "2022-09-22T00:00:00",
          "2022-09-23T00:00:00",
          "2022-09-26T00:00:00",
          "2022-09-27T00:00:00",
          "2022-09-28T00:00:00",
          "2022-09-29T00:00:00",
          "2022-09-30T00:00:00",
          "2022-10-03T00:00:00",
          "2022-10-04T00:00:00",
          "2022-10-05T00:00:00",
          "2022-10-06T00:00:00",
          "2022-10-07T00:00:00",
          "2022-10-10T00:00:00",
          "2022-10-11T00:00:00",
          "2022-10-13T00:00:00",
          "2022-10-14T00:00:00",
          "2022-10-17T00:00:00",
          "2022-10-18T00:00:00",
          "2022-10-19T00:00:00",
          "2022-10-20T00:00:00",
          "2022-10-21T00:00:00",
          "2022-10-24T00:00:00",
          "2022-10-25T00:00:00",
          "2022-10-26T00:00:00",
          "2022-10-27T00:00:00",
          "2022-10-28T00:00:00",
          "2022-10-31T00:00:00",
          "2022-11-01T00:00:00",
          "2022-11-03T00:00:00",
          "2022-11-04T00:00:00",
          "2022-11-07T00:00:00",
          "2022-11-08T00:00:00",
          "2022-11-09T00:00:00",
          "2022-11-10T00:00:00",
          "2022-11-11T00:00:00",
          "2022-11-14T00:00:00",
          "2022-11-16T00:00:00",
          "2022-11-17T00:00:00",
          "2022-11-18T00:00:00",
          "2022-11-21T00:00:00",
          "2022-11-22T00:00:00",
          "2022-11-23T00:00:00",
          "2022-11-24T00:00:00",
          "2022-11-25T00:00:00",
          "2022-11-28T00:00:00",
          "2022-11-29T00:00:00",
          "2022-11-30T00:00:00",
          "2022-12-01T00:00:00",
          "2022-12-02T00:00:00",
          "2022-12-05T00:00:00",
          "2022-12-06T00:00:00",
          "2022-12-07T00:00:00",
          "2022-12-08T00:00:00",
          "2022-12-09T00:00:00",
          "2022-12-12T00:00:00",
          "2022-12-13T00:00:00",
          "2022-12-14T00:00:00",
          "2022-12-15T00:00:00",
          "2022-12-16T00:00:00",
          "2022-12-19T00:00:00",
          "2022-12-20T00:00:00",
          "2022-12-21T00:00:00",
          "2022-12-22T00:00:00",
          "2022-12-23T00:00:00",
          "2022-12-26T00:00:00",
          "2022-12-27T00:00:00",
          "2022-12-28T00:00:00",
          "2022-12-29T00:00:00"
         ],
         "xaxis": "x",
         "y": [
          0.03910395187214677,
          -0.04525599315154771,
          0.06279507302997289,
          0.29570638377043235,
          0.13670784351490184,
          0.26775581304976415,
          0.17029644541760902,
          0.322525509617825,
          0.06829528823372,
          0.18505220026747482,
          0.0893344476332234,
          0.08290507547898884,
          -0.08993469802228471,
          -0.13838276631454105,
          -0.22782212749949593,
          -0.24027279414829816,
          -0.1379325060387524,
          -0.36073024967839795,
          -0.2655407811455627,
          -0.16277912473767808,
          -0.07720836349060678,
          -0.15085368430139834,
          -0.14348193411476085,
          -0.1653520739468045,
          -0.1771258258298034,
          -0.22925279136780996,
          -0.18511052318784826,
          -0.16477520138322632,
          -0.20019846064039282,
          -0.271197031995836,
          -0.327801638790161,
          -0.5952345791228375,
          -0.45865069970227235,
          -0.43078501348008436,
          -0.5604723687686564,
          -0.6312415944520898,
          -0.64741308679533,
          -0.637563070882682,
          -0.627453522383365,
          -0.5918224465238746,
          -0.5807016590219791,
          -0.7470680886110463,
          -0.7174572664973629,
          -0.6601942555264351,
          -0.6351078361354457,
          -0.6405021683585791,
          -0.6121400272967832,
          -0.606953057465772,
          -0.5646499841108958,
          -0.6304039328164437,
          -0.6075842051292498,
          -0.6380284312991887,
          -0.6668489164537403,
          -0.7222576166573731,
          -0.6933791913278158,
          -0.6819502678178916,
          -0.6798702979892881,
          -0.6372431922310174,
          -0.6407169254248645,
          -0.6619960257262947,
          -0.6291974097940276,
          -0.6212002499235003,
          -0.635429322288465,
          -0.5962248336622493,
          -0.6203827022779924,
          -0.6112302010557765,
          -0.5965192348526278,
          -0.5820658841390625,
          -0.5763526925571341,
          -0.5641513247563916,
          -0.574431032186524,
          -0.6026633470656297,
          -0.6220172049480901,
          -0.5798283756071207,
          -0.5843676899040571,
          -0.6317086672093151,
          -0.57255804379752,
          -0.6175815934545865,
          -0.5988776178018349,
          -0.5937541166942768,
          -0.6699679550164961,
          -0.6339225032304476,
          -0.6467689711700646,
          -0.5935066395430781,
          -0.6132389673167739,
          -0.595859658069588,
          -0.7005077476519176,
          -0.6582401836429523,
          -0.6268675074878365,
          -0.6079908622030081,
          -0.5907653291799371,
          -0.6003218965134876,
          -0.5859191107532224,
          -0.5862855993949866,
          -0.49798071408951317,
          -0.5151540558588855,
          -0.5227097805515002,
          -0.5434602684955208,
          -0.4783988058987144,
          -0.45831194296413647,
          -0.39760781056305405,
          -0.36751383434192175,
          -0.2845538868582811,
          -0.25865472392566535,
          -0.2834428530101172,
          -0.30847581538243984,
          -0.3111626119762063,
          -0.365025839268755,
          -0.33115149970485147,
          -0.2969461396023908,
          -0.32287928318766457,
          -0.381683077389084,
          -0.36650043186222825,
          -0.30983202779911634,
          -0.3404392803079649,
          -0.38106947064281027,
          -0.3226871547336071,
          -0.4374291508199053,
          -0.41317143490432684,
          -0.41285189666243216,
          -0.4668574642800625,
          -0.49261661870114726,
          -0.4272259044165545,
          -0.4658449592307098,
          -0.520815804889964,
          -0.41294241619398253,
          -0.47520982425266767,
          -0.42987377505430135,
          -0.4081122332309113,
          -0.3680176094909775,
          -0.3626933383871449,
          -0.38991046577804167,
          -0.4475862325179697,
          -0.42535709288696244,
          -0.41736307448238175,
          -0.3964061422267656,
          -0.4437650271489717,
          -0.449265405886602,
          -0.47797336242431676,
          -0.3970282582589323,
          -0.41969969768334936,
          -0.5607259002443783,
          -0.5552249400998208,
          -0.5442190158421885,
          -0.6059795957075258,
          -0.5685903418594629,
          -0.534611599950962,
          -0.5276690380057074,
          -0.563839507652929,
          -0.5580093382563907,
          -0.5575824851476163,
          -0.5656862359350534,
          -0.6380541532352588,
          -0.6556852998100676,
          -0.6763341320433056,
          -0.6310510772862751,
          -0.6143254807307581,
          -0.642667250960402,
          -0.5978881600433197,
          -0.5728060393568519,
          -0.6188651068474433,
          -0.5742798721219209,
          -0.6048362592157064,
          -0.660364852423606,
          -0.6305675627160774,
          -0.700965760335578,
          -0.6700670180071924,
          -0.6434686146337849,
          -0.7057074311401649,
          -0.655183690177841,
          -0.7094810346332444,
          -0.6675345661448564,
          -0.6780385965807347,
          -0.6902939782013815,
          -0.695453131580271,
          -0.7168441691023452,
          -0.7520819385846284,
          -0.7269223689550762,
          -0.711329553779689,
          -0.6809115820359293,
          -0.6937190088618492,
          -0.7064536334261939,
          -0.7487812804512421,
          -0.7566160884627644,
          -0.7624601176348849,
          -0.7329167370602045,
          -0.8375844813552966,
          -0.834622937330007,
          -0.828611825480131,
          -0.8333215391293859,
          -0.8003439947986954,
          -0.8182344268077613,
          -0.7971388634833954,
          -0.7958889059713479,
          -0.7850563413776216,
          -0.7868644233391542,
          -0.8370312383140706,
          -0.8467021383961849,
          -0.8856110580770452,
          -0.8981484540869605,
          -0.8798129475051973,
          -0.8953469474781863,
          -0.892066147329953,
          -0.9034545260470207,
          -0.9205298737998954,
          -0.9082534643333539,
          -0.8993778782504444,
          -0.9159348090934086,
          -0.9017896893078682,
          -0.9108912170253296,
          -0.8967131606699884,
          -0.8977525886701967,
          -0.8885328506239094,
          -0.9138614763783303,
          -0.92826344464988,
          -0.9353638958142011,
          -0.9368344794621327,
          -0.9335895755516491,
          -0.9408875775635163,
          -0.9362412099044481,
          -0.934303258355227,
          -0.9279682320928276,
          -0.946571220904254,
          -0.945700278827657,
          -0.9505080669292345,
          -0.957929303026782,
          -0.9478387694772957,
          -0.9413443018739882,
          -0.9372533098027767,
          -0.9315710759655935,
          -0.932709538875896,
          -0.9421735931550251,
          -0.9369465439122893,
          -0.9407803680610192,
          -0.9461334691155425,
          -0.9401772882168655,
          -0.9375641791725802,
          -0.9410938098971756,
          -0.950705965697672,
          -0.9498952605643562,
          -0.9516936940146496,
          -0.9524131666754893,
          -0.9467136203505432,
          -0.9484864526500424,
          -0.9524396814018626,
          -0.9472820965342119,
          -0.9553373185639914,
          -0.9556677863064472,
          -0.9653955400203253,
          -0.9662775821892498,
          -0.9682892863762298,
          -0.9735487759812731,
          -0.9698225260084186,
          -0.9632060348384143,
          -0.9664103279931892,
          -0.9609744891897438,
          -0.9639073910463389,
          -0.9650733884545875,
          -0.9618399821758253,
          -0.9560270047912208,
          -0.9516136223512817,
          -0.958009763645245,
          -0.9491337297957387,
          -0.9421018767615891,
          -0.9337731148252003,
          -0.9401371180609207,
          -0.9334104149394292,
          -0.9338317253473836,
          -0.9430340013249178,
          -0.9450100651665265,
          -0.9481330902961445,
          -0.9510256358324003,
          -0.9506467637253403,
          -0.9488765442240755,
          -0.9453017423891548,
          -0.945223554179919,
          -0.9411536955288022,
          -0.9265585989863163,
          -0.9313918218383281,
          -0.9367216196480471,
          -0.9413837534770505,
          -0.9471260262484796,
          -0.9421275832219596,
          -0.9500802909217885,
          -0.9484701891157559,
          -0.9467555210432506,
          -0.9440278226394089,
          -0.9406716192182214,
          -0.9444490912315013,
          -0.9616656211806077,
          -0.9591016692701697,
          -0.9484502450040374,
          -0.9530168713189903,
          -0.9605911127015326,
          -0.9643179058558473,
          -0.9688284926583527,
          -0.9642442235599784,
          -0.9591364418381305,
          -0.952982421086483,
          -0.9538314961355503,
          -0.948092786960997,
          -0.9461389527601357,
          -0.9357563222382805,
          -0.9341273480489982,
          -0.9342392820788046,
          -0.923495769245053,
          -0.9228759242118159,
          -0.9209173309001125,
          -0.9092686799639361,
          -0.9140575873168844,
          -0.9272090529090589,
          -0.9310161552362451,
          -0.9285703727611456,
          -0.9319045504191554,
          -0.9384939264628563,
          -0.9402514771250322,
          -0.9366825834472158,
          -0.9385044242394929,
          -0.9426854267898799,
          -0.9422265854809754,
          -0.942350019412303,
          -0.950942528246555,
          -0.9505203309957647,
          -0.9613835784951541,
          -0.9593655871578531,
          -0.9587965608873485,
          -0.9666324821520806,
          -0.9715332278717537,
          -0.9729353036529288,
          -0.9668586807809737,
          -0.9751345155547885,
          -0.9765795758671457,
          -0.9802168409093841,
          -0.9796934634197427,
          -0.9785577045383805,
          -0.975066501474784,
          -0.9728454127124776,
          -0.9724824929875632,
          -0.9729247124896391,
          -0.9769059501173151,
          -0.9768251369560136,
          -0.9759901225438056,
          -0.9731315684514237,
          -0.9734553344192912,
          -0.972960951299015,
          -0.9681205957989805,
          -0.9685585337718335,
          -0.9738195226551553,
          -0.9736157140770373,
          -0.9723938160458593,
          -0.971840652425029,
          -0.9748421510343672,
          -0.9762901619433147,
          -0.9772892954468456,
          -0.9805700873026113,
          -0.9819325845622655,
          -0.9850726901545604,
          -0.9881236853267281,
          -0.9885303718356154,
          -0.9878195024133833,
          -0.9903782507614387,
          -0.9887495461311321,
          -0.9885907256552658,
          -0.9880138349034755,
          -0.9878746707786229,
          -0.9879541129246127,
          -0.9869219707639593,
          -0.9870509928082926,
          -0.9873737692749508,
          -0.9875178814814746,
          -0.9878645333107974,
          -0.9884794364802295,
          -0.9873550586881134,
          -0.9865241148510099,
          -0.9841478842020975,
          -0.984028660551934,
          -0.9859159139634943,
          -0.9840515255708486,
          -0.9842071775874999,
          -0.9840142688882134,
          -0.9839983246585585,
          -0.983939870468177,
          -0.9825722566375519,
          -0.9823160266487266,
          -0.9827368909551327,
          -0.9826123852626568,
          -0.9807430497117152,
          -0.9830859397936167,
          -0.9802876751443343,
          -0.9782938856481107,
          -0.977602265836519,
          -0.9759972711275557,
          -0.9751085396449444,
          -0.9717797213148555,
          -0.9634026198731352,
          -0.9642204785730124,
          -0.9586185068285674,
          -0.9604052183105268,
          -0.9545530934372616,
          -0.9617723676166505,
          -0.9499627100083137,
          -0.9420673516576591,
          -0.9399618894438104,
          -0.936050591825432,
          -0.9342397725745679,
          -0.9484973347385794,
          -0.9509445717870152,
          -0.9440663072854514,
          -0.9390569022371601,
          -0.9372722903840671,
          -0.9423837311332312,
          -0.9426702740298563,
          -0.9458946311257812,
          -0.9508477069388617,
          -0.944765893280487,
          -0.9422139255261501,
          -0.9383284704148439,
          -0.950288594765574,
          -0.9474205529899632,
          -0.9442623972805888,
          -0.9331494579144429,
          -0.9419412678212495,
          -0.9440823627326649,
          -0.9493726204793081,
          -0.9494139665325517,
          -0.943438230706802,
          -0.9406624541526585,
          -0.9380118137626645,
          -0.9331194095354909,
          -0.9384822286119672,
          -0.9478024278533662,
          -0.9542709933039949,
          -0.9542243299172357,
          -0.9583944994272802,
          -0.947786660159967,
          -0.9244202875440525,
          -0.9253917271843961,
          -0.9218337422083448,
          -0.9124339438892306,
          -0.918526131124222,
          -0.9150751045127808,
          -0.9196371174885681,
          -0.9245473670333082,
          -0.9409346878839965,
          -0.9339719489116108,
          -0.9255038353922372,
          -0.9223544621062147,
          -0.920878595302854,
          -0.909642417100557,
          -0.9252203647872477,
          -0.9270856973079509,
          -0.9365542722794745,
          -0.921689717447204,
          -0.916076517275685,
          -0.9020727649909347,
          -0.9018849448465998,
          -0.8893447857942255,
          -0.8903226209359153,
          -0.9140126528961502,
          -0.9123984971136954,
          -0.9233990991309883,
          -0.9535455230793558,
          -0.9608405282366178,
          -0.9558375696807001,
          -0.9681512777370929,
          -0.9677566105736836,
          -0.9700600476507575,
          -0.9655244747799809,
          -0.9690832506116477,
          -0.9698307131402656,
          -0.962456934053443,
          -0.9707290169257599,
          -0.97271348620609,
          -0.9696682146143957,
          -0.9656960978401281,
          -0.9729738343175397,
          -0.9703504020700195,
          -0.9756312106391354,
          -0.9740261787045323,
          -0.976430194774228,
          -0.9803316408674221,
          -0.9814055657501717,
          -0.9839078892364683,
          -0.9864098937069951,
          -0.9875352085083631,
          -0.9876155419781324,
          -0.9889455052616913,
          -0.9858145853403449,
          -0.9827210419741784,
          -0.9836502971597372,
          -0.9833082776442833,
          -0.9805366593776151,
          -0.9821465048809226,
          -0.9843014434223721,
          -0.9819704691322086,
          -0.9826438547288979
         ],
         "yaxis": "y"
        }
       ],
       "layout": {
        "legend": {
         "tracegroupgap": 0
        },
        "template": {
         "data": {
          "bar": [
           {
            "error_x": {
             "color": "#2a3f5f"
            },
            "error_y": {
             "color": "#2a3f5f"
            },
            "marker": {
             "line": {
              "color": "#E5ECF6",
              "width": 0.5
             },
             "pattern": {
              "fillmode": "overlay",
              "size": 10,
              "solidity": 0.2
             }
            },
            "type": "bar"
           }
          ],
          "barpolar": [
           {
            "marker": {
             "line": {
              "color": "#E5ECF6",
              "width": 0.5
             },
             "pattern": {
              "fillmode": "overlay",
              "size": 10,
              "solidity": 0.2
             }
            },
            "type": "barpolar"
           }
          ],
          "carpet": [
           {
            "aaxis": {
             "endlinecolor": "#2a3f5f",
             "gridcolor": "white",
             "linecolor": "white",
             "minorgridcolor": "white",
             "startlinecolor": "#2a3f5f"
            },
            "baxis": {
             "endlinecolor": "#2a3f5f",
             "gridcolor": "white",
             "linecolor": "white",
             "minorgridcolor": "white",
             "startlinecolor": "#2a3f5f"
            },
            "type": "carpet"
           }
          ],
          "choropleth": [
           {
            "colorbar": {
             "outlinewidth": 0,
             "ticks": ""
            },
            "type": "choropleth"
           }
          ],
          "contour": [
           {
            "colorbar": {
             "outlinewidth": 0,
             "ticks": ""
            },
            "colorscale": [
             [
              0,
              "#0d0887"
             ],
             [
              0.1111111111111111,
              "#46039f"
             ],
             [
              0.2222222222222222,
              "#7201a8"
             ],
             [
              0.3333333333333333,
              "#9c179e"
             ],
             [
              0.4444444444444444,
              "#bd3786"
             ],
             [
              0.5555555555555556,
              "#d8576b"
             ],
             [
              0.6666666666666666,
              "#ed7953"
             ],
             [
              0.7777777777777778,
              "#fb9f3a"
             ],
             [
              0.8888888888888888,
              "#fdca26"
             ],
             [
              1,
              "#f0f921"
             ]
            ],
            "type": "contour"
           }
          ],
          "contourcarpet": [
           {
            "colorbar": {
             "outlinewidth": 0,
             "ticks": ""
            },
            "type": "contourcarpet"
           }
          ],
          "heatmap": [
           {
            "colorbar": {
             "outlinewidth": 0,
             "ticks": ""
            },
            "colorscale": [
             [
              0,
              "#0d0887"
             ],
             [
              0.1111111111111111,
              "#46039f"
             ],
             [
              0.2222222222222222,
              "#7201a8"
             ],
             [
              0.3333333333333333,
              "#9c179e"
             ],
             [
              0.4444444444444444,
              "#bd3786"
             ],
             [
              0.5555555555555556,
              "#d8576b"
             ],
             [
              0.6666666666666666,
              "#ed7953"
             ],
             [
              0.7777777777777778,
              "#fb9f3a"
             ],
             [
              0.8888888888888888,
              "#fdca26"
             ],
             [
              1,
              "#f0f921"
             ]
            ],
            "type": "heatmap"
           }
          ],
          "heatmapgl": [
           {
            "colorbar": {
             "outlinewidth": 0,
             "ticks": ""
            },
            "colorscale": [
             [
              0,
              "#0d0887"
             ],
             [
              0.1111111111111111,
              "#46039f"
             ],
             [
              0.2222222222222222,
              "#7201a8"
             ],
             [
              0.3333333333333333,
              "#9c179e"
             ],
             [
              0.4444444444444444,
              "#bd3786"
             ],
             [
              0.5555555555555556,
              "#d8576b"
             ],
             [
              0.6666666666666666,
              "#ed7953"
             ],
             [
              0.7777777777777778,
              "#fb9f3a"
             ],
             [
              0.8888888888888888,
              "#fdca26"
             ],
             [
              1,
              "#f0f921"
             ]
            ],
            "type": "heatmapgl"
           }
          ],
          "histogram": [
           {
            "marker": {
             "pattern": {
              "fillmode": "overlay",
              "size": 10,
              "solidity": 0.2
             }
            },
            "type": "histogram"
           }
          ],
          "histogram2d": [
           {
            "colorbar": {
             "outlinewidth": 0,
             "ticks": ""
            },
            "colorscale": [
             [
              0,
              "#0d0887"
             ],
             [
              0.1111111111111111,
              "#46039f"
             ],
             [
              0.2222222222222222,
              "#7201a8"
             ],
             [
              0.3333333333333333,
              "#9c179e"
             ],
             [
              0.4444444444444444,
              "#bd3786"
             ],
             [
              0.5555555555555556,
              "#d8576b"
             ],
             [
              0.6666666666666666,
              "#ed7953"
             ],
             [
              0.7777777777777778,
              "#fb9f3a"
             ],
             [
              0.8888888888888888,
              "#fdca26"
             ],
             [
              1,
              "#f0f921"
             ]
            ],
            "type": "histogram2d"
           }
          ],
          "histogram2dcontour": [
           {
            "colorbar": {
             "outlinewidth": 0,
             "ticks": ""
            },
            "colorscale": [
             [
              0,
              "#0d0887"
             ],
             [
              0.1111111111111111,
              "#46039f"
             ],
             [
              0.2222222222222222,
              "#7201a8"
             ],
             [
              0.3333333333333333,
              "#9c179e"
             ],
             [
              0.4444444444444444,
              "#bd3786"
             ],
             [
              0.5555555555555556,
              "#d8576b"
             ],
             [
              0.6666666666666666,
              "#ed7953"
             ],
             [
              0.7777777777777778,
              "#fb9f3a"
             ],
             [
              0.8888888888888888,
              "#fdca26"
             ],
             [
              1,
              "#f0f921"
             ]
            ],
            "type": "histogram2dcontour"
           }
          ],
          "mesh3d": [
           {
            "colorbar": {
             "outlinewidth": 0,
             "ticks": ""
            },
            "type": "mesh3d"
           }
          ],
          "parcoords": [
           {
            "line": {
             "colorbar": {
              "outlinewidth": 0,
              "ticks": ""
             }
            },
            "type": "parcoords"
           }
          ],
          "pie": [
           {
            "automargin": true,
            "type": "pie"
           }
          ],
          "scatter": [
           {
            "fillpattern": {
             "fillmode": "overlay",
             "size": 10,
             "solidity": 0.2
            },
            "type": "scatter"
           }
          ],
          "scatter3d": [
           {
            "line": {
             "colorbar": {
              "outlinewidth": 0,
              "ticks": ""
             }
            },
            "marker": {
             "colorbar": {
              "outlinewidth": 0,
              "ticks": ""
             }
            },
            "type": "scatter3d"
           }
          ],
          "scattercarpet": [
           {
            "marker": {
             "colorbar": {
              "outlinewidth": 0,
              "ticks": ""
             }
            },
            "type": "scattercarpet"
           }
          ],
          "scattergeo": [
           {
            "marker": {
             "colorbar": {
              "outlinewidth": 0,
              "ticks": ""
             }
            },
            "type": "scattergeo"
           }
          ],
          "scattergl": [
           {
            "marker": {
             "colorbar": {
              "outlinewidth": 0,
              "ticks": ""
             }
            },
            "type": "scattergl"
           }
          ],
          "scattermapbox": [
           {
            "marker": {
             "colorbar": {
              "outlinewidth": 0,
              "ticks": ""
             }
            },
            "type": "scattermapbox"
           }
          ],
          "scatterpolar": [
           {
            "marker": {
             "colorbar": {
              "outlinewidth": 0,
              "ticks": ""
             }
            },
            "type": "scatterpolar"
           }
          ],
          "scatterpolargl": [
           {
            "marker": {
             "colorbar": {
              "outlinewidth": 0,
              "ticks": ""
             }
            },
            "type": "scatterpolargl"
           }
          ],
          "scatterternary": [
           {
            "marker": {
             "colorbar": {
              "outlinewidth": 0,
              "ticks": ""
             }
            },
            "type": "scatterternary"
           }
          ],
          "surface": [
           {
            "colorbar": {
             "outlinewidth": 0,
             "ticks": ""
            },
            "colorscale": [
             [
              0,
              "#0d0887"
             ],
             [
              0.1111111111111111,
              "#46039f"
             ],
             [
              0.2222222222222222,
              "#7201a8"
             ],
             [
              0.3333333333333333,
              "#9c179e"
             ],
             [
              0.4444444444444444,
              "#bd3786"
             ],
             [
              0.5555555555555556,
              "#d8576b"
             ],
             [
              0.6666666666666666,
              "#ed7953"
             ],
             [
              0.7777777777777778,
              "#fb9f3a"
             ],
             [
              0.8888888888888888,
              "#fdca26"
             ],
             [
              1,
              "#f0f921"
             ]
            ],
            "type": "surface"
           }
          ],
          "table": [
           {
            "cells": {
             "fill": {
              "color": "#EBF0F8"
             },
             "line": {
              "color": "white"
             }
            },
            "header": {
             "fill": {
              "color": "#C8D4E3"
             },
             "line": {
              "color": "white"
             }
            },
            "type": "table"
           }
          ]
         },
         "layout": {
          "annotationdefaults": {
           "arrowcolor": "#2a3f5f",
           "arrowhead": 0,
           "arrowwidth": 1
          },
          "autotypenumbers": "strict",
          "coloraxis": {
           "colorbar": {
            "outlinewidth": 0,
            "ticks": ""
           }
          },
          "colorscale": {
           "diverging": [
            [
             0,
             "#8e0152"
            ],
            [
             0.1,
             "#c51b7d"
            ],
            [
             0.2,
             "#de77ae"
            ],
            [
             0.3,
             "#f1b6da"
            ],
            [
             0.4,
             "#fde0ef"
            ],
            [
             0.5,
             "#f7f7f7"
            ],
            [
             0.6,
             "#e6f5d0"
            ],
            [
             0.7,
             "#b8e186"
            ],
            [
             0.8,
             "#7fbc41"
            ],
            [
             0.9,
             "#4d9221"
            ],
            [
             1,
             "#276419"
            ]
           ],
           "sequential": [
            [
             0,
             "#0d0887"
            ],
            [
             0.1111111111111111,
             "#46039f"
            ],
            [
             0.2222222222222222,
             "#7201a8"
            ],
            [
             0.3333333333333333,
             "#9c179e"
            ],
            [
             0.4444444444444444,
             "#bd3786"
            ],
            [
             0.5555555555555556,
             "#d8576b"
            ],
            [
             0.6666666666666666,
             "#ed7953"
            ],
            [
             0.7777777777777778,
             "#fb9f3a"
            ],
            [
             0.8888888888888888,
             "#fdca26"
            ],
            [
             1,
             "#f0f921"
            ]
           ],
           "sequentialminus": [
            [
             0,
             "#0d0887"
            ],
            [
             0.1111111111111111,
             "#46039f"
            ],
            [
             0.2222222222222222,
             "#7201a8"
            ],
            [
             0.3333333333333333,
             "#9c179e"
            ],
            [
             0.4444444444444444,
             "#bd3786"
            ],
            [
             0.5555555555555556,
             "#d8576b"
            ],
            [
             0.6666666666666666,
             "#ed7953"
            ],
            [
             0.7777777777777778,
             "#fb9f3a"
            ],
            [
             0.8888888888888888,
             "#fdca26"
            ],
            [
             1,
             "#f0f921"
            ]
           ]
          },
          "colorway": [
           "#636efa",
           "#EF553B",
           "#00cc96",
           "#ab63fa",
           "#FFA15A",
           "#19d3f3",
           "#FF6692",
           "#B6E880",
           "#FF97FF",
           "#FECB52"
          ],
          "font": {
           "color": "#2a3f5f"
          },
          "geo": {
           "bgcolor": "white",
           "lakecolor": "white",
           "landcolor": "#E5ECF6",
           "showlakes": true,
           "showland": true,
           "subunitcolor": "white"
          },
          "hoverlabel": {
           "align": "left"
          },
          "hovermode": "closest",
          "mapbox": {
           "style": "light"
          },
          "paper_bgcolor": "white",
          "plot_bgcolor": "#E5ECF6",
          "polar": {
           "angularaxis": {
            "gridcolor": "white",
            "linecolor": "white",
            "ticks": ""
           },
           "bgcolor": "#E5ECF6",
           "radialaxis": {
            "gridcolor": "white",
            "linecolor": "white",
            "ticks": ""
           }
          },
          "scene": {
           "xaxis": {
            "backgroundcolor": "#E5ECF6",
            "gridcolor": "white",
            "gridwidth": 2,
            "linecolor": "white",
            "showbackground": true,
            "ticks": "",
            "zerolinecolor": "white"
           },
           "yaxis": {
            "backgroundcolor": "#E5ECF6",
            "gridcolor": "white",
            "gridwidth": 2,
            "linecolor": "white",
            "showbackground": true,
            "ticks": "",
            "zerolinecolor": "white"
           },
           "zaxis": {
            "backgroundcolor": "#E5ECF6",
            "gridcolor": "white",
            "gridwidth": 2,
            "linecolor": "white",
            "showbackground": true,
            "ticks": "",
            "zerolinecolor": "white"
           }
          },
          "shapedefaults": {
           "line": {
            "color": "#2a3f5f"
           }
          },
          "ternary": {
           "aaxis": {
            "gridcolor": "white",
            "linecolor": "white",
            "ticks": ""
           },
           "baxis": {
            "gridcolor": "white",
            "linecolor": "white",
            "ticks": ""
           },
           "bgcolor": "#E5ECF6",
           "caxis": {
            "gridcolor": "white",
            "linecolor": "white",
            "ticks": ""
           }
          },
          "title": {
           "x": 0.05
          },
          "xaxis": {
           "automargin": true,
           "gridcolor": "white",
           "linecolor": "white",
           "ticks": "",
           "title": {
            "standoff": 15
           },
           "zerolinecolor": "white",
           "zerolinewidth": 2
          },
          "yaxis": {
           "automargin": true,
           "gridcolor": "white",
           "linecolor": "white",
           "ticks": "",
           "title": {
            "standoff": 15
           },
           "zerolinecolor": "white",
           "zerolinewidth": 2
          }
         }
        },
        "title": {
         "text": "Estratégia sem otimização"
        },
        "xaxis": {
         "anchor": "y",
         "domain": [
          0,
          1
         ],
         "title": {
          "text": "Date"
         }
        },
        "yaxis": {
         "anchor": "x",
         "domain": [
          0,
          1
         ],
         "title": {
          "text": "y"
         }
        }
       }
      }
     },
     "metadata": {},
     "output_type": "display_data"
    }
   ],
   "source": [
    "vanilla_portfolio = returns.sum(axis=1)\n",
    "vanilla_portfolio = vanilla_portfolio + 1\n",
    "vanilla_portfolio = vanilla_portfolio.cumprod() - 1\n",
    "px.line(vanilla_portfolio, title='Estratégia sem otimização', x=vanilla_portfolio.index, y=vanilla_portfolio.values)"
   ]
  }
 ],
 "metadata": {
  "kernelspec": {
   "display_name": "Python 3",
   "language": "python",
   "name": "python3"
  },
  "language_info": {
   "codemirror_mode": {
    "name": "ipython",
    "version": 3
   },
   "file_extension": ".py",
   "mimetype": "text/x-python",
   "name": "python",
   "nbconvert_exporter": "python",
   "pygments_lexer": "ipython3",
   "version": "3.10.7"
  },
  "orig_nbformat": 4
 },
 "nbformat": 4,
 "nbformat_minor": 2
}
