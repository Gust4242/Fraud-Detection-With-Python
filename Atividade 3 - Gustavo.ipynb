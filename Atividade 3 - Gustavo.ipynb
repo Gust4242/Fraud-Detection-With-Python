{
 "cells": [
  {
   "cell_type": "code",
   "execution_count": 159,
   "metadata": {},
   "outputs": [],
   "source": [
    "import numpy as np\n",
    "import pandas as pd\n",
    "import matplotlib.pyplot as plt\n",
    "import seaborn as sns\n",
    "import plotly.graph_objects as go\n",
    "import plotly.express as px\n",
    "import yfinance as yf\n",
    "import pygad\n",
    "import random\n",
    "\n",
    "from deap import algorithms, base, creator, tools"
   ]
  },
  {
   "cell_type": "code",
   "execution_count": 160,
   "metadata": {},
   "outputs": [
    {
     "name": "stdout",
     "output_type": "stream",
     "text": [
      "[*********************100%***********************]  11 of 11 completed\n"
     ]
    },
    {
     "data": {
      "text/html": [
       "<div>\n",
       "<style scoped>\n",
       "    .dataframe tbody tr th:only-of-type {\n",
       "        vertical-align: middle;\n",
       "    }\n",
       "\n",
       "    .dataframe tbody tr th {\n",
       "        vertical-align: top;\n",
       "    }\n",
       "\n",
       "    .dataframe thead th {\n",
       "        text-align: right;\n",
       "    }\n",
       "</style>\n",
       "<table border=\"1\" class=\"dataframe\">\n",
       "  <thead>\n",
       "    <tr style=\"text-align: right;\">\n",
       "      <th></th>\n",
       "      <th>ABEV3.SA</th>\n",
       "      <th>ATOM3.SA</th>\n",
       "      <th>ELET6.SA</th>\n",
       "      <th>ITUB4.SA</th>\n",
       "      <th>PETR4.SA</th>\n",
       "      <th>RDOR3.SA</th>\n",
       "      <th>RENT3.SA</th>\n",
       "      <th>TOTS3.SA</th>\n",
       "      <th>VALE3.SA</th>\n",
       "      <th>VIVT3.SA</th>\n",
       "      <th>WEGE3.SA</th>\n",
       "    </tr>\n",
       "    <tr>\n",
       "      <th>Date</th>\n",
       "      <th></th>\n",
       "      <th></th>\n",
       "      <th></th>\n",
       "      <th></th>\n",
       "      <th></th>\n",
       "      <th></th>\n",
       "      <th></th>\n",
       "      <th></th>\n",
       "      <th></th>\n",
       "      <th></th>\n",
       "      <th></th>\n",
       "    </tr>\n",
       "  </thead>\n",
       "  <tbody>\n",
       "    <tr>\n",
       "      <th>2021-01-04</th>\n",
       "      <td>14.085717</td>\n",
       "      <td>2.405986</td>\n",
       "      <td>30.883389</td>\n",
       "      <td>27.947105</td>\n",
       "      <td>11.470778</td>\n",
       "      <td>63.675331</td>\n",
       "      <td>64.907990</td>\n",
       "      <td>27.178003</td>\n",
       "      <td>69.413048</td>\n",
       "      <td>38.887135</td>\n",
       "      <td>35.927429</td>\n",
       "    </tr>\n",
       "    <tr>\n",
       "      <th>2021-01-05</th>\n",
       "      <td>14.385996</td>\n",
       "      <td>2.472819</td>\n",
       "      <td>29.996128</td>\n",
       "      <td>27.766218</td>\n",
       "      <td>11.919136</td>\n",
       "      <td>62.931980</td>\n",
       "      <td>64.524940</td>\n",
       "      <td>27.050726</td>\n",
       "      <td>70.581818</td>\n",
       "      <td>38.556999</td>\n",
       "      <td>38.132572</td>\n",
       "    </tr>\n",
       "    <tr>\n",
       "      <th>2021-01-06</th>\n",
       "      <td>14.677172</td>\n",
       "      <td>2.502522</td>\n",
       "      <td>29.825504</td>\n",
       "      <td>28.580206</td>\n",
       "      <td>11.942942</td>\n",
       "      <td>60.321899</td>\n",
       "      <td>60.809353</td>\n",
       "      <td>25.768194</td>\n",
       "      <td>72.896591</td>\n",
       "      <td>38.125290</td>\n",
       "      <td>39.143665</td>\n",
       "    </tr>\n",
       "    <tr>\n",
       "      <th>2021-01-07</th>\n",
       "      <td>14.604378</td>\n",
       "      <td>2.443115</td>\n",
       "      <td>29.262436</td>\n",
       "      <td>29.692667</td>\n",
       "      <td>12.300040</td>\n",
       "      <td>58.920189</td>\n",
       "      <td>63.691807</td>\n",
       "      <td>25.699661</td>\n",
       "      <td>77.655182</td>\n",
       "      <td>37.160313</td>\n",
       "      <td>40.761410</td>\n",
       "    </tr>\n",
       "    <tr>\n",
       "      <th>2021-01-08</th>\n",
       "      <td>15.041145</td>\n",
       "      <td>2.517374</td>\n",
       "      <td>30.115568</td>\n",
       "      <td>29.683630</td>\n",
       "      <td>12.347653</td>\n",
       "      <td>60.157562</td>\n",
       "      <td>67.991547</td>\n",
       "      <td>27.412971</td>\n",
       "      <td>77.412315</td>\n",
       "      <td>38.133766</td>\n",
       "      <td>43.226540</td>\n",
       "    </tr>\n",
       "    <tr>\n",
       "      <th>...</th>\n",
       "      <td>...</td>\n",
       "      <td>...</td>\n",
       "      <td>...</td>\n",
       "      <td>...</td>\n",
       "      <td>...</td>\n",
       "      <td>...</td>\n",
       "      <td>...</td>\n",
       "      <td>...</td>\n",
       "      <td>...</td>\n",
       "      <td>...</td>\n",
       "      <td>...</td>\n",
       "    </tr>\n",
       "    <tr>\n",
       "      <th>2022-12-23</th>\n",
       "      <td>14.620000</td>\n",
       "      <td>2.189443</td>\n",
       "      <td>42.900005</td>\n",
       "      <td>24.558760</td>\n",
       "      <td>20.983213</td>\n",
       "      <td>29.200001</td>\n",
       "      <td>55.279930</td>\n",
       "      <td>28.134451</td>\n",
       "      <td>84.465065</td>\n",
       "      <td>36.565914</td>\n",
       "      <td>38.168091</td>\n",
       "    </tr>\n",
       "    <tr>\n",
       "      <th>2022-12-26</th>\n",
       "      <td>14.520000</td>\n",
       "      <td>2.180470</td>\n",
       "      <td>42.582867</td>\n",
       "      <td>24.071287</td>\n",
       "      <td>20.832857</td>\n",
       "      <td>29.840000</td>\n",
       "      <td>53.768250</td>\n",
       "      <td>26.844334</td>\n",
       "      <td>85.238083</td>\n",
       "      <td>35.710243</td>\n",
       "      <td>37.860764</td>\n",
       "    </tr>\n",
       "    <tr>\n",
       "      <th>2022-12-27</th>\n",
       "      <td>14.520000</td>\n",
       "      <td>2.126631</td>\n",
       "      <td>41.621845</td>\n",
       "      <td>23.934793</td>\n",
       "      <td>20.974861</td>\n",
       "      <td>30.059999</td>\n",
       "      <td>51.762566</td>\n",
       "      <td>26.556540</td>\n",
       "      <td>87.273392</td>\n",
       "      <td>35.567627</td>\n",
       "      <td>37.682316</td>\n",
       "    </tr>\n",
       "    <tr>\n",
       "      <th>2022-12-28</th>\n",
       "      <td>14.550000</td>\n",
       "      <td>2.207389</td>\n",
       "      <td>42.131187</td>\n",
       "      <td>24.422264</td>\n",
       "      <td>20.715912</td>\n",
       "      <td>30.230000</td>\n",
       "      <td>53.639812</td>\n",
       "      <td>27.687872</td>\n",
       "      <td>87.077682</td>\n",
       "      <td>36.004971</td>\n",
       "      <td>38.366367</td>\n",
       "    </tr>\n",
       "    <tr>\n",
       "      <th>2022-12-29</th>\n",
       "      <td>14.520000</td>\n",
       "      <td>2.225335</td>\n",
       "      <td>41.544964</td>\n",
       "      <td>24.373516</td>\n",
       "      <td>20.465315</td>\n",
       "      <td>29.580000</td>\n",
       "      <td>52.562866</td>\n",
       "      <td>27.410002</td>\n",
       "      <td>86.970047</td>\n",
       "      <td>36.461330</td>\n",
       "      <td>38.178005</td>\n",
       "    </tr>\n",
       "  </tbody>\n",
       "</table>\n",
       "<p>497 rows × 11 columns</p>\n",
       "</div>"
      ],
      "text/plain": [
       "             ABEV3.SA  ATOM3.SA   ELET6.SA   ITUB4.SA   PETR4.SA   RDOR3.SA  \\\n",
       "Date                                                                          \n",
       "2021-01-04  14.085717  2.405986  30.883389  27.947105  11.470778  63.675331   \n",
       "2021-01-05  14.385996  2.472819  29.996128  27.766218  11.919136  62.931980   \n",
       "2021-01-06  14.677172  2.502522  29.825504  28.580206  11.942942  60.321899   \n",
       "2021-01-07  14.604378  2.443115  29.262436  29.692667  12.300040  58.920189   \n",
       "2021-01-08  15.041145  2.517374  30.115568  29.683630  12.347653  60.157562   \n",
       "...               ...       ...        ...        ...        ...        ...   \n",
       "2022-12-23  14.620000  2.189443  42.900005  24.558760  20.983213  29.200001   \n",
       "2022-12-26  14.520000  2.180470  42.582867  24.071287  20.832857  29.840000   \n",
       "2022-12-27  14.520000  2.126631  41.621845  23.934793  20.974861  30.059999   \n",
       "2022-12-28  14.550000  2.207389  42.131187  24.422264  20.715912  30.230000   \n",
       "2022-12-29  14.520000  2.225335  41.544964  24.373516  20.465315  29.580000   \n",
       "\n",
       "             RENT3.SA   TOTS3.SA   VALE3.SA   VIVT3.SA   WEGE3.SA  \n",
       "Date                                                               \n",
       "2021-01-04  64.907990  27.178003  69.413048  38.887135  35.927429  \n",
       "2021-01-05  64.524940  27.050726  70.581818  38.556999  38.132572  \n",
       "2021-01-06  60.809353  25.768194  72.896591  38.125290  39.143665  \n",
       "2021-01-07  63.691807  25.699661  77.655182  37.160313  40.761410  \n",
       "2021-01-08  67.991547  27.412971  77.412315  38.133766  43.226540  \n",
       "...               ...        ...        ...        ...        ...  \n",
       "2022-12-23  55.279930  28.134451  84.465065  36.565914  38.168091  \n",
       "2022-12-26  53.768250  26.844334  85.238083  35.710243  37.860764  \n",
       "2022-12-27  51.762566  26.556540  87.273392  35.567627  37.682316  \n",
       "2022-12-28  53.639812  27.687872  87.077682  36.004971  38.366367  \n",
       "2022-12-29  52.562866  27.410002  86.970047  36.461330  38.178005  \n",
       "\n",
       "[497 rows x 11 columns]"
      ]
     },
     "execution_count": 160,
     "metadata": {},
     "output_type": "execute_result"
    }
   ],
   "source": [
    "#stocks = ['ITUB4.SA', 'RENT3.SA', 'PETR4.SA', 'WEGE3.SA', 'RADL3.SA', 'MGLU3.SA', 'ELET6.SA']\n",
    "stocks = ['WEGE3.SA', 'VIVT3.SA', 'RENT3.SA', 'ABEV3.SA', 'ITUB4.SA', 'VALE3.SA', 'ATOM3.SA', 'PETR4.SA', 'RDOR3.SA', 'TOTS3.SA', 'ELET6.SA']\n",
    "data = yf.download(stocks, start='2021-01-01', end='2022-12-31')['Adj Close']\n",
    "\n",
    "data"
   ]
  },
  {
   "cell_type": "code",
   "execution_count": 161,
   "metadata": {},
   "outputs": [
    {
     "data": {
      "image/png": "[encoded data removed]",
      "text/plain": [
       "<Figure size 640x480 with 1 Axes>"
      ]
     },
     "metadata": {},
     "output_type": "display_data"
    }
   ],
   "source": [
    "sns.lineplot(data = data)\n",
    "plt.xticks(rotation = 45)\n",
    "plt.xlabel('Data')\n",
    "plt.ylabel('Valor')\n",
    "plt.title('Valores diários de fechamento')\n",
    "plt.show()"
   ]
  },
  {
   "cell_type": "code",
   "execution_count": 162,
   "metadata": {},
   "outputs": [
    {
     "data": {
      "text/html": [
       "<div>\n",
       "<style scoped>\n",
       "    .dataframe tbody tr th:only-of-type {\n",
       "        vertical-align: middle;\n",
       "    }\n",
       "\n",
       "    .dataframe tbody tr th {\n",
       "        vertical-align: top;\n",
       "    }\n",
       "\n",
       "    .dataframe thead th {\n",
       "        text-align: right;\n",
       "    }\n",
       "</style>\n",
       "<table border=\"1\" class=\"dataframe\">\n",
       "  <thead>\n",
       "    <tr style=\"text-align: right;\">\n",
       "      <th></th>\n",
       "      <th>ABEV3.SA</th>\n",
       "      <th>ATOM3.SA</th>\n",
       "      <th>ELET6.SA</th>\n",
       "      <th>ITUB4.SA</th>\n",
       "      <th>PETR4.SA</th>\n",
       "      <th>RDOR3.SA</th>\n",
       "      <th>RENT3.SA</th>\n",
       "      <th>TOTS3.SA</th>\n",
       "      <th>VALE3.SA</th>\n",
       "      <th>VIVT3.SA</th>\n",
       "      <th>WEGE3.SA</th>\n",
       "    </tr>\n",
       "    <tr>\n",
       "      <th>Date</th>\n",
       "      <th></th>\n",
       "      <th></th>\n",
       "      <th></th>\n",
       "      <th></th>\n",
       "      <th></th>\n",
       "      <th></th>\n",
       "      <th></th>\n",
       "      <th></th>\n",
       "      <th></th>\n",
       "      <th></th>\n",
       "      <th></th>\n",
       "    </tr>\n",
       "  </thead>\n",
       "  <tbody>\n",
       "    <tr>\n",
       "      <th>2021-01-05</th>\n",
       "      <td>0.021318</td>\n",
       "      <td>0.027778</td>\n",
       "      <td>-0.028729</td>\n",
       "      <td>-0.006472</td>\n",
       "      <td>0.039087</td>\n",
       "      <td>-0.011674</td>\n",
       "      <td>-0.005901</td>\n",
       "      <td>-0.004683</td>\n",
       "      <td>0.016838</td>\n",
       "      <td>-0.008490</td>\n",
       "      <td>0.061378</td>\n",
       "    </tr>\n",
       "    <tr>\n",
       "      <th>2021-01-06</th>\n",
       "      <td>0.020240</td>\n",
       "      <td>0.012012</td>\n",
       "      <td>-0.005688</td>\n",
       "      <td>0.029316</td>\n",
       "      <td>0.001997</td>\n",
       "      <td>-0.041475</td>\n",
       "      <td>-0.057584</td>\n",
       "      <td>-0.047412</td>\n",
       "      <td>0.032796</td>\n",
       "      <td>-0.011197</td>\n",
       "      <td>0.026515</td>\n",
       "    </tr>\n",
       "    <tr>\n",
       "      <th>2021-01-07</th>\n",
       "      <td>-0.004960</td>\n",
       "      <td>-0.023739</td>\n",
       "      <td>-0.018879</td>\n",
       "      <td>0.038924</td>\n",
       "      <td>0.029900</td>\n",
       "      <td>-0.023237</td>\n",
       "      <td>0.047401</td>\n",
       "      <td>-0.002660</td>\n",
       "      <td>0.065279</td>\n",
       "      <td>-0.025311</td>\n",
       "      <td>0.041328</td>\n",
       "    </tr>\n",
       "    <tr>\n",
       "      <th>2021-01-08</th>\n",
       "      <td>0.029907</td>\n",
       "      <td>0.030395</td>\n",
       "      <td>0.029155</td>\n",
       "      <td>-0.000304</td>\n",
       "      <td>0.003871</td>\n",
       "      <td>0.021001</td>\n",
       "      <td>0.067509</td>\n",
       "      <td>0.066667</td>\n",
       "      <td>-0.003127</td>\n",
       "      <td>0.026196</td>\n",
       "      <td>0.060477</td>\n",
       "    </tr>\n",
       "    <tr>\n",
       "      <th>2021-01-11</th>\n",
       "      <td>-0.026013</td>\n",
       "      <td>0.026549</td>\n",
       "      <td>-0.021813</td>\n",
       "      <td>-0.022547</td>\n",
       "      <td>-0.008355</td>\n",
       "      <td>-0.015909</td>\n",
       "      <td>-0.019437</td>\n",
       "      <td>-0.001786</td>\n",
       "      <td>-0.000196</td>\n",
       "      <td>-0.011321</td>\n",
       "      <td>-0.030630</td>\n",
       "    </tr>\n",
       "    <tr>\n",
       "      <th>...</th>\n",
       "      <td>...</td>\n",
       "      <td>...</td>\n",
       "      <td>...</td>\n",
       "      <td>...</td>\n",
       "      <td>...</td>\n",
       "      <td>...</td>\n",
       "      <td>...</td>\n",
       "      <td>...</td>\n",
       "      <td>...</td>\n",
       "      <td>...</td>\n",
       "      <td>...</td>\n",
       "    </tr>\n",
       "    <tr>\n",
       "      <th>2022-12-23</th>\n",
       "      <td>0.013870</td>\n",
       "      <td>0.074890</td>\n",
       "      <td>0.015931</td>\n",
       "      <td>0.015726</td>\n",
       "      <td>0.047103</td>\n",
       "      <td>0.035094</td>\n",
       "      <td>0.054665</td>\n",
       "      <td>0.014674</td>\n",
       "      <td>0.006647</td>\n",
       "      <td>0.012105</td>\n",
       "      <td>-0.011299</td>\n",
       "    </tr>\n",
       "    <tr>\n",
       "      <th>2022-12-26</th>\n",
       "      <td>-0.006840</td>\n",
       "      <td>-0.004098</td>\n",
       "      <td>-0.007393</td>\n",
       "      <td>-0.019849</td>\n",
       "      <td>-0.007166</td>\n",
       "      <td>0.021918</td>\n",
       "      <td>-0.027346</td>\n",
       "      <td>-0.045855</td>\n",
       "      <td>0.009152</td>\n",
       "      <td>-0.023401</td>\n",
       "      <td>-0.008052</td>\n",
       "    </tr>\n",
       "    <tr>\n",
       "      <th>2022-12-27</th>\n",
       "      <td>0.000000</td>\n",
       "      <td>-0.024691</td>\n",
       "      <td>-0.022568</td>\n",
       "      <td>-0.005670</td>\n",
       "      <td>0.006816</td>\n",
       "      <td>0.007373</td>\n",
       "      <td>-0.037302</td>\n",
       "      <td>-0.010721</td>\n",
       "      <td>0.023878</td>\n",
       "      <td>-0.003994</td>\n",
       "      <td>-0.004713</td>\n",
       "    </tr>\n",
       "    <tr>\n",
       "      <th>2022-12-28</th>\n",
       "      <td>0.002066</td>\n",
       "      <td>0.037975</td>\n",
       "      <td>0.012237</td>\n",
       "      <td>0.020367</td>\n",
       "      <td>-0.012346</td>\n",
       "      <td>0.005655</td>\n",
       "      <td>0.036266</td>\n",
       "      <td>0.042601</td>\n",
       "      <td>-0.002242</td>\n",
       "      <td>0.012296</td>\n",
       "      <td>0.018153</td>\n",
       "    </tr>\n",
       "    <tr>\n",
       "      <th>2022-12-29</th>\n",
       "      <td>-0.002062</td>\n",
       "      <td>0.008130</td>\n",
       "      <td>-0.013914</td>\n",
       "      <td>-0.001996</td>\n",
       "      <td>-0.012097</td>\n",
       "      <td>-0.021502</td>\n",
       "      <td>-0.020077</td>\n",
       "      <td>-0.010036</td>\n",
       "      <td>-0.001236</td>\n",
       "      <td>0.012675</td>\n",
       "      <td>-0.004910</td>\n",
       "    </tr>\n",
       "  </tbody>\n",
       "</table>\n",
       "<p>496 rows × 11 columns</p>\n",
       "</div>"
      ],
      "text/plain": [
       "            ABEV3.SA  ATOM3.SA  ELET6.SA  ITUB4.SA  PETR4.SA  RDOR3.SA  \\\n",
       "Date                                                                     \n",
       "2021-01-05  0.021318  0.027778 -0.028729 -0.006472  0.039087 -0.011674   \n",
       "2021-01-06  0.020240  0.012012 -0.005688  0.029316  0.001997 -0.041475   \n",
       "2021-01-07 -0.004960 -0.023739 -0.018879  0.038924  0.029900 -0.023237   \n",
       "2021-01-08  0.029907  0.030395  0.029155 -0.000304  0.003871  0.021001   \n",
       "2021-01-11 -0.026013  0.026549 -0.021813 -0.022547 -0.008355 -0.015909   \n",
       "...              ...       ...       ...       ...       ...       ...   \n",
       "2022-12-23  0.013870  0.074890  0.015931  0.015726  0.047103  0.035094   \n",
       "2022-12-26 -0.006840 -0.004098 -0.007393 -0.019849 -0.007166  0.021918   \n",
       "2022-12-27  0.000000 -0.024691 -0.022568 -0.005670  0.006816  0.007373   \n",
       "2022-12-28  0.002066  0.037975  0.012237  0.020367 -0.012346  0.005655   \n",
       "2022-12-29 -0.002062  0.008130 -0.013914 -0.001996 -0.012097 -0.021502   \n",
       "\n",
       "            RENT3.SA  TOTS3.SA  VALE3.SA  VIVT3.SA  WEGE3.SA  \n",
       "Date                                                          \n",
       "2021-01-05 -0.005901 -0.004683  0.016838 -0.008490  0.061378  \n",
       "2021-01-06 -0.057584 -0.047412  0.032796 -0.011197  0.026515  \n",
       "2021-01-07  0.047401 -0.002660  0.065279 -0.025311  0.041328  \n",
       "2021-01-08  0.067509  0.066667 -0.003127  0.026196  0.060477  \n",
       "2021-01-11 -0.019437 -0.001786 -0.000196 -0.011321 -0.030630  \n",
       "...              ...       ...       ...       ...       ...  \n",
       "2022-12-23  0.054665  0.014674  0.006647  0.012105 -0.011299  \n",
       "2022-12-26 -0.027346 -0.045855  0.009152 -0.023401 -0.008052  \n",
       "2022-12-27 -0.037302 -0.010721  0.023878 -0.003994 -0.004713  \n",
       "2022-12-28  0.036266  0.042601 -0.002242  0.012296  0.018153  \n",
       "2022-12-29 -0.020077 -0.010036 -0.001236  0.012675 -0.004910  \n",
       "\n",
       "[496 rows x 11 columns]"
      ]
     },
     "execution_count": 162,
     "metadata": {},
     "output_type": "execute_result"
    }
   ],
   "source": [
    "returns = data.pct_change().dropna()\n",
    "returns"
   ]
  },
  {
   "attachments": {},
   "cell_type": "markdown",
   "metadata": {},
   "source": [
    "### Teste 1"
   ]
  },
  {
   "cell_type": "code",
   "execution_count": 33,
   "metadata": {},
   "outputs": [],
   "source": [
    "def portfolio_returns(solution):\n",
    "    port_returns = 0\n",
    "    for i in range(len(solution)):\n",
    "        port_returns += returns.iloc[:, i] * solution[i]\n",
    "    return port_returns\n",
    "\n",
    "def cvm(solution):\n",
    "    \"\"\"\n",
    "    Carteira de variância mínima\n",
    "    \"\"\"\n",
    "    port_returns = portfolio_returns(solution)\n",
    "    return np.std(port_returns)\n",
    "\n",
    "def constraints(solution):\n",
    "    bound = (sum(solution) - 1)**2\n",
    "    return bound\n",
    "\n",
    "def fitness_function(ga_instance, solution, solution_idx):\n",
    "    return (cvm(solution) + 100*constraints(solution))\n"
   ]
  },
  {
   "cell_type": "code",
   "execution_count": 31,
   "metadata": {},
   "outputs": [
    {
     "name": "stderr",
     "output_type": "stream",
     "text": [
      "c:\\Users\\Yamac\\AppData\\Local\\Programs\\Python\\Python310\\lib\\site-packages\\pygad\\pygad.py:738: UserWarning: The percentage of genes to mutate (mutation_percent_genes=10) resutled in selecting (0) genes. The number of genes to mutate is set to 1 (mutation_num_genes=1).\n",
      "If you do not want to mutate any gene, please set mutation_type=None.\n",
      "  warnings.warn(f\"The percentage of genes to mutate (mutation_percent_genes={mutation_percent_genes}) resutled in selecting ({mutation_num_genes}) genes. The number of genes to mutate is set to 1 (mutation_num_genes=1).\\nIf you do not want to mutate any gene, please set mutation_type=None.\")\n"
     ]
    }
   ],
   "source": [
    "ga = pygad.GA(num_generations=50, num_parents_mating=10,\n",
    "              fitness_func=fitness_function, sol_per_pop=20,\n",
    "              gene_type=np.float32, mutation_percent_genes=10,\n",
    "              gene_space=bounds, num_genes=num_stocks)\n",
    "\n",
    "ga.run()"
   ]
  },
  {
   "attachments": {},
   "cell_type": "markdown",
   "metadata": {},
   "source": [
    "### Teste 2"
   ]
  },
  {
   "cell_type": "code",
   "execution_count": 57,
   "metadata": {},
   "outputs": [],
   "source": [
    "def portfolio_generate(df):\n",
    "    portfolio = df.copy()\n",
    "    portfolio['Total'] = portfolio.sum()\n",
    "    portfolio['Total'] = portfolio['Total']  / 100\n",
    "    portfolio['Total'] = portfolio['Total'] + 1\n",
    "    portfolio = portfolio[['Total']]\n",
    "    return portfolio\n",
    "\n",
    "def portfolio_return(portfolio):\n",
    "    return np.prod(portfolio['Total']) -1\n",
    "\n",
    "def fitness_function(ga_instance, solution, solution_idx):\n",
    "    portfolio = portfolio_generate(returns)\n",
    "    ret = portfolio_return(portfolio)\n",
    "    return ret"
   ]
  },
  {
   "cell_type": "code",
   "execution_count": 65,
   "metadata": {},
   "outputs": [
    {
     "name": "stderr",
     "output_type": "stream",
     "text": [
      "c:\\Users\\Yamac\\AppData\\Local\\Programs\\Python\\Python310\\lib\\site-packages\\pygad\\pygad.py:738: UserWarning: The percentage of genes to mutate (mutation_percent_genes=10) resutled in selecting (0) genes. The number of genes to mutate is set to 1 (mutation_num_genes=1).\n",
      "If you do not want to mutate any gene, please set mutation_type=None.\n",
      "  warnings.warn(f\"The percentage of genes to mutate (mutation_percent_genes={mutation_percent_genes}) resutled in selecting ({mutation_num_genes}) genes. The number of genes to mutate is set to 1 (mutation_num_genes=1).\\nIf you do not want to mutate any gene, please set mutation_type=None.\")\n"
     ]
    }
   ],
   "source": [
    "ga_instance = pygad.GA(num_generations=30, num_parents_mating=50,\n",
    "                       fitness_func=fitness_function, sol_per_pop=90,\n",
    "                       init_range_low=0, init_range_high=1,\n",
    "                       parent_selection_type='sss', keep_parents=30,\n",
    "                       crossover_type='single_point', mutation_percent_genes=10,\n",
    "                       random_seed=42, num_genes=7)\n",
    "\n",
    "ga_instance.run() "
   ]
  },
  {
   "cell_type": "code",
   "execution_count": 66,
   "metadata": {},
   "outputs": [
    {
     "data": {
      "text/plain": [
       "(array([6.31302552, 3.92887282, 5.22131094, 5.60241688, 5.04461411,\n",
       "        5.74429642, 6.69531025]),\n",
       " 140999.10240085586,\n",
       " 0)"
      ]
     },
     "execution_count": 66,
     "metadata": {},
     "output_type": "execute_result"
    }
   ],
   "source": [
    "ga_instance.best_solution()"
   ]
  },
  {
   "attachments": {},
   "cell_type": "markdown",
   "metadata": {},
   "source": [
    "### Teste 3"
   ]
  },
  {
   "cell_type": "code",
   "execution_count": 88,
   "metadata": {},
   "outputs": [],
   "source": [
    "teste = [21,32,43,54,65,76,87]"
   ]
  },
  {
   "cell_type": "code",
   "execution_count": 89,
   "metadata": {},
   "outputs": [],
   "source": [
    "def constraint(solution):\n",
    "    bounduary_constraint = (sum(solution) - 1)**2\n",
    "    return bounduary_constraint\n",
    "\n",
    "def fitness_function(ga_intance, solution, solution_idx):\n",
    "    fitness = np.dot(teste, solution)\n",
    "    return fitness -100*constraint(solution)"
   ]
  },
  {
   "cell_type": "code",
   "execution_count": 96,
   "metadata": {},
   "outputs": [
    {
     "name": "stderr",
     "output_type": "stream",
     "text": [
      "c:\\Users\\Yamac\\AppData\\Local\\Programs\\Python\\Python310\\lib\\site-packages\\pygad\\pygad.py:738: UserWarning: The percentage of genes to mutate (mutation_percent_genes=10) resutled in selecting (0) genes. The number of genes to mutate is set to 1 (mutation_num_genes=1).\n",
      "If you do not want to mutate any gene, please set mutation_type=None.\n",
      "  warnings.warn(f\"The percentage of genes to mutate (mutation_percent_genes={mutation_percent_genes}) resutled in selecting ({mutation_num_genes}) genes. The number of genes to mutate is set to 1 (mutation_num_genes=1).\\nIf you do not want to mutate any gene, please set mutation_type=None.\")\n"
     ]
    }
   ],
   "source": [
    "ga_instance = pygad.GA(num_generations=30, num_parents_mating=50,\n",
    "                       fitness_func=fitness_function, sol_per_pop=90,\n",
    "                       init_range_low=0, init_range_high=1,\n",
    "                       parent_selection_type='sss', keep_parents=30,\n",
    "                       crossover_type='single_point', mutation_percent_genes=10,\n",
    "                       random_seed=42, num_genes=7, gene_space=gene_space)\n",
    "\n",
    "ga_instance.run() "
   ]
  },
  {
   "cell_type": "code",
   "execution_count": 99,
   "metadata": {},
   "outputs": [
    {
     "data": {
      "text/plain": [
       "(array([0.03673194, 0.00977085, 0.03142919, 0.01009061, 0.11573761,\n",
       "        0.14032452, 0.9623102 ]),\n",
       " 95.50119723987602,\n",
       " 0)"
      ]
     },
     "execution_count": 99,
     "metadata": {},
     "output_type": "execute_result"
    }
   ],
   "source": [
    "ga_instance.best_solution()"
   ]
  },
  {
   "cell_type": "code",
   "execution_count": 100,
   "metadata": {},
   "outputs": [
    {
     "data": {
      "text/plain": [
       "1.30639492"
      ]
     },
     "execution_count": 100,
     "metadata": {},
     "output_type": "execute_result"
    }
   ],
   "source": [
    "np.sum([0.03673194, 0.00977085, 0.03142919, 0.01009061, 0.11573761, 0.14032452, 0.9623102])"
   ]
  },
  {
   "attachments": {},
   "cell_type": "markdown",
   "metadata": {},
   "source": [
    "### Teste 4 - DEAP"
   ]
  },
  {
   "cell_type": "code",
   "execution_count": 163,
   "metadata": {},
   "outputs": [],
   "source": [
    "n_stocks = len(returns.columns)"
   ]
  },
  {
   "cell_type": "code",
   "execution_count": 166,
   "metadata": {},
   "outputs": [],
   "source": [
    "#creator.create('FitnessMulti', base.Fitness, weights=(1.0,-1.0))  # O objetivo é maximizar a solução\n",
    "creator.create('FitnessMin', base.Fitness, weights=(-1.0,))  # O objetivo é minimizar a solução\n",
    "creator.create(\"Individual\", list, fitness=creator.FitnessMin)  # Lista com os primeiros indivíduos\n",
    "#creator.create('Individual', list, fitness=creator.FitnessMulti)  "
   ]
  },
  {
   "cell_type": "code",
   "execution_count": 167,
   "metadata": {},
   "outputs": [],
   "source": [
    "def generateES(icls, size, imin, imax):\n",
    "    ind = icls(random.uniform(imin, imax) for _ in range(size))\n",
    "    return ind\n",
    "\n",
    "def calculate_returns(individual, dataset=returns):\n",
    "    x = returns.mul(individual).sum(axis=1)  # Soma dos retornos da carteira dia a dia\n",
    "    x = x + 1\n",
    "    x = x.cumprod() - 1\n",
    "    #########################################\n",
    "    ret = dataset.copy()\n",
    "    stock_return_individual = []\n",
    "    \n",
    "    for stock in ret.columns:\n",
    "        ret[stock] = ret[stock] + 1\n",
    "        stock_return = ret[stock].cumprod() - 1\n",
    "        stock_return_individual.append(stock_return.tail(1).values)\n",
    "\n",
    "    stock_return_individual = [arr[0] for arr in stock_return_individual]\n",
    "    portfolio_return = [x * y for x, y in zip(stock_return_individual, individual)]\n",
    "\n",
    "    #return np.sum(portfolio_return)\n",
    "    #return x.tail(1)\n",
    "    return x\n",
    "\n",
    "def calculate_risk(individual):\n",
    "    individual = np.array(individual)\n",
    "    cov_matrix = returns.cov()\n",
    "    port_variance = np.dot(individual.T, np.dot(cov_matrix, individual))\n",
    "    port_risk = np.sqrt(port_variance)\n",
    "    #####################################\n",
    "    cvm = np.std(calculate_returns(individual))\n",
    "    #return port_risk\n",
    "    return cvm\n",
    "\n",
    "def evaluate_portfolio(individual):\n",
    "    # Calculate returns and risk based on individual weights\n",
    "    returns = calculate_returns(individual)\n",
    "    risk = calculate_risk(individual)\n",
    "\n",
    "    penalty = abs((np.sum(individual) - 1)**2)  # Penalidade para a soma dos pesos ser 1\n",
    "    alocation_penalty = 0\n",
    "    if max(individual) > 0.33:\n",
    "        alocation_penalty = 100\n",
    "    # Return a tuple of the fitness values (returns, -risk as it's a maximization problem)\n",
    "    #return float(returns - 100*penalty -alocation_penalty), float(risk + 100*penalty + alocation_penalty)\n",
    "    return (float(risk + 100*penalty + alocation_penalty),)"
   ]
  },
  {
   "cell_type": "code",
   "execution_count": 168,
   "metadata": {},
   "outputs": [],
   "source": [
    "lower_bound = 0\n",
    "upper_bound = 1"
   ]
  },
  {
   "cell_type": "code",
   "execution_count": 169,
   "metadata": {},
   "outputs": [],
   "source": [
    "toolbox = base.Toolbox()\n",
    "toolbox.register('attr_bool', random.randint, 0, 1)\n",
    "#toolbox.register(\"individual\", tools.initRepeat, creator.Individual, toolbox.attr_bool, n_stocks)  # Cria os indivíduos iniciais com n_stocks cromossomos\n",
    "toolbox.register(\"individual\", generateES, creator.Individual, n_stocks, 0, 1)\n",
    "toolbox.register(\"population\", tools.initRepeat, list, toolbox.individual)  # Coleção dos indívduos iniciais - serão armazenados em uma lista\n",
    "toolbox.register(\"evaluate\", evaluate_portfolio)\n",
    "toolbox.register(\"mate\", tools.cxTwoPoint)\n",
    "#toolbox.register(\"mutate\", tools.mutGaussian, mu=0, sigma=0.1, indpb=0.1)\n",
    "toolbox.register(\"mutate\", tools.mutPolynomialBounded, eta=0.5, low=lower_bound, up=upper_bound, indpb=0.1)\n",
    "toolbox.register(\"select\", tools.selTournament, tournsize=3)"
   ]
  },
  {
   "cell_type": "code",
   "execution_count": 170,
   "metadata": {},
   "outputs": [],
   "source": [
    "population_size = 100\n",
    "num_generations = 50\n",
    "cx_prob = 0.5\n",
    "mut_prob = 0.2"
   ]
  },
  {
   "cell_type": "code",
   "execution_count": 171,
   "metadata": {},
   "outputs": [
    {
     "name": "stdout",
     "output_type": "stream",
     "text": [
      "gen\tnevals\n",
      "0  \t100   \n",
      "1  \t42    \n",
      "2  \t58    \n",
      "3  \t57    \n",
      "4  \t48    \n",
      "5  \t59    \n",
      "6  \t51    \n",
      "7  \t64    \n",
      "8  \t55    \n",
      "9  \t66    \n",
      "10 \t72    \n",
      "11 \t52    \n",
      "12 \t70    \n",
      "13 \t56    \n",
      "14 \t54    \n",
      "15 \t56    \n",
      "16 \t57    \n",
      "17 \t65    \n",
      "18 \t53    \n",
      "19 \t68    \n",
      "20 \t64    \n",
      "21 \t60    \n",
      "22 \t63    \n",
      "23 \t63    \n",
      "24 \t59    \n",
      "25 \t54    \n",
      "26 \t65    \n",
      "27 \t64    \n",
      "28 \t67    \n",
      "29 \t67    \n",
      "30 \t53    \n",
      "31 \t64    \n",
      "32 \t69    \n",
      "33 \t60    \n",
      "34 \t63    \n",
      "35 \t57    \n",
      "36 \t49    \n",
      "37 \t47    \n",
      "38 \t76    \n",
      "39 \t52    \n",
      "40 \t48    \n",
      "41 \t53    \n",
      "42 \t55    \n",
      "43 \t57    \n",
      "44 \t55    \n",
      "45 \t60    \n",
      "46 \t58    \n",
      "47 \t72    \n",
      "48 \t56    \n",
      "49 \t69    \n",
      "50 \t61    \n"
     ]
    },
    {
     "data": {
      "text/plain": [
       "([[0.038889563769653135,\n",
       "   0.08416682274876841,\n",
       "   0.019004700465926283,\n",
       "   0.016610006866074056,\n",
       "   0.291561577397101,\n",
       "   0.06613762933773093,\n",
       "   0.24112282449875888,\n",
       "   0.010585239579156247,\n",
       "   0.06875209064004884,\n",
       "   0.1275152129263274,\n",
       "   0.03376950264521961],\n",
       "  [0.038889563769653135,\n",
       "   0.08416682274876841,\n",
       "   0.019004700465926283,\n",
       "   0.016610006866074056,\n",
       "   0.291561577397101,\n",
       "   0.06613762933773093,\n",
       "   0.24112282449875888,\n",
       "   0.010585239579156247,\n",
       "   0.29593987236945485,\n",
       "   0.1275152129263274,\n",
       "   0.03376950264521961],\n",
       "  [0.038889563769653135,\n",
       "   0.08416682274876841,\n",
       "   0.019004700465926283,\n",
       "   0.016610006866074056,\n",
       "   0.291561577397101,\n",
       "   0.06613762933773093,\n",
       "   0.24112282449875888,\n",
       "   0.010585239579156247,\n",
       "   0.06875209064004884,\n",
       "   0.1275152129263274,\n",
       "   0.03376950264521961],\n",
       "  [0.038889563769653135,\n",
       "   0.08416682274876841,\n",
       "   0.019004700465926283,\n",
       "   0.016610006866074056,\n",
       "   0.291561577397101,\n",
       "   0.06613762933773093,\n",
       "   0.24112282449875888,\n",
       "   0.010585239579156247,\n",
       "   0.06875209064004884,\n",
       "   0.1275152129263274,\n",
       "   0.03376950264521961],\n",
       "  [0.038889563769653135,\n",
       "   0.08416682274876841,\n",
       "   0.019004700465926283,\n",
       "   0.016610006866074056,\n",
       "   0.291561577397101,\n",
       "   0.06613762933773093,\n",
       "   0.24112282449875888,\n",
       "   0.010585239579156247,\n",
       "   0.06875209064004884,\n",
       "   0.1275152129263274,\n",
       "   0.03376950264521961],\n",
       "  [0.038889563769653135,\n",
       "   0.08416682274876841,\n",
       "   0.019004700465926283,\n",
       "   0.016610006866074056,\n",
       "   0.291561577397101,\n",
       "   0.06613762933773093,\n",
       "   0.24112282449875888,\n",
       "   0.010585239579156247,\n",
       "   0.06875209064004884,\n",
       "   0.1275152129263274,\n",
       "   0.03376950264521961],\n",
       "  [0.013616973494958273,\n",
       "   0.08416682274876841,\n",
       "   0.019004700465926283,\n",
       "   0.016610006866074056,\n",
       "   0.291561577397101,\n",
       "   0.06613762933773093,\n",
       "   0.7583936794449342,\n",
       "   0.010585239579156247,\n",
       "   0.4528045364706589,\n",
       "   0.1275152129263274,\n",
       "   0.6557410649476146],\n",
       "  [0.038889563769653135,\n",
       "   0.08416682274876841,\n",
       "   0.019004700465926283,\n",
       "   0.016610006866074056,\n",
       "   0.291561577397101,\n",
       "   0.06613762933773093,\n",
       "   0.24112282449875888,\n",
       "   0.010585239579156247,\n",
       "   0.06875209064004884,\n",
       "   0.1275152129263274,\n",
       "   0.03376950264521961],\n",
       "  [0.038889563769653135,\n",
       "   0.08416682274876841,\n",
       "   0.019004700465926283,\n",
       "   0.016610006866074056,\n",
       "   0.291561577397101,\n",
       "   0.06613762933773093,\n",
       "   0.24112282449875888,\n",
       "   0.010585239579156247,\n",
       "   0.06875209064004884,\n",
       "   0.1275152129263274,\n",
       "   0.03376950264521961],\n",
       "  [0.038889563769653135,\n",
       "   0.08416682274876841,\n",
       "   0.019004700465926283,\n",
       "   0.016610006866074056,\n",
       "   0.291561577397101,\n",
       "   0.06613762933773093,\n",
       "   0.24112282449875888,\n",
       "   0.010585239579156247,\n",
       "   0.06875209064004884,\n",
       "   0.1275152129263274,\n",
       "   0.03376950264521961],\n",
       "  [0.038889563769653135,\n",
       "   0.08416682274876841,\n",
       "   0.019004700465926283,\n",
       "   0.016610006866074056,\n",
       "   0.291561577397101,\n",
       "   0.06613762933773093,\n",
       "   0.24112282449875888,\n",
       "   0.010585239579156247,\n",
       "   0.06875209064004884,\n",
       "   0.1275152129263274,\n",
       "   0.03376950264521961],\n",
       "  [0.038889563769653135,\n",
       "   0.08416682274876841,\n",
       "   0.019004700465926283,\n",
       "   0.016610006866074056,\n",
       "   0.291561577397101,\n",
       "   0.06613762933773093,\n",
       "   0.24112282449875888,\n",
       "   0.010585239579156247,\n",
       "   0.06875209064004884,\n",
       "   0.1275152129263274,\n",
       "   0.03376950264521961],\n",
       "  [0.038889563769653135,\n",
       "   0.08416682274876841,\n",
       "   0.019004700465926283,\n",
       "   0.016610006866074056,\n",
       "   0.291561577397101,\n",
       "   0.06613762933773093,\n",
       "   0.24112282449875888,\n",
       "   0.010585239579156247,\n",
       "   0.06875209064004884,\n",
       "   0.1275152129263274,\n",
       "   0.03376950264521961],\n",
       "  [0.038889563769653135,\n",
       "   0.08416682274876841,\n",
       "   0.019004700465926283,\n",
       "   0.016610006866074056,\n",
       "   0.291561577397101,\n",
       "   0.06613762933773093,\n",
       "   0.24112282449875888,\n",
       "   0.010585239579156247,\n",
       "   0.06875209064004884,\n",
       "   0.1275152129263274,\n",
       "   0.03376950264521961],\n",
       "  [0.038889563769653135,\n",
       "   0.08416682274876841,\n",
       "   0.019004700465926283,\n",
       "   0.016610006866074056,\n",
       "   0.291561577397101,\n",
       "   0.06613762933773093,\n",
       "   0.24112282449875888,\n",
       "   0.010585239579156247,\n",
       "   0.06875209064004884,\n",
       "   0.1275152129263274,\n",
       "   0.03376950264521961],\n",
       "  [0.038889563769653135,\n",
       "   0.08416682274876841,\n",
       "   0.019004700465926283,\n",
       "   0.016610006866074056,\n",
       "   0.291561577397101,\n",
       "   0.06613762933773093,\n",
       "   0.24112282449875888,\n",
       "   0.010585239579156247,\n",
       "   0.06875209064004884,\n",
       "   0.1275152129263274,\n",
       "   0.03376950264521961],\n",
       "  [0.038889563769653135,\n",
       "   0.08416682274876841,\n",
       "   0.019004700465926283,\n",
       "   0.016610006866074056,\n",
       "   0.291561577397101,\n",
       "   0.06613762933773093,\n",
       "   0.24112282449875888,\n",
       "   0.010585239579156247,\n",
       "   0.06875209064004884,\n",
       "   0.1275152129263274,\n",
       "   0.03376950264521961],\n",
       "  [0.038889563769653135,\n",
       "   0.08416682274876841,\n",
       "   0.019004700465926283,\n",
       "   0.016610006866074056,\n",
       "   0.291561577397101,\n",
       "   0.06613762933773093,\n",
       "   0.24112282449875888,\n",
       "   0.010585239579156247,\n",
       "   0.06875209064004884,\n",
       "   0.1275152129263274,\n",
       "   0.03376950264521961],\n",
       "  [0.038889563769653135,\n",
       "   0.08416682274876841,\n",
       "   0.019004700465926283,\n",
       "   0.016610006866074056,\n",
       "   0.291561577397101,\n",
       "   0.06613762933773093,\n",
       "   0.24112282449875888,\n",
       "   0.010585239579156247,\n",
       "   0.06875209064004884,\n",
       "   0.1275152129263274,\n",
       "   0.03376950264521961],\n",
       "  [0.038889563769653135,\n",
       "   0.08416682274876841,\n",
       "   0.019004700465926283,\n",
       "   0.016610006866074056,\n",
       "   0.291561577397101,\n",
       "   0.06613762933773093,\n",
       "   0.24112282449875888,\n",
       "   0.010585239579156247,\n",
       "   0.06875209064004884,\n",
       "   0.1275152129263274,\n",
       "   0.03376950264521961],\n",
       "  [0.038889563769653135,\n",
       "   0.08416682274876841,\n",
       "   0.019004700465926283,\n",
       "   0.016610006866074056,\n",
       "   0.291561577397101,\n",
       "   0.06613762933773093,\n",
       "   0.24112282449875888,\n",
       "   0.010585239579156247,\n",
       "   0.06875209064004884,\n",
       "   0.1275152129263274,\n",
       "   0.03376950264521961],\n",
       "  [0.038889563769653135,\n",
       "   0.08416682274876841,\n",
       "   0.019004700465926283,\n",
       "   0.016610006866074056,\n",
       "   0.291561577397101,\n",
       "   0.06613762933773093,\n",
       "   0.24112282449875888,\n",
       "   0.010585239579156247,\n",
       "   0.06875209064004884,\n",
       "   0.1275152129263274,\n",
       "   0.03376950264521961],\n",
       "  [0.038889563769653135,\n",
       "   0.08416682274876841,\n",
       "   0.019004700465926283,\n",
       "   0.016610006866074056,\n",
       "   0.291561577397101,\n",
       "   0.06613762933773093,\n",
       "   0.24112282449875888,\n",
       "   0.010585239579156247,\n",
       "   0.06260850168446852,\n",
       "   0.1275152129263274,\n",
       "   0.007885807377370102],\n",
       "  [0.038889563769653135,\n",
       "   0.08416682274876841,\n",
       "   0.019004700465926283,\n",
       "   0.016610006866074056,\n",
       "   0.291561577397101,\n",
       "   0.06613762933773093,\n",
       "   0.24112282449875888,\n",
       "   0.010585239579156247,\n",
       "   0.06875209064004884,\n",
       "   0.1275152129263274,\n",
       "   0.03376950264521961],\n",
       "  [0.038889563769653135,\n",
       "   0.08416682274876841,\n",
       "   0.019004700465926283,\n",
       "   0.016610006866074056,\n",
       "   0.291561577397101,\n",
       "   0.06613762933773093,\n",
       "   0.24112282449875888,\n",
       "   0.010585239579156247,\n",
       "   0.06875209064004884,\n",
       "   0.1275152129263274,\n",
       "   0.03376950264521961],\n",
       "  [0.038889563769653135,\n",
       "   0.08416682274876841,\n",
       "   0.019004700465926283,\n",
       "   0.016610006866074056,\n",
       "   0.291561577397101,\n",
       "   0.06613762933773093,\n",
       "   0.24112282449875888,\n",
       "   0.010585239579156247,\n",
       "   0.06875209064004884,\n",
       "   0.1275152129263274,\n",
       "   0.03376950264521961],\n",
       "  [0.038889563769653135,\n",
       "   0.08416682274876841,\n",
       "   0.019004700465926283,\n",
       "   0.016610006866074056,\n",
       "   0.291561577397101,\n",
       "   0.06613762933773093,\n",
       "   0.24112282449875888,\n",
       "   0.010585239579156247,\n",
       "   0.06875209064004884,\n",
       "   0.1275152129263274,\n",
       "   0.03376950264521961],\n",
       "  [0.038889563769653135,\n",
       "   0.08416682274876841,\n",
       "   0.019004700465926283,\n",
       "   0.016610006866074056,\n",
       "   0.291561577397101,\n",
       "   0.06613762933773093,\n",
       "   0.24112282449875888,\n",
       "   0.010585239579156247,\n",
       "   0.06875209064004884,\n",
       "   0.1275152129263274,\n",
       "   0.03376950264521961],\n",
       "  [0.038889563769653135,\n",
       "   0.08416682274876841,\n",
       "   0.019004700465926283,\n",
       "   0.016610006866074056,\n",
       "   0.291561577397101,\n",
       "   0.06613762933773093,\n",
       "   0.24112282449875888,\n",
       "   0.010585239579156247,\n",
       "   0.06875209064004884,\n",
       "   0.1275152129263274,\n",
       "   0.03376950264521961],\n",
       "  [0.038889563769653135,\n",
       "   0.08416682274876841,\n",
       "   0.019004700465926283,\n",
       "   0.016610006866074056,\n",
       "   0.291561577397101,\n",
       "   0.06613762933773093,\n",
       "   0.24112282449875888,\n",
       "   0.010585239579156247,\n",
       "   0.06875209064004884,\n",
       "   0.1275152129263274,\n",
       "   0.03376950264521961],\n",
       "  [0.038889563769653135,\n",
       "   0.08416682274876841,\n",
       "   0.019004700465926283,\n",
       "   0.016610006866074056,\n",
       "   0.291561577397101,\n",
       "   0.06613762933773093,\n",
       "   0.24112282449875888,\n",
       "   0.010585239579156247,\n",
       "   0.06875209064004884,\n",
       "   0.1275152129263274,\n",
       "   0.03376950264521961],\n",
       "  [0.038889563769653135,\n",
       "   0.08416682274876841,\n",
       "   0.019004700465926283,\n",
       "   0.016610006866074056,\n",
       "   0.291561577397101,\n",
       "   0.06613762933773093,\n",
       "   0.24112282449875888,\n",
       "   0.010585239579156247,\n",
       "   0.06875209064004884,\n",
       "   0.1275152129263274,\n",
       "   0.03376950264521961],\n",
       "  [0.038889563769653135,\n",
       "   0.08416682274876841,\n",
       "   0.019004700465926283,\n",
       "   0.016610006866074056,\n",
       "   0.291561577397101,\n",
       "   0.06613762933773093,\n",
       "   0.24112282449875888,\n",
       "   0.010585239579156247,\n",
       "   0.06875209064004884,\n",
       "   0.1275152129263274,\n",
       "   0.03376950264521961],\n",
       "  [0.038889563769653135,\n",
       "   0.08416682274876841,\n",
       "   0.019004700465926283,\n",
       "   0.016610006866074056,\n",
       "   0.291561577397101,\n",
       "   0.06613762933773093,\n",
       "   0.24112282449875888,\n",
       "   0.010585239579156247,\n",
       "   0.06875209064004884,\n",
       "   0.1275152129263274,\n",
       "   0.03376950264521961],\n",
       "  [0.038889563769653135,\n",
       "   0.08416682274876841,\n",
       "   0.019004700465926283,\n",
       "   0.016610006866074056,\n",
       "   0.291561577397101,\n",
       "   0.06613762933773093,\n",
       "   0.24112282449875888,\n",
       "   0.010585239579156247,\n",
       "   0.06875209064004884,\n",
       "   0.1275152129263274,\n",
       "   0.03376950264521961],\n",
       "  [0.038889563769653135,\n",
       "   0.08416682274876841,\n",
       "   0.019004700465926283,\n",
       "   0.016610006866074056,\n",
       "   0.291561577397101,\n",
       "   0.06613762933773093,\n",
       "   0.24112282449875888,\n",
       "   0.010585239579156247,\n",
       "   0.06875209064004884,\n",
       "   0.1275152129263274,\n",
       "   0.03376950264521961],\n",
       "  [0.038889563769653135,\n",
       "   0.08416682274876841,\n",
       "   0.019004700465926283,\n",
       "   0.016610006866074056,\n",
       "   0.291561577397101,\n",
       "   0.06613762933773093,\n",
       "   0.24112282449875888,\n",
       "   0.010585239579156247,\n",
       "   0.06875209064004884,\n",
       "   0.1275152129263274,\n",
       "   0.03376950264521961],\n",
       "  [0.038889563769653135,\n",
       "   0.08416682274876841,\n",
       "   0.019004700465926283,\n",
       "   0.016610006866074056,\n",
       "   0.291561577397101,\n",
       "   0.06613762933773093,\n",
       "   0.24112282449875888,\n",
       "   0.010585239579156247,\n",
       "   0.06875209064004884,\n",
       "   0.1275152129263274,\n",
       "   0.03376950264521961],\n",
       "  [0.038889563769653135,\n",
       "   0.08416682274876841,\n",
       "   0.019004700465926283,\n",
       "   0.016610006866074056,\n",
       "   0.291561577397101,\n",
       "   0.06613762933773093,\n",
       "   0.24112282449875888,\n",
       "   0.010585239579156247,\n",
       "   0.06875209064004884,\n",
       "   0.1275152129263274,\n",
       "   0.03376950264521961],\n",
       "  [0.038889563769653135,\n",
       "   0.08416682274876841,\n",
       "   0.019004700465926283,\n",
       "   0.016610006866074056,\n",
       "   0.291561577397101,\n",
       "   0.06613762933773093,\n",
       "   0.24112282449875888,\n",
       "   0.010585239579156247,\n",
       "   0.06875209064004884,\n",
       "   0.1275152129263274,\n",
       "   0.03376950264521961],\n",
       "  [0.038889563769653135,\n",
       "   0.08416682274876841,\n",
       "   0.019004700465926283,\n",
       "   0.016610006866074056,\n",
       "   0.291561577397101,\n",
       "   0.06613762933773093,\n",
       "   0.24112282449875888,\n",
       "   0.010585239579156247,\n",
       "   0.06875209064004884,\n",
       "   0.1275152129263274,\n",
       "   0.03376950264521961],\n",
       "  [0.038889563769653135,\n",
       "   0.08416682274876841,\n",
       "   0.019004700465926283,\n",
       "   0.016610006866074056,\n",
       "   0.291561577397101,\n",
       "   0.06613762933773093,\n",
       "   0.24112282449875888,\n",
       "   0.010585239579156247,\n",
       "   0.06875209064004884,\n",
       "   0.1275152129263274,\n",
       "   0.03376950264521961],\n",
       "  [0.038889563769653135,\n",
       "   0.08416682274876841,\n",
       "   0.019004700465926283,\n",
       "   0.016610006866074056,\n",
       "   0.291561577397101,\n",
       "   0.06613762933773093,\n",
       "   0.24112282449875888,\n",
       "   0.010585239579156247,\n",
       "   0.06875209064004884,\n",
       "   0.1275152129263274,\n",
       "   0.03376950264521961],\n",
       "  [0.038889563769653135,\n",
       "   0.08416682274876841,\n",
       "   0.019004700465926283,\n",
       "   0.17978115767343927,\n",
       "   0.20768761277106473,\n",
       "   0.06613762933773093,\n",
       "   0.24112282449875888,\n",
       "   0.010585239579156247,\n",
       "   0.06875209064004884,\n",
       "   0.1275152129263274,\n",
       "   0.03376950264521961],\n",
       "  [0.038889563769653135,\n",
       "   0.08416682274876841,\n",
       "   0.019004700465926283,\n",
       "   0.016610006866074056,\n",
       "   0.291561577397101,\n",
       "   0.06613762933773093,\n",
       "   0.24112282449875888,\n",
       "   0.010585239579156247,\n",
       "   0.06875209064004884,\n",
       "   0.1275152129263274,\n",
       "   0.03376950264521961],\n",
       "  [0.038889563769653135,\n",
       "   0.08416682274876841,\n",
       "   0.019004700465926283,\n",
       "   0.016610006866074056,\n",
       "   0.291561577397101,\n",
       "   0.06613762933773093,\n",
       "   0.24112282449875888,\n",
       "   0.010585239579156247,\n",
       "   0.06875209064004884,\n",
       "   0.1275152129263274,\n",
       "   0.03376950264521961],\n",
       "  [0.038889563769653135,\n",
       "   0.08416682274876841,\n",
       "   0.019004700465926283,\n",
       "   0.016610006866074056,\n",
       "   0.291561577397101,\n",
       "   0.06613762933773093,\n",
       "   0.24112282449875888,\n",
       "   0.010585239579156247,\n",
       "   0.06875209064004884,\n",
       "   0.1275152129263274,\n",
       "   0.03376950264521961],\n",
       "  [0.038889563769653135,\n",
       "   0.08416682274876841,\n",
       "   0.019004700465926283,\n",
       "   0.016610006866074056,\n",
       "   0.291561577397101,\n",
       "   0.06613762933773093,\n",
       "   0.24112282449875888,\n",
       "   0.010585239579156247,\n",
       "   0.06875209064004884,\n",
       "   0.1275152129263274,\n",
       "   0.03376950264521961],\n",
       "  [0.038889563769653135,\n",
       "   0.08416682274876841,\n",
       "   0.014988403940791595,\n",
       "   0.010988958243165925,\n",
       "   0.291561577397101,\n",
       "   0.30681010447751733,\n",
       "   0.24112282449875888,\n",
       "   0.010076268432983704,\n",
       "   0.06875209064004884,\n",
       "   0.1275152129263274,\n",
       "   0.03376950264521961],\n",
       "  [0.038889563769653135,\n",
       "   0.08416682274876841,\n",
       "   0.019004700465926283,\n",
       "   0.016610006866074056,\n",
       "   0.291561577397101,\n",
       "   0.06613762933773093,\n",
       "   0.24112282449875888,\n",
       "   0.010585239579156247,\n",
       "   0.06875209064004884,\n",
       "   0.1275152129263274,\n",
       "   0.03376950264521961],\n",
       "  [0.038889563769653135,\n",
       "   0.08416682274876841,\n",
       "   0.019004700465926283,\n",
       "   0.016610006866074056,\n",
       "   0.291561577397101,\n",
       "   0.06613762933773093,\n",
       "   0.24112282449875888,\n",
       "   0.010585239579156247,\n",
       "   0.06875209064004884,\n",
       "   0.1275152129263274,\n",
       "   0.03376950264521961],\n",
       "  [0.038889563769653135,\n",
       "   0.08416682274876841,\n",
       "   0.019004700465926283,\n",
       "   0.016610006866074056,\n",
       "   0.291561577397101,\n",
       "   0.06613762933773093,\n",
       "   0.24112282449875888,\n",
       "   0.010585239579156247,\n",
       "   0.06875209064004884,\n",
       "   0.1275152129263274,\n",
       "   0.03376950264521961],\n",
       "  [0.038889563769653135,\n",
       "   0.08416682274876841,\n",
       "   0.019004700465926283,\n",
       "   0.016610006866074056,\n",
       "   0.291561577397101,\n",
       "   0.06613762933773093,\n",
       "   0.24112282449875888,\n",
       "   0.010585239579156247,\n",
       "   0.06875209064004884,\n",
       "   0.1275152129263274,\n",
       "   0.03376950264521961],\n",
       "  [0.038889563769653135,\n",
       "   0.08416682274876841,\n",
       "   0.019004700465926283,\n",
       "   0.016610006866074056,\n",
       "   0.291561577397101,\n",
       "   0.06613762933773093,\n",
       "   0.24112282449875888,\n",
       "   0.010585239579156247,\n",
       "   0.06875209064004884,\n",
       "   0.1275152129263274,\n",
       "   0.03376950264521961],\n",
       "  [0.038889563769653135,\n",
       "   0.08416682274876841,\n",
       "   0.019004700465926283,\n",
       "   0.016610006866074056,\n",
       "   0.291561577397101,\n",
       "   0.06613762933773093,\n",
       "   0.24112282449875888,\n",
       "   0.010585239579156247,\n",
       "   0.06875209064004884,\n",
       "   0.1275152129263274,\n",
       "   0.03376950264521961],\n",
       "  [0.038889563769653135,\n",
       "   0.08416682274876841,\n",
       "   0.019004700465926283,\n",
       "   0.016610006866074056,\n",
       "   0.291561577397101,\n",
       "   0.06613762933773093,\n",
       "   0.24112282449875888,\n",
       "   0.010585239579156247,\n",
       "   0.06875209064004884,\n",
       "   0.1275152129263274,\n",
       "   0.03376950264521961],\n",
       "  [0.038889563769653135,\n",
       "   0.08416682274876841,\n",
       "   0.019004700465926283,\n",
       "   0.016610006866074056,\n",
       "   0.291561577397101,\n",
       "   0.06613762933773093,\n",
       "   0.24112282449875888,\n",
       "   0.010585239579156247,\n",
       "   0.06875209064004884,\n",
       "   0.1275152129263274,\n",
       "   0.03376950264521961],\n",
       "  [0.038889563769653135,\n",
       "   0.08416682274876841,\n",
       "   0.019004700465926283,\n",
       "   0.016610006866074056,\n",
       "   0.291561577397101,\n",
       "   0.06613762933773093,\n",
       "   0.24112282449875888,\n",
       "   0.010585239579156247,\n",
       "   0.06875209064004884,\n",
       "   0.1275152129263274,\n",
       "   0.01403373165987043],\n",
       "  [0.038889563769653135,\n",
       "   0.08416682274876841,\n",
       "   0.019004700465926283,\n",
       "   0.016610006866074056,\n",
       "   0.291561577397101,\n",
       "   0.06613762933773093,\n",
       "   0.24112282449875888,\n",
       "   0.010585239579156247,\n",
       "   0.06875209064004884,\n",
       "   0.1275152129263274,\n",
       "   0.03376950264521961],\n",
       "  [0.038889563769653135,\n",
       "   0.08416682274876841,\n",
       "   0.019004700465926283,\n",
       "   0.016610006866074056,\n",
       "   0.291561577397101,\n",
       "   0.06613762933773093,\n",
       "   0.24112282449875888,\n",
       "   0.010585239579156247,\n",
       "   0.06875209064004884,\n",
       "   0.1275152129263274,\n",
       "   0.03376950264521961],\n",
       "  [0.038889563769653135,\n",
       "   0.08416682274876841,\n",
       "   0.019004700465926283,\n",
       "   0.002954977758405808,\n",
       "   0.291561577397101,\n",
       "   0.06613762933773093,\n",
       "   0.24112282449875888,\n",
       "   0.010585239579156247,\n",
       "   0.06875209064004884,\n",
       "   0.1275152129263274,\n",
       "   0.03376950264521961],\n",
       "  [0.038889563769653135,\n",
       "   0.08416682274876841,\n",
       "   0.019004700465926283,\n",
       "   0.016610006866074056,\n",
       "   0.291561577397101,\n",
       "   0.1968150704176692,\n",
       "   0.24112282449875888,\n",
       "   0.010585239579156247,\n",
       "   0.06875209064004884,\n",
       "   0.1275152129263274,\n",
       "   0.03376950264521961],\n",
       "  [0.038889563769653135,\n",
       "   0.08416682274876841,\n",
       "   0.019004700465926283,\n",
       "   0.016610006866074056,\n",
       "   0.291561577397101,\n",
       "   0.06613762933773093,\n",
       "   0.24112282449875888,\n",
       "   0.010585239579156247,\n",
       "   0.06875209064004884,\n",
       "   0.1275152129263274,\n",
       "   0.03376950264521961],\n",
       "  [0.038889563769653135,\n",
       "   0.08416682274876841,\n",
       "   0.019004700465926283,\n",
       "   0.016610006866074056,\n",
       "   0.291561577397101,\n",
       "   0.06613762933773093,\n",
       "   0.24112282449875888,\n",
       "   0.010585239579156247,\n",
       "   0.06875209064004884,\n",
       "   0.1275152129263274,\n",
       "   0.03376950264521961],\n",
       "  [0.038889563769653135,\n",
       "   0.08416682274876841,\n",
       "   0.019004700465926283,\n",
       "   0.016610006866074056,\n",
       "   0.291561577397101,\n",
       "   0.06613762933773093,\n",
       "   0.24112282449875888,\n",
       "   0.010585239579156247,\n",
       "   0.06875209064004884,\n",
       "   0.1275152129263274,\n",
       "   0.03376950264521961],\n",
       "  [0.038889563769653135,\n",
       "   0.08416682274876841,\n",
       "   0.019004700465926283,\n",
       "   0.016610006866074056,\n",
       "   0.291561577397101,\n",
       "   0.06613762933773093,\n",
       "   0.24112282449875888,\n",
       "   0.010585239579156247,\n",
       "   0.06875209064004884,\n",
       "   0.1275152129263274,\n",
       "   0.03376950264521961],\n",
       "  [0.038889563769653135,\n",
       "   0.08416682274876841,\n",
       "   0.019004700465926283,\n",
       "   0.016610006866074056,\n",
       "   0.291561577397101,\n",
       "   0.06613762933773093,\n",
       "   0.24112282449875888,\n",
       "   0.010585239579156247,\n",
       "   0.06875209064004884,\n",
       "   0.1275152129263274,\n",
       "   0.03376950264521961],\n",
       "  [0.038889563769653135,\n",
       "   0.08416682274876841,\n",
       "   0.019004700465926283,\n",
       "   0.016610006866074056,\n",
       "   0.291561577397101,\n",
       "   0.06613762933773093,\n",
       "   0.24112282449875888,\n",
       "   0.010585239579156247,\n",
       "   0.06875209064004884,\n",
       "   0.1275152129263274,\n",
       "   0.03376950264521961],\n",
       "  [0.038889563769653135,\n",
       "   0.08416682274876841,\n",
       "   0.019004700465926283,\n",
       "   0.016610006866074056,\n",
       "   0.291561577397101,\n",
       "   0.06613762933773093,\n",
       "   0.24112282449875888,\n",
       "   0.010585239579156247,\n",
       "   0.06875209064004884,\n",
       "   0.1275152129263274,\n",
       "   0.03376950264521961],\n",
       "  [0.038889563769653135,\n",
       "   0.08416682274876841,\n",
       "   0.019004700465926283,\n",
       "   0.016610006866074056,\n",
       "   0.291561577397101,\n",
       "   0.06613762933773093,\n",
       "   0.24112282449875888,\n",
       "   0.010585239579156247,\n",
       "   0.06875209064004884,\n",
       "   0.1275152129263274,\n",
       "   0.03376950264521961],\n",
       "  [0.038889563769653135,\n",
       "   0.08416682274876841,\n",
       "   0.019004700465926283,\n",
       "   0.016610006866074056,\n",
       "   0.291561577397101,\n",
       "   0.06613762933773093,\n",
       "   0.24112282449875888,\n",
       "   0.010585239579156247,\n",
       "   0.06875209064004884,\n",
       "   0.1275152129263274,\n",
       "   0.03376950264521961],\n",
       "  [0.038889563769653135,\n",
       "   0.08416682274876841,\n",
       "   0.019004700465926283,\n",
       "   0.016610006866074056,\n",
       "   0.291561577397101,\n",
       "   0.06613762933773093,\n",
       "   0.24112282449875888,\n",
       "   0.010585239579156247,\n",
       "   0.06875209064004884,\n",
       "   0.1275152129263274,\n",
       "   0.03376950264521961],\n",
       "  [0.038889563769653135,\n",
       "   0.08416682274876841,\n",
       "   0.019004700465926283,\n",
       "   0.016610006866074056,\n",
       "   0.291561577397101,\n",
       "   0.06613762933773093,\n",
       "   0.24112282449875888,\n",
       "   0.010585239579156247,\n",
       "   0.06875209064004884,\n",
       "   0.1275152129263274,\n",
       "   0.03376950264521961],\n",
       "  [0.038889563769653135,\n",
       "   0.08416682274876841,\n",
       "   0.019004700465926283,\n",
       "   0.016610006866074056,\n",
       "   0.43824900100485153,\n",
       "   0.06613762933773093,\n",
       "   0.24112282449875888,\n",
       "   0.010585239579156247,\n",
       "   0.06875209064004884,\n",
       "   0.49159359057724283,\n",
       "   0.03376950264521961],\n",
       "  [0.038889563769653135,\n",
       "   0.08416682274876841,\n",
       "   0.019004700465926283,\n",
       "   0.016610006866074056,\n",
       "   0.291561577397101,\n",
       "   0.06613762933773093,\n",
       "   0.24112282449875888,\n",
       "   0.010585239579156247,\n",
       "   0.06875209064004884,\n",
       "   0.1275152129263274,\n",
       "   0.03376950264521961],\n",
       "  [0.038889563769653135,\n",
       "   0.08416682274876841,\n",
       "   0.019004700465926283,\n",
       "   0.016610006866074056,\n",
       "   0.291561577397101,\n",
       "   0.06613762933773093,\n",
       "   0.24112282449875888,\n",
       "   0.010585239579156247,\n",
       "   0.06875209064004884,\n",
       "   0.1275152129263274,\n",
       "   0.03376950264521961],\n",
       "  [0.038889563769653135,\n",
       "   0.08416682274876841,\n",
       "   0.019004700465926283,\n",
       "   0.016610006866074056,\n",
       "   0.291561577397101,\n",
       "   0.06613762933773093,\n",
       "   0.24112282449875888,\n",
       "   0.010585239579156247,\n",
       "   0.06875209064004884,\n",
       "   0.1275152129263274,\n",
       "   0.03376950264521961],\n",
       "  [0.038889563769653135,\n",
       "   0.08416682274876841,\n",
       "   0.019004700465926283,\n",
       "   0.016610006866074056,\n",
       "   0.291561577397101,\n",
       "   0.06613762933773093,\n",
       "   0.24112282449875888,\n",
       "   0.010585239579156247,\n",
       "   0.06875209064004884,\n",
       "   0.1275152129263274,\n",
       "   0.03376950264521961],\n",
       "  [0.038889563769653135,\n",
       "   0.08416682274876841,\n",
       "   0.019004700465926283,\n",
       "   0.016610006866074056,\n",
       "   0.291561577397101,\n",
       "   0.06613762933773093,\n",
       "   0.24112282449875888,\n",
       "   0.010585239579156247,\n",
       "   0.06875209064004884,\n",
       "   0.1275152129263274,\n",
       "   0.007528006044088986],\n",
       "  [0.038889563769653135,\n",
       "   0.08416682274876841,\n",
       "   0.019004700465926283,\n",
       "   0.016610006866074056,\n",
       "   0.291561577397101,\n",
       "   0.06613762933773093,\n",
       "   0.24112282449875888,\n",
       "   0.010585239579156247,\n",
       "   0.06875209064004884,\n",
       "   0.1275152129263274,\n",
       "   0.03376950264521961],\n",
       "  [0.038889563769653135,\n",
       "   0.08416682274876841,\n",
       "   0.019004700465926283,\n",
       "   0.016610006866074056,\n",
       "   0.291561577397101,\n",
       "   0.06613762933773093,\n",
       "   0.24112282449875888,\n",
       "   0.010585239579156247,\n",
       "   0.06875209064004884,\n",
       "   0.1275152129263274,\n",
       "   0.03376950264521961],\n",
       "  [0.038889563769653135,\n",
       "   0.08416682274876841,\n",
       "   0.019004700465926283,\n",
       "   0.016610006866074056,\n",
       "   0.291561577397101,\n",
       "   0.06613762933773093,\n",
       "   0.24112282449875888,\n",
       "   0.010585239579156247,\n",
       "   0.06875209064004884,\n",
       "   0.1275152129263274,\n",
       "   0.03376950264521961],\n",
       "  [0.038889563769653135,\n",
       "   0.08416682274876841,\n",
       "   0.019004700465926283,\n",
       "   0.016610006866074056,\n",
       "   0.291561577397101,\n",
       "   0.06613762933773093,\n",
       "   0.24112282449875888,\n",
       "   0.010585239579156247,\n",
       "   0.06875209064004884,\n",
       "   0.1275152129263274,\n",
       "   0.03376950264521961],\n",
       "  [0.038889563769653135,\n",
       "   0.08416682274876841,\n",
       "   0.019004700465926283,\n",
       "   0.016610006866074056,\n",
       "   0.291561577397101,\n",
       "   0.06613762933773093,\n",
       "   0.24112282449875888,\n",
       "   0.010585239579156247,\n",
       "   0.06875209064004884,\n",
       "   0.1275152129263274,\n",
       "   0.03376950264521961],\n",
       "  [0.038889563769653135,\n",
       "   0.08416682274876841,\n",
       "   0.019004700465926283,\n",
       "   0.016610006866074056,\n",
       "   0.291561577397101,\n",
       "   0.06613762933773093,\n",
       "   0.24112282449875888,\n",
       "   0.010585239579156247,\n",
       "   0.06875209064004884,\n",
       "   0.1275152129263274,\n",
       "   0.03376950264521961],\n",
       "  [0.038889563769653135,\n",
       "   0.08416682274876841,\n",
       "   0.019004700465926283,\n",
       "   0.016610006866074056,\n",
       "   0.291561577397101,\n",
       "   0.06613762933773093,\n",
       "   0.24112282449875888,\n",
       "   0.010585239579156247,\n",
       "   0.06875209064004884,\n",
       "   0.1275152129263274,\n",
       "   0.03376950264521961],\n",
       "  [0.038889563769653135,\n",
       "   0.08416682274876841,\n",
       "   0.019004700465926283,\n",
       "   0.016610006866074056,\n",
       "   0.291561577397101,\n",
       "   0.06613762933773093,\n",
       "   0.24112282449875888,\n",
       "   0.010585239579156247,\n",
       "   0.06875209064004884,\n",
       "   0.1275152129263274,\n",
       "   0.03376950264521961],\n",
       "  [0.038889563769653135,\n",
       "   0.08416682274876841,\n",
       "   0.019004700465926283,\n",
       "   0.016610006866074056,\n",
       "   0.291561577397101,\n",
       "   0.06613762933773093,\n",
       "   0.24112282449875888,\n",
       "   0.010585239579156247,\n",
       "   0.06875209064004884,\n",
       "   0.1275152129263274,\n",
       "   0.03376950264521961],\n",
       "  [0.038889563769653135,\n",
       "   0.08416682274876841,\n",
       "   0.019004700465926283,\n",
       "   0.016610006866074056,\n",
       "   0.291561577397101,\n",
       "   0.06613762933773093,\n",
       "   0.24112282449875888,\n",
       "   0.010585239579156247,\n",
       "   0.06875209064004884,\n",
       "   0.1275152129263274,\n",
       "   0.03376950264521961],\n",
       "  [0.038889563769653135,\n",
       "   0.08416682274876841,\n",
       "   0.019004700465926283,\n",
       "   0.016610006866074056,\n",
       "   0.291561577397101,\n",
       "   0.06613762933773093,\n",
       "   0.24112282449875888,\n",
       "   0.010585239579156247,\n",
       "   0.06875209064004884,\n",
       "   0.1275152129263274,\n",
       "   0.03376950264521961],\n",
       "  [0.038889563769653135,\n",
       "   0.08416682274876841,\n",
       "   0.019004700465926283,\n",
       "   0.016610006866074056,\n",
       "   0.291561577397101,\n",
       "   0.06613762933773093,\n",
       "   0.24112282449875888,\n",
       "   0.010585239579156247,\n",
       "   0.06875209064004884,\n",
       "   0.1275152129263274,\n",
       "   0.03376950264521961],\n",
       "  [0.038889563769653135,\n",
       "   0.08416682274876841,\n",
       "   0.019004700465926283,\n",
       "   0.016610006866074056,\n",
       "   0.291561577397101,\n",
       "   0.06613762933773093,\n",
       "   0.24112282449875888,\n",
       "   0.010585239579156247,\n",
       "   0.06875209064004884,\n",
       "   0.1275152129263274,\n",
       "   0.03376950264521961],\n",
       "  [0.038889563769653135,\n",
       "   0.08416682274876841,\n",
       "   0.019004700465926283,\n",
       "   0.016610006866074056,\n",
       "   0.291561577397101,\n",
       "   0.06613762933773093,\n",
       "   0.24112282449875888,\n",
       "   0.010585239579156247,\n",
       "   0.06875209064004884,\n",
       "   0.1275152129263274,\n",
       "   0.03376950264521961],\n",
       "  [0.038889563769653135,\n",
       "   0.08416682274876841,\n",
       "   0.019004700465926283,\n",
       "   0.016610006866074056,\n",
       "   0.291561577397101,\n",
       "   0.06613762933773093,\n",
       "   0.07706119825901159,\n",
       "   0.010585239579156247,\n",
       "   0.021360160399866546,\n",
       "   0.1275152129263274,\n",
       "   0.03376950264521961],\n",
       "  [0.038889563769653135,\n",
       "   0.08416682274876841,\n",
       "   0.019004700465926283,\n",
       "   0.016610006866074056,\n",
       "   0.291561577397101,\n",
       "   0.06613762933773093,\n",
       "   0.24112282449875888,\n",
       "   0.010585239579156247,\n",
       "   0.06875209064004884,\n",
       "   0.1275152129263274,\n",
       "   0.03376950264521961],\n",
       "  [0.038889563769653135,\n",
       "   0.08416682274876841,\n",
       "   0.019004700465926283,\n",
       "   0.016610006866074056,\n",
       "   0.291561577397101,\n",
       "   0.06613762933773093,\n",
       "   0.24112282449875888,\n",
       "   0.010585239579156247,\n",
       "   0.06875209064004884,\n",
       "   0.1275152129263274,\n",
       "   0.03376950264521961],\n",
       "  [0.038889563769653135,\n",
       "   0.08416682274876841,\n",
       "   0.019004700465926283,\n",
       "   0.016610006866074056,\n",
       "   0.291561577397101,\n",
       "   0.06613762933773093,\n",
       "   0.24112282449875888,\n",
       "   0.010585239579156247,\n",
       "   0.06875209064004884,\n",
       "   0.1275152129263274,\n",
       "   0.03376950264521961],\n",
       "  [0.038889563769653135,\n",
       "   0.08416682274876841,\n",
       "   0.019004700465926283,\n",
       "   0.016610006866074056,\n",
       "   0.291561577397101,\n",
       "   0.06613762933773093,\n",
       "   0.24112282449875888,\n",
       "   0.010585239579156247,\n",
       "   0.06875209064004884,\n",
       "   0.1275152129263274,\n",
       "   0.03376950264521961],\n",
       "  [0.038889563769653135,\n",
       "   0.08416682274876841,\n",
       "   0.019004700465926283,\n",
       "   0.016610006866074056,\n",
       "   0.291561577397101,\n",
       "   0.06613762933773093,\n",
       "   0.24112282449875888,\n",
       "   0.010585239579156247,\n",
       "   0.06875209064004884,\n",
       "   0.1275152129263274,\n",
       "   0.03376950264521961],\n",
       "  [0.038889563769653135,\n",
       "   0.08416682274876841,\n",
       "   0.019004700465926283,\n",
       "   0.016610006866074056,\n",
       "   0.291561577397101,\n",
       "   0.06613762933773093,\n",
       "   0.24112282449875888,\n",
       "   0.010585239579156247,\n",
       "   0.06875209064004884,\n",
       "   0.1275152129263274,\n",
       "   0.03376950264521961]],\n",
       " [{'gen': 0, 'nevals': 100},\n",
       "  {'gen': 1, 'nevals': 42},\n",
       "  {'gen': 2, 'nevals': 58},\n",
       "  {'gen': 3, 'nevals': 57},\n",
       "  {'gen': 4, 'nevals': 48},\n",
       "  {'gen': 5, 'nevals': 59},\n",
       "  {'gen': 6, 'nevals': 51},\n",
       "  {'gen': 7, 'nevals': 64},\n",
       "  {'gen': 8, 'nevals': 55},\n",
       "  {'gen': 9, 'nevals': 66},\n",
       "  {'gen': 10, 'nevals': 72},\n",
       "  {'gen': 11, 'nevals': 52},\n",
       "  {'gen': 12, 'nevals': 70},\n",
       "  {'gen': 13, 'nevals': 56},\n",
       "  {'gen': 14, 'nevals': 54},\n",
       "  {'gen': 15, 'nevals': 56},\n",
       "  {'gen': 16, 'nevals': 57},\n",
       "  {'gen': 17, 'nevals': 65},\n",
       "  {'gen': 18, 'nevals': 53},\n",
       "  {'gen': 19, 'nevals': 68},\n",
       "  {'gen': 20, 'nevals': 64},\n",
       "  {'gen': 21, 'nevals': 60},\n",
       "  {'gen': 22, 'nevals': 63},\n",
       "  {'gen': 23, 'nevals': 63},\n",
       "  {'gen': 24, 'nevals': 59},\n",
       "  {'gen': 25, 'nevals': 54},\n",
       "  {'gen': 26, 'nevals': 65},\n",
       "  {'gen': 27, 'nevals': 64},\n",
       "  {'gen': 28, 'nevals': 67},\n",
       "  {'gen': 29, 'nevals': 67},\n",
       "  {'gen': 30, 'nevals': 53},\n",
       "  {'gen': 31, 'nevals': 64},\n",
       "  {'gen': 32, 'nevals': 69},\n",
       "  {'gen': 33, 'nevals': 60},\n",
       "  {'gen': 34, 'nevals': 63},\n",
       "  {'gen': 35, 'nevals': 57},\n",
       "  {'gen': 36, 'nevals': 49},\n",
       "  {'gen': 37, 'nevals': 47},\n",
       "  {'gen': 38, 'nevals': 76},\n",
       "  {'gen': 39, 'nevals': 52},\n",
       "  {'gen': 40, 'nevals': 48},\n",
       "  {'gen': 41, 'nevals': 53},\n",
       "  {'gen': 42, 'nevals': 55},\n",
       "  {'gen': 43, 'nevals': 57},\n",
       "  {'gen': 44, 'nevals': 55},\n",
       "  {'gen': 45, 'nevals': 60},\n",
       "  {'gen': 46, 'nevals': 58},\n",
       "  {'gen': 47, 'nevals': 72},\n",
       "  {'gen': 48, 'nevals': 56},\n",
       "  {'gen': 49, 'nevals': 69},\n",
       "  {'gen': 50, 'nevals': 61}])"
      ]
     },
     "execution_count": 171,
     "metadata": {},
     "output_type": "execute_result"
    }
   ],
   "source": [
    "population = toolbox.population(n=population_size)\n",
    "algorithms.eaSimple(population, toolbox, cx_prob, mut_prob, num_generations)"
   ]
  },
  {
   "cell_type": "code",
   "execution_count": 172,
   "metadata": {},
   "outputs": [
    {
     "data": {
      "text/plain": [
       "[0.038889563769653135,\n",
       " 0.08416682274876841,\n",
       " 0.019004700465926283,\n",
       " 0.016610006866074056,\n",
       " 0.291561577397101,\n",
       " 0.06613762933773093,\n",
       " 0.24112282449875888,\n",
       " 0.010585239579156247,\n",
       " 0.06875209064004884,\n",
       " 0.1275152129263274,\n",
       " 0.03376950264521961]"
      ]
     },
     "execution_count": 172,
     "metadata": {},
     "output_type": "execute_result"
    }
   ],
   "source": [
    "best_individual = tools.selBest(population, k=1)[0]\n",
    "best_individual"
   ]
  },
  {
   "cell_type": "code",
   "execution_count": 173,
   "metadata": {},
   "outputs": [
    {
     "data": {
      "text/plain": [
       "0.9981151708747648"
      ]
     },
     "execution_count": 173,
     "metadata": {},
     "output_type": "execute_result"
    }
   ],
   "source": [
    "np.sum(best_individual)"
   ]
  },
  {
   "cell_type": "code",
   "execution_count": 174,
   "metadata": {},
   "outputs": [
    {
     "data": {
      "text/html": [
       "<div>\n",
       "<style scoped>\n",
       "    .dataframe tbody tr th:only-of-type {\n",
       "        vertical-align: middle;\n",
       "    }\n",
       "\n",
       "    .dataframe tbody tr th {\n",
       "        vertical-align: top;\n",
       "    }\n",
       "\n",
       "    .dataframe thead th {\n",
       "        text-align: right;\n",
       "    }\n",
       "</style>\n",
       "<table border=\"1\" class=\"dataframe\">\n",
       "  <thead>\n",
       "    <tr style=\"text-align: right;\">\n",
       "      <th></th>\n",
       "      <th>ABEV3.SA</th>\n",
       "      <th>ATOM3.SA</th>\n",
       "      <th>ELET6.SA</th>\n",
       "      <th>ITUB4.SA</th>\n",
       "      <th>PETR4.SA</th>\n",
       "      <th>RDOR3.SA</th>\n",
       "      <th>RENT3.SA</th>\n",
       "      <th>TOTS3.SA</th>\n",
       "      <th>VALE3.SA</th>\n",
       "      <th>VIVT3.SA</th>\n",
       "      <th>WEGE3.SA</th>\n",
       "    </tr>\n",
       "    <tr>\n",
       "      <th>Date</th>\n",
       "      <th></th>\n",
       "      <th></th>\n",
       "      <th></th>\n",
       "      <th></th>\n",
       "      <th></th>\n",
       "      <th></th>\n",
       "      <th></th>\n",
       "      <th></th>\n",
       "      <th></th>\n",
       "      <th></th>\n",
       "      <th></th>\n",
       "    </tr>\n",
       "  </thead>\n",
       "  <tbody>\n",
       "    <tr>\n",
       "      <th>2021-01-04</th>\n",
       "      <td>14.085717</td>\n",
       "      <td>2.405986</td>\n",
       "      <td>30.883389</td>\n",
       "      <td>27.947105</td>\n",
       "      <td>11.470778</td>\n",
       "      <td>63.675331</td>\n",
       "      <td>64.90799</td>\n",
       "      <td>27.178003</td>\n",
       "      <td>69.413048</td>\n",
       "      <td>38.887135</td>\n",
       "      <td>35.927429</td>\n",
       "    </tr>\n",
       "  </tbody>\n",
       "</table>\n",
       "</div>"
      ],
      "text/plain": [
       "             ABEV3.SA  ATOM3.SA   ELET6.SA   ITUB4.SA   PETR4.SA   RDOR3.SA  \\\n",
       "Date                                                                          \n",
       "2021-01-04  14.085717  2.405986  30.883389  27.947105  11.470778  63.675331   \n",
       "\n",
       "            RENT3.SA   TOTS3.SA   VALE3.SA   VIVT3.SA   WEGE3.SA  \n",
       "Date                                                              \n",
       "2021-01-04  64.90799  27.178003  69.413048  38.887135  35.927429  "
      ]
     },
     "execution_count": 174,
     "metadata": {},
     "output_type": "execute_result"
    }
   ],
   "source": [
    "data.head(1)"
   ]
  },
  {
   "cell_type": "code",
   "execution_count": 175,
   "metadata": {},
   "outputs": [],
   "source": [
    "def port_return(weights, dataset=returns):\n",
    "    x = dataset.mul(weights).sum(axis=1)  # Soma dos retornos da carteira dia a dia\n",
    "    x = x + 1\n",
    "    x = x.cumprod() - 1\n",
    "    return x.tail(1)"
   ]
  },
  {
   "cell_type": "code",
   "execution_count": 176,
   "metadata": {},
   "outputs": [
    {
     "data": {
      "text/plain": [
       "Date\n",
       "2022-12-29    0.230489\n",
       "dtype: float64"
      ]
     },
     "execution_count": 176,
     "metadata": {},
     "output_type": "execute_result"
    }
   ],
   "source": [
    "port_return(best_individual)"
   ]
  },
  {
   "cell_type": "code",
   "execution_count": 177,
   "metadata": {},
   "outputs": [
    {
     "data": {
      "application/vnd.plotly.v1+json": {
       "config": {
        "plotlyServerURL": "https://plot.ly"
       },
       "data": [
        {
         "hovertemplate": "Date=%{x}<br>y=%{y}<extra></extra>",
         "legendgroup": "",
         "line": {
          "color": "#636efa",
          "dash": "solid"
         },
         "marker": {
          "symbol": "circle"
         },
         "mode": "lines",
         "name": "",
         "orientation": "v",
         "showlegend": false,
         "type": "scatter",
         "x": [
          "2021-01-05T00:00:00",
          "2021-01-06T00:00:00",
          "2021-01-07T00:00:00",
          "2021-01-08T00:00:00",
          "2021-01-11T00:00:00",
          "2021-01-12T00:00:00",
          "2021-01-13T00:00:00",
          "2021-01-14T00:00:00",
          "2021-01-15T00:00:00",
          "2021-01-18T00:00:00",
          "2021-01-19T00:00:00",
          "2021-01-20T00:00:00",
          "2021-01-21T00:00:00",
          "2021-01-22T00:00:00",
          "2021-01-26T00:00:00",
          "2021-01-27T00:00:00",
          "2021-01-28T00:00:00",
          "2021-01-29T00:00:00",
          "2021-02-01T00:00:00",
          "2021-02-02T00:00:00",
          "2021-02-03T00:00:00",
          "2021-02-04T00:00:00",
          "2021-02-05T00:00:00",
          "2021-02-08T00:00:00",
          "2021-02-09T00:00:00",
          "2021-02-10T00:00:00",
          "2021-02-11T00:00:00",
          "2021-02-12T00:00:00",
          "2021-02-17T00:00:00",
          "2021-02-18T00:00:00",
          "2021-02-19T00:00:00",
          "2021-02-22T00:00:00",
          "2021-02-23T00:00:00",
          "2021-02-24T00:00:00",
          "2021-02-25T00:00:00",
          "2021-02-26T00:00:00",
          "2021-03-01T00:00:00",
          "2021-03-02T00:00:00",
          "2021-03-03T00:00:00",
          "2021-03-04T00:00:00",
          "2021-03-05T00:00:00",
          "2021-03-08T00:00:00",
          "2021-03-09T00:00:00",
          "2021-03-10T00:00:00",
          "2021-03-11T00:00:00",
          "2021-03-12T00:00:00",
          "2021-03-15T00:00:00",
          "2021-03-16T00:00:00",
          "2021-03-17T00:00:00",
          "2021-03-18T00:00:00",
          "2021-03-19T00:00:00",
          "2021-03-22T00:00:00",
          "2021-03-23T00:00:00",
          "2021-03-24T00:00:00",
          "2021-03-25T00:00:00",
          "2021-03-26T00:00:00",
          "2021-03-29T00:00:00",
          "2021-03-30T00:00:00",
          "2021-03-31T00:00:00",
          "2021-04-01T00:00:00",
          "2021-04-05T00:00:00",
          "2021-04-06T00:00:00",
          "2021-04-07T00:00:00",
          "2021-04-08T00:00:00",
          "2021-04-09T00:00:00",
          "2021-04-12T00:00:00",
          "2021-04-13T00:00:00",
          "2021-04-14T00:00:00",
          "2021-04-15T00:00:00",
          "2021-04-16T00:00:00",
          "2021-04-19T00:00:00",
          "2021-04-20T00:00:00",
          "2021-04-22T00:00:00",
          "2021-04-23T00:00:00",
          "2021-04-26T00:00:00",
          "2021-04-27T00:00:00",
          "2021-04-28T00:00:00",
          "2021-04-29T00:00:00",
          "2021-04-30T00:00:00",
          "2021-05-03T00:00:00",
          "2021-05-04T00:00:00",
          "2021-05-05T00:00:00",
          "2021-05-06T00:00:00",
          "2021-05-07T00:00:00",
          "2021-05-10T00:00:00",
          "2021-05-11T00:00:00",
          "2021-05-12T00:00:00",
          "2021-05-13T00:00:00",
          "2021-05-14T00:00:00",
          "2021-05-17T00:00:00",
          "2021-05-18T00:00:00",
          "2021-05-19T00:00:00",
          "2021-05-20T00:00:00",
          "2021-05-21T00:00:00",
          "2021-05-24T00:00:00",
          "2021-05-25T00:00:00",
          "2021-05-26T00:00:00",
          "2021-05-27T00:00:00",
          "2021-05-28T00:00:00",
          "2021-05-31T00:00:00",
          "2021-06-01T00:00:00",
          "2021-06-02T00:00:00",
          "2021-06-04T00:00:00",
          "2021-06-07T00:00:00",
          "2021-06-08T00:00:00",
          "2021-06-09T00:00:00",
          "2021-06-10T00:00:00",
          "2021-06-11T00:00:00",
          "2021-06-14T00:00:00",
          "2021-06-15T00:00:00",
          "2021-06-16T00:00:00",
          "2021-06-17T00:00:00",
          "2021-06-18T00:00:00",
          "2021-06-21T00:00:00",
          "2021-06-22T00:00:00",
          "2021-06-23T00:00:00",
          "2021-06-24T00:00:00",
          "2021-06-25T00:00:00",
          "2021-06-28T00:00:00",
          "2021-06-29T00:00:00",
          "2021-06-30T00:00:00",
          "2021-07-01T00:00:00",
          "2021-07-02T00:00:00",
          "2021-07-05T00:00:00",
          "2021-07-06T00:00:00",
          "2021-07-07T00:00:00",
          "2021-07-08T00:00:00",
          "2021-07-12T00:00:00",
          "2021-07-13T00:00:00",
          "2021-07-14T00:00:00",
          "2021-07-15T00:00:00",
          "2021-07-16T00:00:00",
          "2021-07-19T00:00:00",
          "2021-07-20T00:00:00",
          "2021-07-21T00:00:00",
          "2021-07-22T00:00:00",
          "2021-07-23T00:00:00",
          "2021-07-26T00:00:00",
          "2021-07-27T00:00:00",
          "2021-07-28T00:00:00",
          "2021-07-29T00:00:00",
          "2021-07-30T00:00:00",
          "2021-08-02T00:00:00",
          "2021-08-03T00:00:00",
          "2021-08-04T00:00:00",
          "2021-08-05T00:00:00",
          "2021-08-06T00:00:00",
          "2021-08-09T00:00:00",
          "2021-08-10T00:00:00",
          "2021-08-11T00:00:00",
          "2021-08-12T00:00:00",
          "2021-08-13T00:00:00",
          "2021-08-16T00:00:00",
          "2021-08-17T00:00:00",
          "2021-08-18T00:00:00",
          "2021-08-19T00:00:00",
          "2021-08-20T00:00:00",
          "2021-08-23T00:00:00",
          "2021-08-24T00:00:00",
          "2021-08-25T00:00:00",
          "2021-08-26T00:00:00",
          "2021-08-27T00:00:00",
          "2021-08-30T00:00:00",
          "2021-08-31T00:00:00",
          "2021-09-01T00:00:00",
          "2021-09-02T00:00:00",
          "2021-09-03T00:00:00",
          "2021-09-06T00:00:00",
          "2021-09-08T00:00:00",
          "2021-09-09T00:00:00",
          "2021-09-10T00:00:00",
          "2021-09-13T00:00:00",
          "2021-09-14T00:00:00",
          "2021-09-15T00:00:00",
          "2021-09-16T00:00:00",
          "2021-09-17T00:00:00",
          "2021-09-20T00:00:00",
          "2021-09-21T00:00:00",
          "2021-09-22T00:00:00",
          "2021-09-23T00:00:00",
          "2021-09-24T00:00:00",
          "2021-09-27T00:00:00",
          "2021-09-28T00:00:00",
          "2021-09-29T00:00:00",
          "2021-09-30T00:00:00",
          "2021-10-01T00:00:00",
          "2021-10-04T00:00:00",
          "2021-10-05T00:00:00",
          "2021-10-06T00:00:00",
          "2021-10-07T00:00:00",
          "2021-10-08T00:00:00",
          "2021-10-11T00:00:00",
          "2021-10-13T00:00:00",
          "2021-10-14T00:00:00",
          "2021-10-15T00:00:00",
          "2021-10-18T00:00:00",
          "2021-10-19T00:00:00",
          "2021-10-20T00:00:00",
          "2021-10-21T00:00:00",
          "2021-10-22T00:00:00",
          "2021-10-25T00:00:00",
          "2021-10-26T00:00:00",
          "2021-10-27T00:00:00",
          "2021-10-28T00:00:00",
          "2021-10-29T00:00:00",
          "2021-11-01T00:00:00",
          "2021-11-03T00:00:00",
          "2021-11-04T00:00:00",
          "2021-11-05T00:00:00",
          "2021-11-08T00:00:00",
          "2021-11-09T00:00:00",
          "2021-11-10T00:00:00",
          "2021-11-11T00:00:00",
          "2021-11-12T00:00:00",
          "2021-11-16T00:00:00",
          "2021-11-17T00:00:00",
          "2021-11-18T00:00:00",
          "2021-11-19T00:00:00",
          "2021-11-22T00:00:00",
          "2021-11-23T00:00:00",
          "2021-11-24T00:00:00",
          "2021-11-25T00:00:00",
          "2021-11-26T00:00:00",
          "2021-11-29T00:00:00",
          "2021-11-30T00:00:00",
          "2021-12-01T00:00:00",
          "2021-12-02T00:00:00",
          "2021-12-03T00:00:00",
          "2021-12-06T00:00:00",
          "2021-12-07T00:00:00",
          "2021-12-08T00:00:00",
          "2021-12-09T00:00:00",
          "2021-12-10T00:00:00",
          "2021-12-13T00:00:00",
          "2021-12-14T00:00:00",
          "2021-12-15T00:00:00",
          "2021-12-16T00:00:00",
          "2021-12-17T00:00:00",
          "2021-12-20T00:00:00",
          "2021-12-21T00:00:00",
          "2021-12-22T00:00:00",
          "2021-12-23T00:00:00",
          "2021-12-27T00:00:00",
          "2021-12-28T00:00:00",
          "2021-12-29T00:00:00",
          "2021-12-30T00:00:00",
          "2022-01-03T00:00:00",
          "2022-01-04T00:00:00",
          "2022-01-05T00:00:00",
          "2022-01-06T00:00:00",
          "2022-01-07T00:00:00",
          "2022-01-10T00:00:00",
          "2022-01-11T00:00:00",
          "2022-01-12T00:00:00",
          "2022-01-13T00:00:00",
          "2022-01-14T00:00:00",
          "2022-01-17T00:00:00",
          "2022-01-18T00:00:00",
          "2022-01-19T00:00:00",
          "2022-01-20T00:00:00",
          "2022-01-21T00:00:00",
          "2022-01-24T00:00:00",
          "2022-01-25T00:00:00",
          "2022-01-26T00:00:00",
          "2022-01-27T00:00:00",
          "2022-01-28T00:00:00",
          "2022-01-31T00:00:00",
          "2022-02-01T00:00:00",
          "2022-02-02T00:00:00",
          "2022-02-03T00:00:00",
          "2022-02-04T00:00:00",
          "2022-02-07T00:00:00",
          "2022-02-08T00:00:00",
          "2022-02-09T00:00:00",
          "2022-02-10T00:00:00",
          "2022-02-11T00:00:00",
          "2022-02-14T00:00:00",
          "2022-02-15T00:00:00",
          "2022-02-16T00:00:00",
          "2022-02-17T00:00:00",
          "2022-02-18T00:00:00",
          "2022-02-21T00:00:00",
          "2022-02-22T00:00:00",
          "2022-02-23T00:00:00",
          "2022-02-24T00:00:00",
          "2022-02-25T00:00:00",
          "2022-03-02T00:00:00",
          "2022-03-03T00:00:00",
          "2022-03-04T00:00:00",
          "2022-03-07T00:00:00",
          "2022-03-08T00:00:00",
          "2022-03-09T00:00:00",
          "2022-03-10T00:00:00",
          "2022-03-11T00:00:00",
          "2022-03-14T00:00:00",
          "2022-03-15T00:00:00",
          "2022-03-16T00:00:00",
          "2022-03-17T00:00:00",
          "2022-03-18T00:00:00",
          "2022-03-21T00:00:00",
          "2022-03-22T00:00:00",
          "2022-03-23T00:00:00",
          "2022-03-24T00:00:00",
          "2022-03-25T00:00:00",
          "2022-03-28T00:00:00",
          "2022-03-29T00:00:00",
          "2022-03-30T00:00:00",
          "2022-03-31T00:00:00",
          "2022-04-01T00:00:00",
          "2022-04-04T00:00:00",
          "2022-04-05T00:00:00",
          "2022-04-06T00:00:00",
          "2022-04-07T00:00:00",
          "2022-04-08T00:00:00",
          "2022-04-11T00:00:00",
          "2022-04-12T00:00:00",
          "2022-04-13T00:00:00",
          "2022-04-14T00:00:00",
          "2022-04-18T00:00:00",
          "2022-04-19T00:00:00",
          "2022-04-20T00:00:00",
          "2022-04-22T00:00:00",
          "2022-04-25T00:00:00",
          "2022-04-26T00:00:00",
          "2022-04-27T00:00:00",
          "2022-04-28T00:00:00",
          "2022-04-29T00:00:00",
          "2022-05-02T00:00:00",
          "2022-05-03T00:00:00",
          "2022-05-04T00:00:00",
          "2022-05-05T00:00:00",
          "2022-05-06T00:00:00",
          "2022-05-09T00:00:00",
          "2022-05-10T00:00:00",
          "2022-05-11T00:00:00",
          "2022-05-12T00:00:00",
          "2022-05-13T00:00:00",
          "2022-05-16T00:00:00",
          "2022-05-17T00:00:00",
          "2022-05-18T00:00:00",
          "2022-05-19T00:00:00",
          "2022-05-20T00:00:00",
          "2022-05-23T00:00:00",
          "2022-05-24T00:00:00",
          "2022-05-25T00:00:00",
          "2022-05-26T00:00:00",
          "2022-05-27T00:00:00",
          "2022-05-30T00:00:00",
          "2022-05-31T00:00:00",
          "2022-06-01T00:00:00",
          "2022-06-02T00:00:00",
          "2022-06-03T00:00:00",
          "2022-06-06T00:00:00",
          "2022-06-07T00:00:00",
          "2022-06-08T00:00:00",
          "2022-06-09T00:00:00",
          "2022-06-10T00:00:00",
          "2022-06-13T00:00:00",
          "2022-06-14T00:00:00",
          "2022-06-15T00:00:00",
          "2022-06-17T00:00:00",
          "2022-06-20T00:00:00",
          "2022-06-21T00:00:00",
          "2022-06-22T00:00:00",
          "2022-06-23T00:00:00",
          "2022-06-24T00:00:00",
          "2022-06-27T00:00:00",
          "2022-06-28T00:00:00",
          "2022-06-29T00:00:00",
          "2022-06-30T00:00:00",
          "2022-07-01T00:00:00",
          "2022-07-04T00:00:00",
          "2022-07-05T00:00:00",
          "2022-07-06T00:00:00",
          "2022-07-07T00:00:00",
          "2022-07-08T00:00:00",
          "2022-07-11T00:00:00",
          "2022-07-12T00:00:00",
          "2022-07-13T00:00:00",
          "2022-07-14T00:00:00",
          "2022-07-15T00:00:00",
          "2022-07-18T00:00:00",
          "2022-07-19T00:00:00",
          "2022-07-20T00:00:00",
          "2022-07-21T00:00:00",
          "2022-07-22T00:00:00",
          "2022-07-25T00:00:00",
          "2022-07-26T00:00:00",
          "2022-07-27T00:00:00",
          "2022-07-28T00:00:00",
          "2022-07-29T00:00:00",
          "2022-08-01T00:00:00",
          "2022-08-02T00:00:00",
          "2022-08-03T00:00:00",
          "2022-08-04T00:00:00",
          "2022-08-05T00:00:00",
          "2022-08-08T00:00:00",
          "2022-08-09T00:00:00",
          "2022-08-10T00:00:00",
          "2022-08-11T00:00:00",
          "2022-08-12T00:00:00",
          "2022-08-15T00:00:00",
          "2022-08-16T00:00:00",
          "2022-08-17T00:00:00",
          "2022-08-18T00:00:00",
          "2022-08-19T00:00:00",
          "2022-08-22T00:00:00",
          "2022-08-23T00:00:00",
          "2022-08-24T00:00:00",
          "2022-08-25T00:00:00",
          "2022-08-26T00:00:00",
          "2022-08-29T00:00:00",
          "2022-08-30T00:00:00",
          "2022-08-31T00:00:00",
          "2022-09-01T00:00:00",
          "2022-09-02T00:00:00",
          "2022-09-05T00:00:00",
          "2022-09-06T00:00:00",
          "2022-09-08T00:00:00",
          "2022-09-09T00:00:00",
          "2022-09-12T00:00:00",
          "2022-09-13T00:00:00",
          "2022-09-14T00:00:00",
          "2022-09-15T00:00:00",
          "2022-09-16T00:00:00",
          "2022-09-19T00:00:00",
          "2022-09-20T00:00:00",
          "2022-09-21T00:00:00",
          "2022-09-22T00:00:00",
          "2022-09-23T00:00:00",
          "2022-09-26T00:00:00",
          "2022-09-27T00:00:00",
          "2022-09-28T00:00:00",
          "2022-09-29T00:00:00",
          "2022-09-30T00:00:00",
          "2022-10-03T00:00:00",
          "2022-10-04T00:00:00",
          "2022-10-05T00:00:00",
          "2022-10-06T00:00:00",
          "2022-10-07T00:00:00",
          "2022-10-10T00:00:00",
          "2022-10-11T00:00:00",
          "2022-10-13T00:00:00",
          "2022-10-14T00:00:00",
          "2022-10-17T00:00:00",
          "2022-10-18T00:00:00",
          "2022-10-19T00:00:00",
          "2022-10-20T00:00:00",
          "2022-10-21T00:00:00",
          "2022-10-24T00:00:00",
          "2022-10-25T00:00:00",
          "2022-10-26T00:00:00",
          "2022-10-27T00:00:00",
          "2022-10-28T00:00:00",
          "2022-10-31T00:00:00",
          "2022-11-01T00:00:00",
          "2022-11-03T00:00:00",
          "2022-11-04T00:00:00",
          "2022-11-07T00:00:00",
          "2022-11-08T00:00:00",
          "2022-11-09T00:00:00",
          "2022-11-10T00:00:00",
          "2022-11-11T00:00:00",
          "2022-11-14T00:00:00",
          "2022-11-16T00:00:00",
          "2022-11-17T00:00:00",
          "2022-11-18T00:00:00",
          "2022-11-21T00:00:00",
          "2022-11-22T00:00:00",
          "2022-11-23T00:00:00",
          "2022-11-24T00:00:00",
          "2022-11-25T00:00:00",
          "2022-11-28T00:00:00",
          "2022-11-29T00:00:00",
          "2022-11-30T00:00:00",
          "2022-12-01T00:00:00",
          "2022-12-02T00:00:00",
          "2022-12-05T00:00:00",
          "2022-12-06T00:00:00",
          "2022-12-07T00:00:00",
          "2022-12-08T00:00:00",
          "2022-12-09T00:00:00",
          "2022-12-12T00:00:00",
          "2022-12-13T00:00:00",
          "2022-12-14T00:00:00",
          "2022-12-15T00:00:00",
          "2022-12-16T00:00:00",
          "2022-12-19T00:00:00",
          "2022-12-20T00:00:00",
          "2022-12-21T00:00:00",
          "2022-12-22T00:00:00",
          "2022-12-23T00:00:00",
          "2022-12-26T00:00:00",
          "2022-12-27T00:00:00",
          "2022-12-28T00:00:00",
          "2022-12-29T00:00:00"
         ],
         "xaxis": "x",
         "y": [
          0.013812889047204013,
          0.000990254434635851,
          0.020344825925292076,
          0.04987266707114357,
          0.039110195397109804,
          0.0461957906649797,
          0.030470943363818837,
          0.04736529960414848,
          0.015480727742471334,
          0.018008559476032193,
          0.015205094625071691,
          0.00829217113420766,
          -0.009434627708712284,
          -0.01762739082282805,
          -0.021033309581930504,
          -0.01990873421752115,
          -0.003934053363728762,
          -0.03619728508337339,
          -0.016773557019840957,
          0.0120030711682797,
          0.03231523711823203,
          0.033919855895788276,
          0.037451407708267714,
          0.030981907030349642,
          0.022111584919530358,
          0.01680731815492109,
          0.03426724371505352,
          0.03890498133802822,
          0.041418723285299164,
          0.030720943223356167,
          0.017707627244571755,
          -0.07089604774138536,
          -0.03371753503966424,
          -0.032963945376428994,
          -0.05979719060924937,
          -0.0874908366963576,
          -0.08621446846096648,
          -0.08874864529731175,
          -0.0964689979973199,
          -0.07701178990507873,
          -0.07059375213080299,
          -0.1190868145238998,
          -0.10861064701340095,
          -0.0982379128924401,
          -0.07069794770100002,
          -0.06739422217338709,
          -0.05370837115982818,
          -0.06540437953971856,
          -0.04492006531462844,
          -0.0677945851183992,
          -0.053333577237824725,
          -0.06815341295084765,
          -0.085779556679073,
          -0.09551017697486186,
          -0.08048844445101011,
          -0.07293755385395895,
          -0.06548172095603921,
          -0.05202426132577631,
          0.054011026792841976,
          0.07876296479058409,
          0.08501099257554778,
          0.0858494829033738,
          0.08461024201251943,
          0.08856300618377122,
          0.07956526315298484,
          0.09050230182611396,
          0.09151181271225162,
          0.10124303109390875,
          0.09452235129091746,
          0.09295478310108729,
          0.10412305950563505,
          0.08797192920983776,
          0.07722979496003113,
          0.08356126743420034,
          0.09164953247952612,
          0.09063468344697134,
          0.10709191914348781,
          0.10370447893613499,
          0.10592665513891308,
          0.09544954182204379,
          0.0784290575031037,
          0.09079516799483467,
          0.10046703894193709,
          0.12015417988544419,
          0.12487762008889813,
          0.135143529083529,
          0.09913857490171618,
          0.10523514705690262,
          0.12202936532083153,
          0.13826877240957525,
          0.13970248069352587,
          0.13039587961393106,
          0.1394244230265702,
          0.13892424666312575,
          0.15443227785133118,
          0.14120679647412127,
          0.14529291823695423,
          0.13507927479463344,
          0.15047474855735143,
          0.1566788856997796,
          0.1716811240323608,
          0.18319821501917533,
          0.20036936905369762,
          0.20026694502469278,
          0.19768676709469868,
          0.19232933191802437,
          0.1952745319793745,
          0.18072838228361743,
          0.1950452599428223,
          0.1928172116779705,
          0.18482896798743664,
          0.1649143620868907,
          0.16899050145705852,
          0.1794065416746906,
          0.17726968765844653,
          0.18307347935771823,
          0.19354405975743116,
          0.1738200481969121,
          0.18064576238399965,
          0.18094015795240082,
          0.17675111684647415,
          0.16316336796962605,
          0.18359753360543496,
          0.17697838765550267,
          0.15196245929816432,
          0.17733179759617457,
          0.1573124896188991,
          0.16672858533675927,
          0.1636241433176462,
          0.1719169560988214,
          0.1594408401801113,
          0.14918627624068415,
          0.13225838597006656,
          0.13691222172251427,
          0.13994031302275345,
          0.1497770333029813,
          0.1416252242791547,
          0.1511958219850167,
          0.1371232711414072,
          0.15058425459495361,
          0.15050122987480208,
          0.11032570643679018,
          0.10414374579810026,
          0.11228824301656903,
          0.08983263652821938,
          0.10750729701698103,
          0.11039677503646295,
          0.11423751078842859,
          0.10319105650143845,
          0.10661773222601134,
          0.1173231718329697,
          0.126331172308493,
          0.1025558316223103,
          0.09480569108091541,
          0.09021364019431277,
          0.101713560222501,
          0.11332075252009499,
          0.1115858839990358,
          0.12561542850333085,
          0.1335364101271963,
          0.11630222317369454,
          0.14337586973598637,
          0.1267215039245837,
          0.09978793951780918,
          0.09415689504462832,
          0.07792619130149148,
          0.07311044534840394,
          0.0845567529467035,
          0.06886774145952246,
          0.0860674562637247,
          0.0709510180319215,
          0.0962370308822238,
          0.08733267568884218,
          0.09157949170060076,
          0.07938576187224755,
          0.05973484366863757,
          0.04072184250479527,
          0.05991827099125069,
          0.0830246315761054,
          0.10026043326574063,
          0.08863021873958665,
          0.08998910903628543,
          0.0750248291751956,
          0.07752345502303615,
          0.07551739859698015,
          0.09410318972011922,
          0.07676598909735777,
          0.08305222544560165,
          0.07421529442891628,
          0.07521877765596208,
          0.10238786278404177,
          0.1042133858837564,
          0.11698603106031813,
          0.11536131153239948,
          0.11928812392170962,
          0.12018671401865921,
          0.0811226165896588,
          0.07765304099457948,
          0.04610372716755928,
          0.022032603371724635,
          0.0521685391312825,
          0.02826350792946064,
          0.02843473648172168,
          0.028998387040258145,
          0.0037816810305126847,
          0.02068832684071764,
          0.03147194920565011,
          0.011197282921823648,
          0.019768621934797448,
          0.01500822800398205,
          0.022717155845895398,
          0.02385988584453802,
          0.03900423690874244,
          0.03485459143936409,
          0.027157843699656903,
          0.015306595884638563,
          0.014050976805449533,
          0.026707337269359144,
          0.02363808713125448,
          0.044388345243335126,
          0.04552047630733935,
          0.0660819603425511,
          0.03364813949960932,
          0.042685294990352673,
          0.03264104738120199,
          0.02398809887025366,
          0.0702440639982509,
          0.07864299607229785,
          0.0772097867015884,
          0.09022525014230509,
          0.09847523654794998,
          0.08742860066859581,
          0.10104430257167074,
          0.10240893500076753,
          0.09356763926372635,
          0.10379135786087268,
          0.11131975534295702,
          0.08981740616294043,
          0.06878844651361571,
          0.07265210146120316,
          0.06823942607621869,
          0.062731423223501,
          0.0687734809916627,
          0.06064826758696373,
          0.047963409251698064,
          0.06619725726143422,
          0.05829923463632669,
          0.05639503184036854,
          0.022029914238804515,
          0.04033865345511556,
          0.04328108785100371,
          0.02691033013649613,
          0.04127331655586741,
          0.057458389736663396,
          0.061422667025446964,
          0.0841110802874494,
          0.07696161852844963,
          0.07511486502107134,
          0.08076677518986397,
          0.11162667017898231,
          0.11719870902362994,
          0.10703544154585942,
          0.13710070471787694,
          0.1580210278299785,
          0.16530837997909154,
          0.14973282910849028,
          0.15720523769276218,
          0.1703605440191096,
          0.16127425438991927,
          0.1516145930760755,
          0.16142566813853132,
          0.14478638603550165,
          0.14137888323238967,
          0.15215458493180778,
          0.15583521162775082,
          0.17195965699841964,
          0.17025145916596318,
          0.18226437270066298,
          0.18907730468858963,
          0.17931227062298394,
          0.17567365581944627,
          0.17289804157195166,
          0.19649730918898833,
          0.1893494105760174,
          0.1739471865927169,
          0.1856815325452701,
          0.18900218573145366,
          0.18064345128596804,
          0.16712432651960296,
          0.13002196231015684,
          0.13556449271878002,
          0.1672925713288671,
          0.1678676758997486,
          0.14698581812625267,
          0.14506308916769872,
          0.1350051572787654,
          0.15023669952411067,
          0.15243597830165534,
          0.17029095137492045,
          0.17821190904012618,
          0.192589877204272,
          0.19706746232671657,
          0.21045956271383526,
          0.21418775890010333,
          0.20938211701149023,
          0.22478329461327862,
          0.23344750740146392,
          0.24366087163985717,
          0.2564769143409822,
          0.25451228126129144,
          0.2343149281098631,
          0.22457061050236016,
          0.23475614264082134,
          0.23331891026726237,
          0.2220332882827878,
          0.2135021946075859,
          0.22167768021352474,
          0.20673004090576885,
          0.19887840146303737,
          0.20724314063473037,
          0.20553122042234073,
          0.17283912860461204,
          0.16718007287498304,
          0.146526635387904,
          0.15425903598307644,
          0.15988141088931762,
          0.14680006826292913,
          0.13274926093255202,
          0.1378218630108763,
          0.17824100918426322,
          0.15020690395242653,
          0.15182296705542875,
          0.1289744659599119,
          0.13415598530045392,
          0.14341311153080016,
          0.1594105198981135,
          0.16744938610354176,
          0.19877717986218246,
          0.19398195001209362,
          0.17347288573013397,
          0.17957142781176283,
          0.19743824036485513,
          0.22051944086928654,
          0.2093404842212605,
          0.22564106582638654,
          0.23858904810308035,
          0.2224444555568148,
          0.20558788822778395,
          0.20704173309899576,
          0.20702372274625036,
          0.2058423853715401,
          0.19207817619420475,
          0.17553076698329106,
          0.1819559546018752,
          0.16600987715058535,
          0.15883218962407608,
          0.14014185658452116,
          0.11739901202707714,
          0.12412668117248526,
          0.13084214618560952,
          0.0910764516264122,
          0.08925732373235795,
          0.0907670284212847,
          0.09375573065914722,
          0.08587454620777546,
          0.08346400736522241,
          0.11487622532136954,
          0.1137741598714701,
          0.11420296191861645,
          0.11573569383986082,
          0.1273815872329025,
          0.12929670754914335,
          0.1163956341115493,
          0.12475056161474884,
          0.15371701139062033,
          0.1530499327383028,
          0.13239415518491038,
          0.1238629252344734,
          0.12935622152422122,
          0.10909920416109786,
          0.11154244648113876,
          0.11477523928884148,
          0.13242939630369688,
          0.13056097187220783,
          0.14171948915892774,
          0.14963242988953218,
          0.1734727808102685,
          0.1671879913111216,
          0.1864146535726885,
          0.19885470394664484,
          0.2207433810341306,
          0.2113783252314798,
          0.2174736671382742,
          0.224000946507656,
          0.25272744707838335,
          0.25829670720169373,
          0.29639891334201796,
          0.2975174259537354,
          0.30874028425528155,
          0.2925123111541348,
          0.33469054883689364,
          0.3400878920366859,
          0.3341772974816315,
          0.3436903013786594,
          0.35481201305410837,
          0.3199160266055243,
          0.31274049710475804,
          0.3418057353735231,
          0.3442415788501709,
          0.3385283820348446,
          0.3211565675608061,
          0.3243327839878969,
          0.30122558269922317,
          0.298299138179142,
          0.31890746190275343,
          0.3167302655527029,
          0.32855478142973693,
          0.2987334996406805,
          0.29532228805119654,
          0.31794289906011186,
          0.32939798768758144,
          0.2975321021704027,
          0.3043204755657707,
          0.2922360645218933,
          0.28467304400227267,
          0.30515931899901805,
          0.311713274498862,
          0.30778827083346405,
          0.3371769440703587,
          0.3034412389759851,
          0.2732692267288923,
          0.2552351073356549,
          0.25344316465738403,
          0.24644547640225012,
          0.2683214859515435,
          0.3358980105885099,
          0.3282371699418929,
          0.339443501077346,
          0.3543452597534804,
          0.34470877867657723,
          0.3423812743025165,
          0.33498797270351344,
          0.3442769805586028,
          0.3206997985716027,
          0.33351836398575285,
          0.35266915023043843,
          0.37950947401267987,
          0.3808088459194223,
          0.40561821095822914,
          0.3547594937605085,
          0.33637017203299124,
          0.31711481111834283,
          0.34530312401344077,
          0.3443487044574296,
          0.33498634439347796,
          0.3392457204839894,
          0.35410423929824253,
          0.3448883946227108,
          0.3128996573838809,
          0.31960136090504787,
          0.29707050341464236,
          0.25866857162311274,
          0.28028611876203935,
          0.2978593773833098,
          0.24687485612609694,
          0.24247404050851062,
          0.23232830870549415,
          0.24267120255643082,
          0.23158261223285326,
          0.23024123910216265,
          0.2712720123266119,
          0.23485813047800375,
          0.24046926678912595,
          0.26781833835597957,
          0.2911683242881964,
          0.2645945374593923,
          0.2800500110117976,
          0.24561687941015875,
          0.24883535183950256,
          0.23525088976170916,
          0.20581560164556922,
          0.2025124444119486,
          0.17341743848558688,
          0.140635479981555,
          0.1305863295070504,
          0.14109056374811058,
          0.1345161012042706,
          0.16031105103646848,
          0.19219858202746587,
          0.1973381508430454,
          0.20440508705024696,
          0.2506741065372786,
          0.23638326363636342,
          0.2261695005816733,
          0.24069266069962403,
          0.2304886846806502
         ],
         "yaxis": "y"
        }
       ],
       "layout": {
        "legend": {
         "tracegroupgap": 0
        },
        "template": {
         "data": {
          "bar": [
           {
            "error_x": {
             "color": "#2a3f5f"
            },
            "error_y": {
             "color": "#2a3f5f"
            },
            "marker": {
             "line": {
              "color": "#E5ECF6",
              "width": 0.5
             },
             "pattern": {
              "fillmode": "overlay",
              "size": 10,
              "solidity": 0.2
             }
            },
            "type": "bar"
           }
          ],
          "barpolar": [
           {
            "marker": {
             "line": {
              "color": "#E5ECF6",
              "width": 0.5
             },
             "pattern": {
              "fillmode": "overlay",
              "size": 10,
              "solidity": 0.2
             }
            },
            "type": "barpolar"
           }
          ],
          "carpet": [
           {
            "aaxis": {
             "endlinecolor": "#2a3f5f",
             "gridcolor": "white",
             "linecolor": "white",
             "minorgridcolor": "white",
             "startlinecolor": "#2a3f5f"
            },
            "baxis": {
             "endlinecolor": "#2a3f5f",
             "gridcolor": "white",
             "linecolor": "white",
             "minorgridcolor": "white",
             "startlinecolor": "#2a3f5f"
            },
            "type": "carpet"
           }
          ],
          "choropleth": [
           {
            "colorbar": {
             "outlinewidth": 0,
             "ticks": ""
            },
            "type": "choropleth"
           }
          ],
          "contour": [
           {
            "colorbar": {
             "outlinewidth": 0,
             "ticks": ""
            },
            "colorscale": [
             [
              0,
              "#0d0887"
             ],
             [
              0.1111111111111111,
              "#46039f"
             ],
             [
              0.2222222222222222,
              "#7201a8"
             ],
             [
              0.3333333333333333,
              "#9c179e"
             ],
             [
              0.4444444444444444,
              "#bd3786"
             ],
             [
              0.5555555555555556,
              "#d8576b"
             ],
             [
              0.6666666666666666,
              "#ed7953"
             ],
             [
              0.7777777777777778,
              "#fb9f3a"
             ],
             [
              0.8888888888888888,
              "#fdca26"
             ],
             [
              1,
              "#f0f921"
             ]
            ],
            "type": "contour"
           }
          ],
          "contourcarpet": [
           {
            "colorbar": {
             "outlinewidth": 0,
             "ticks": ""
            },
            "type": "contourcarpet"
           }
          ],
          "heatmap": [
           {
            "colorbar": {
             "outlinewidth": 0,
             "ticks": ""
            },
            "colorscale": [
             [
              0,
              "#0d0887"
             ],
             [
              0.1111111111111111,
              "#46039f"
             ],
             [
              0.2222222222222222,
              "#7201a8"
             ],
             [
              0.3333333333333333,
              "#9c179e"
             ],
             [
              0.4444444444444444,
              "#bd3786"
             ],
             [
              0.5555555555555556,
              "#d8576b"
             ],
             [
              0.6666666666666666,
              "#ed7953"
             ],
             [
              0.7777777777777778,
              "#fb9f3a"
             ],
             [
              0.8888888888888888,
              "#fdca26"
             ],
             [
              1,
              "#f0f921"
             ]
            ],
            "type": "heatmap"
           }
          ],
          "heatmapgl": [
           {
            "colorbar": {
             "outlinewidth": 0,
             "ticks": ""
            },
            "colorscale": [
             [
              0,
              "#0d0887"
             ],
             [
              0.1111111111111111,
              "#46039f"
             ],
             [
              0.2222222222222222,
              "#7201a8"
             ],
             [
              0.3333333333333333,
              "#9c179e"
             ],
             [
              0.4444444444444444,
              "#bd3786"
             ],
             [
              0.5555555555555556,
              "#d8576b"
             ],
             [
              0.6666666666666666,
              "#ed7953"
             ],
             [
              0.7777777777777778,
              "#fb9f3a"
             ],
             [
              0.8888888888888888,
              "#fdca26"
             ],
             [
              1,
              "#f0f921"
             ]
            ],
            "type": "heatmapgl"
           }
          ],
          "histogram": [
           {
            "marker": {
             "pattern": {
              "fillmode": "overlay",
              "size": 10,
              "solidity": 0.2
             }
            },
            "type": "histogram"
           }
          ],
          "histogram2d": [
           {
            "colorbar": {
             "outlinewidth": 0,
             "ticks": ""
            },
            "colorscale": [
             [
              0,
              "#0d0887"
             ],
             [
              0.1111111111111111,
              "#46039f"
             ],
             [
              0.2222222222222222,
              "#7201a8"
             ],
             [
              0.3333333333333333,
              "#9c179e"
             ],
             [
              0.4444444444444444,
              "#bd3786"
             ],
             [
              0.5555555555555556,
              "#d8576b"
             ],
             [
              0.6666666666666666,
              "#ed7953"
             ],
             [
              0.7777777777777778,
              "#fb9f3a"
             ],
             [
              0.8888888888888888,
              "#fdca26"
             ],
             [
              1,
              "#f0f921"
             ]
            ],
            "type": "histogram2d"
           }
          ],
          "histogram2dcontour": [
           {
            "colorbar": {
             "outlinewidth": 0,
             "ticks": ""
            },
            "colorscale": [
             [
              0,
              "#0d0887"
             ],
             [
              0.1111111111111111,
              "#46039f"
             ],
             [
              0.2222222222222222,
              "#7201a8"
             ],
             [
              0.3333333333333333,
              "#9c179e"
             ],
             [
              0.4444444444444444,
              "#bd3786"
             ],
             [
              0.5555555555555556,
              "#d8576b"
             ],
             [
              0.6666666666666666,
              "#ed7953"
             ],
             [
              0.7777777777777778,
              "#fb9f3a"
             ],
             [
              0.8888888888888888,
              "#fdca26"
             ],
             [
              1,
              "#f0f921"
             ]
            ],
            "type": "histogram2dcontour"
           }
          ],
          "mesh3d": [
           {
            "colorbar": {
             "outlinewidth": 0,
             "ticks": ""
            },
            "type": "mesh3d"
           }
          ],
          "parcoords": [
           {
            "line": {
             "colorbar": {
              "outlinewidth": 0,
              "ticks": ""
             }
            },
            "type": "parcoords"
           }
          ],
          "pie": [
           {
            "automargin": true,
            "type": "pie"
           }
          ],
          "scatter": [
           {
            "fillpattern": {
             "fillmode": "overlay",
             "size": 10,
             "solidity": 0.2
            },
            "type": "scatter"
           }
          ],
          "scatter3d": [
           {
            "line": {
             "colorbar": {
              "outlinewidth": 0,
              "ticks": ""
             }
            },
            "marker": {
             "colorbar": {
              "outlinewidth": 0,
              "ticks": ""
             }
            },
            "type": "scatter3d"
           }
          ],
          "scattercarpet": [
           {
            "marker": {
             "colorbar": {
              "outlinewidth": 0,
              "ticks": ""
             }
            },
            "type": "scattercarpet"
           }
          ],
          "scattergeo": [
           {
            "marker": {
             "colorbar": {
              "outlinewidth": 0,
              "ticks": ""
             }
            },
            "type": "scattergeo"
           }
          ],
          "scattergl": [
           {
            "marker": {
             "colorbar": {
              "outlinewidth": 0,
              "ticks": ""
             }
            },
            "type": "scattergl"
           }
          ],
          "scattermapbox": [
           {
            "marker": {
             "colorbar": {
              "outlinewidth": 0,
              "ticks": ""
             }
            },
            "type": "scattermapbox"
           }
          ],
          "scatterpolar": [
           {
            "marker": {
             "colorbar": {
              "outlinewidth": 0,
              "ticks": ""
             }
            },
            "type": "scatterpolar"
           }
          ],
          "scatterpolargl": [
           {
            "marker": {
             "colorbar": {
              "outlinewidth": 0,
              "ticks": ""
             }
            },
            "type": "scatterpolargl"
           }
          ],
          "scatterternary": [
           {
            "marker": {
             "colorbar": {
              "outlinewidth": 0,
              "ticks": ""
             }
            },
            "type": "scatterternary"
           }
          ],
          "surface": [
           {
            "colorbar": {
             "outlinewidth": 0,
             "ticks": ""
            },
            "colorscale": [
             [
              0,
              "#0d0887"
             ],
             [
              0.1111111111111111,
              "#46039f"
             ],
             [
              0.2222222222222222,
              "#7201a8"
             ],
             [
              0.3333333333333333,
              "#9c179e"
             ],
             [
              0.4444444444444444,
              "#bd3786"
             ],
             [
              0.5555555555555556,
              "#d8576b"
             ],
             [
              0.6666666666666666,
              "#ed7953"
             ],
             [
              0.7777777777777778,
              "#fb9f3a"
             ],
             [
              0.8888888888888888,
              "#fdca26"
             ],
             [
              1,
              "#f0f921"
             ]
            ],
            "type": "surface"
           }
          ],
          "table": [
           {
            "cells": {
             "fill": {
              "color": "#EBF0F8"
             },
             "line": {
              "color": "white"
             }
            },
            "header": {
             "fill": {
              "color": "#C8D4E3"
             },
             "line": {
              "color": "white"
             }
            },
            "type": "table"
           }
          ]
         },
         "layout": {
          "annotationdefaults": {
           "arrowcolor": "#2a3f5f",
           "arrowhead": 0,
           "arrowwidth": 1
          },
          "autotypenumbers": "strict",
          "coloraxis": {
           "colorbar": {
            "outlinewidth": 0,
            "ticks": ""
           }
          },
          "colorscale": {
           "diverging": [
            [
             0,
             "#8e0152"
            ],
            [
             0.1,
             "#c51b7d"
            ],
            [
             0.2,
             "#de77ae"
            ],
            [
             0.3,
             "#f1b6da"
            ],
            [
             0.4,
             "#fde0ef"
            ],
            [
             0.5,
             "#f7f7f7"
            ],
            [
             0.6,
             "#e6f5d0"
            ],
            [
             0.7,
             "#b8e186"
            ],
            [
             0.8,
             "#7fbc41"
            ],
            [
             0.9,
             "#4d9221"
            ],
            [
             1,
             "#276419"
            ]
           ],
           "sequential": [
            [
             0,
             "#0d0887"
            ],
            [
             0.1111111111111111,
             "#46039f"
            ],
            [
             0.2222222222222222,
             "#7201a8"
            ],
            [
             0.3333333333333333,
             "#9c179e"
            ],
            [
             0.4444444444444444,
             "#bd3786"
            ],
            [
             0.5555555555555556,
             "#d8576b"
            ],
            [
             0.6666666666666666,
             "#ed7953"
            ],
            [
             0.7777777777777778,
             "#fb9f3a"
            ],
            [
             0.8888888888888888,
             "#fdca26"
            ],
            [
             1,
             "#f0f921"
            ]
           ],
           "sequentialminus": [
            [
             0,
             "#0d0887"
            ],
            [
             0.1111111111111111,
             "#46039f"
            ],
            [
             0.2222222222222222,
             "#7201a8"
            ],
            [
             0.3333333333333333,
             "#9c179e"
            ],
            [
             0.4444444444444444,
             "#bd3786"
            ],
            [
             0.5555555555555556,
             "#d8576b"
            ],
            [
             0.6666666666666666,
             "#ed7953"
            ],
            [
             0.7777777777777778,
             "#fb9f3a"
            ],
            [
             0.8888888888888888,
             "#fdca26"
            ],
            [
             1,
             "#f0f921"
            ]
           ]
          },
          "colorway": [
           "#636efa",
           "#EF553B",
           "#00cc96",
           "#ab63fa",
           "#FFA15A",
           "#19d3f3",
           "#FF6692",
           "#B6E880",
           "#FF97FF",
           "#FECB52"
          ],
          "font": {
           "color": "#2a3f5f"
          },
          "geo": {
           "bgcolor": "white",
           "lakecolor": "white",
           "landcolor": "#E5ECF6",
           "showlakes": true,
           "showland": true,
           "subunitcolor": "white"
          },
          "hoverlabel": {
           "align": "left"
          },
          "hovermode": "closest",
          "mapbox": {
           "style": "light"
          },
          "paper_bgcolor": "white",
          "plot_bgcolor": "#E5ECF6",
          "polar": {
           "angularaxis": {
            "gridcolor": "white",
            "linecolor": "white",
            "ticks": ""
           },
           "bgcolor": "#E5ECF6",
           "radialaxis": {
            "gridcolor": "white",
            "linecolor": "white",
            "ticks": ""
           }
          },
          "scene": {
           "xaxis": {
            "backgroundcolor": "#E5ECF6",
            "gridcolor": "white",
            "gridwidth": 2,
            "linecolor": "white",
            "showbackground": true,
            "ticks": "",
            "zerolinecolor": "white"
           },
           "yaxis": {
            "backgroundcolor": "#E5ECF6",
            "gridcolor": "white",
            "gridwidth": 2,
            "linecolor": "white",
            "showbackground": true,
            "ticks": "",
            "zerolinecolor": "white"
           },
           "zaxis": {
            "backgroundcolor": "#E5ECF6",
            "gridcolor": "white",
            "gridwidth": 2,
            "linecolor": "white",
            "showbackground": true,
            "ticks": "",
            "zerolinecolor": "white"
           }
          },
          "shapedefaults": {
           "line": {
            "color": "#2a3f5f"
           }
          },
          "ternary": {
           "aaxis": {
            "gridcolor": "white",
            "linecolor": "white",
            "ticks": ""
           },
           "baxis": {
            "gridcolor": "white",
            "linecolor": "white",
            "ticks": ""
           },
           "bgcolor": "#E5ECF6",
           "caxis": {
            "gridcolor": "white",
            "linecolor": "white",
            "ticks": ""
           }
          },
          "title": {
           "x": 0.05
          },
          "xaxis": {
           "automargin": true,
           "gridcolor": "white",
           "linecolor": "white",
           "ticks": "",
           "title": {
            "standoff": 15
           },
           "zerolinecolor": "white",
           "zerolinewidth": 2
          },
          "yaxis": {
           "automargin": true,
           "gridcolor": "white",
           "linecolor": "white",
           "ticks": "",
           "title": {
            "standoff": 15
           },
           "zerolinecolor": "white",
           "zerolinewidth": 2
          }
         }
        },
        "title": {
         "text": "Estratégia otimizada"
        },
        "xaxis": {
         "anchor": "y",
         "domain": [
          0,
          1
         ],
         "title": {
          "text": "Date"
         }
        },
        "yaxis": {
         "anchor": "x",
         "domain": [
          0,
          1
         ],
         "title": {
          "text": "y"
         }
        }
       }
      }
     },
     "metadata": {},
     "output_type": "display_data"
    }
   ],
   "source": [
    "optimized_portfolio = (returns*best_individual).sum(axis=1)  # Soma dos retornos da carteira dia a dia\n",
    "optimized_portfolio = optimized_portfolio + 1\n",
    "optimized_portfolio = optimized_portfolio.cumprod() - 1\n",
    "px.line(optimized_portfolio, title='Estratégia otimizada', x=optimized_portfolio.index, y=optimized_portfolio.values)"
   ]
  },
  {
   "cell_type": "code",
   "execution_count": 178,
   "metadata": {},
   "outputs": [
    {
     "data": {
      "application/vnd.plotly.v1+json": {
       "config": {
        "plotlyServerURL": "https://plot.ly"
       },
       "data": [
        {
         "hovertemplate": "Date=%{x}<br>y=%{y}<extra></extra>",
         "legendgroup": "",
         "line": {
          "color": "#636efa",
          "dash": "solid"
         },
         "marker": {
          "symbol": "circle"
         },
         "mode": "lines",
         "name": "",
         "orientation": "v",
         "showlegend": false,
         "type": "scatter",
         "x": [
          "2021-01-05T00:00:00",
          "2021-01-06T00:00:00",
          "2021-01-07T00:00:00",
          "2021-01-08T00:00:00",
          "2021-01-11T00:00:00",
          "2021-01-12T00:00:00",
          "2021-01-13T00:00:00",
          "2021-01-14T00:00:00",
          "2021-01-15T00:00:00",
          "2021-01-18T00:00:00",
          "2021-01-19T00:00:00",
          "2021-01-20T00:00:00",
          "2021-01-21T00:00:00",
          "2021-01-22T00:00:00",
          "2021-01-26T00:00:00",
          "2021-01-27T00:00:00",
          "2021-01-28T00:00:00",
          "2021-01-29T00:00:00",
          "2021-02-01T00:00:00",
          "2021-02-02T00:00:00",
          "2021-02-03T00:00:00",
          "2021-02-04T00:00:00",
          "2021-02-05T00:00:00",
          "2021-02-08T00:00:00",
          "2021-02-09T00:00:00",
          "2021-02-10T00:00:00",
          "2021-02-11T00:00:00",
          "2021-02-12T00:00:00",
          "2021-02-17T00:00:00",
          "2021-02-18T00:00:00",
          "2021-02-19T00:00:00",
          "2021-02-22T00:00:00",
          "2021-02-23T00:00:00",
          "2021-02-24T00:00:00",
          "2021-02-25T00:00:00",
          "2021-02-26T00:00:00",
          "2021-03-01T00:00:00",
          "2021-03-02T00:00:00",
          "2021-03-03T00:00:00",
          "2021-03-04T00:00:00",
          "2021-03-05T00:00:00",
          "2021-03-08T00:00:00",
          "2021-03-09T00:00:00",
          "2021-03-10T00:00:00",
          "2021-03-11T00:00:00",
          "2021-03-12T00:00:00",
          "2021-03-15T00:00:00",
          "2021-03-16T00:00:00",
          "2021-03-17T00:00:00",
          "2021-03-18T00:00:00",
          "2021-03-19T00:00:00",
          "2021-03-22T00:00:00",
          "2021-03-23T00:00:00",
          "2021-03-24T00:00:00",
          "2021-03-25T00:00:00",
          "2021-03-26T00:00:00",
          "2021-03-29T00:00:00",
          "2021-03-30T00:00:00",
          "2021-03-31T00:00:00",
          "2021-04-01T00:00:00",
          "2021-04-05T00:00:00",
          "2021-04-06T00:00:00",
          "2021-04-07T00:00:00",
          "2021-04-08T00:00:00",
          "2021-04-09T00:00:00",
          "2021-04-12T00:00:00",
          "2021-04-13T00:00:00",
          "2021-04-14T00:00:00",
          "2021-04-15T00:00:00",
          "2021-04-16T00:00:00",
          "2021-04-19T00:00:00",
          "2021-04-20T00:00:00",
          "2021-04-22T00:00:00",
          "2021-04-23T00:00:00",
          "2021-04-26T00:00:00",
          "2021-04-27T00:00:00",
          "2021-04-28T00:00:00",
          "2021-04-29T00:00:00",
          "2021-04-30T00:00:00",
          "2021-05-03T00:00:00",
          "2021-05-04T00:00:00",
          "2021-05-05T00:00:00",
          "2021-05-06T00:00:00",
          "2021-05-07T00:00:00",
          "2021-05-10T00:00:00",
          "2021-05-11T00:00:00",
          "2021-05-12T00:00:00",
          "2021-05-13T00:00:00",
          "2021-05-14T00:00:00",
          "2021-05-17T00:00:00",
          "2021-05-18T00:00:00",
          "2021-05-19T00:00:00",
          "2021-05-20T00:00:00",
          "2021-05-21T00:00:00",
          "2021-05-24T00:00:00",
          "2021-05-25T00:00:00",
          "2021-05-26T00:00:00",
          "2021-05-27T00:00:00",
          "2021-05-28T00:00:00",
          "2021-05-31T00:00:00",
          "2021-06-01T00:00:00",
          "2021-06-02T00:00:00",
          "2021-06-04T00:00:00",
          "2021-06-07T00:00:00",
          "2021-06-08T00:00:00",
          "2021-06-09T00:00:00",
          "2021-06-10T00:00:00",
          "2021-06-11T00:00:00",
          "2021-06-14T00:00:00",
          "2021-06-15T00:00:00",
          "2021-06-16T00:00:00",
          "2021-06-17T00:00:00",
          "2021-06-18T00:00:00",
          "2021-06-21T00:00:00",
          "2021-06-22T00:00:00",
          "2021-06-23T00:00:00",
          "2021-06-24T00:00:00",
          "2021-06-25T00:00:00",
          "2021-06-28T00:00:00",
          "2021-06-29T00:00:00",
          "2021-06-30T00:00:00",
          "2021-07-01T00:00:00",
          "2021-07-02T00:00:00",
          "2021-07-05T00:00:00",
          "2021-07-06T00:00:00",
          "2021-07-07T00:00:00",
          "2021-07-08T00:00:00",
          "2021-07-12T00:00:00",
          "2021-07-13T00:00:00",
          "2021-07-14T00:00:00",
          "2021-07-15T00:00:00",
          "2021-07-16T00:00:00",
          "2021-07-19T00:00:00",
          "2021-07-20T00:00:00",
          "2021-07-21T00:00:00",
          "2021-07-22T00:00:00",
          "2021-07-23T00:00:00",
          "2021-07-26T00:00:00",
          "2021-07-27T00:00:00",
          "2021-07-28T00:00:00",
          "2021-07-29T00:00:00",
          "2021-07-30T00:00:00",
          "2021-08-02T00:00:00",
          "2021-08-03T00:00:00",
          "2021-08-04T00:00:00",
          "2021-08-05T00:00:00",
          "2021-08-06T00:00:00",
          "2021-08-09T00:00:00",
          "2021-08-10T00:00:00",
          "2021-08-11T00:00:00",
          "2021-08-12T00:00:00",
          "2021-08-13T00:00:00",
          "2021-08-16T00:00:00",
          "2021-08-17T00:00:00",
          "2021-08-18T00:00:00",
          "2021-08-19T00:00:00",
          "2021-08-20T00:00:00",
          "2021-08-23T00:00:00",
          "2021-08-24T00:00:00",
          "2021-08-25T00:00:00",
          "2021-08-26T00:00:00",
          "2021-08-27T00:00:00",
          "2021-08-30T00:00:00",
          "2021-08-31T00:00:00",
          "2021-09-01T00:00:00",
          "2021-09-02T00:00:00",
          "2021-09-03T00:00:00",
          "2021-09-06T00:00:00",
          "2021-09-08T00:00:00",
          "2021-09-09T00:00:00",
          "2021-09-10T00:00:00",
          "2021-09-13T00:00:00",
          "2021-09-14T00:00:00",
          "2021-09-15T00:00:00",
          "2021-09-16T00:00:00",
          "2021-09-17T00:00:00",
          "2021-09-20T00:00:00",
          "2021-09-21T00:00:00",
          "2021-09-22T00:00:00",
          "2021-09-23T00:00:00",
          "2021-09-24T00:00:00",
          "2021-09-27T00:00:00",
          "2021-09-28T00:00:00",
          "2021-09-29T00:00:00",
          "2021-09-30T00:00:00",
          "2021-10-01T00:00:00",
          "2021-10-04T00:00:00",
          "2021-10-05T00:00:00",
          "2021-10-06T00:00:00",
          "2021-10-07T00:00:00",
          "2021-10-08T00:00:00",
          "2021-10-11T00:00:00",
          "2021-10-13T00:00:00",
          "2021-10-14T00:00:00",
          "2021-10-15T00:00:00",
          "2021-10-18T00:00:00",
          "2021-10-19T00:00:00",
          "2021-10-20T00:00:00",
          "2021-10-21T00:00:00",
          "2021-10-22T00:00:00",
          "2021-10-25T00:00:00",
          "2021-10-26T00:00:00",
          "2021-10-27T00:00:00",
          "2021-10-28T00:00:00",
          "2021-10-29T00:00:00",
          "2021-11-01T00:00:00",
          "2021-11-03T00:00:00",
          "2021-11-04T00:00:00",
          "2021-11-05T00:00:00",
          "2021-11-08T00:00:00",
          "2021-11-09T00:00:00",
          "2021-11-10T00:00:00",
          "2021-11-11T00:00:00",
          "2021-11-12T00:00:00",
          "2021-11-16T00:00:00",
          "2021-11-17T00:00:00",
          "2021-11-18T00:00:00",
          "2021-11-19T00:00:00",
          "2021-11-22T00:00:00",
          "2021-11-23T00:00:00",
          "2021-11-24T00:00:00",
          "2021-11-25T00:00:00",
          "2021-11-26T00:00:00",
          "2021-11-29T00:00:00",
          "2021-11-30T00:00:00",
          "2021-12-01T00:00:00",
          "2021-12-02T00:00:00",
          "2021-12-03T00:00:00",
          "2021-12-06T00:00:00",
          "2021-12-07T00:00:00",
          "2021-12-08T00:00:00",
          "2021-12-09T00:00:00",
          "2021-12-10T00:00:00",
          "2021-12-13T00:00:00",
          "2021-12-14T00:00:00",
          "2021-12-15T00:00:00",
          "2021-12-16T00:00:00",
          "2021-12-17T00:00:00",
          "2021-12-20T00:00:00",
          "2021-12-21T00:00:00",
          "2021-12-22T00:00:00",
          "2021-12-23T00:00:00",
          "2021-12-27T00:00:00",
          "2021-12-28T00:00:00",
          "2021-12-29T00:00:00",
          "2021-12-30T00:00:00",
          "2022-01-03T00:00:00",
          "2022-01-04T00:00:00",
          "2022-01-05T00:00:00",
          "2022-01-06T00:00:00",
          "2022-01-07T00:00:00",
          "2022-01-10T00:00:00",
          "2022-01-11T00:00:00",
          "2022-01-12T00:00:00",
          "2022-01-13T00:00:00",
          "2022-01-14T00:00:00",
          "2022-01-17T00:00:00",
          "2022-01-18T00:00:00",
          "2022-01-19T00:00:00",
          "2022-01-20T00:00:00",
          "2022-01-21T00:00:00",
          "2022-01-24T00:00:00",
          "2022-01-25T00:00:00",
          "2022-01-26T00:00:00",
          "2022-01-27T00:00:00",
          "2022-01-28T00:00:00",
          "2022-01-31T00:00:00",
          "2022-02-01T00:00:00",
          "2022-02-02T00:00:00",
          "2022-02-03T00:00:00",
          "2022-02-04T00:00:00",
          "2022-02-07T00:00:00",
          "2022-02-08T00:00:00",
          "2022-02-09T00:00:00",
          "2022-02-10T00:00:00",
          "2022-02-11T00:00:00",
          "2022-02-14T00:00:00",
          "2022-02-15T00:00:00",
          "2022-02-16T00:00:00",
          "2022-02-17T00:00:00",
          "2022-02-18T00:00:00",
          "2022-02-21T00:00:00",
          "2022-02-22T00:00:00",
          "2022-02-23T00:00:00",
          "2022-02-24T00:00:00",
          "2022-02-25T00:00:00",
          "2022-03-02T00:00:00",
          "2022-03-03T00:00:00",
          "2022-03-04T00:00:00",
          "2022-03-07T00:00:00",
          "2022-03-08T00:00:00",
          "2022-03-09T00:00:00",
          "2022-03-10T00:00:00",
          "2022-03-11T00:00:00",
          "2022-03-14T00:00:00",
          "2022-03-15T00:00:00",
          "2022-03-16T00:00:00",
          "2022-03-17T00:00:00",
          "2022-03-18T00:00:00",
          "2022-03-21T00:00:00",
          "2022-03-22T00:00:00",
          "2022-03-23T00:00:00",
          "2022-03-24T00:00:00",
          "2022-03-25T00:00:00",
          "2022-03-28T00:00:00",
          "2022-03-29T00:00:00",
          "2022-03-30T00:00:00",
          "2022-03-31T00:00:00",
          "2022-04-01T00:00:00",
          "2022-04-04T00:00:00",
          "2022-04-05T00:00:00",
          "2022-04-06T00:00:00",
          "2022-04-07T00:00:00",
          "2022-04-08T00:00:00",
          "2022-04-11T00:00:00",
          "2022-04-12T00:00:00",
          "2022-04-13T00:00:00",
          "2022-04-14T00:00:00",
          "2022-04-18T00:00:00",
          "2022-04-19T00:00:00",
          "2022-04-20T00:00:00",
          "2022-04-22T00:00:00",
          "2022-04-25T00:00:00",
          "2022-04-26T00:00:00",
          "2022-04-27T00:00:00",
          "2022-04-28T00:00:00",
          "2022-04-29T00:00:00",
          "2022-05-02T00:00:00",
          "2022-05-03T00:00:00",
          "2022-05-04T00:00:00",
          "2022-05-05T00:00:00",
          "2022-05-06T00:00:00",
          "2022-05-09T00:00:00",
          "2022-05-10T00:00:00",
          "2022-05-11T00:00:00",
          "2022-05-12T00:00:00",
          "2022-05-13T00:00:00",
          "2022-05-16T00:00:00",
          "2022-05-17T00:00:00",
          "2022-05-18T00:00:00",
          "2022-05-19T00:00:00",
          "2022-05-20T00:00:00",
          "2022-05-23T00:00:00",
          "2022-05-24T00:00:00",
          "2022-05-25T00:00:00",
          "2022-05-26T00:00:00",
          "2022-05-27T00:00:00",
          "2022-05-30T00:00:00",
          "2022-05-31T00:00:00",
          "2022-06-01T00:00:00",
          "2022-06-02T00:00:00",
          "2022-06-03T00:00:00",
          "2022-06-06T00:00:00",
          "2022-06-07T00:00:00",
          "2022-06-08T00:00:00",
          "2022-06-09T00:00:00",
          "2022-06-10T00:00:00",
          "2022-06-13T00:00:00",
          "2022-06-14T00:00:00",
          "2022-06-15T00:00:00",
          "2022-06-17T00:00:00",
          "2022-06-20T00:00:00",
          "2022-06-21T00:00:00",
          "2022-06-22T00:00:00",
          "2022-06-23T00:00:00",
          "2022-06-24T00:00:00",
          "2022-06-27T00:00:00",
          "2022-06-28T00:00:00",
          "2022-06-29T00:00:00",
          "2022-06-30T00:00:00",
          "2022-07-01T00:00:00",
          "2022-07-04T00:00:00",
          "2022-07-05T00:00:00",
          "2022-07-06T00:00:00",
          "2022-07-07T00:00:00",
          "2022-07-08T00:00:00",
          "2022-07-11T00:00:00",
          "2022-07-12T00:00:00",
          "2022-07-13T00:00:00",
          "2022-07-14T00:00:00",
          "2022-07-15T00:00:00",
          "2022-07-18T00:00:00",
          "2022-07-19T00:00:00",
          "2022-07-20T00:00:00",
          "2022-07-21T00:00:00",
          "2022-07-22T00:00:00",
          "2022-07-25T00:00:00",
          "2022-07-26T00:00:00",
          "2022-07-27T00:00:00",
          "2022-07-28T00:00:00",
          "2022-07-29T00:00:00",
          "2022-08-01T00:00:00",
          "2022-08-02T00:00:00",
          "2022-08-03T00:00:00",
          "2022-08-04T00:00:00",
          "2022-08-05T00:00:00",
          "2022-08-08T00:00:00",
          "2022-08-09T00:00:00",
          "2022-08-10T00:00:00",
          "2022-08-11T00:00:00",
          "2022-08-12T00:00:00",
          "2022-08-15T00:00:00",
          "2022-08-16T00:00:00",
          "2022-08-17T00:00:00",
          "2022-08-18T00:00:00",
          "2022-08-19T00:00:00",
          "2022-08-22T00:00:00",
          "2022-08-23T00:00:00",
          "2022-08-24T00:00:00",
          "2022-08-25T00:00:00",
          "2022-08-26T00:00:00",
          "2022-08-29T00:00:00",
          "2022-08-30T00:00:00",
          "2022-08-31T00:00:00",
          "2022-09-01T00:00:00",
          "2022-09-02T00:00:00",
          "2022-09-05T00:00:00",
          "2022-09-06T00:00:00",
          "2022-09-08T00:00:00",
          "2022-09-09T00:00:00",
          "2022-09-12T00:00:00",
          "2022-09-13T00:00:00",
          "2022-09-14T00:00:00",
          "2022-09-15T00:00:00",
          "2022-09-16T00:00:00",
          "2022-09-19T00:00:00",
          "2022-09-20T00:00:00",
          "2022-09-21T00:00:00",
          "2022-09-22T00:00:00",
          "2022-09-23T00:00:00",
          "2022-09-26T00:00:00",
          "2022-09-27T00:00:00",
          "2022-09-28T00:00:00",
          "2022-09-29T00:00:00",
          "2022-09-30T00:00:00",
          "2022-10-03T00:00:00",
          "2022-10-04T00:00:00",
          "2022-10-05T00:00:00",
          "2022-10-06T00:00:00",
          "2022-10-07T00:00:00",
          "2022-10-10T00:00:00",
          "2022-10-11T00:00:00",
          "2022-10-13T00:00:00",
          "2022-10-14T00:00:00",
          "2022-10-17T00:00:00",
          "2022-10-18T00:00:00",
          "2022-10-19T00:00:00",
          "2022-10-20T00:00:00",
          "2022-10-21T00:00:00",
          "2022-10-24T00:00:00",
          "2022-10-25T00:00:00",
          "2022-10-26T00:00:00",
          "2022-10-27T00:00:00",
          "2022-10-28T00:00:00",
          "2022-10-31T00:00:00",
          "2022-11-01T00:00:00",
          "2022-11-03T00:00:00",
          "2022-11-04T00:00:00",
          "2022-11-07T00:00:00",
          "2022-11-08T00:00:00",
          "2022-11-09T00:00:00",
          "2022-11-10T00:00:00",
          "2022-11-11T00:00:00",
          "2022-11-14T00:00:00",
          "2022-11-16T00:00:00",
          "2022-11-17T00:00:00",
          "2022-11-18T00:00:00",
          "2022-11-21T00:00:00",
          "2022-11-22T00:00:00",
          "2022-11-23T00:00:00",
          "2022-11-24T00:00:00",
          "2022-11-25T00:00:00",
          "2022-11-28T00:00:00",
          "2022-11-29T00:00:00",
          "2022-11-30T00:00:00",
          "2022-12-01T00:00:00",
          "2022-12-02T00:00:00",
          "2022-12-05T00:00:00",
          "2022-12-06T00:00:00",
          "2022-12-07T00:00:00",
          "2022-12-08T00:00:00",
          "2022-12-09T00:00:00",
          "2022-12-12T00:00:00",
          "2022-12-13T00:00:00",
          "2022-12-14T00:00:00",
          "2022-12-15T00:00:00",
          "2022-12-16T00:00:00",
          "2022-12-19T00:00:00",
          "2022-12-20T00:00:00",
          "2022-12-21T00:00:00",
          "2022-12-22T00:00:00",
          "2022-12-23T00:00:00",
          "2022-12-26T00:00:00",
          "2022-12-27T00:00:00",
          "2022-12-28T00:00:00",
          "2022-12-29T00:00:00"
         ],
         "xaxis": "x",
         "y": [
          0.009131632674944212,
          0.005418091964473293,
          0.016756332888683056,
          0.04742026236668173,
          0.034902844435218405,
          0.048771465622671206,
          0.03949416462501465,
          0.0528366338895081,
          0.026111339130641786,
          0.03590543010517311,
          0.031542384217435604,
          0.02334872677422184,
          0.005923919978972014,
          -0.0021026867296928264,
          -0.008754583306232466,
          -0.013027493318863104,
          0.0031263094127227387,
          -0.026533704663552204,
          -0.0019527612594391064,
          0.016402612551043028,
          0.033808314384025095,
          0.03184080514102816,
          0.037132251384620174,
          0.033942732896539374,
          0.03266960216142589,
          0.02769419191779221,
          0.05106191863510623,
          0.05637103701440016,
          0.05312647236416623,
          0.044238847670621695,
          0.04475702642129198,
          -0.004139092132049993,
          0.02805936005613474,
          0.032357307084117215,
          0.0021792724380749195,
          -0.021850379906312,
          -0.023805088122607287,
          -0.022009477053789306,
          -0.02371393600393279,
          -0.016793873076750288,
          -0.009215934781776847,
          -0.04935963040386593,
          -0.03698294570495442,
          -0.0370802244504318,
          -0.02460057109571845,
          -0.021432760731736167,
          -0.002304386186157803,
          -0.007779909124997819,
          0.008517553765490904,
          -0.009219026976099665,
          -0.002136872579099003,
          -0.010999123186814397,
          -0.024144998568901954,
          -0.03794653432495687,
          -0.023233082348900314,
          -0.015957357843262132,
          -0.01262253734259633,
          0.003919552083132549,
          0.12367698912888492,
          0.14776191769221603,
          0.15830012114623315,
          0.15865507584859584,
          0.15921124580577795,
          0.1647566870486492,
          0.15340119317260292,
          0.1666797557431523,
          0.16710557607460896,
          0.1739127400184617,
          0.1744785581450199,
          0.1758077818317847,
          0.17561554530566137,
          0.16021054327666118,
          0.15233623730958046,
          0.16377789551869193,
          0.17094225755983916,
          0.17481352417572782,
          0.18419253127303836,
          0.17848222910238642,
          0.17788372104261518,
          0.17162868270675014,
          0.1529210245084427,
          0.16682677313581729,
          0.1893485675567892,
          0.20444282696821792,
          0.2031864753954571,
          0.21201846379768252,
          0.1797799524830057,
          0.19052501207732098,
          0.1999245000585319,
          0.21124710661439772,
          0.21621351244133447,
          0.2110775322274241,
          0.2171501114454233,
          0.21356134194757548,
          0.23009820386352287,
          0.22682269963079293,
          0.22845602934367992,
          0.22512667692159627,
          0.23598814495892984,
          0.2458219255551457,
          0.2581865129812433,
          0.26956486838297744,
          0.2827160144866492,
          0.2896884313930497,
          0.27986552118263264,
          0.2766220739473251,
          0.2803229497019457,
          0.2668316583784842,
          0.2841170379568214,
          0.2789361291057988,
          0.26863509997898793,
          0.25716249088172316,
          0.2635842090657339,
          0.27385887604757064,
          0.27134651996977244,
          0.26942943060998337,
          0.2757400335564304,
          0.2497177483818216,
          0.25986769850950364,
          0.2569914482688114,
          0.24719165861977954,
          0.2380646013411003,
          0.26205493986782114,
          0.2551698906998705,
          0.23801866580855813,
          0.2604692122626171,
          0.23827645564447275,
          0.2500689931262572,
          0.24614808457355752,
          0.2518647427330132,
          0.2427294681400034,
          0.23265238651571996,
          0.2137481210042278,
          0.2169973256545299,
          0.21874748882796458,
          0.22981104282397258,
          0.2167288917204544,
          0.22391664332028038,
          0.21200608018658862,
          0.23349090036903086,
          0.22326395841750912,
          0.19298341171921307,
          0.2017442059900687,
          0.2077015774868236,
          0.18949122395846096,
          0.19182983067886128,
          0.20136998731881617,
          0.20627257417277955,
          0.19241504139288068,
          0.19067545137050157,
          0.1923686840860117,
          0.20399495126813982,
          0.17782766732194055,
          0.1719157179751707,
          0.1646139250359684,
          0.178862667500026,
          0.1948524472458204,
          0.19472296452004811,
          0.21181411317859777,
          0.22370368248922112,
          0.20696706882055005,
          0.22386514357006204,
          0.2096959170677397,
          0.18847229164554857,
          0.1923397544412675,
          0.16842487527988736,
          0.16550547139500238,
          0.1797754180727933,
          0.14268438408258444,
          0.16611263076295546,
          0.15821183716032539,
          0.17710055597294194,
          0.17651183429505246,
          0.17820631893254557,
          0.16586372618139067,
          0.14747956307353416,
          0.1263321292865307,
          0.14107956611703965,
          0.16598728707208177,
          0.1818860675826821,
          0.16932325743741639,
          0.16790424171630858,
          0.14823709661711315,
          0.1493568458825305,
          0.14880133374363136,
          0.16392520613151484,
          0.11880938904154315,
          0.11554372973916238,
          0.11046670031278483,
          0.11426931260687367,
          0.1392267025386531,
          0.1381728106146629,
          0.1549858967483937,
          0.15518821699509644,
          0.15453917802526074,
          0.16203305132253187,
          0.12860252139808526,
          0.12509681197130318,
          0.09727399786841318,
          0.07093163063663677,
          0.09647523093960753,
          0.0809463120325673,
          0.07846292286840084,
          0.07817456558254898,
          0.05978955036796196,
          0.07623764857680126,
          0.09139951237902788,
          0.06604453337245375,
          0.07193007025133658,
          0.06676332649112804,
          0.06982552215425986,
          0.07178516794144807,
          0.08376321190781022,
          0.07427981709080989,
          0.05905677185571956,
          0.04496796320620344,
          0.040773939093209144,
          0.05181587579508107,
          0.04197152257259651,
          0.048694028529402855,
          0.049149086211409454,
          0.06018170510415355,
          0.030192752166076975,
          0.03338310833113467,
          0.02268308981075995,
          0.00849115383946164,
          0.03853162419826539,
          0.04162706467546684,
          0.043267852923264405,
          0.05995703275013842,
          0.06626726465894217,
          0.052275256950480964,
          0.06262883106499317,
          0.06243496249835978,
          0.049453279839489994,
          0.05526912611460011,
          0.053349173450006004,
          0.0414417991333802,
          0.02171838435424478,
          0.025907591107595662,
          0.022264601340478807,
          0.01604184607163006,
          0.019979344892941953,
          0.014936963957880023,
          0.00422793931081844,
          0.02351461923676057,
          0.012444099171196488,
          0.004457417575996603,
          -0.02744576574863722,
          -0.004852458913832458,
          -0.0054143595609283945,
          -0.02280334824653818,
          -0.00958152430418202,
          0.004452305170298043,
          0.003411386537113481,
          0.014819961392915415,
          0.007514806494971715,
          0.00385884983486795,
          0.015445372740959806,
          0.0346483903235395,
          0.04038266096365484,
          0.027464206289381732,
          0.050803374906418286,
          0.0654089999378289,
          0.07970820670772039,
          0.07319531891084963,
          0.08366415620045409,
          0.09151764897956682,
          0.08065083267907913,
          0.07632892398870106,
          0.08366608336864378,
          0.07488602010172984,
          0.06946290119037979,
          0.07857007442575425,
          0.07873083032235284,
          0.0867204935710244,
          0.0915737351426904,
          0.1190095344440818,
          0.11916288669562802,
          0.1124387252047363,
          0.10743164098171487,
          0.09229553469167762,
          0.11304269820722501,
          0.11367284437966996,
          0.10087500474495914,
          0.11642047783464671,
          0.11945326768087905,
          0.12055662864118255,
          0.11031192269823542,
          0.08561960826548876,
          0.08466281174369716,
          0.11673894111783989,
          0.10579942116987429,
          0.09327799046187346,
          0.09407978189324107,
          0.0890602157166025,
          0.11309448604345551,
          0.12597079006456213,
          0.13911368829977344,
          0.13911097716274212,
          0.1561989888600157,
          0.15640328934768832,
          0.16539706241603946,
          0.16311250453618453,
          0.16653027852730107,
          0.18250043463478338,
          0.18729882852476964,
          0.19803854897723983,
          0.2157894172909991,
          0.21844925350026578,
          0.19428344764237004,
          0.18834073976474341,
          0.19035345340265675,
          0.1913981686401549,
          0.1763956321319735,
          0.16677148336860736,
          0.17473021839955982,
          0.15805404463756734,
          0.14993247516606112,
          0.14687783408632726,
          0.14658977311628552,
          0.12249974396182117,
          0.12495012151138862,
          0.09547623308125663,
          0.10763330461912779,
          0.10844308631562094,
          0.09103315587412397,
          0.0777255458121957,
          0.07427063419794089,
          0.09873057210569747,
          0.05914817647177939,
          0.05062501877285763,
          0.02662322530546679,
          0.02927271160443623,
          0.02949782543528645,
          0.04200564652637695,
          0.05086959770807509,
          0.08128677436645648,
          0.08424157699826962,
          0.06591486357933718,
          0.06994925587648027,
          0.08426081301763211,
          0.09632572414447349,
          0.09408292828054221,
          0.09932915897875016,
          0.11353023925835193,
          0.11179626018774913,
          0.09923610172721609,
          0.10143643704301875,
          0.10594717093664063,
          0.1135083132919732,
          0.09555252938124359,
          0.08362185934521094,
          0.08375370681325567,
          0.07008616168791204,
          0.061965196975558356,
          0.0384068737620995,
          0.020384466187203243,
          0.025731838151603847,
          0.03010514162816591,
          0.003139471920494019,
          0.0031073183138681237,
          0.014690082665556936,
          0.017032804383268818,
          0.009491636158520222,
          0.014730245716257473,
          0.030027640757432916,
          0.02355081217673427,
          0.024451527977118692,
          0.023474182069326943,
          0.028662436360185506,
          0.025621431844346176,
          0.029402946311779754,
          0.03830227435238864,
          0.05682896238892665,
          0.04952473036259164,
          0.02599005216729955,
          0.020758329614285254,
          0.02484120191234629,
          0.0103762113668735,
          0.00943630884612423,
          0.007893269798010305,
          0.029738040908994234,
          0.031009936784359926,
          0.044297794958085834,
          0.04647437358391038,
          0.06186119117529065,
          0.05369347476604802,
          0.07083001793439103,
          0.07987953760237398,
          0.08778363675648992,
          0.08140371791329026,
          0.09037015279380078,
          0.09261913346223749,
          0.1164051488320974,
          0.11556348437059705,
          0.14534152958510993,
          0.1474770987211742,
          0.16420362247401132,
          0.15399979876379732,
          0.1803848676237887,
          0.18750026055320745,
          0.18145879463141212,
          0.184258576600852,
          0.1940708950060719,
          0.17127359583109292,
          0.1526782728212721,
          0.17066488143633807,
          0.17298908331366714,
          0.17206175960180925,
          0.15280993980035218,
          0.14864980059261135,
          0.13559104070180372,
          0.12879482941564713,
          0.1408115171392028,
          0.14629344209121053,
          0.16045926728519722,
          0.1389444071779331,
          0.13750359280748592,
          0.16010960807048313,
          0.17481866858719108,
          0.15138488426118135,
          0.1530432127051311,
          0.14201225086940283,
          0.13980615642107175,
          0.15562369176160074,
          0.16613630039022653,
          0.16449278049299143,
          0.18440151441257724,
          0.16509807472489113,
          0.1402645273148566,
          0.12142932436298959,
          0.12645212674413142,
          0.12039072826899266,
          0.13994871541134635,
          0.19327195674222208,
          0.1886654759081261,
          0.19057445031811837,
          0.19581470258764044,
          0.18849568518112303,
          0.18853448278157003,
          0.17582997579797288,
          0.17365294408960774,
          0.1542073846770211,
          0.17172160553920568,
          0.18775031422179622,
          0.1974833860463341,
          0.1995770581101164,
          0.21849114260040392,
          0.18919911502993814,
          0.17793130576950844,
          0.17296880682607596,
          0.19798974371249578,
          0.20371590150771435,
          0.22224419218671265,
          0.22346546599022243,
          0.23394803998957703,
          0.24284370184097503,
          0.22029527111695724,
          0.2270156294355361,
          0.21000070605423793,
          0.17878147193050453,
          0.1919471521512075,
          0.205954611862333,
          0.1594883142468102,
          0.15489303182453074,
          0.15035623845766022,
          0.16102521716097873,
          0.14874047008716462,
          0.14900674581478857,
          0.18697223526747786,
          0.15198819736149427,
          0.14883999283015137,
          0.16284817806539076,
          0.1842396311462704,
          0.16764792611450763,
          0.17959394313971622,
          0.1421515906368982,
          0.1502891733138112,
          0.13713756601263394,
          0.11465963688667014,
          0.11054710305786997,
          0.08639611646908829,
          0.0625332661757223,
          0.07132037211821651,
          0.07420005053801981,
          0.06609893010377577,
          0.09353057940136744,
          0.1146779865285561,
          0.12218288449446235,
          0.12232889529897206,
          0.15083666489980074,
          0.1383940367104144,
          0.13098480805323098,
          0.14877506221031722,
          0.14177540781473041
         ],
         "yaxis": "y"
        }
       ],
       "layout": {
        "legend": {
         "tracegroupgap": 0
        },
        "template": {
         "data": {
          "bar": [
           {
            "error_x": {
             "color": "#2a3f5f"
            },
            "error_y": {
             "color": "#2a3f5f"
            },
            "marker": {
             "line": {
              "color": "#E5ECF6",
              "width": 0.5
             },
             "pattern": {
              "fillmode": "overlay",
              "size": 10,
              "solidity": 0.2
             }
            },
            "type": "bar"
           }
          ],
          "barpolar": [
           {
            "marker": {
             "line": {
              "color": "#E5ECF6",
              "width": 0.5
             },
             "pattern": {
              "fillmode": "overlay",
              "size": 10,
              "solidity": 0.2
             }
            },
            "type": "barpolar"
           }
          ],
          "carpet": [
           {
            "aaxis": {
             "endlinecolor": "#2a3f5f",
             "gridcolor": "white",
             "linecolor": "white",
             "minorgridcolor": "white",
             "startlinecolor": "#2a3f5f"
            },
            "baxis": {
             "endlinecolor": "#2a3f5f",
             "gridcolor": "white",
             "linecolor": "white",
             "minorgridcolor": "white",
             "startlinecolor": "#2a3f5f"
            },
            "type": "carpet"
           }
          ],
          "choropleth": [
           {
            "colorbar": {
             "outlinewidth": 0,
             "ticks": ""
            },
            "type": "choropleth"
           }
          ],
          "contour": [
           {
            "colorbar": {
             "outlinewidth": 0,
             "ticks": ""
            },
            "colorscale": [
             [
              0,
              "#0d0887"
             ],
             [
              0.1111111111111111,
              "#46039f"
             ],
             [
              0.2222222222222222,
              "#7201a8"
             ],
             [
              0.3333333333333333,
              "#9c179e"
             ],
             [
              0.4444444444444444,
              "#bd3786"
             ],
             [
              0.5555555555555556,
              "#d8576b"
             ],
             [
              0.6666666666666666,
              "#ed7953"
             ],
             [
              0.7777777777777778,
              "#fb9f3a"
             ],
             [
              0.8888888888888888,
              "#fdca26"
             ],
             [
              1,
              "#f0f921"
             ]
            ],
            "type": "contour"
           }
          ],
          "contourcarpet": [
           {
            "colorbar": {
             "outlinewidth": 0,
             "ticks": ""
            },
            "type": "contourcarpet"
           }
          ],
          "heatmap": [
           {
            "colorbar": {
             "outlinewidth": 0,
             "ticks": ""
            },
            "colorscale": [
             [
              0,
              "#0d0887"
             ],
             [
              0.1111111111111111,
              "#46039f"
             ],
             [
              0.2222222222222222,
              "#7201a8"
             ],
             [
              0.3333333333333333,
              "#9c179e"
             ],
             [
              0.4444444444444444,
              "#bd3786"
             ],
             [
              0.5555555555555556,
              "#d8576b"
             ],
             [
              0.6666666666666666,
              "#ed7953"
             ],
             [
              0.7777777777777778,
              "#fb9f3a"
             ],
             [
              0.8888888888888888,
              "#fdca26"
             ],
             [
              1,
              "#f0f921"
             ]
            ],
            "type": "heatmap"
           }
          ],
          "heatmapgl": [
           {
            "colorbar": {
             "outlinewidth": 0,
             "ticks": ""
            },
            "colorscale": [
             [
              0,
              "#0d0887"
             ],
             [
              0.1111111111111111,
              "#46039f"
             ],
             [
              0.2222222222222222,
              "#7201a8"
             ],
             [
              0.3333333333333333,
              "#9c179e"
             ],
             [
              0.4444444444444444,
              "#bd3786"
             ],
             [
              0.5555555555555556,
              "#d8576b"
             ],
             [
              0.6666666666666666,
              "#ed7953"
             ],
             [
              0.7777777777777778,
              "#fb9f3a"
             ],
             [
              0.8888888888888888,
              "#fdca26"
             ],
             [
              1,
              "#f0f921"
             ]
            ],
            "type": "heatmapgl"
           }
          ],
          "histogram": [
           {
            "marker": {
             "pattern": {
              "fillmode": "overlay",
              "size": 10,
              "solidity": 0.2
             }
            },
            "type": "histogram"
           }
          ],
          "histogram2d": [
           {
            "colorbar": {
             "outlinewidth": 0,
             "ticks": ""
            },
            "colorscale": [
             [
              0,
              "#0d0887"
             ],
             [
              0.1111111111111111,
              "#46039f"
             ],
             [
              0.2222222222222222,
              "#7201a8"
             ],
             [
              0.3333333333333333,
              "#9c179e"
             ],
             [
              0.4444444444444444,
              "#bd3786"
             ],
             [
              0.5555555555555556,
              "#d8576b"
             ],
             [
              0.6666666666666666,
              "#ed7953"
             ],
             [
              0.7777777777777778,
              "#fb9f3a"
             ],
             [
              0.8888888888888888,
              "#fdca26"
             ],
             [
              1,
              "#f0f921"
             ]
            ],
            "type": "histogram2d"
           }
          ],
          "histogram2dcontour": [
           {
            "colorbar": {
             "outlinewidth": 0,
             "ticks": ""
            },
            "colorscale": [
             [
              0,
              "#0d0887"
             ],
             [
              0.1111111111111111,
              "#46039f"
             ],
             [
              0.2222222222222222,
              "#7201a8"
             ],
             [
              0.3333333333333333,
              "#9c179e"
             ],
             [
              0.4444444444444444,
              "#bd3786"
             ],
             [
              0.5555555555555556,
              "#d8576b"
             ],
             [
              0.6666666666666666,
              "#ed7953"
             ],
             [
              0.7777777777777778,
              "#fb9f3a"
             ],
             [
              0.8888888888888888,
              "#fdca26"
             ],
             [
              1,
              "#f0f921"
             ]
            ],
            "type": "histogram2dcontour"
           }
          ],
          "mesh3d": [
           {
            "colorbar": {
             "outlinewidth": 0,
             "ticks": ""
            },
            "type": "mesh3d"
           }
          ],
          "parcoords": [
           {
            "line": {
             "colorbar": {
              "outlinewidth": 0,
              "ticks": ""
             }
            },
            "type": "parcoords"
           }
          ],
          "pie": [
           {
            "automargin": true,
            "type": "pie"
           }
          ],
          "scatter": [
           {
            "fillpattern": {
             "fillmode": "overlay",
             "size": 10,
             "solidity": 0.2
            },
            "type": "scatter"
           }
          ],
          "scatter3d": [
           {
            "line": {
             "colorbar": {
              "outlinewidth": 0,
              "ticks": ""
             }
            },
            "marker": {
             "colorbar": {
              "outlinewidth": 0,
              "ticks": ""
             }
            },
            "type": "scatter3d"
           }
          ],
          "scattercarpet": [
           {
            "marker": {
             "colorbar": {
              "outlinewidth": 0,
              "ticks": ""
             }
            },
            "type": "scattercarpet"
           }
          ],
          "scattergeo": [
           {
            "marker": {
             "colorbar": {
              "outlinewidth": 0,
              "ticks": ""
             }
            },
            "type": "scattergeo"
           }
          ],
          "scattergl": [
           {
            "marker": {
             "colorbar": {
              "outlinewidth": 0,
              "ticks": ""
             }
            },
            "type": "scattergl"
           }
          ],
          "scattermapbox": [
           {
            "marker": {
             "colorbar": {
              "outlinewidth": 0,
              "ticks": ""
             }
            },
            "type": "scattermapbox"
           }
          ],
          "scatterpolar": [
           {
            "marker": {
             "colorbar": {
              "outlinewidth": 0,
              "ticks": ""
             }
            },
            "type": "scatterpolar"
           }
          ],
          "scatterpolargl": [
           {
            "marker": {
             "colorbar": {
              "outlinewidth": 0,
              "ticks": ""
             }
            },
            "type": "scatterpolargl"
           }
          ],
          "scatterternary": [
           {
            "marker": {
             "colorbar": {
              "outlinewidth": 0,
              "ticks": ""
             }
            },
            "type": "scatterternary"
           }
          ],
          "surface": [
           {
            "colorbar": {
             "outlinewidth": 0,
             "ticks": ""
            },
            "colorscale": [
             [
              0,
              "#0d0887"
             ],
             [
              0.1111111111111111,
              "#46039f"
             ],
             [
              0.2222222222222222,
              "#7201a8"
             ],
             [
              0.3333333333333333,
              "#9c179e"
             ],
             [
              0.4444444444444444,
              "#bd3786"
             ],
             [
              0.5555555555555556,
              "#d8576b"
             ],
             [
              0.6666666666666666,
              "#ed7953"
             ],
             [
              0.7777777777777778,
              "#fb9f3a"
             ],
             [
              0.8888888888888888,
              "#fdca26"
             ],
             [
              1,
              "#f0f921"
             ]
            ],
            "type": "surface"
           }
          ],
          "table": [
           {
            "cells": {
             "fill": {
              "color": "#EBF0F8"
             },
             "line": {
              "color": "white"
             }
            },
            "header": {
             "fill": {
              "color": "#C8D4E3"
             },
             "line": {
              "color": "white"
             }
            },
            "type": "table"
           }
          ]
         },
         "layout": {
          "annotationdefaults": {
           "arrowcolor": "#2a3f5f",
           "arrowhead": 0,
           "arrowwidth": 1
          },
          "autotypenumbers": "strict",
          "coloraxis": {
           "colorbar": {
            "outlinewidth": 0,
            "ticks": ""
           }
          },
          "colorscale": {
           "diverging": [
            [
             0,
             "#8e0152"
            ],
            [
             0.1,
             "#c51b7d"
            ],
            [
             0.2,
             "#de77ae"
            ],
            [
             0.3,
             "#f1b6da"
            ],
            [
             0.4,
             "#fde0ef"
            ],
            [
             0.5,
             "#f7f7f7"
            ],
            [
             0.6,
             "#e6f5d0"
            ],
            [
             0.7,
             "#b8e186"
            ],
            [
             0.8,
             "#7fbc41"
            ],
            [
             0.9,
             "#4d9221"
            ],
            [
             1,
             "#276419"
            ]
           ],
           "sequential": [
            [
             0,
             "#0d0887"
            ],
            [
             0.1111111111111111,
             "#46039f"
            ],
            [
             0.2222222222222222,
             "#7201a8"
            ],
            [
             0.3333333333333333,
             "#9c179e"
            ],
            [
             0.4444444444444444,
             "#bd3786"
            ],
            [
             0.5555555555555556,
             "#d8576b"
            ],
            [
             0.6666666666666666,
             "#ed7953"
            ],
            [
             0.7777777777777778,
             "#fb9f3a"
            ],
            [
             0.8888888888888888,
             "#fdca26"
            ],
            [
             1,
             "#f0f921"
            ]
           ],
           "sequentialminus": [
            [
             0,
             "#0d0887"
            ],
            [
             0.1111111111111111,
             "#46039f"
            ],
            [
             0.2222222222222222,
             "#7201a8"
            ],
            [
             0.3333333333333333,
             "#9c179e"
            ],
            [
             0.4444444444444444,
             "#bd3786"
            ],
            [
             0.5555555555555556,
             "#d8576b"
            ],
            [
             0.6666666666666666,
             "#ed7953"
            ],
            [
             0.7777777777777778,
             "#fb9f3a"
            ],
            [
             0.8888888888888888,
             "#fdca26"
            ],
            [
             1,
             "#f0f921"
            ]
           ]
          },
          "colorway": [
           "#636efa",
           "#EF553B",
           "#00cc96",
           "#ab63fa",
           "#FFA15A",
           "#19d3f3",
           "#FF6692",
           "#B6E880",
           "#FF97FF",
           "#FECB52"
          ],
          "font": {
           "color": "#2a3f5f"
          },
          "geo": {
           "bgcolor": "white",
           "lakecolor": "white",
           "landcolor": "#E5ECF6",
           "showlakes": true,
           "showland": true,
           "subunitcolor": "white"
          },
          "hoverlabel": {
           "align": "left"
          },
          "hovermode": "closest",
          "mapbox": {
           "style": "light"
          },
          "paper_bgcolor": "white",
          "plot_bgcolor": "#E5ECF6",
          "polar": {
           "angularaxis": {
            "gridcolor": "white",
            "linecolor": "white",
            "ticks": ""
           },
           "bgcolor": "#E5ECF6",
           "radialaxis": {
            "gridcolor": "white",
            "linecolor": "white",
            "ticks": ""
           }
          },
          "scene": {
           "xaxis": {
            "backgroundcolor": "#E5ECF6",
            "gridcolor": "white",
            "gridwidth": 2,
            "linecolor": "white",
            "showbackground": true,
            "ticks": "",
            "zerolinecolor": "white"
           },
           "yaxis": {
            "backgroundcolor": "#E5ECF6",
            "gridcolor": "white",
            "gridwidth": 2,
            "linecolor": "white",
            "showbackground": true,
            "ticks": "",
            "zerolinecolor": "white"
           },
           "zaxis": {
            "backgroundcolor": "#E5ECF6",
            "gridcolor": "white",
            "gridwidth": 2,
            "linecolor": "white",
            "showbackground": true,
            "ticks": "",
            "zerolinecolor": "white"
           }
          },
          "shapedefaults": {
           "line": {
            "color": "#2a3f5f"
           }
          },
          "ternary": {
           "aaxis": {
            "gridcolor": "white",
            "linecolor": "white",
            "ticks": ""
           },
           "baxis": {
            "gridcolor": "white",
            "linecolor": "white",
            "ticks": ""
           },
           "bgcolor": "#E5ECF6",
           "caxis": {
            "gridcolor": "white",
            "linecolor": "white",
            "ticks": ""
           }
          },
          "title": {
           "x": 0.05
          },
          "xaxis": {
           "automargin": true,
           "gridcolor": "white",
           "linecolor": "white",
           "ticks": "",
           "title": {
            "standoff": 15
           },
           "zerolinecolor": "white",
           "zerolinewidth": 2
          },
          "yaxis": {
           "automargin": true,
           "gridcolor": "white",
           "linecolor": "white",
           "ticks": "",
           "title": {
            "standoff": 15
           },
           "zerolinecolor": "white",
           "zerolinewidth": 2
          }
         }
        },
        "title": {
         "text": "Estratégia sem otimização"
        },
        "xaxis": {
         "anchor": "y",
         "domain": [
          0,
          1
         ],
         "title": {
          "text": "Date"
         }
        },
        "yaxis": {
         "anchor": "x",
         "domain": [
          0,
          1
         ],
         "title": {
          "text": "y"
         }
        }
       }
      }
     },
     "metadata": {},
     "output_type": "display_data"
    }
   ],
   "source": [
    "weights_vanilla = np.full(n_stocks, 1/n_stocks)\n",
    "vanilla_portfolio = (returns*weights_vanilla).sum(axis=1)\n",
    "vanilla_portfolio = vanilla_portfolio + 1\n",
    "vanilla_portfolio = vanilla_portfolio.cumprod() - 1\n",
    "px.line(vanilla_portfolio, title='Estratégia sem otimização', x=vanilla_portfolio.index, y=vanilla_portfolio.values)"
   ]
  },
  {
   "cell_type": "code",
   "execution_count": 179,
   "metadata": {},
   "outputs": [
    {
     "data": {
      "text/plain": [
       "Date\n",
       "2022-12-29    0.141775\n",
       "dtype: float64"
      ]
     },
     "execution_count": 179,
     "metadata": {},
     "output_type": "execute_result"
    }
   ],
   "source": [
    "port_return(weights_vanilla)"
   ]
  },
  {
   "cell_type": "code",
   "execution_count": 142,
   "metadata": {},
   "outputs": [
    {
     "name": "stdout",
     "output_type": "stream",
     "text": [
      "[*********************100%***********************]  11 of 11 completed\n"
     ]
    }
   ],
   "source": [
    "data_test = yf.download(stocks, start='2023-01-01', end='2023-05-01')['Adj Close']\n",
    "data_test = data_test.pct_change().dropna()"
   ]
  },
  {
   "cell_type": "code",
   "execution_count": 180,
   "metadata": {},
   "outputs": [
    {
     "data": {
      "text/plain": [
       "Date\n",
       "2023-04-28    0.111627\n",
       "dtype: float64"
      ]
     },
     "execution_count": 180,
     "metadata": {},
     "output_type": "execute_result"
    }
   ],
   "source": [
    "port_return(best_individual, dataset=data_test)"
   ]
  },
  {
   "cell_type": "code",
   "execution_count": 144,
   "metadata": {},
   "outputs": [
    {
     "data": {
      "application/vnd.plotly.v1+json": {
       "config": {
        "plotlyServerURL": "https://plot.ly"
       },
       "data": [
        {
         "hovertemplate": "Date=%{x}<br>y=%{y}<extra></extra>",
         "legendgroup": "",
         "line": {
          "color": "#636efa",
          "dash": "solid"
         },
         "marker": {
          "symbol": "circle"
         },
         "mode": "lines",
         "name": "",
         "orientation": "v",
         "showlegend": false,
         "type": "scatter",
         "x": [
          "2023-01-03T00:00:00",
          "2023-01-04T00:00:00",
          "2023-01-05T00:00:00",
          "2023-01-06T00:00:00",
          "2023-01-09T00:00:00",
          "2023-01-10T00:00:00",
          "2023-01-11T00:00:00",
          "2023-01-12T00:00:00",
          "2023-01-13T00:00:00",
          "2023-01-16T00:00:00",
          "2023-01-17T00:00:00",
          "2023-01-18T00:00:00",
          "2023-01-19T00:00:00",
          "2023-01-20T00:00:00",
          "2023-01-23T00:00:00",
          "2023-01-24T00:00:00",
          "2023-01-25T00:00:00",
          "2023-01-26T00:00:00",
          "2023-01-27T00:00:00",
          "2023-01-30T00:00:00",
          "2023-01-31T00:00:00",
          "2023-02-01T00:00:00",
          "2023-02-02T00:00:00",
          "2023-02-03T00:00:00",
          "2023-02-06T00:00:00",
          "2023-02-07T00:00:00",
          "2023-02-08T00:00:00",
          "2023-02-09T00:00:00",
          "2023-02-10T00:00:00",
          "2023-02-13T00:00:00",
          "2023-02-14T00:00:00",
          "2023-02-15T00:00:00",
          "2023-02-16T00:00:00",
          "2023-02-17T00:00:00",
          "2023-02-22T00:00:00",
          "2023-02-23T00:00:00",
          "2023-02-24T00:00:00",
          "2023-02-27T00:00:00",
          "2023-02-28T00:00:00",
          "2023-03-01T00:00:00",
          "2023-03-02T00:00:00",
          "2023-03-03T00:00:00",
          "2023-03-06T00:00:00",
          "2023-03-07T00:00:00",
          "2023-03-08T00:00:00",
          "2023-03-09T00:00:00",
          "2023-03-10T00:00:00",
          "2023-03-13T00:00:00",
          "2023-03-14T00:00:00",
          "2023-03-15T00:00:00",
          "2023-03-16T00:00:00",
          "2023-03-17T00:00:00",
          "2023-03-20T00:00:00",
          "2023-03-21T00:00:00",
          "2023-03-22T00:00:00",
          "2023-03-23T00:00:00",
          "2023-03-24T00:00:00",
          "2023-03-27T00:00:00",
          "2023-03-28T00:00:00",
          "2023-03-29T00:00:00",
          "2023-03-30T00:00:00",
          "2023-03-31T00:00:00",
          "2023-04-03T00:00:00",
          "2023-04-04T00:00:00",
          "2023-04-05T00:00:00",
          "2023-04-06T00:00:00",
          "2023-04-10T00:00:00",
          "2023-04-11T00:00:00",
          "2023-04-12T00:00:00",
          "2023-04-13T00:00:00",
          "2023-04-14T00:00:00",
          "2023-04-17T00:00:00",
          "2023-04-18T00:00:00",
          "2023-04-19T00:00:00",
          "2023-04-20T00:00:00",
          "2023-04-24T00:00:00",
          "2023-04-25T00:00:00",
          "2023-04-26T00:00:00",
          "2023-04-27T00:00:00",
          "2023-04-28T00:00:00"
         ],
         "xaxis": "x",
         "y": [
          -0.017163524637232697,
          -0.0038155867161512314,
          0.004810243326478947,
          0.012249316137172395,
          0.01785396530477623,
          0.01855190937224993,
          0.039588800460324425,
          0.03524180410908384,
          0.03149053175445471,
          0.011204426571195913,
          0.030702957196470093,
          0.03513456718407637,
          0.03522578079280958,
          0.01921741113345532,
          0.01701697412821579,
          0.028417546107966984,
          0.04855878987588236,
          0.04860542847251592,
          0.03178469878340584,
          0.01917481144083011,
          0.028648850940269144,
          0.020990645806151953,
          0.0060498487098006315,
          -0.007053432904216339,
          -0.008156446135567874,
          -0.020576207134149538,
          -0.0040730300188046575,
          -0.013416142195692204,
          -0.005884137036691661,
          -0.004964116711650313,
          -0.021709786572642997,
          -0.004732814074325353,
          -0.004594801552517791,
          0.0007508529075630488,
          -0.01968771908746836,
          -0.01238682733866836,
          -0.024558322912216934,
          -0.02545029985865388,
          -0.02544600736420355,
          -0.028031624611521422,
          -0.037009239314821696,
          -0.03840883903658665,
          -0.030695095516815707,
          -0.03637907780583849,
          -0.018868483436324968,
          -0.030991948097958688,
          -0.04094275095260347,
          -0.04048411421706377,
          -0.03416782740806357,
          -0.021590808192201938,
          -0.0138867807945533,
          -0.03526033476835544,
          -0.03965954290562179,
          -0.04669717245819971,
          -0.049826236108869715,
          -0.059901276371327694,
          -0.04962448658277385,
          -0.034355238476797,
          -0.012621314248666526,
          -0.007588013045751296,
          0.005818598695680688,
          -0.009960768485553495,
          -0.02262354706548808,
          -0.0167837897121762,
          -0.028381229176875133,
          -0.032345078559965934,
          -0.02526023915934994,
          0.0082299601309197,
          0.021015824997643096,
          0.015592353431302941,
          0.013332978381176863,
          0.009075738893023377,
          0.012708854997613317,
          -0.001959409135552037,
          0.006881473119331627,
          0.01060625014862926,
          0.004995090424690485,
          0.0008635388219329077,
          0.010211557534919757,
          0.015352560124544556
         ],
         "yaxis": "y"
        }
       ],
       "layout": {
        "legend": {
         "tracegroupgap": 0
        },
        "template": {
         "data": {
          "bar": [
           {
            "error_x": {
             "color": "#2a3f5f"
            },
            "error_y": {
             "color": "#2a3f5f"
            },
            "marker": {
             "line": {
              "color": "#E5ECF6",
              "width": 0.5
             },
             "pattern": {
              "fillmode": "overlay",
              "size": 10,
              "solidity": 0.2
             }
            },
            "type": "bar"
           }
          ],
          "barpolar": [
           {
            "marker": {
             "line": {
              "color": "#E5ECF6",
              "width": 0.5
             },
             "pattern": {
              "fillmode": "overlay",
              "size": 10,
              "solidity": 0.2
             }
            },
            "type": "barpolar"
           }
          ],
          "carpet": [
           {
            "aaxis": {
             "endlinecolor": "#2a3f5f",
             "gridcolor": "white",
             "linecolor": "white",
             "minorgridcolor": "white",
             "startlinecolor": "#2a3f5f"
            },
            "baxis": {
             "endlinecolor": "#2a3f5f",
             "gridcolor": "white",
             "linecolor": "white",
             "minorgridcolor": "white",
             "startlinecolor": "#2a3f5f"
            },
            "type": "carpet"
           }
          ],
          "choropleth": [
           {
            "colorbar": {
             "outlinewidth": 0,
             "ticks": ""
            },
            "type": "choropleth"
           }
          ],
          "contour": [
           {
            "colorbar": {
             "outlinewidth": 0,
             "ticks": ""
            },
            "colorscale": [
             [
              0,
              "#0d0887"
             ],
             [
              0.1111111111111111,
              "#46039f"
             ],
             [
              0.2222222222222222,
              "#7201a8"
             ],
             [
              0.3333333333333333,
              "#9c179e"
             ],
             [
              0.4444444444444444,
              "#bd3786"
             ],
             [
              0.5555555555555556,
              "#d8576b"
             ],
             [
              0.6666666666666666,
              "#ed7953"
             ],
             [
              0.7777777777777778,
              "#fb9f3a"
             ],
             [
              0.8888888888888888,
              "#fdca26"
             ],
             [
              1,
              "#f0f921"
             ]
            ],
            "type": "contour"
           }
          ],
          "contourcarpet": [
           {
            "colorbar": {
             "outlinewidth": 0,
             "ticks": ""
            },
            "type": "contourcarpet"
           }
          ],
          "heatmap": [
           {
            "colorbar": {
             "outlinewidth": 0,
             "ticks": ""
            },
            "colorscale": [
             [
              0,
              "#0d0887"
             ],
             [
              0.1111111111111111,
              "#46039f"
             ],
             [
              0.2222222222222222,
              "#7201a8"
             ],
             [
              0.3333333333333333,
              "#9c179e"
             ],
             [
              0.4444444444444444,
              "#bd3786"
             ],
             [
              0.5555555555555556,
              "#d8576b"
             ],
             [
              0.6666666666666666,
              "#ed7953"
             ],
             [
              0.7777777777777778,
              "#fb9f3a"
             ],
             [
              0.8888888888888888,
              "#fdca26"
             ],
             [
              1,
              "#f0f921"
             ]
            ],
            "type": "heatmap"
           }
          ],
          "heatmapgl": [
           {
            "colorbar": {
             "outlinewidth": 0,
             "ticks": ""
            },
            "colorscale": [
             [
              0,
              "#0d0887"
             ],
             [
              0.1111111111111111,
              "#46039f"
             ],
             [
              0.2222222222222222,
              "#7201a8"
             ],
             [
              0.3333333333333333,
              "#9c179e"
             ],
             [
              0.4444444444444444,
              "#bd3786"
             ],
             [
              0.5555555555555556,
              "#d8576b"
             ],
             [
              0.6666666666666666,
              "#ed7953"
             ],
             [
              0.7777777777777778,
              "#fb9f3a"
             ],
             [
              0.8888888888888888,
              "#fdca26"
             ],
             [
              1,
              "#f0f921"
             ]
            ],
            "type": "heatmapgl"
           }
          ],
          "histogram": [
           {
            "marker": {
             "pattern": {
              "fillmode": "overlay",
              "size": 10,
              "solidity": 0.2
             }
            },
            "type": "histogram"
           }
          ],
          "histogram2d": [
           {
            "colorbar": {
             "outlinewidth": 0,
             "ticks": ""
            },
            "colorscale": [
             [
              0,
              "#0d0887"
             ],
             [
              0.1111111111111111,
              "#46039f"
             ],
             [
              0.2222222222222222,
              "#7201a8"
             ],
             [
              0.3333333333333333,
              "#9c179e"
             ],
             [
              0.4444444444444444,
              "#bd3786"
             ],
             [
              0.5555555555555556,
              "#d8576b"
             ],
             [
              0.6666666666666666,
              "#ed7953"
             ],
             [
              0.7777777777777778,
              "#fb9f3a"
             ],
             [
              0.8888888888888888,
              "#fdca26"
             ],
             [
              1,
              "#f0f921"
             ]
            ],
            "type": "histogram2d"
           }
          ],
          "histogram2dcontour": [
           {
            "colorbar": {
             "outlinewidth": 0,
             "ticks": ""
            },
            "colorscale": [
             [
              0,
              "#0d0887"
             ],
             [
              0.1111111111111111,
              "#46039f"
             ],
             [
              0.2222222222222222,
              "#7201a8"
             ],
             [
              0.3333333333333333,
              "#9c179e"
             ],
             [
              0.4444444444444444,
              "#bd3786"
             ],
             [
              0.5555555555555556,
              "#d8576b"
             ],
             [
              0.6666666666666666,
              "#ed7953"
             ],
             [
              0.7777777777777778,
              "#fb9f3a"
             ],
             [
              0.8888888888888888,
              "#fdca26"
             ],
             [
              1,
              "#f0f921"
             ]
            ],
            "type": "histogram2dcontour"
           }
          ],
          "mesh3d": [
           {
            "colorbar": {
             "outlinewidth": 0,
             "ticks": ""
            },
            "type": "mesh3d"
           }
          ],
          "parcoords": [
           {
            "line": {
             "colorbar": {
              "outlinewidth": 0,
              "ticks": ""
             }
            },
            "type": "parcoords"
           }
          ],
          "pie": [
           {
            "automargin": true,
            "type": "pie"
           }
          ],
          "scatter": [
           {
            "fillpattern": {
             "fillmode": "overlay",
             "size": 10,
             "solidity": 0.2
            },
            "type": "scatter"
           }
          ],
          "scatter3d": [
           {
            "line": {
             "colorbar": {
              "outlinewidth": 0,
              "ticks": ""
             }
            },
            "marker": {
             "colorbar": {
              "outlinewidth": 0,
              "ticks": ""
             }
            },
            "type": "scatter3d"
           }
          ],
          "scattercarpet": [
           {
            "marker": {
             "colorbar": {
              "outlinewidth": 0,
              "ticks": ""
             }
            },
            "type": "scattercarpet"
           }
          ],
          "scattergeo": [
           {
            "marker": {
             "colorbar": {
              "outlinewidth": 0,
              "ticks": ""
             }
            },
            "type": "scattergeo"
           }
          ],
          "scattergl": [
           {
            "marker": {
             "colorbar": {
              "outlinewidth": 0,
              "ticks": ""
             }
            },
            "type": "scattergl"
           }
          ],
          "scattermapbox": [
           {
            "marker": {
             "colorbar": {
              "outlinewidth": 0,
              "ticks": ""
             }
            },
            "type": "scattermapbox"
           }
          ],
          "scatterpolar": [
           {
            "marker": {
             "colorbar": {
              "outlinewidth": 0,
              "ticks": ""
             }
            },
            "type": "scatterpolar"
           }
          ],
          "scatterpolargl": [
           {
            "marker": {
             "colorbar": {
              "outlinewidth": 0,
              "ticks": ""
             }
            },
            "type": "scatterpolargl"
           }
          ],
          "scatterternary": [
           {
            "marker": {
             "colorbar": {
              "outlinewidth": 0,
              "ticks": ""
             }
            },
            "type": "scatterternary"
           }
          ],
          "surface": [
           {
            "colorbar": {
             "outlinewidth": 0,
             "ticks": ""
            },
            "colorscale": [
             [
              0,
              "#0d0887"
             ],
             [
              0.1111111111111111,
              "#46039f"
             ],
             [
              0.2222222222222222,
              "#7201a8"
             ],
             [
              0.3333333333333333,
              "#9c179e"
             ],
             [
              0.4444444444444444,
              "#bd3786"
             ],
             [
              0.5555555555555556,
              "#d8576b"
             ],
             [
              0.6666666666666666,
              "#ed7953"
             ],
             [
              0.7777777777777778,
              "#fb9f3a"
             ],
             [
              0.8888888888888888,
              "#fdca26"
             ],
             [
              1,
              "#f0f921"
             ]
            ],
            "type": "surface"
           }
          ],
          "table": [
           {
            "cells": {
             "fill": {
              "color": "#EBF0F8"
             },
             "line": {
              "color": "white"
             }
            },
            "header": {
             "fill": {
              "color": "#C8D4E3"
             },
             "line": {
              "color": "white"
             }
            },
            "type": "table"
           }
          ]
         },
         "layout": {
          "annotationdefaults": {
           "arrowcolor": "#2a3f5f",
           "arrowhead": 0,
           "arrowwidth": 1
          },
          "autotypenumbers": "strict",
          "coloraxis": {
           "colorbar": {
            "outlinewidth": 0,
            "ticks": ""
           }
          },
          "colorscale": {
           "diverging": [
            [
             0,
             "#8e0152"
            ],
            [
             0.1,
             "#c51b7d"
            ],
            [
             0.2,
             "#de77ae"
            ],
            [
             0.3,
             "#f1b6da"
            ],
            [
             0.4,
             "#fde0ef"
            ],
            [
             0.5,
             "#f7f7f7"
            ],
            [
             0.6,
             "#e6f5d0"
            ],
            [
             0.7,
             "#b8e186"
            ],
            [
             0.8,
             "#7fbc41"
            ],
            [
             0.9,
             "#4d9221"
            ],
            [
             1,
             "#276419"
            ]
           ],
           "sequential": [
            [
             0,
             "#0d0887"
            ],
            [
             0.1111111111111111,
             "#46039f"
            ],
            [
             0.2222222222222222,
             "#7201a8"
            ],
            [
             0.3333333333333333,
             "#9c179e"
            ],
            [
             0.4444444444444444,
             "#bd3786"
            ],
            [
             0.5555555555555556,
             "#d8576b"
            ],
            [
             0.6666666666666666,
             "#ed7953"
            ],
            [
             0.7777777777777778,
             "#fb9f3a"
            ],
            [
             0.8888888888888888,
             "#fdca26"
            ],
            [
             1,
             "#f0f921"
            ]
           ],
           "sequentialminus": [
            [
             0,
             "#0d0887"
            ],
            [
             0.1111111111111111,
             "#46039f"
            ],
            [
             0.2222222222222222,
             "#7201a8"
            ],
            [
             0.3333333333333333,
             "#9c179e"
            ],
            [
             0.4444444444444444,
             "#bd3786"
            ],
            [
             0.5555555555555556,
             "#d8576b"
            ],
            [
             0.6666666666666666,
             "#ed7953"
            ],
            [
             0.7777777777777778,
             "#fb9f3a"
            ],
            [
             0.8888888888888888,
             "#fdca26"
            ],
            [
             1,
             "#f0f921"
            ]
           ]
          },
          "colorway": [
           "#636efa",
           "#EF553B",
           "#00cc96",
           "#ab63fa",
           "#FFA15A",
           "#19d3f3",
           "#FF6692",
           "#B6E880",
           "#FF97FF",
           "#FECB52"
          ],
          "font": {
           "color": "#2a3f5f"
          },
          "geo": {
           "bgcolor": "white",
           "lakecolor": "white",
           "landcolor": "#E5ECF6",
           "showlakes": true,
           "showland": true,
           "subunitcolor": "white"
          },
          "hoverlabel": {
           "align": "left"
          },
          "hovermode": "closest",
          "mapbox": {
           "style": "light"
          },
          "paper_bgcolor": "white",
          "plot_bgcolor": "#E5ECF6",
          "polar": {
           "angularaxis": {
            "gridcolor": "white",
            "linecolor": "white",
            "ticks": ""
           },
           "bgcolor": "#E5ECF6",
           "radialaxis": {
            "gridcolor": "white",
            "linecolor": "white",
            "ticks": ""
           }
          },
          "scene": {
           "xaxis": {
            "backgroundcolor": "#E5ECF6",
            "gridcolor": "white",
            "gridwidth": 2,
            "linecolor": "white",
            "showbackground": true,
            "ticks": "",
            "zerolinecolor": "white"
           },
           "yaxis": {
            "backgroundcolor": "#E5ECF6",
            "gridcolor": "white",
            "gridwidth": 2,
            "linecolor": "white",
            "showbackground": true,
            "ticks": "",
            "zerolinecolor": "white"
           },
           "zaxis": {
            "backgroundcolor": "#E5ECF6",
            "gridcolor": "white",
            "gridwidth": 2,
            "linecolor": "white",
            "showbackground": true,
            "ticks": "",
            "zerolinecolor": "white"
           }
          },
          "shapedefaults": {
           "line": {
            "color": "#2a3f5f"
           }
          },
          "ternary": {
           "aaxis": {
            "gridcolor": "white",
            "linecolor": "white",
            "ticks": ""
           },
           "baxis": {
            "gridcolor": "white",
            "linecolor": "white",
            "ticks": ""
           },
           "bgcolor": "#E5ECF6",
           "caxis": {
            "gridcolor": "white",
            "linecolor": "white",
            "ticks": ""
           }
          },
          "title": {
           "x": 0.05
          },
          "xaxis": {
           "automargin": true,
           "gridcolor": "white",
           "linecolor": "white",
           "ticks": "",
           "title": {
            "standoff": 15
           },
           "zerolinecolor": "white",
           "zerolinewidth": 2
          },
          "yaxis": {
           "automargin": true,
           "gridcolor": "white",
           "linecolor": "white",
           "ticks": "",
           "title": {
            "standoff": 15
           },
           "zerolinecolor": "white",
           "zerolinewidth": 2
          }
         }
        },
        "title": {
         "text": "Estratégia otimizada"
        },
        "xaxis": {
         "anchor": "y",
         "domain": [
          0,
          1
         ],
         "title": {
          "text": "Date"
         }
        },
        "yaxis": {
         "anchor": "x",
         "domain": [
          0,
          1
         ],
         "title": {
          "text": "y"
         }
        }
       }
      }
     },
     "metadata": {},
     "output_type": "display_data"
    }
   ],
   "source": [
    "opt_teste = data_test.mul(best_individual).sum(axis=1)  # Soma dos retornos da carteira dia a dia\n",
    "opt_teste = opt_teste + 1\n",
    "opt_teste = opt_teste.cumprod() - 1\n",
    "px.line(opt_teste, title='Estratégia otimizada', x=opt_teste.index, y=opt_teste.values)"
   ]
  },
  {
   "cell_type": "code",
   "execution_count": 145,
   "metadata": {},
   "outputs": [
    {
     "data": {
      "application/vnd.plotly.v1+json": {
       "config": {
        "plotlyServerURL": "https://plot.ly"
       },
       "data": [
        {
         "hovertemplate": "Date=%{x}<br>y=%{y}<extra></extra>",
         "legendgroup": "",
         "line": {
          "color": "#636efa",
          "dash": "solid"
         },
         "marker": {
          "symbol": "circle"
         },
         "mode": "lines",
         "name": "",
         "orientation": "v",
         "showlegend": false,
         "type": "scatter",
         "x": [
          "2023-01-03T00:00:00",
          "2023-01-04T00:00:00",
          "2023-01-05T00:00:00",
          "2023-01-06T00:00:00",
          "2023-01-09T00:00:00",
          "2023-01-10T00:00:00",
          "2023-01-11T00:00:00",
          "2023-01-12T00:00:00",
          "2023-01-13T00:00:00",
          "2023-01-16T00:00:00",
          "2023-01-17T00:00:00",
          "2023-01-18T00:00:00",
          "2023-01-19T00:00:00",
          "2023-01-20T00:00:00",
          "2023-01-23T00:00:00",
          "2023-01-24T00:00:00",
          "2023-01-25T00:00:00",
          "2023-01-26T00:00:00",
          "2023-01-27T00:00:00",
          "2023-01-30T00:00:00",
          "2023-01-31T00:00:00",
          "2023-02-01T00:00:00",
          "2023-02-02T00:00:00",
          "2023-02-03T00:00:00",
          "2023-02-06T00:00:00",
          "2023-02-07T00:00:00",
          "2023-02-08T00:00:00",
          "2023-02-09T00:00:00",
          "2023-02-10T00:00:00",
          "2023-02-13T00:00:00",
          "2023-02-14T00:00:00",
          "2023-02-15T00:00:00",
          "2023-02-16T00:00:00",
          "2023-02-17T00:00:00",
          "2023-02-22T00:00:00",
          "2023-02-23T00:00:00",
          "2023-02-24T00:00:00",
          "2023-02-27T00:00:00",
          "2023-02-28T00:00:00",
          "2023-03-01T00:00:00",
          "2023-03-02T00:00:00",
          "2023-03-03T00:00:00",
          "2023-03-06T00:00:00",
          "2023-03-07T00:00:00",
          "2023-03-08T00:00:00",
          "2023-03-09T00:00:00",
          "2023-03-10T00:00:00",
          "2023-03-13T00:00:00",
          "2023-03-14T00:00:00",
          "2023-03-15T00:00:00",
          "2023-03-16T00:00:00",
          "2023-03-17T00:00:00",
          "2023-03-20T00:00:00",
          "2023-03-21T00:00:00",
          "2023-03-22T00:00:00",
          "2023-03-23T00:00:00",
          "2023-03-24T00:00:00",
          "2023-03-27T00:00:00",
          "2023-03-28T00:00:00",
          "2023-03-29T00:00:00",
          "2023-03-30T00:00:00",
          "2023-03-31T00:00:00",
          "2023-04-03T00:00:00",
          "2023-04-04T00:00:00",
          "2023-04-05T00:00:00",
          "2023-04-06T00:00:00",
          "2023-04-10T00:00:00",
          "2023-04-11T00:00:00",
          "2023-04-12T00:00:00",
          "2023-04-13T00:00:00",
          "2023-04-14T00:00:00",
          "2023-04-17T00:00:00",
          "2023-04-18T00:00:00",
          "2023-04-19T00:00:00",
          "2023-04-20T00:00:00",
          "2023-04-24T00:00:00",
          "2023-04-25T00:00:00",
          "2023-04-26T00:00:00",
          "2023-04-27T00:00:00",
          "2023-04-28T00:00:00"
         ],
         "xaxis": "x",
         "y": [
          -0.021625552671782566,
          -0.005335992342530127,
          0.017038621538709053,
          0.024131403219950442,
          0.026884276753579517,
          0.03485719823624622,
          0.046359207715059636,
          0.03912907670066934,
          0.032038266335159715,
          0.01554324944830432,
          0.04723878906167833,
          0.05413981785130284,
          0.05955457653985374,
          0.043417288135249255,
          0.049837672656177556,
          0.061404651482187766,
          0.07336916868532906,
          0.07210579856113242,
          0.06266993448603975,
          0.058269536762960206,
          0.07240084514862866,
          0.06153701214634233,
          0.04746268814022869,
          0.03153169708954717,
          0.031140668485559297,
          0.019909194835893596,
          0.03926433429924825,
          0.025244591852026765,
          0.034262528656993085,
          0.036084475800461036,
          0.022331364938865672,
          0.0408939802257291,
          0.04716076344187181,
          0.04915971907055061,
          0.02575847550935184,
          0.03942491696085315,
          0.02069809646348375,
          0.019071184588739687,
          0.011169389195993196,
          0.00844755379228368,
          -0.0003500548194942388,
          0.0016127442614668475,
          0.013423766887319832,
          0.009478542261303957,
          0.028338601541302078,
          0.02120504771758336,
          0.00669832665110115,
          0.007805660581029938,
          0.003894808245073156,
          0.01461041380656658,
          0.018760024052837165,
          -0.0013163424733153573,
          -0.008661028047162067,
          -0.009862220668350519,
          -0.015380071367981474,
          -0.03284874335795274,
          -0.022124592509149443,
          -0.012893807103084187,
          -0.0011190135159624415,
          0.0073286201050888344,
          0.02822726975000478,
          0.010778246372324718,
          0.008035086519107448,
          0.017913996855888792,
          0.008287617567440453,
          -0.00025373786622839845,
          0.004587938209512865,
          0.0472544839727016,
          0.054487215114384924,
          0.044328174277353805,
          0.041616663872055204,
          0.042967115150932766,
          0.046590869805925195,
          0.02986779762800218,
          0.03937134198721348,
          0.04319333185309082,
          0.034429264547603644,
          0.03250176631167334,
          0.039320974008039355,
          0.04732256672238755
         ],
         "yaxis": "y"
        }
       ],
       "layout": {
        "legend": {
         "tracegroupgap": 0
        },
        "template": {
         "data": {
          "bar": [
           {
            "error_x": {
             "color": "#2a3f5f"
            },
            "error_y": {
             "color": "#2a3f5f"
            },
            "marker": {
             "line": {
              "color": "#E5ECF6",
              "width": 0.5
             },
             "pattern": {
              "fillmode": "overlay",
              "size": 10,
              "solidity": 0.2
             }
            },
            "type": "bar"
           }
          ],
          "barpolar": [
           {
            "marker": {
             "line": {
              "color": "#E5ECF6",
              "width": 0.5
             },
             "pattern": {
              "fillmode": "overlay",
              "size": 10,
              "solidity": 0.2
             }
            },
            "type": "barpolar"
           }
          ],
          "carpet": [
           {
            "aaxis": {
             "endlinecolor": "#2a3f5f",
             "gridcolor": "white",
             "linecolor": "white",
             "minorgridcolor": "white",
             "startlinecolor": "#2a3f5f"
            },
            "baxis": {
             "endlinecolor": "#2a3f5f",
             "gridcolor": "white",
             "linecolor": "white",
             "minorgridcolor": "white",
             "startlinecolor": "#2a3f5f"
            },
            "type": "carpet"
           }
          ],
          "choropleth": [
           {
            "colorbar": {
             "outlinewidth": 0,
             "ticks": ""
            },
            "type": "choropleth"
           }
          ],
          "contour": [
           {
            "colorbar": {
             "outlinewidth": 0,
             "ticks": ""
            },
            "colorscale": [
             [
              0,
              "#0d0887"
             ],
             [
              0.1111111111111111,
              "#46039f"
             ],
             [
              0.2222222222222222,
              "#7201a8"
             ],
             [
              0.3333333333333333,
              "#9c179e"
             ],
             [
              0.4444444444444444,
              "#bd3786"
             ],
             [
              0.5555555555555556,
              "#d8576b"
             ],
             [
              0.6666666666666666,
              "#ed7953"
             ],
             [
              0.7777777777777778,
              "#fb9f3a"
             ],
             [
              0.8888888888888888,
              "#fdca26"
             ],
             [
              1,
              "#f0f921"
             ]
            ],
            "type": "contour"
           }
          ],
          "contourcarpet": [
           {
            "colorbar": {
             "outlinewidth": 0,
             "ticks": ""
            },
            "type": "contourcarpet"
           }
          ],
          "heatmap": [
           {
            "colorbar": {
             "outlinewidth": 0,
             "ticks": ""
            },
            "colorscale": [
             [
              0,
              "#0d0887"
             ],
             [
              0.1111111111111111,
              "#46039f"
             ],
             [
              0.2222222222222222,
              "#7201a8"
             ],
             [
              0.3333333333333333,
              "#9c179e"
             ],
             [
              0.4444444444444444,
              "#bd3786"
             ],
             [
              0.5555555555555556,
              "#d8576b"
             ],
             [
              0.6666666666666666,
              "#ed7953"
             ],
             [
              0.7777777777777778,
              "#fb9f3a"
             ],
             [
              0.8888888888888888,
              "#fdca26"
             ],
             [
              1,
              "#f0f921"
             ]
            ],
            "type": "heatmap"
           }
          ],
          "heatmapgl": [
           {
            "colorbar": {
             "outlinewidth": 0,
             "ticks": ""
            },
            "colorscale": [
             [
              0,
              "#0d0887"
             ],
             [
              0.1111111111111111,
              "#46039f"
             ],
             [
              0.2222222222222222,
              "#7201a8"
             ],
             [
              0.3333333333333333,
              "#9c179e"
             ],
             [
              0.4444444444444444,
              "#bd3786"
             ],
             [
              0.5555555555555556,
              "#d8576b"
             ],
             [
              0.6666666666666666,
              "#ed7953"
             ],
             [
              0.7777777777777778,
              "#fb9f3a"
             ],
             [
              0.8888888888888888,
              "#fdca26"
             ],
             [
              1,
              "#f0f921"
             ]
            ],
            "type": "heatmapgl"
           }
          ],
          "histogram": [
           {
            "marker": {
             "pattern": {
              "fillmode": "overlay",
              "size": 10,
              "solidity": 0.2
             }
            },
            "type": "histogram"
           }
          ],
          "histogram2d": [
           {
            "colorbar": {
             "outlinewidth": 0,
             "ticks": ""
            },
            "colorscale": [
             [
              0,
              "#0d0887"
             ],
             [
              0.1111111111111111,
              "#46039f"
             ],
             [
              0.2222222222222222,
              "#7201a8"
             ],
             [
              0.3333333333333333,
              "#9c179e"
             ],
             [
              0.4444444444444444,
              "#bd3786"
             ],
             [
              0.5555555555555556,
              "#d8576b"
             ],
             [
              0.6666666666666666,
              "#ed7953"
             ],
             [
              0.7777777777777778,
              "#fb9f3a"
             ],
             [
              0.8888888888888888,
              "#fdca26"
             ],
             [
              1,
              "#f0f921"
             ]
            ],
            "type": "histogram2d"
           }
          ],
          "histogram2dcontour": [
           {
            "colorbar": {
             "outlinewidth": 0,
             "ticks": ""
            },
            "colorscale": [
             [
              0,
              "#0d0887"
             ],
             [
              0.1111111111111111,
              "#46039f"
             ],
             [
              0.2222222222222222,
              "#7201a8"
             ],
             [
              0.3333333333333333,
              "#9c179e"
             ],
             [
              0.4444444444444444,
              "#bd3786"
             ],
             [
              0.5555555555555556,
              "#d8576b"
             ],
             [
              0.6666666666666666,
              "#ed7953"
             ],
             [
              0.7777777777777778,
              "#fb9f3a"
             ],
             [
              0.8888888888888888,
              "#fdca26"
             ],
             [
              1,
              "#f0f921"
             ]
            ],
            "type": "histogram2dcontour"
           }
          ],
          "mesh3d": [
           {
            "colorbar": {
             "outlinewidth": 0,
             "ticks": ""
            },
            "type": "mesh3d"
           }
          ],
          "parcoords": [
           {
            "line": {
             "colorbar": {
              "outlinewidth": 0,
              "ticks": ""
             }
            },
            "type": "parcoords"
           }
          ],
          "pie": [
           {
            "automargin": true,
            "type": "pie"
           }
          ],
          "scatter": [
           {
            "fillpattern": {
             "fillmode": "overlay",
             "size": 10,
             "solidity": 0.2
            },
            "type": "scatter"
           }
          ],
          "scatter3d": [
           {
            "line": {
             "colorbar": {
              "outlinewidth": 0,
              "ticks": ""
             }
            },
            "marker": {
             "colorbar": {
              "outlinewidth": 0,
              "ticks": ""
             }
            },
            "type": "scatter3d"
           }
          ],
          "scattercarpet": [
           {
            "marker": {
             "colorbar": {
              "outlinewidth": 0,
              "ticks": ""
             }
            },
            "type": "scattercarpet"
           }
          ],
          "scattergeo": [
           {
            "marker": {
             "colorbar": {
              "outlinewidth": 0,
              "ticks": ""
             }
            },
            "type": "scattergeo"
           }
          ],
          "scattergl": [
           {
            "marker": {
             "colorbar": {
              "outlinewidth": 0,
              "ticks": ""
             }
            },
            "type": "scattergl"
           }
          ],
          "scattermapbox": [
           {
            "marker": {
             "colorbar": {
              "outlinewidth": 0,
              "ticks": ""
             }
            },
            "type": "scattermapbox"
           }
          ],
          "scatterpolar": [
           {
            "marker": {
             "colorbar": {
              "outlinewidth": 0,
              "ticks": ""
             }
            },
            "type": "scatterpolar"
           }
          ],
          "scatterpolargl": [
           {
            "marker": {
             "colorbar": {
              "outlinewidth": 0,
              "ticks": ""
             }
            },
            "type": "scatterpolargl"
           }
          ],
          "scatterternary": [
           {
            "marker": {
             "colorbar": {
              "outlinewidth": 0,
              "ticks": ""
             }
            },
            "type": "scatterternary"
           }
          ],
          "surface": [
           {
            "colorbar": {
             "outlinewidth": 0,
             "ticks": ""
            },
            "colorscale": [
             [
              0,
              "#0d0887"
             ],
             [
              0.1111111111111111,
              "#46039f"
             ],
             [
              0.2222222222222222,
              "#7201a8"
             ],
             [
              0.3333333333333333,
              "#9c179e"
             ],
             [
              0.4444444444444444,
              "#bd3786"
             ],
             [
              0.5555555555555556,
              "#d8576b"
             ],
             [
              0.6666666666666666,
              "#ed7953"
             ],
             [
              0.7777777777777778,
              "#fb9f3a"
             ],
             [
              0.8888888888888888,
              "#fdca26"
             ],
             [
              1,
              "#f0f921"
             ]
            ],
            "type": "surface"
           }
          ],
          "table": [
           {
            "cells": {
             "fill": {
              "color": "#EBF0F8"
             },
             "line": {
              "color": "white"
             }
            },
            "header": {
             "fill": {
              "color": "#C8D4E3"
             },
             "line": {
              "color": "white"
             }
            },
            "type": "table"
           }
          ]
         },
         "layout": {
          "annotationdefaults": {
           "arrowcolor": "#2a3f5f",
           "arrowhead": 0,
           "arrowwidth": 1
          },
          "autotypenumbers": "strict",
          "coloraxis": {
           "colorbar": {
            "outlinewidth": 0,
            "ticks": ""
           }
          },
          "colorscale": {
           "diverging": [
            [
             0,
             "#8e0152"
            ],
            [
             0.1,
             "#c51b7d"
            ],
            [
             0.2,
             "#de77ae"
            ],
            [
             0.3,
             "#f1b6da"
            ],
            [
             0.4,
             "#fde0ef"
            ],
            [
             0.5,
             "#f7f7f7"
            ],
            [
             0.6,
             "#e6f5d0"
            ],
            [
             0.7,
             "#b8e186"
            ],
            [
             0.8,
             "#7fbc41"
            ],
            [
             0.9,
             "#4d9221"
            ],
            [
             1,
             "#276419"
            ]
           ],
           "sequential": [
            [
             0,
             "#0d0887"
            ],
            [
             0.1111111111111111,
             "#46039f"
            ],
            [
             0.2222222222222222,
             "#7201a8"
            ],
            [
             0.3333333333333333,
             "#9c179e"
            ],
            [
             0.4444444444444444,
             "#bd3786"
            ],
            [
             0.5555555555555556,
             "#d8576b"
            ],
            [
             0.6666666666666666,
             "#ed7953"
            ],
            [
             0.7777777777777778,
             "#fb9f3a"
            ],
            [
             0.8888888888888888,
             "#fdca26"
            ],
            [
             1,
             "#f0f921"
            ]
           ],
           "sequentialminus": [
            [
             0,
             "#0d0887"
            ],
            [
             0.1111111111111111,
             "#46039f"
            ],
            [
             0.2222222222222222,
             "#7201a8"
            ],
            [
             0.3333333333333333,
             "#9c179e"
            ],
            [
             0.4444444444444444,
             "#bd3786"
            ],
            [
             0.5555555555555556,
             "#d8576b"
            ],
            [
             0.6666666666666666,
             "#ed7953"
            ],
            [
             0.7777777777777778,
             "#fb9f3a"
            ],
            [
             0.8888888888888888,
             "#fdca26"
            ],
            [
             1,
             "#f0f921"
            ]
           ]
          },
          "colorway": [
           "#636efa",
           "#EF553B",
           "#00cc96",
           "#ab63fa",
           "#FFA15A",
           "#19d3f3",
           "#FF6692",
           "#B6E880",
           "#FF97FF",
           "#FECB52"
          ],
          "font": {
           "color": "#2a3f5f"
          },
          "geo": {
           "bgcolor": "white",
           "lakecolor": "white",
           "landcolor": "#E5ECF6",
           "showlakes": true,
           "showland": true,
           "subunitcolor": "white"
          },
          "hoverlabel": {
           "align": "left"
          },
          "hovermode": "closest",
          "mapbox": {
           "style": "light"
          },
          "paper_bgcolor": "white",
          "plot_bgcolor": "#E5ECF6",
          "polar": {
           "angularaxis": {
            "gridcolor": "white",
            "linecolor": "white",
            "ticks": ""
           },
           "bgcolor": "#E5ECF6",
           "radialaxis": {
            "gridcolor": "white",
            "linecolor": "white",
            "ticks": ""
           }
          },
          "scene": {
           "xaxis": {
            "backgroundcolor": "#E5ECF6",
            "gridcolor": "white",
            "gridwidth": 2,
            "linecolor": "white",
            "showbackground": true,
            "ticks": "",
            "zerolinecolor": "white"
           },
           "yaxis": {
            "backgroundcolor": "#E5ECF6",
            "gridcolor": "white",
            "gridwidth": 2,
            "linecolor": "white",
            "showbackground": true,
            "ticks": "",
            "zerolinecolor": "white"
           },
           "zaxis": {
            "backgroundcolor": "#E5ECF6",
            "gridcolor": "white",
            "gridwidth": 2,
            "linecolor": "white",
            "showbackground": true,
            "ticks": "",
            "zerolinecolor": "white"
           }
          },
          "shapedefaults": {
           "line": {
            "color": "#2a3f5f"
           }
          },
          "ternary": {
           "aaxis": {
            "gridcolor": "white",
            "linecolor": "white",
            "ticks": ""
           },
           "baxis": {
            "gridcolor": "white",
            "linecolor": "white",
            "ticks": ""
           },
           "bgcolor": "#E5ECF6",
           "caxis": {
            "gridcolor": "white",
            "linecolor": "white",
            "ticks": ""
           }
          },
          "title": {
           "x": 0.05
          },
          "xaxis": {
           "automargin": true,
           "gridcolor": "white",
           "linecolor": "white",
           "ticks": "",
           "title": {
            "standoff": 15
           },
           "zerolinecolor": "white",
           "zerolinewidth": 2
          },
          "yaxis": {
           "automargin": true,
           "gridcolor": "white",
           "linecolor": "white",
           "ticks": "",
           "title": {
            "standoff": 15
           },
           "zerolinecolor": "white",
           "zerolinewidth": 2
          }
         }
        },
        "title": {
         "text": "Estratégia sem otimização"
        },
        "xaxis": {
         "anchor": "y",
         "domain": [
          0,
          1
         ],
         "title": {
          "text": "Date"
         }
        },
        "yaxis": {
         "anchor": "x",
         "domain": [
          0,
          1
         ],
         "title": {
          "text": "y"
         }
        }
       }
      }
     },
     "metadata": {},
     "output_type": "display_data"
    }
   ],
   "source": [
    "vanilla = data_test.mul(weights_vanilla).sum(axis=1)\n",
    "vanilla = vanilla + 1\n",
    "vanilla = vanilla.cumprod() - 1\n",
    "px.line(vanilla, title='Estratégia sem otimização', x=vanilla.index, y=vanilla.values)"
   ]
  },
  {
   "cell_type": "code",
   "execution_count": 181,
   "metadata": {},
   "outputs": [
    {
     "data": {
      "text/plain": [
       "Date\n",
       "2023-04-28    0.047323\n",
       "dtype: float64"
      ]
     },
     "execution_count": 181,
     "metadata": {},
     "output_type": "execute_result"
    }
   ],
   "source": [
    "port_return(weights_vanilla, dataset=data_test)"
   ]
  },
  {
   "cell_type": "code",
   "execution_count": null,
   "metadata": {},
   "outputs": [],
   "source": []
  }
 ],
 "metadata": {
  "kernelspec": {
   "display_name": "Python 3",
   "language": "python",
   "name": "python3"
  },
  "language_info": {
   "codemirror_mode": {
    "name": "ipython",
    "version": 3
   },
   "file_extension": ".py",
   "mimetype": "text/x-python",
   "name": "python",
   "nbconvert_exporter": "python",
   "pygments_lexer": "ipython3",
   "version": "3.10.7"
  },
  "orig_nbformat": 4
 },
 "nbformat": 4,
 "nbformat_minor": 2
}
