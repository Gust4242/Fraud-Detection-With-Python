{
 "cells": [
  {
   "cell_type": "code",
   "execution_count": 10,
   "metadata": {},
   "outputs": [],
   "source": [
    "import numpy as np\n",
    "import pandas as pd\n",
    "import yfinance as yf\n",
    "import pygad"
   ]
  },
  {
   "cell_type": "code",
   "execution_count": 11,
   "metadata": {},
   "outputs": [
    {
     "name": "stdout",
     "output_type": "stream",
     "text": [
      "[*********************100%***********************]  7 of 7 completed\n"
     ]
    },
    {
     "data": {
      "text/html": [
       "<div>\n",
       "<style scoped>\n",
       "    .dataframe tbody tr th:only-of-type {\n",
       "        vertical-align: middle;\n",
       "    }\n",
       "\n",
       "    .dataframe tbody tr th {\n",
       "        vertical-align: top;\n",
       "    }\n",
       "\n",
       "    .dataframe thead th {\n",
       "        text-align: right;\n",
       "    }\n",
       "</style>\n",
       "<table border=\"1\" class=\"dataframe\">\n",
       "  <thead>\n",
       "    <tr style=\"text-align: right;\">\n",
       "      <th></th>\n",
       "      <th>ELET6.SA</th>\n",
       "      <th>ITUB4.SA</th>\n",
       "      <th>MGLU3.SA</th>\n",
       "      <th>PETR4.SA</th>\n",
       "      <th>RADL3.SA</th>\n",
       "      <th>RENT3.SA</th>\n",
       "      <th>WEGE3.SA</th>\n",
       "    </tr>\n",
       "    <tr>\n",
       "      <th>Date</th>\n",
       "      <th></th>\n",
       "      <th></th>\n",
       "      <th></th>\n",
       "      <th></th>\n",
       "      <th></th>\n",
       "      <th></th>\n",
       "      <th></th>\n",
       "    </tr>\n",
       "  </thead>\n",
       "  <tbody>\n",
       "    <tr>\n",
       "      <th>2021-01-04</th>\n",
       "      <td>30.883387</td>\n",
       "      <td>27.964464</td>\n",
       "      <td>25.181740</td>\n",
       "      <td>11.470779</td>\n",
       "      <td>23.486471</td>\n",
       "      <td>65.240555</td>\n",
       "      <td>35.927433</td>\n",
       "    </tr>\n",
       "    <tr>\n",
       "      <th>2021-01-05</th>\n",
       "      <td>29.996132</td>\n",
       "      <td>27.783470</td>\n",
       "      <td>24.742058</td>\n",
       "      <td>11.919136</td>\n",
       "      <td>23.420790</td>\n",
       "      <td>64.855530</td>\n",
       "      <td>38.132568</td>\n",
       "    </tr>\n",
       "    <tr>\n",
       "      <th>2021-01-06</th>\n",
       "      <td>29.825504</td>\n",
       "      <td>28.597967</td>\n",
       "      <td>23.442999</td>\n",
       "      <td>11.942941</td>\n",
       "      <td>22.876553</td>\n",
       "      <td>61.120911</td>\n",
       "      <td>39.143669</td>\n",
       "    </tr>\n",
       "    <tr>\n",
       "      <th>2021-01-07</th>\n",
       "      <td>29.262438</td>\n",
       "      <td>29.711128</td>\n",
       "      <td>23.143217</td>\n",
       "      <td>12.300040</td>\n",
       "      <td>22.585672</td>\n",
       "      <td>64.018135</td>\n",
       "      <td>40.761421</td>\n",
       "    </tr>\n",
       "    <tr>\n",
       "      <th>2021-01-08</th>\n",
       "      <td>30.115570</td>\n",
       "      <td>29.702068</td>\n",
       "      <td>23.822723</td>\n",
       "      <td>12.347651</td>\n",
       "      <td>23.242502</td>\n",
       "      <td>68.339920</td>\n",
       "      <td>43.226547</td>\n",
       "    </tr>\n",
       "    <tr>\n",
       "      <th>...</th>\n",
       "      <td>...</td>\n",
       "      <td>...</td>\n",
       "      <td>...</td>\n",
       "      <td>...</td>\n",
       "      <td>...</td>\n",
       "      <td>...</td>\n",
       "      <td>...</td>\n",
       "    </tr>\n",
       "    <tr>\n",
       "      <th>2022-12-23</th>\n",
       "      <td>42.900005</td>\n",
       "      <td>24.574018</td>\n",
       "      <td>2.680000</td>\n",
       "      <td>20.983213</td>\n",
       "      <td>22.873898</td>\n",
       "      <td>55.563160</td>\n",
       "      <td>38.168095</td>\n",
       "    </tr>\n",
       "    <tr>\n",
       "      <th>2022-12-26</th>\n",
       "      <td>42.582867</td>\n",
       "      <td>24.086246</td>\n",
       "      <td>2.660000</td>\n",
       "      <td>20.832857</td>\n",
       "      <td>22.749372</td>\n",
       "      <td>54.043736</td>\n",
       "      <td>37.860760</td>\n",
       "    </tr>\n",
       "    <tr>\n",
       "      <th>2022-12-27</th>\n",
       "      <td>41.621845</td>\n",
       "      <td>23.949667</td>\n",
       "      <td>2.520000</td>\n",
       "      <td>20.974861</td>\n",
       "      <td>22.644007</td>\n",
       "      <td>52.027775</td>\n",
       "      <td>37.682316</td>\n",
       "    </tr>\n",
       "    <tr>\n",
       "      <th>2022-12-28</th>\n",
       "      <td>42.131187</td>\n",
       "      <td>24.437441</td>\n",
       "      <td>2.690000</td>\n",
       "      <td>20.715912</td>\n",
       "      <td>22.787687</td>\n",
       "      <td>53.914639</td>\n",
       "      <td>38.366371</td>\n",
       "    </tr>\n",
       "    <tr>\n",
       "      <th>2022-12-29</th>\n",
       "      <td>41.544964</td>\n",
       "      <td>24.388662</td>\n",
       "      <td>2.740000</td>\n",
       "      <td>20.465315</td>\n",
       "      <td>22.720636</td>\n",
       "      <td>52.832176</td>\n",
       "      <td>38.178005</td>\n",
       "    </tr>\n",
       "  </tbody>\n",
       "</table>\n",
       "<p>497 rows × 7 columns</p>\n",
       "</div>"
      ],
      "text/plain": [
       "             ELET6.SA   ITUB4.SA   MGLU3.SA   PETR4.SA   RADL3.SA   RENT3.SA  \\\n",
       "Date                                                                           \n",
       "2021-01-04  30.883387  27.964464  25.181740  11.470779  23.486471  65.240555   \n",
       "2021-01-05  29.996132  27.783470  24.742058  11.919136  23.420790  64.855530   \n",
       "2021-01-06  29.825504  28.597967  23.442999  11.942941  22.876553  61.120911   \n",
       "2021-01-07  29.262438  29.711128  23.143217  12.300040  22.585672  64.018135   \n",
       "2021-01-08  30.115570  29.702068  23.822723  12.347651  23.242502  68.339920   \n",
       "...               ...        ...        ...        ...        ...        ...   \n",
       "2022-12-23  42.900005  24.574018   2.680000  20.983213  22.873898  55.563160   \n",
       "2022-12-26  42.582867  24.086246   2.660000  20.832857  22.749372  54.043736   \n",
       "2022-12-27  41.621845  23.949667   2.520000  20.974861  22.644007  52.027775   \n",
       "2022-12-28  42.131187  24.437441   2.690000  20.715912  22.787687  53.914639   \n",
       "2022-12-29  41.544964  24.388662   2.740000  20.465315  22.720636  52.832176   \n",
       "\n",
       "             WEGE3.SA  \n",
       "Date                   \n",
       "2021-01-04  35.927433  \n",
       "2021-01-05  38.132568  \n",
       "2021-01-06  39.143669  \n",
       "2021-01-07  40.761421  \n",
       "2021-01-08  43.226547  \n",
       "...               ...  \n",
       "2022-12-23  38.168095  \n",
       "2022-12-26  37.860760  \n",
       "2022-12-27  37.682316  \n",
       "2022-12-28  38.366371  \n",
       "2022-12-29  38.178005  \n",
       "\n",
       "[497 rows x 7 columns]"
      ]
     },
     "execution_count": 11,
     "metadata": {},
     "output_type": "execute_result"
    }
   ],
   "source": [
    "stocks = ['ITUB4.SA', 'MGLU3.SA', 'RENT3.SA', 'PETR4.SA', 'WEGE3.SA', 'ELET6.SA', 'RADL3.SA']\n",
    "\n",
    "data = yf.download(stocks, start='2021-01-01', end='2022-12-31')['Adj Close']\n",
    "\n",
    "data"
   ]
  },
  {
   "cell_type": "code",
   "execution_count": 12,
   "metadata": {},
   "outputs": [
    {
     "data": {
      "text/html": [
       "<div>\n",
       "<style scoped>\n",
       "    .dataframe tbody tr th:only-of-type {\n",
       "        vertical-align: middle;\n",
       "    }\n",
       "\n",
       "    .dataframe tbody tr th {\n",
       "        vertical-align: top;\n",
       "    }\n",
       "\n",
       "    .dataframe thead th {\n",
       "        text-align: right;\n",
       "    }\n",
       "</style>\n",
       "<table border=\"1\" class=\"dataframe\">\n",
       "  <thead>\n",
       "    <tr style=\"text-align: right;\">\n",
       "      <th></th>\n",
       "      <th>ELET6.SA</th>\n",
       "      <th>ITUB4.SA</th>\n",
       "      <th>MGLU3.SA</th>\n",
       "      <th>PETR4.SA</th>\n",
       "      <th>RADL3.SA</th>\n",
       "      <th>RENT3.SA</th>\n",
       "      <th>WEGE3.SA</th>\n",
       "    </tr>\n",
       "    <tr>\n",
       "      <th>Date</th>\n",
       "      <th></th>\n",
       "      <th></th>\n",
       "      <th></th>\n",
       "      <th></th>\n",
       "      <th></th>\n",
       "      <th></th>\n",
       "      <th></th>\n",
       "    </tr>\n",
       "  </thead>\n",
       "  <tbody>\n",
       "    <tr>\n",
       "      <th>2021-01-05</th>\n",
       "      <td>-0.028729</td>\n",
       "      <td>-0.006472</td>\n",
       "      <td>-0.017460</td>\n",
       "      <td>0.039087</td>\n",
       "      <td>-0.002797</td>\n",
       "      <td>-0.005902</td>\n",
       "      <td>0.061377</td>\n",
       "    </tr>\n",
       "    <tr>\n",
       "      <th>2021-01-06</th>\n",
       "      <td>-0.005688</td>\n",
       "      <td>0.029316</td>\n",
       "      <td>-0.052504</td>\n",
       "      <td>0.001997</td>\n",
       "      <td>-0.023237</td>\n",
       "      <td>-0.057584</td>\n",
       "      <td>0.026515</td>\n",
       "    </tr>\n",
       "    <tr>\n",
       "      <th>2021-01-07</th>\n",
       "      <td>-0.018879</td>\n",
       "      <td>0.038924</td>\n",
       "      <td>-0.012788</td>\n",
       "      <td>0.029900</td>\n",
       "      <td>-0.012715</td>\n",
       "      <td>0.047402</td>\n",
       "      <td>0.041329</td>\n",
       "    </tr>\n",
       "    <tr>\n",
       "      <th>2021-01-08</th>\n",
       "      <td>0.029155</td>\n",
       "      <td>-0.000305</td>\n",
       "      <td>0.029361</td>\n",
       "      <td>0.003871</td>\n",
       "      <td>0.029082</td>\n",
       "      <td>0.067509</td>\n",
       "      <td>0.060477</td>\n",
       "    </tr>\n",
       "    <tr>\n",
       "      <th>2021-01-11</th>\n",
       "      <td>-0.021813</td>\n",
       "      <td>-0.022547</td>\n",
       "      <td>-0.014681</td>\n",
       "      <td>-0.008355</td>\n",
       "      <td>-0.005248</td>\n",
       "      <td>-0.019437</td>\n",
       "      <td>-0.030630</td>\n",
       "    </tr>\n",
       "    <tr>\n",
       "      <th>...</th>\n",
       "      <td>...</td>\n",
       "      <td>...</td>\n",
       "      <td>...</td>\n",
       "      <td>...</td>\n",
       "      <td>...</td>\n",
       "      <td>...</td>\n",
       "      <td>...</td>\n",
       "    </tr>\n",
       "    <tr>\n",
       "      <th>2022-12-23</th>\n",
       "      <td>0.015931</td>\n",
       "      <td>0.015726</td>\n",
       "      <td>0.030769</td>\n",
       "      <td>0.047103</td>\n",
       "      <td>0.013152</td>\n",
       "      <td>0.054665</td>\n",
       "      <td>-0.011299</td>\n",
       "    </tr>\n",
       "    <tr>\n",
       "      <th>2022-12-26</th>\n",
       "      <td>-0.007393</td>\n",
       "      <td>-0.019849</td>\n",
       "      <td>-0.007463</td>\n",
       "      <td>-0.007166</td>\n",
       "      <td>-0.005444</td>\n",
       "      <td>-0.027346</td>\n",
       "      <td>-0.008052</td>\n",
       "    </tr>\n",
       "    <tr>\n",
       "      <th>2022-12-27</th>\n",
       "      <td>-0.022568</td>\n",
       "      <td>-0.005670</td>\n",
       "      <td>-0.052632</td>\n",
       "      <td>0.006816</td>\n",
       "      <td>-0.004632</td>\n",
       "      <td>-0.037302</td>\n",
       "      <td>-0.004713</td>\n",
       "    </tr>\n",
       "    <tr>\n",
       "      <th>2022-12-28</th>\n",
       "      <td>0.012237</td>\n",
       "      <td>0.020367</td>\n",
       "      <td>0.067460</td>\n",
       "      <td>-0.012346</td>\n",
       "      <td>0.006345</td>\n",
       "      <td>0.036266</td>\n",
       "      <td>0.018153</td>\n",
       "    </tr>\n",
       "    <tr>\n",
       "      <th>2022-12-29</th>\n",
       "      <td>-0.013914</td>\n",
       "      <td>-0.001996</td>\n",
       "      <td>0.018587</td>\n",
       "      <td>-0.012097</td>\n",
       "      <td>-0.002942</td>\n",
       "      <td>-0.020077</td>\n",
       "      <td>-0.004910</td>\n",
       "    </tr>\n",
       "  </tbody>\n",
       "</table>\n",
       "<p>496 rows × 7 columns</p>\n",
       "</div>"
      ],
      "text/plain": [
       "            ELET6.SA  ITUB4.SA  MGLU3.SA  PETR4.SA  RADL3.SA  RENT3.SA  \\\n",
       "Date                                                                     \n",
       "2021-01-05 -0.028729 -0.006472 -0.017460  0.039087 -0.002797 -0.005902   \n",
       "2021-01-06 -0.005688  0.029316 -0.052504  0.001997 -0.023237 -0.057584   \n",
       "2021-01-07 -0.018879  0.038924 -0.012788  0.029900 -0.012715  0.047402   \n",
       "2021-01-08  0.029155 -0.000305  0.029361  0.003871  0.029082  0.067509   \n",
       "2021-01-11 -0.021813 -0.022547 -0.014681 -0.008355 -0.005248 -0.019437   \n",
       "...              ...       ...       ...       ...       ...       ...   \n",
       "2022-12-23  0.015931  0.015726  0.030769  0.047103  0.013152  0.054665   \n",
       "2022-12-26 -0.007393 -0.019849 -0.007463 -0.007166 -0.005444 -0.027346   \n",
       "2022-12-27 -0.022568 -0.005670 -0.052632  0.006816 -0.004632 -0.037302   \n",
       "2022-12-28  0.012237  0.020367  0.067460 -0.012346  0.006345  0.036266   \n",
       "2022-12-29 -0.013914 -0.001996  0.018587 -0.012097 -0.002942 -0.020077   \n",
       "\n",
       "            WEGE3.SA  \n",
       "Date                  \n",
       "2021-01-05  0.061377  \n",
       "2021-01-06  0.026515  \n",
       "2021-01-07  0.041329  \n",
       "2021-01-08  0.060477  \n",
       "2021-01-11 -0.030630  \n",
       "...              ...  \n",
       "2022-12-23 -0.011299  \n",
       "2022-12-26 -0.008052  \n",
       "2022-12-27 -0.004713  \n",
       "2022-12-28  0.018153  \n",
       "2022-12-29 -0.004910  \n",
       "\n",
       "[496 rows x 7 columns]"
      ]
     },
     "execution_count": 12,
     "metadata": {},
     "output_type": "execute_result"
    }
   ],
   "source": [
    "returns = data.pct_change().dropna()\n",
    "returns"
   ]
  },
  {
   "cell_type": "code",
   "execution_count": 30,
   "metadata": {},
   "outputs": [],
   "source": [
    "def portfolio_returns(solution):\n",
    "    port_returns = 0\n",
    "    for i in range(len(solution)):\n",
    "        port_returns += returns.iloc[:, i] * solution[i]\n",
    "    return port_returns\n",
    "\n",
    "def cvm(solution):\n",
    "    \"\"\"\n",
    "    Carteira de variância mínima\n",
    "    \"\"\"\n",
    "    port_returns = portfolio_returns(solution)\n",
    "    return np.std(port_returns)\n",
    "\n",
    "def constraints(solution):\n",
    "    bound = (sum(solution) - 1)**2\n",
    "    return bound\n",
    "\n",
    "def fitness_function(ga_instance, solution, solution_idx):\n",
    "    return (cvm(solution) + 100*constraints(solution))\n"
   ]
  },
  {
   "cell_type": "code",
   "execution_count": 31,
   "metadata": {},
   "outputs": [
    {
     "name": "stderr",
     "output_type": "stream",
     "text": [
      "c:\\Users\\Yamac\\AppData\\Local\\Programs\\Python\\Python310\\lib\\site-packages\\pygad\\pygad.py:738: UserWarning: The percentage of genes to mutate (mutation_percent_genes=10) resutled in selecting (0) genes. The number of genes to mutate is set to 1 (mutation_num_genes=1).\n",
      "If you do not want to mutate any gene, please set mutation_type=None.\n",
      "  warnings.warn(f\"The percentage of genes to mutate (mutation_percent_genes={mutation_percent_genes}) resutled in selecting ({mutation_num_genes}) genes. The number of genes to mutate is set to 1 (mutation_num_genes=1).\\nIf you do not want to mutate any gene, please set mutation_type=None.\")\n"
     ]
    }
   ],
   "source": [
    "ga = pygad.GA(num_generations=50, num_parents_mating=10,\n",
    "              fitness_func=fitness_function, sol_per_pop=20,\n",
    "              gene_type=np.float32, mutation_percent_genes=10,\n",
    "              gene_space=bounds, num_genes=num_stocks)\n",
    "\n",
    "ga.run()"
   ]
  },
  {
   "attachments": {},
   "cell_type": "markdown",
   "metadata": {},
   "source": [
    "### Teste 2"
   ]
  },
  {
   "cell_type": "code",
   "execution_count": 57,
   "metadata": {},
   "outputs": [],
   "source": [
    "def portfolio_generate(df):\n",
    "    portfolio = df.copy()\n",
    "    portfolio['Total'] = portfolio.sum()\n",
    "    portfolio['Total'] = portfolio['Total']  / 100\n",
    "    portfolio['Total'] = portfolio['Total'] + 1\n",
    "    portfolio = portfolio[['Total']]\n",
    "    return portfolio\n",
    "\n",
    "def portfolio_return(portfolio):\n",
    "    return np.prod(portfolio['Total']) -1\n",
    "\n",
    "def fitness_function(ga_instance, solution, solution_idx):\n",
    "    portfolio = portfolio_generate(returns)\n",
    "    ret = portfolio_return(portfolio)\n",
    "    return ret"
   ]
  },
  {
   "cell_type": "code",
   "execution_count": 65,
   "metadata": {},
   "outputs": [
    {
     "name": "stderr",
     "output_type": "stream",
     "text": [
      "c:\\Users\\Yamac\\AppData\\Local\\Programs\\Python\\Python310\\lib\\site-packages\\pygad\\pygad.py:738: UserWarning: The percentage of genes to mutate (mutation_percent_genes=10) resutled in selecting (0) genes. The number of genes to mutate is set to 1 (mutation_num_genes=1).\n",
      "If you do not want to mutate any gene, please set mutation_type=None.\n",
      "  warnings.warn(f\"The percentage of genes to mutate (mutation_percent_genes={mutation_percent_genes}) resutled in selecting ({mutation_num_genes}) genes. The number of genes to mutate is set to 1 (mutation_num_genes=1).\\nIf you do not want to mutate any gene, please set mutation_type=None.\")\n"
     ]
    }
   ],
   "source": [
    "ga_instance = pygad.GA(num_generations=30, num_parents_mating=50,\n",
    "                       fitness_func=fitness_function, sol_per_pop=90,\n",
    "                       init_range_low=0, init_range_high=1,\n",
    "                       parent_selection_type='sss', keep_parents=30,\n",
    "                       crossover_type='single_point', mutation_percent_genes=10,\n",
    "                       random_seed=42, num_genes=7)\n",
    "\n",
    "ga_instance.run() "
   ]
  },
  {
   "cell_type": "code",
   "execution_count": 66,
   "metadata": {},
   "outputs": [
    {
     "data": {
      "text/plain": [
       "(array([6.31302552, 3.92887282, 5.22131094, 5.60241688, 5.04461411,\n",
       "        5.74429642, 6.69531025]),\n",
       " 140999.10240085586,\n",
       " 0)"
      ]
     },
     "execution_count": 66,
     "metadata": {},
     "output_type": "execute_result"
    }
   ],
   "source": [
    "ga_instance.best_solution()"
   ]
  },
  {
   "attachments": {},
   "cell_type": "markdown",
   "metadata": {},
   "source": [
    "### Teste 3"
   ]
  },
  {
   "cell_type": "code",
   "execution_count": 88,
   "metadata": {},
   "outputs": [],
   "source": [
    "teste = [21,32,43,54,65,76,87]"
   ]
  },
  {
   "cell_type": "code",
   "execution_count": 89,
   "metadata": {},
   "outputs": [],
   "source": [
    "def constraint(solution):\n",
    "    bounduary_constraint = (sum(solution) - 1)**2\n",
    "    return bounduary_constraint\n",
    "\n",
    "def fitness_function(ga_intance, solution, solution_idx):\n",
    "    fitness = np.dot(teste, solution)\n",
    "    return fitness -100*constraint(solution)"
   ]
  },
  {
   "cell_type": "code",
   "execution_count": 96,
   "metadata": {},
   "outputs": [
    {
     "name": "stderr",
     "output_type": "stream",
     "text": [
      "c:\\Users\\Yamac\\AppData\\Local\\Programs\\Python\\Python310\\lib\\site-packages\\pygad\\pygad.py:738: UserWarning: The percentage of genes to mutate (mutation_percent_genes=10) resutled in selecting (0) genes. The number of genes to mutate is set to 1 (mutation_num_genes=1).\n",
      "If you do not want to mutate any gene, please set mutation_type=None.\n",
      "  warnings.warn(f\"The percentage of genes to mutate (mutation_percent_genes={mutation_percent_genes}) resutled in selecting ({mutation_num_genes}) genes. The number of genes to mutate is set to 1 (mutation_num_genes=1).\\nIf you do not want to mutate any gene, please set mutation_type=None.\")\n"
     ]
    }
   ],
   "source": [
    "ga_instance = pygad.GA(num_generations=30, num_parents_mating=50,\n",
    "                       fitness_func=fitness_function, sol_per_pop=90,\n",
    "                       init_range_low=0, init_range_high=1,\n",
    "                       parent_selection_type='sss', keep_parents=30,\n",
    "                       crossover_type='single_point', mutation_percent_genes=10,\n",
    "                       random_seed=42, num_genes=7, gene_space=gene_space)\n",
    "\n",
    "ga_instance.run() "
   ]
  },
  {
   "cell_type": "code",
   "execution_count": 99,
   "metadata": {},
   "outputs": [
    {
     "data": {
      "text/plain": [
       "(array([0.03673194, 0.00977085, 0.03142919, 0.01009061, 0.11573761,\n",
       "        0.14032452, 0.9623102 ]),\n",
       " 95.50119723987602,\n",
       " 0)"
      ]
     },
     "execution_count": 99,
     "metadata": {},
     "output_type": "execute_result"
    }
   ],
   "source": [
    "ga_instance.best_solution()"
   ]
  },
  {
   "cell_type": "code",
   "execution_count": 100,
   "metadata": {},
   "outputs": [
    {
     "data": {
      "text/plain": [
       "1.30639492"
      ]
     },
     "execution_count": 100,
     "metadata": {},
     "output_type": "execute_result"
    }
   ],
   "source": [
    "np.sum([0.03673194, 0.00977085, 0.03142919, 0.01009061, 0.11573761, 0.14032452, 0.9623102])"
   ]
  },
  {
   "attachments": {},
   "cell_type": "markdown",
   "metadata": {},
   "source": [
    "### Teste 4 - DEAP"
   ]
  },
  {
   "cell_type": "code",
   "execution_count": 106,
   "metadata": {},
   "outputs": [],
   "source": [
    "from deap import algorithms, base, creator, tools\n",
    "import random"
   ]
  },
  {
   "cell_type": "code",
   "execution_count": 103,
   "metadata": {},
   "outputs": [],
   "source": [
    "creator.create('FitnessMax', base.Fitness, weights=(1.0,))\n",
    "creator.create(\"Individual\", list, fitness=creator.FitnessMax)"
   ]
  },
  {
   "cell_type": "code",
   "execution_count": 104,
   "metadata": {},
   "outputs": [],
   "source": [
    "def evaluate_portfolio(individual):\n",
    "    # Calculate returns and risk based on individual weights\n",
    "    returns = calculate_returns(individual)\n",
    "    risk = calculate_risk(individual)\n",
    "\n",
    "    # Return a tuple of the fitness values (returns, -risk as it's a maximization problem)\n",
    "    return returns, -risk"
   ]
  },
  {
   "cell_type": "code",
   "execution_count": 107,
   "metadata": {},
   "outputs": [],
   "source": [
    "toolbox = base.Toolbox()\n",
    "toolbox.register(\"individual\", tools.initRepeat, creator.Individual, random.uniform, 0, 1)\n",
    "toolbox.register(\"population\", tools.initRepeat, list, toolbox.individual)\n",
    "toolbox.register(\"evaluate\", evaluate_portfolio)\n",
    "toolbox.register(\"mate\", tools.cxTwoPoint)\n",
    "toolbox.register(\"mutate\", tools.mutGaussian, mu=0, sigma=0.1, indpb=0.1)\n",
    "toolbox.register(\"select\", tools.selTournament, tournsize=3)"
   ]
  },
  {
   "cell_type": "code",
   "execution_count": null,
   "metadata": {},
   "outputs": [],
   "source": []
  }
 ],
 "metadata": {
  "kernelspec": {
   "display_name": "Python 3",
   "language": "python",
   "name": "python3"
  },
  "language_info": {
   "codemirror_mode": {
    "name": "ipython",
    "version": 3
   },
   "file_extension": ".py",
   "mimetype": "text/x-python",
   "name": "python",
   "nbconvert_exporter": "python",
   "pygments_lexer": "ipython3",
   "version": "3.10.7"
  },
  "orig_nbformat": 4
 },
 "nbformat": 4,
 "nbformat_minor": 2
}
