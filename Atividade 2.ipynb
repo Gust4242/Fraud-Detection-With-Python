{
 "cells": [
  {
   "cell_type": "code",
   "execution_count": 86,
   "metadata": {},
   "outputs": [],
   "source": [
    "import pandas as pd\n",
    "import numpy as np\n",
    "import matplotlib.pyplot as plt\n",
    "import seaborn as sns\n",
    "import xgboost as xgb\n",
    "import lightgbm as lgb\n",
    "import optuna\n",
    "\n",
    "from scipy.stats import shapiro\n",
    "from sklearn import preprocessing\n",
    "from sklearn.model_selection import train_test_split, cross_val_score, GridSearchCV, RandomizedSearchCV, cross_val_predict\n",
    "from sklearn.metrics import confusion_matrix, classification_report, roc_auc_score, accuracy_score, roc_curve, precision_recall_curve, auc\n",
    "from sklearn.neighbors import KNeighborsClassifier\n",
    "from sklearn.tree import DecisionTreeClassifier\n",
    "from sklearn.ensemble import RandomForestClassifier\n",
    "from sklearn.linear_model import LogisticRegression\n",
    "from sklearn.preprocessing import StandardScaler\n",
    "from sklearn.utils.class_weight import compute_class_weight\n",
    "from imblearn.over_sampling import SMOTE\n",
    "from imblearn.ensemble import BalancedBaggingClassifier\n",
    "from pycaret.classification import setup, compare_models, create_model\n",
    "from pycaret.classification import tune_model, plot_model, evaluate_model, finalize_model\n",
    "from pycaret.classification import save_model, load_model\n",
    "\n",
    "import warnings\n",
    "warnings.filterwarnings('ignore')"
   ]
  },
  {
   "attachments": {},
   "cell_type": "markdown",
   "metadata": {},
   "source": [
    "#### TODO's e Dúvidas\n",
    "\n",
    "- Precisa separar treino e teste como sempre fazemos? Ou não, pois já tem 2 arquivos separados\n",
    "- Testar se dados já estão normalizados, mas perguntar tb\n",
    "- Ver variáveis que não são relevantes \n"
   ]
  },
  {
   "cell_type": "code",
   "execution_count": 4,
   "metadata": {},
   "outputs": [],
   "source": [
    "#teste = pd.read_excel('teste.xlsx')\n",
    "treino = pd.read_excel('treino.xlsx')"
   ]
  },
  {
   "cell_type": "code",
   "execution_count": 96,
   "metadata": {},
   "outputs": [
    {
     "data": {
      "text/html": [
       "<div>\n",
       "<style scoped>\n",
       "    .dataframe tbody tr th:only-of-type {\n",
       "        vertical-align: middle;\n",
       "    }\n",
       "\n",
       "    .dataframe tbody tr th {\n",
       "        vertical-align: top;\n",
       "    }\n",
       "\n",
       "    .dataframe thead th {\n",
       "        text-align: right;\n",
       "    }\n",
       "</style>\n",
       "<table border=\"1\" class=\"dataframe\">\n",
       "  <thead>\n",
       "    <tr style=\"text-align: right;\">\n",
       "      <th></th>\n",
       "      <th>id</th>\n",
       "      <th>V1</th>\n",
       "      <th>V2</th>\n",
       "      <th>V3</th>\n",
       "      <th>V4</th>\n",
       "      <th>V5</th>\n",
       "      <th>V6</th>\n",
       "      <th>V7</th>\n",
       "      <th>V8</th>\n",
       "      <th>V9</th>\n",
       "      <th>...</th>\n",
       "      <th>V13</th>\n",
       "      <th>V14</th>\n",
       "      <th>V15</th>\n",
       "      <th>V16</th>\n",
       "      <th>V17</th>\n",
       "      <th>V18</th>\n",
       "      <th>V19</th>\n",
       "      <th>V20</th>\n",
       "      <th>V21</th>\n",
       "      <th>Class</th>\n",
       "    </tr>\n",
       "  </thead>\n",
       "  <tbody>\n",
       "    <tr>\n",
       "      <th>0</th>\n",
       "      <td>1</td>\n",
       "      <td>-0.299468</td>\n",
       "      <td>0.533339</td>\n",
       "      <td>0.592928</td>\n",
       "      <td>0.094916</td>\n",
       "      <td>0.015414</td>\n",
       "      <td>0.019142</td>\n",
       "      <td>0.045814</td>\n",
       "      <td>0.177430</td>\n",
       "      <td>-0.040845</td>\n",
       "      <td>...</td>\n",
       "      <td>-0.006907</td>\n",
       "      <td>0.082039</td>\n",
       "      <td>0.783691</td>\n",
       "      <td>0.046401</td>\n",
       "      <td>-0.181900</td>\n",
       "      <td>0.201659</td>\n",
       "      <td>0.186339</td>\n",
       "      <td>0.052175</td>\n",
       "      <td>0.081669</td>\n",
       "      <td>0</td>\n",
       "    </tr>\n",
       "    <tr>\n",
       "      <th>1</th>\n",
       "      <td>2</td>\n",
       "      <td>0.529493</td>\n",
       "      <td>-0.094837</td>\n",
       "      <td>0.341711</td>\n",
       "      <td>0.568313</td>\n",
       "      <td>-0.318345</td>\n",
       "      <td>0.201856</td>\n",
       "      <td>-0.302414</td>\n",
       "      <td>0.208240</td>\n",
       "      <td>0.290601</td>\n",
       "      <td>...</td>\n",
       "      <td>-0.934574</td>\n",
       "      <td>0.248362</td>\n",
       "      <td>0.231307</td>\n",
       "      <td>-0.121390</td>\n",
       "      <td>0.045858</td>\n",
       "      <td>-0.088862</td>\n",
       "      <td>-0.320489</td>\n",
       "      <td>-0.132945</td>\n",
       "      <td>0.051778</td>\n",
       "      <td>0</td>\n",
       "    </tr>\n",
       "    <tr>\n",
       "      <th>2</th>\n",
       "      <td>3</td>\n",
       "      <td>0.605630</td>\n",
       "      <td>-0.024632</td>\n",
       "      <td>-0.042535</td>\n",
       "      <td>-0.023267</td>\n",
       "      <td>-0.135464</td>\n",
       "      <td>-0.141456</td>\n",
       "      <td>0.093773</td>\n",
       "      <td>-0.093751</td>\n",
       "      <td>-0.586908</td>\n",
       "      <td>...</td>\n",
       "      <td>0.681119</td>\n",
       "      <td>-0.082467</td>\n",
       "      <td>-0.037362</td>\n",
       "      <td>-0.923501</td>\n",
       "      <td>0.024895</td>\n",
       "      <td>0.135814</td>\n",
       "      <td>-0.367899</td>\n",
       "      <td>-0.084424</td>\n",
       "      <td>-0.273891</td>\n",
       "      <td>0</td>\n",
       "    </tr>\n",
       "    <tr>\n",
       "      <th>3</th>\n",
       "      <td>4</td>\n",
       "      <td>-0.346173</td>\n",
       "      <td>0.647783</td>\n",
       "      <td>0.473604</td>\n",
       "      <td>-0.165712</td>\n",
       "      <td>0.127780</td>\n",
       "      <td>-0.221239</td>\n",
       "      <td>0.295904</td>\n",
       "      <td>0.076857</td>\n",
       "      <td>-0.220782</td>\n",
       "      <td>...</td>\n",
       "      <td>0.560604</td>\n",
       "      <td>0.001884</td>\n",
       "      <td>0.409169</td>\n",
       "      <td>0.236170</td>\n",
       "      <td>-0.362497</td>\n",
       "      <td>-0.085438</td>\n",
       "      <td>0.210089</td>\n",
       "      <td>0.112295</td>\n",
       "      <td>-0.136954</td>\n",
       "      <td>0</td>\n",
       "    </tr>\n",
       "    <tr>\n",
       "      <th>4</th>\n",
       "      <td>5</td>\n",
       "      <td>0.240050</td>\n",
       "      <td>-0.688908</td>\n",
       "      <td>0.525568</td>\n",
       "      <td>0.434648</td>\n",
       "      <td>-0.371745</td>\n",
       "      <td>0.799044</td>\n",
       "      <td>-0.332958</td>\n",
       "      <td>0.227423</td>\n",
       "      <td>0.783561</td>\n",
       "      <td>...</td>\n",
       "      <td>0.561863</td>\n",
       "      <td>-0.483898</td>\n",
       "      <td>0.041915</td>\n",
       "      <td>-0.616440</td>\n",
       "      <td>0.548586</td>\n",
       "      <td>-0.956886</td>\n",
       "      <td>-0.379454</td>\n",
       "      <td>0.235959</td>\n",
       "      <td>0.035924</td>\n",
       "      <td>0</td>\n",
       "    </tr>\n",
       "  </tbody>\n",
       "</table>\n",
       "<p>5 rows × 23 columns</p>\n",
       "</div>"
      ],
      "text/plain": [
       "   id        V1        V2        V3        V4        V5        V6        V7  \\\n",
       "0   1 -0.299468  0.533339  0.592928  0.094916  0.015414  0.019142  0.045814   \n",
       "1   2  0.529493 -0.094837  0.341711  0.568313 -0.318345  0.201856 -0.302414   \n",
       "2   3  0.605630 -0.024632 -0.042535 -0.023267 -0.135464 -0.141456  0.093773   \n",
       "3   4 -0.346173  0.647783  0.473604 -0.165712  0.127780 -0.221239  0.295904   \n",
       "4   5  0.240050 -0.688908  0.525568  0.434648 -0.371745  0.799044 -0.332958   \n",
       "\n",
       "         V8        V9  ...       V13       V14       V15       V16       V17  \\\n",
       "0  0.177430 -0.040845  ... -0.006907  0.082039  0.783691  0.046401 -0.181900   \n",
       "1  0.208240  0.290601  ... -0.934574  0.248362  0.231307 -0.121390  0.045858   \n",
       "2 -0.093751 -0.586908  ...  0.681119 -0.082467 -0.037362 -0.923501  0.024895   \n",
       "3  0.076857 -0.220782  ...  0.560604  0.001884  0.409169  0.236170 -0.362497   \n",
       "4  0.227423  0.783561  ...  0.561863 -0.483898  0.041915 -0.616440  0.548586   \n",
       "\n",
       "        V18       V19       V20       V21  Class  \n",
       "0  0.201659  0.186339  0.052175  0.081669      0  \n",
       "1 -0.088862 -0.320489 -0.132945  0.051778      0  \n",
       "2  0.135814 -0.367899 -0.084424 -0.273891      0  \n",
       "3 -0.085438  0.210089  0.112295 -0.136954      0  \n",
       "4 -0.956886 -0.379454  0.235959  0.035924      0  \n",
       "\n",
       "[5 rows x 23 columns]"
      ]
     },
     "execution_count": 96,
     "metadata": {},
     "output_type": "execute_result"
    }
   ],
   "source": [
    "treino.head()"
   ]
  },
  {
   "attachments": {},
   "cell_type": "markdown",
   "metadata": {},
   "source": [
    "### Teste de normalidade"
   ]
  },
  {
   "cell_type": "code",
   "execution_count": 10,
   "metadata": {},
   "outputs": [
    {
     "name": "stdout",
     "output_type": "stream",
     "text": [
      "Shapiro-Wilk Test:\n",
      "Statistic: 0.9600421786308289\n",
      "P-value: 0.0\n",
      "Data is not normally distributed (reject H0)\n"
     ]
    }
   ],
   "source": [
    "statistic, p_value = shapiro(treino['V3'])\n",
    "\n",
    "print(\"Shapiro-Wilk Test:\")\n",
    "print(f\"Statistic: {statistic}\")\n",
    "print(f\"P-value: {p_value}\")\n",
    "\n",
    "alpha = 0.05\n",
    "if p_value > alpha:\n",
    "    print(\"Data is normally distributed (fail to reject H0)\")\n",
    "else:\n",
    "    print(\"Data is not normally distributed (reject H0)\")"
   ]
  },
  {
   "cell_type": "code",
   "execution_count": 11,
   "metadata": {},
   "outputs": [
    {
     "name": "stdout",
     "output_type": "stream",
     "text": [
      "Média: 0.029036081885038416\n",
      "Desvio Padrão: 0.5924355158583376\n"
     ]
    }
   ],
   "source": [
    "mean = np.mean(treino['V2'])\n",
    "std = np.std(treino['V2'])\n",
    "\n",
    "print(f'Média: {mean}')\n",
    "print(f'Desvio Padrão: {std}')"
   ]
  },
  {
   "attachments": {},
   "cell_type": "markdown",
   "metadata": {},
   "source": [
    "## Separar Treino e Teste\n",
    "\n",
    "- Revisar para treinar apenas com o df de treino\n",
    "- testar sem normalizar"
   ]
  },
  {
   "cell_type": "code",
   "execution_count": 19,
   "metadata": {},
   "outputs": [],
   "source": [
    "X = treino.iloc[:, 1:-1]\n",
    "y = treino['Class']\n",
    "\n",
    "X_train, X_test, y_train, y_test = train_test_split(X, y, test_size=0.2, random_state=42, stratify=y)\n",
    "w_train = compute_class_weight('balanced',classes=np.unique(y_train), y=y_train)\n",
    "sample_weights = w_train[y_train]"
   ]
  },
  {
   "cell_type": "code",
   "execution_count": 77,
   "metadata": {},
   "outputs": [
    {
     "data": {
      "text/plain": [
       "array([  0.5010755 , 232.95035461])"
      ]
     },
     "execution_count": 77,
     "metadata": {},
     "output_type": "execute_result"
    }
   ],
   "source": [
    "w_train"
   ]
  },
  {
   "attachments": {},
   "cell_type": "markdown",
   "metadata": {},
   "source": [
    "#### Train test manual"
   ]
  },
  {
   "cell_type": "code",
   "execution_count": 5,
   "metadata": {},
   "outputs": [],
   "source": [
    "treino_0 = treino[treino['Class'] == 0]\n",
    "X = treino_0.iloc[:, 1:-1]\n",
    "y = treino_0['Class']\n",
    "\n",
    "X_train_0, X_test_0, y_train_0, y_test_0 = train_test_split(X, y, test_size=0.2, random_state=42)"
   ]
  },
  {
   "cell_type": "code",
   "execution_count": 6,
   "metadata": {},
   "outputs": [],
   "source": [
    "treino_1 = treino[treino['Class'] == 1]\n",
    "X_1 = treino_1.iloc[:, 1:-1]\n",
    "y_1 = treino_1['Class']\n",
    "\n",
    "X_train_1, X_test_1, y_train_1, y_test_1 = train_test_split(X_1, y_1, test_size=0.2, random_state=42)"
   ]
  },
  {
   "cell_type": "code",
   "execution_count": 55,
   "metadata": {},
   "outputs": [],
   "source": [
    "X_train = pd.concat([X_train_0, X_train_1], axis=0)\n",
    "y_train = pd.concat([y_train_0, y_train_1], axis=0)\n",
    "X_test = pd.concat([X_test_0, X_test_1], axis=0)\n",
    "y_test = pd.concat([y_test_0, y_test_1], axis=0)"
   ]
  },
  {
   "cell_type": "code",
   "execution_count": 76,
   "metadata": {},
   "outputs": [
    {
     "data": {
      "text/plain": [
       "(32847, 21)"
      ]
     },
     "execution_count": 76,
     "metadata": {},
     "output_type": "execute_result"
    }
   ],
   "source": [
    "X_test.shape"
   ]
  },
  {
   "attachments": {},
   "cell_type": "markdown",
   "metadata": {},
   "source": [
    "## Padronizar os atributos - Necessário ou já está padronizado?"
   ]
  },
  {
   "cell_type": "code",
   "execution_count": 20,
   "metadata": {},
   "outputs": [],
   "source": [
    "# Padronizar os atributos\n",
    "scaler = StandardScaler()\n",
    "X_train_scaled = scaler.fit_transform(X_train)\n",
    "X_test_scaled = scaler.fit_transform(X_test)"
   ]
  },
  {
   "cell_type": "code",
   "execution_count": 8,
   "metadata": {},
   "outputs": [],
   "source": [
    "# Dataset completo\n",
    "scaler = StandardScaler()\n",
    "scaled = scaler.fit_transform(X)"
   ]
  },
  {
   "cell_type": "code",
   "execution_count": 49,
   "metadata": {},
   "outputs": [
    {
     "data": {
      "text/html": [
       "<div>\n",
       "<style scoped>\n",
       "    .dataframe tbody tr th:only-of-type {\n",
       "        vertical-align: middle;\n",
       "    }\n",
       "\n",
       "    .dataframe tbody tr th {\n",
       "        vertical-align: top;\n",
       "    }\n",
       "\n",
       "    .dataframe thead th {\n",
       "        text-align: right;\n",
       "    }\n",
       "</style>\n",
       "<table border=\"1\" class=\"dataframe\">\n",
       "  <thead>\n",
       "    <tr style=\"text-align: right;\">\n",
       "      <th></th>\n",
       "      <th>0</th>\n",
       "      <th>1</th>\n",
       "      <th>2</th>\n",
       "      <th>3</th>\n",
       "      <th>4</th>\n",
       "      <th>5</th>\n",
       "      <th>6</th>\n",
       "      <th>7</th>\n",
       "      <th>8</th>\n",
       "      <th>9</th>\n",
       "      <th>...</th>\n",
       "      <th>12</th>\n",
       "      <th>13</th>\n",
       "      <th>14</th>\n",
       "      <th>15</th>\n",
       "      <th>16</th>\n",
       "      <th>17</th>\n",
       "      <th>18</th>\n",
       "      <th>19</th>\n",
       "      <th>20</th>\n",
       "      <th>Class</th>\n",
       "    </tr>\n",
       "  </thead>\n",
       "  <tbody>\n",
       "    <tr>\n",
       "      <th>0</th>\n",
       "      <td>0.883743</td>\n",
       "      <td>0.451785</td>\n",
       "      <td>-3.181268</td>\n",
       "      <td>-0.092848</td>\n",
       "      <td>3.078021</td>\n",
       "      <td>2.085077</td>\n",
       "      <td>0.100219</td>\n",
       "      <td>0.684181</td>\n",
       "      <td>-0.169931</td>\n",
       "      <td>-1.667751</td>\n",
       "      <td>...</td>\n",
       "      <td>-0.309599</td>\n",
       "      <td>-3.157495</td>\n",
       "      <td>1.146942</td>\n",
       "      <td>1.025462</td>\n",
       "      <td>3.249312</td>\n",
       "      <td>0.763316</td>\n",
       "      <td>-0.608861</td>\n",
       "      <td>0.103212</td>\n",
       "      <td>-0.365081</td>\n",
       "      <td>0</td>\n",
       "    </tr>\n",
       "    <tr>\n",
       "      <th>1</th>\n",
       "      <td>0.651727</td>\n",
       "      <td>-0.423614</td>\n",
       "      <td>0.317527</td>\n",
       "      <td>1.399800</td>\n",
       "      <td>-0.807465</td>\n",
       "      <td>-0.242039</td>\n",
       "      <td>-0.226047</td>\n",
       "      <td>-0.055376</td>\n",
       "      <td>1.270360</td>\n",
       "      <td>-0.480086</td>\n",
       "      <td>...</td>\n",
       "      <td>-0.318640</td>\n",
       "      <td>-0.813923</td>\n",
       "      <td>-2.039169</td>\n",
       "      <td>-0.772852</td>\n",
       "      <td>0.543470</td>\n",
       "      <td>-0.674180</td>\n",
       "      <td>0.481076</td>\n",
       "      <td>0.035675</td>\n",
       "      <td>-0.769843</td>\n",
       "      <td>0</td>\n",
       "    </tr>\n",
       "    <tr>\n",
       "      <th>2</th>\n",
       "      <td>0.767231</td>\n",
       "      <td>0.167745</td>\n",
       "      <td>0.640559</td>\n",
       "      <td>1.755205</td>\n",
       "      <td>-0.426324</td>\n",
       "      <td>0.055158</td>\n",
       "      <td>-0.661365</td>\n",
       "      <td>0.081661</td>\n",
       "      <td>0.016013</td>\n",
       "      <td>0.821763</td>\n",
       "      <td>...</td>\n",
       "      <td>0.081846</td>\n",
       "      <td>0.004214</td>\n",
       "      <td>1.072748</td>\n",
       "      <td>1.657661</td>\n",
       "      <td>-1.484868</td>\n",
       "      <td>0.464454</td>\n",
       "      <td>-1.509402</td>\n",
       "      <td>-0.434432</td>\n",
       "      <td>0.335146</td>\n",
       "      <td>0</td>\n",
       "    </tr>\n",
       "    <tr>\n",
       "      <th>3</th>\n",
       "      <td>1.413422</td>\n",
       "      <td>-0.037723</td>\n",
       "      <td>-1.945461</td>\n",
       "      <td>0.312777</td>\n",
       "      <td>0.343153</td>\n",
       "      <td>-0.891887</td>\n",
       "      <td>0.257855</td>\n",
       "      <td>-0.399301</td>\n",
       "      <td>0.782825</td>\n",
       "      <td>-0.382077</td>\n",
       "      <td>...</td>\n",
       "      <td>-1.501385</td>\n",
       "      <td>-0.682099</td>\n",
       "      <td>0.292220</td>\n",
       "      <td>0.219741</td>\n",
       "      <td>0.862781</td>\n",
       "      <td>-0.413893</td>\n",
       "      <td>0.057107</td>\n",
       "      <td>-0.555710</td>\n",
       "      <td>-0.776537</td>\n",
       "      <td>0</td>\n",
       "    </tr>\n",
       "    <tr>\n",
       "      <th>4</th>\n",
       "      <td>1.329256</td>\n",
       "      <td>-1.377481</td>\n",
       "      <td>-0.859060</td>\n",
       "      <td>-0.766406</td>\n",
       "      <td>-1.177008</td>\n",
       "      <td>-0.123470</td>\n",
       "      <td>-1.497231</td>\n",
       "      <td>0.022841</td>\n",
       "      <td>0.187670</td>\n",
       "      <td>1.050880</td>\n",
       "      <td>...</td>\n",
       "      <td>-0.787006</td>\n",
       "      <td>-0.230439</td>\n",
       "      <td>-0.187350</td>\n",
       "      <td>2.443472</td>\n",
       "      <td>-0.595040</td>\n",
       "      <td>0.343433</td>\n",
       "      <td>0.998238</td>\n",
       "      <td>0.328868</td>\n",
       "      <td>1.054984</td>\n",
       "      <td>0</td>\n",
       "    </tr>\n",
       "  </tbody>\n",
       "</table>\n",
       "<p>5 rows × 22 columns</p>\n",
       "</div>"
      ],
      "text/plain": [
       "          0         1         2         3         4         5         6  \\\n",
       "0  0.883743  0.451785 -3.181268 -0.092848  3.078021  2.085077  0.100219   \n",
       "1  0.651727 -0.423614  0.317527  1.399800 -0.807465 -0.242039 -0.226047   \n",
       "2  0.767231  0.167745  0.640559  1.755205 -0.426324  0.055158 -0.661365   \n",
       "3  1.413422 -0.037723 -1.945461  0.312777  0.343153 -0.891887  0.257855   \n",
       "4  1.329256 -1.377481 -0.859060 -0.766406 -1.177008 -0.123470 -1.497231   \n",
       "\n",
       "          7         8         9  ...        12        13        14        15  \\\n",
       "0  0.684181 -0.169931 -1.667751  ... -0.309599 -3.157495  1.146942  1.025462   \n",
       "1 -0.055376  1.270360 -0.480086  ... -0.318640 -0.813923 -2.039169 -0.772852   \n",
       "2  0.081661  0.016013  0.821763  ...  0.081846  0.004214  1.072748  1.657661   \n",
       "3 -0.399301  0.782825 -0.382077  ... -1.501385 -0.682099  0.292220  0.219741   \n",
       "4  0.022841  0.187670  1.050880  ... -0.787006 -0.230439 -0.187350  2.443472   \n",
       "\n",
       "         16        17        18        19        20  Class  \n",
       "0  3.249312  0.763316 -0.608861  0.103212 -0.365081      0  \n",
       "1  0.543470 -0.674180  0.481076  0.035675 -0.769843      0  \n",
       "2 -1.484868  0.464454 -1.509402 -0.434432  0.335146      0  \n",
       "3  0.862781 -0.413893  0.057107 -0.555710 -0.776537      0  \n",
       "4 -0.595040  0.343433  0.998238  0.328868  1.054984      0  \n",
       "\n",
       "[5 rows x 22 columns]"
      ]
     },
     "execution_count": 49,
     "metadata": {},
     "output_type": "execute_result"
    }
   ],
   "source": [
    "q = pd.DataFrame(y_train)\n",
    "q.reset_index(drop=True, inplace=True)\n",
    "df = pd.concat([pd.DataFrame(X_train_scaled), q], axis=1)\n",
    "df.head()"
   ]
  },
  {
   "attachments": {},
   "cell_type": "markdown",
   "metadata": {},
   "source": [
    "### Pycaret"
   ]
  },
  {
   "cell_type": "code",
   "execution_count": 50,
   "metadata": {},
   "outputs": [
    {
     "data": {
      "text/html": [
       "<style type=\"text/css\">\n",
       "#T_8e626_row8_col1, #T_8e626_row12_col1, #T_8e626_row14_col1 {\n",
       "  background-color: lightgreen;\n",
       "}\n",
       "</style>\n",
       "<table id=\"T_8e626\">\n",
       "  <thead>\n",
       "    <tr>\n",
       "      <th class=\"blank level0\" >&nbsp;</th>\n",
       "      <th id=\"T_8e626_level0_col0\" class=\"col_heading level0 col0\" >Description</th>\n",
       "      <th id=\"T_8e626_level0_col1\" class=\"col_heading level0 col1\" >Value</th>\n",
       "    </tr>\n",
       "  </thead>\n",
       "  <tbody>\n",
       "    <tr>\n",
       "      <th id=\"T_8e626_level0_row0\" class=\"row_heading level0 row0\" >0</th>\n",
       "      <td id=\"T_8e626_row0_col0\" class=\"data row0 col0\" >Session id</td>\n",
       "      <td id=\"T_8e626_row0_col1\" class=\"data row0 col1\" >2867</td>\n",
       "    </tr>\n",
       "    <tr>\n",
       "      <th id=\"T_8e626_level0_row1\" class=\"row_heading level0 row1\" >1</th>\n",
       "      <td id=\"T_8e626_row1_col0\" class=\"data row1 col0\" >Target</td>\n",
       "      <td id=\"T_8e626_row1_col1\" class=\"data row1 col1\" >Class</td>\n",
       "    </tr>\n",
       "    <tr>\n",
       "      <th id=\"T_8e626_level0_row2\" class=\"row_heading level0 row2\" >2</th>\n",
       "      <td id=\"T_8e626_row2_col0\" class=\"data row2 col0\" >Target type</td>\n",
       "      <td id=\"T_8e626_row2_col1\" class=\"data row2 col1\" >Binary</td>\n",
       "    </tr>\n",
       "    <tr>\n",
       "      <th id=\"T_8e626_level0_row3\" class=\"row_heading level0 row3\" >3</th>\n",
       "      <td id=\"T_8e626_row3_col0\" class=\"data row3 col0\" >Original data shape</td>\n",
       "      <td id=\"T_8e626_row3_col1\" class=\"data row3 col1\" >(131384, 22)</td>\n",
       "    </tr>\n",
       "    <tr>\n",
       "      <th id=\"T_8e626_level0_row4\" class=\"row_heading level0 row4\" >4</th>\n",
       "      <td id=\"T_8e626_row4_col0\" class=\"data row4 col0\" >Transformed data shape</td>\n",
       "      <td id=\"T_8e626_row4_col1\" class=\"data row4 col1\" >(222958, 22)</td>\n",
       "    </tr>\n",
       "    <tr>\n",
       "      <th id=\"T_8e626_level0_row5\" class=\"row_heading level0 row5\" >5</th>\n",
       "      <td id=\"T_8e626_row5_col0\" class=\"data row5 col0\" >Transformed train set shape</td>\n",
       "      <td id=\"T_8e626_row5_col1\" class=\"data row5 col1\" >(183542, 22)</td>\n",
       "    </tr>\n",
       "    <tr>\n",
       "      <th id=\"T_8e626_level0_row6\" class=\"row_heading level0 row6\" >6</th>\n",
       "      <td id=\"T_8e626_row6_col0\" class=\"data row6 col0\" >Transformed test set shape</td>\n",
       "      <td id=\"T_8e626_row6_col1\" class=\"data row6 col1\" >(39416, 22)</td>\n",
       "    </tr>\n",
       "    <tr>\n",
       "      <th id=\"T_8e626_level0_row7\" class=\"row_heading level0 row7\" >7</th>\n",
       "      <td id=\"T_8e626_row7_col0\" class=\"data row7 col0\" >Numeric features</td>\n",
       "      <td id=\"T_8e626_row7_col1\" class=\"data row7 col1\" >21</td>\n",
       "    </tr>\n",
       "    <tr>\n",
       "      <th id=\"T_8e626_level0_row8\" class=\"row_heading level0 row8\" >8</th>\n",
       "      <td id=\"T_8e626_row8_col0\" class=\"data row8 col0\" >Preprocess</td>\n",
       "      <td id=\"T_8e626_row8_col1\" class=\"data row8 col1\" >True</td>\n",
       "    </tr>\n",
       "    <tr>\n",
       "      <th id=\"T_8e626_level0_row9\" class=\"row_heading level0 row9\" >9</th>\n",
       "      <td id=\"T_8e626_row9_col0\" class=\"data row9 col0\" >Imputation type</td>\n",
       "      <td id=\"T_8e626_row9_col1\" class=\"data row9 col1\" >simple</td>\n",
       "    </tr>\n",
       "    <tr>\n",
       "      <th id=\"T_8e626_level0_row10\" class=\"row_heading level0 row10\" >10</th>\n",
       "      <td id=\"T_8e626_row10_col0\" class=\"data row10 col0\" >Numeric imputation</td>\n",
       "      <td id=\"T_8e626_row10_col1\" class=\"data row10 col1\" >mean</td>\n",
       "    </tr>\n",
       "    <tr>\n",
       "      <th id=\"T_8e626_level0_row11\" class=\"row_heading level0 row11\" >11</th>\n",
       "      <td id=\"T_8e626_row11_col0\" class=\"data row11 col0\" >Categorical imputation</td>\n",
       "      <td id=\"T_8e626_row11_col1\" class=\"data row11 col1\" >mode</td>\n",
       "    </tr>\n",
       "    <tr>\n",
       "      <th id=\"T_8e626_level0_row12\" class=\"row_heading level0 row12\" >12</th>\n",
       "      <td id=\"T_8e626_row12_col0\" class=\"data row12 col0\" >Remove multicollinearity</td>\n",
       "      <td id=\"T_8e626_row12_col1\" class=\"data row12 col1\" >True</td>\n",
       "    </tr>\n",
       "    <tr>\n",
       "      <th id=\"T_8e626_level0_row13\" class=\"row_heading level0 row13\" >13</th>\n",
       "      <td id=\"T_8e626_row13_col0\" class=\"data row13 col0\" >Multicollinearity threshold</td>\n",
       "      <td id=\"T_8e626_row13_col1\" class=\"data row13 col1\" >0.900000</td>\n",
       "    </tr>\n",
       "    <tr>\n",
       "      <th id=\"T_8e626_level0_row14\" class=\"row_heading level0 row14\" >14</th>\n",
       "      <td id=\"T_8e626_row14_col0\" class=\"data row14 col0\" >Fix imbalance</td>\n",
       "      <td id=\"T_8e626_row14_col1\" class=\"data row14 col1\" >True</td>\n",
       "    </tr>\n",
       "    <tr>\n",
       "      <th id=\"T_8e626_level0_row15\" class=\"row_heading level0 row15\" >15</th>\n",
       "      <td id=\"T_8e626_row15_col0\" class=\"data row15 col0\" >Fix imbalance method</td>\n",
       "      <td id=\"T_8e626_row15_col1\" class=\"data row15 col1\" >SMOTE</td>\n",
       "    </tr>\n",
       "    <tr>\n",
       "      <th id=\"T_8e626_level0_row16\" class=\"row_heading level0 row16\" >16</th>\n",
       "      <td id=\"T_8e626_row16_col0\" class=\"data row16 col0\" >Fold Generator</td>\n",
       "      <td id=\"T_8e626_row16_col1\" class=\"data row16 col1\" >StratifiedKFold</td>\n",
       "    </tr>\n",
       "    <tr>\n",
       "      <th id=\"T_8e626_level0_row17\" class=\"row_heading level0 row17\" >17</th>\n",
       "      <td id=\"T_8e626_row17_col0\" class=\"data row17 col0\" >Fold Number</td>\n",
       "      <td id=\"T_8e626_row17_col1\" class=\"data row17 col1\" >10</td>\n",
       "    </tr>\n",
       "    <tr>\n",
       "      <th id=\"T_8e626_level0_row18\" class=\"row_heading level0 row18\" >18</th>\n",
       "      <td id=\"T_8e626_row18_col0\" class=\"data row18 col0\" >CPU Jobs</td>\n",
       "      <td id=\"T_8e626_row18_col1\" class=\"data row18 col1\" >-1</td>\n",
       "    </tr>\n",
       "    <tr>\n",
       "      <th id=\"T_8e626_level0_row19\" class=\"row_heading level0 row19\" >19</th>\n",
       "      <td id=\"T_8e626_row19_col0\" class=\"data row19 col0\" >Use GPU</td>\n",
       "      <td id=\"T_8e626_row19_col1\" class=\"data row19 col1\" >False</td>\n",
       "    </tr>\n",
       "    <tr>\n",
       "      <th id=\"T_8e626_level0_row20\" class=\"row_heading level0 row20\" >20</th>\n",
       "      <td id=\"T_8e626_row20_col0\" class=\"data row20 col0\" >Log Experiment</td>\n",
       "      <td id=\"T_8e626_row20_col1\" class=\"data row20 col1\" >False</td>\n",
       "    </tr>\n",
       "    <tr>\n",
       "      <th id=\"T_8e626_level0_row21\" class=\"row_heading level0 row21\" >21</th>\n",
       "      <td id=\"T_8e626_row21_col0\" class=\"data row21 col0\" >Experiment Name</td>\n",
       "      <td id=\"T_8e626_row21_col1\" class=\"data row21 col1\" >clf-default-name</td>\n",
       "    </tr>\n",
       "    <tr>\n",
       "      <th id=\"T_8e626_level0_row22\" class=\"row_heading level0 row22\" >22</th>\n",
       "      <td id=\"T_8e626_row22_col0\" class=\"data row22 col0\" >USI</td>\n",
       "      <td id=\"T_8e626_row22_col1\" class=\"data row22 col1\" >771a</td>\n",
       "    </tr>\n",
       "  </tbody>\n",
       "</table>\n"
      ],
      "text/plain": [
       "<pandas.io.formats.style.Styler at 0x1d7a5613820>"
      ]
     },
     "metadata": {},
     "output_type": "display_data"
    }
   ],
   "source": [
    "clf = setup(data = df,\n",
    "            target = 'Class',\n",
    "            fold_shuffle=True,\n",
    "            fix_imbalance=True,\n",
    "            data_split_stratify=True,\n",
    "            remove_multicollinearity=True)"
   ]
  },
  {
   "cell_type": "code",
   "execution_count": 51,
   "metadata": {},
   "outputs": [
    {
     "data": {
      "text/html": [],
      "text/plain": [
       "<IPython.core.display.HTML object>"
      ]
     },
     "metadata": {},
     "output_type": "display_data"
    },
    {
     "data": {
      "text/html": [
       "<style type=\"text/css\">\n",
       "#T_455e6_row10_col0, #T_455e6_row10_col1, #T_455e6_row10_col2, #T_455e6_row10_col3, #T_455e6_row10_col4, #T_455e6_row10_col5, #T_455e6_row10_col6 {\n",
       "  background: yellow;\n",
       "}\n",
       "</style>\n",
       "<table id=\"T_455e6\">\n",
       "  <thead>\n",
       "    <tr>\n",
       "      <th class=\"blank level0\" >&nbsp;</th>\n",
       "      <th id=\"T_455e6_level0_col0\" class=\"col_heading level0 col0\" >Accuracy</th>\n",
       "      <th id=\"T_455e6_level0_col1\" class=\"col_heading level0 col1\" >AUC</th>\n",
       "      <th id=\"T_455e6_level0_col2\" class=\"col_heading level0 col2\" >Recall</th>\n",
       "      <th id=\"T_455e6_level0_col3\" class=\"col_heading level0 col3\" >Prec.</th>\n",
       "      <th id=\"T_455e6_level0_col4\" class=\"col_heading level0 col4\" >F1</th>\n",
       "      <th id=\"T_455e6_level0_col5\" class=\"col_heading level0 col5\" >Kappa</th>\n",
       "      <th id=\"T_455e6_level0_col6\" class=\"col_heading level0 col6\" >MCC</th>\n",
       "    </tr>\n",
       "    <tr>\n",
       "      <th class=\"index_name level0\" >Fold</th>\n",
       "      <th class=\"blank col0\" >&nbsp;</th>\n",
       "      <th class=\"blank col1\" >&nbsp;</th>\n",
       "      <th class=\"blank col2\" >&nbsp;</th>\n",
       "      <th class=\"blank col3\" >&nbsp;</th>\n",
       "      <th class=\"blank col4\" >&nbsp;</th>\n",
       "      <th class=\"blank col5\" >&nbsp;</th>\n",
       "      <th class=\"blank col6\" >&nbsp;</th>\n",
       "    </tr>\n",
       "  </thead>\n",
       "  <tbody>\n",
       "    <tr>\n",
       "      <th id=\"T_455e6_level0_row0\" class=\"row_heading level0 row0\" >0</th>\n",
       "      <td id=\"T_455e6_row0_col0\" class=\"data row0 col0\" >0.8141</td>\n",
       "      <td id=\"T_455e6_row0_col1\" class=\"data row0 col1\" >0.8539</td>\n",
       "      <td id=\"T_455e6_row0_col2\" class=\"data row0 col2\" >0.7895</td>\n",
       "      <td id=\"T_455e6_row0_col3\" class=\"data row0 col3\" >0.0087</td>\n",
       "      <td id=\"T_455e6_row0_col4\" class=\"data row0 col4\" >0.0172</td>\n",
       "      <td id=\"T_455e6_row0_col5\" class=\"data row0 col5\" >0.0132</td>\n",
       "      <td id=\"T_455e6_row0_col6\" class=\"data row0 col6\" >0.0703</td>\n",
       "    </tr>\n",
       "    <tr>\n",
       "      <th id=\"T_455e6_level0_row1\" class=\"row_heading level0 row1\" >1</th>\n",
       "      <td id=\"T_455e6_row1_col0\" class=\"data row1 col0\" >0.7900</td>\n",
       "      <td id=\"T_455e6_row1_col1\" class=\"data row1 col1\" >0.7722</td>\n",
       "      <td id=\"T_455e6_row1_col2\" class=\"data row1 col2\" >0.6500</td>\n",
       "      <td id=\"T_455e6_row1_col3\" class=\"data row1 col3\" >0.0067</td>\n",
       "      <td id=\"T_455e6_row1_col4\" class=\"data row1 col4\" >0.0133</td>\n",
       "      <td id=\"T_455e6_row1_col5\" class=\"data row1 col5\" >0.0090</td>\n",
       "      <td id=\"T_455e6_row1_col6\" class=\"data row1 col6\" >0.0503</td>\n",
       "    </tr>\n",
       "    <tr>\n",
       "      <th id=\"T_455e6_level0_row2\" class=\"row_heading level0 row2\" >2</th>\n",
       "      <td id=\"T_455e6_row2_col0\" class=\"data row2 col0\" >0.7977</td>\n",
       "      <td id=\"T_455e6_row2_col1\" class=\"data row2 col1\" >0.7389</td>\n",
       "      <td id=\"T_455e6_row2_col2\" class=\"data row2 col2\" >0.5000</td>\n",
       "      <td id=\"T_455e6_row2_col3\" class=\"data row2 col3\" >0.0054</td>\n",
       "      <td id=\"T_455e6_row2_col4\" class=\"data row2 col4\" >0.0106</td>\n",
       "      <td id=\"T_455e6_row2_col5\" class=\"data row2 col5\" >0.0064</td>\n",
       "      <td id=\"T_455e6_row2_col6\" class=\"data row2 col6\" >0.0346</td>\n",
       "    </tr>\n",
       "    <tr>\n",
       "      <th id=\"T_455e6_level0_row3\" class=\"row_heading level0 row3\" >3</th>\n",
       "      <td id=\"T_455e6_row3_col0\" class=\"data row3 col0\" >0.7998</td>\n",
       "      <td id=\"T_455e6_row3_col1\" class=\"data row3 col1\" >0.8190</td>\n",
       "      <td id=\"T_455e6_row3_col2\" class=\"data row3 col2\" >0.8000</td>\n",
       "      <td id=\"T_455e6_row3_col3\" class=\"data row3 col3\" >0.0086</td>\n",
       "      <td id=\"T_455e6_row3_col4\" class=\"data row3 col4\" >0.0171</td>\n",
       "      <td id=\"T_455e6_row3_col5\" class=\"data row3 col5\" >0.0128</td>\n",
       "      <td id=\"T_455e6_row3_col6\" class=\"data row3 col6\" >0.0697</td>\n",
       "    </tr>\n",
       "    <tr>\n",
       "      <th id=\"T_455e6_level0_row4\" class=\"row_heading level0 row4\" >4</th>\n",
       "      <td id=\"T_455e6_row4_col0\" class=\"data row4 col0\" >0.8081</td>\n",
       "      <td id=\"T_455e6_row4_col1\" class=\"data row4 col1\" >0.8665</td>\n",
       "      <td id=\"T_455e6_row4_col2\" class=\"data row4 col2\" >0.7500</td>\n",
       "      <td id=\"T_455e6_row4_col3\" class=\"data row4 col3\" >0.0085</td>\n",
       "      <td id=\"T_455e6_row4_col4\" class=\"data row4 col4\" >0.0167</td>\n",
       "      <td id=\"T_455e6_row4_col5\" class=\"data row4 col5\" >0.0125</td>\n",
       "      <td id=\"T_455e6_row4_col6\" class=\"data row4 col6\" >0.0659</td>\n",
       "    </tr>\n",
       "    <tr>\n",
       "      <th id=\"T_455e6_level0_row5\" class=\"row_heading level0 row5\" >5</th>\n",
       "      <td id=\"T_455e6_row5_col0\" class=\"data row5 col0\" >0.8007</td>\n",
       "      <td id=\"T_455e6_row5_col1\" class=\"data row5 col1\" >0.7648</td>\n",
       "      <td id=\"T_455e6_row5_col2\" class=\"data row5 col2\" >0.6000</td>\n",
       "      <td id=\"T_455e6_row5_col3\" class=\"data row5 col3\" >0.0065</td>\n",
       "      <td id=\"T_455e6_row5_col4\" class=\"data row5 col4\" >0.0129</td>\n",
       "      <td id=\"T_455e6_row5_col5\" class=\"data row5 col5\" >0.0087</td>\n",
       "      <td id=\"T_455e6_row5_col6\" class=\"data row5 col6\" >0.0467</td>\n",
       "    </tr>\n",
       "    <tr>\n",
       "      <th id=\"T_455e6_level0_row6\" class=\"row_heading level0 row6\" >6</th>\n",
       "      <td id=\"T_455e6_row6_col0\" class=\"data row6 col0\" >0.8049</td>\n",
       "      <td id=\"T_455e6_row6_col1\" class=\"data row6 col1\" >0.8076</td>\n",
       "      <td id=\"T_455e6_row6_col2\" class=\"data row6 col2\" >0.7000</td>\n",
       "      <td id=\"T_455e6_row6_col3\" class=\"data row6 col3\" >0.0078</td>\n",
       "      <td id=\"T_455e6_row6_col4\" class=\"data row6 col4\" >0.0154</td>\n",
       "      <td id=\"T_455e6_row6_col5\" class=\"data row6 col5\" >0.0111</td>\n",
       "      <td id=\"T_455e6_row6_col6\" class=\"data row6 col6\" >0.0593</td>\n",
       "    </tr>\n",
       "    <tr>\n",
       "      <th id=\"T_455e6_level0_row7\" class=\"row_heading level0 row7\" >7</th>\n",
       "      <td id=\"T_455e6_row7_col0\" class=\"data row7 col0\" >0.7981</td>\n",
       "      <td id=\"T_455e6_row7_col1\" class=\"data row7 col1\" >0.8228</td>\n",
       "      <td id=\"T_455e6_row7_col2\" class=\"data row7 col2\" >0.7000</td>\n",
       "      <td id=\"T_455e6_row7_col3\" class=\"data row7 col3\" >0.0075</td>\n",
       "      <td id=\"T_455e6_row7_col4\" class=\"data row7 col4\" >0.0149</td>\n",
       "      <td id=\"T_455e6_row7_col5\" class=\"data row7 col5\" >0.0106</td>\n",
       "      <td id=\"T_455e6_row7_col6\" class=\"data row7 col6\" >0.0577</td>\n",
       "    </tr>\n",
       "    <tr>\n",
       "      <th id=\"T_455e6_level0_row8\" class=\"row_heading level0 row8\" >8</th>\n",
       "      <td id=\"T_455e6_row8_col0\" class=\"data row8 col0\" >0.8084</td>\n",
       "      <td id=\"T_455e6_row8_col1\" class=\"data row8 col1\" >0.7136</td>\n",
       "      <td id=\"T_455e6_row8_col2\" class=\"data row8 col2\" >0.4211</td>\n",
       "      <td id=\"T_455e6_row8_col3\" class=\"data row8 col3\" >0.0045</td>\n",
       "      <td id=\"T_455e6_row8_col4\" class=\"data row8 col4\" >0.0090</td>\n",
       "      <td id=\"T_455e6_row8_col5\" class=\"data row8 col5\" >0.0049</td>\n",
       "      <td id=\"T_455e6_row8_col6\" class=\"data row8 col6\" >0.0266</td>\n",
       "    </tr>\n",
       "    <tr>\n",
       "      <th id=\"T_455e6_level0_row9\" class=\"row_heading level0 row9\" >9</th>\n",
       "      <td id=\"T_455e6_row9_col0\" class=\"data row9 col0\" >0.8119</td>\n",
       "      <td id=\"T_455e6_row9_col1\" class=\"data row9 col1\" >0.7891</td>\n",
       "      <td id=\"T_455e6_row9_col2\" class=\"data row9 col2\" >0.5789</td>\n",
       "      <td id=\"T_455e6_row9_col3\" class=\"data row9 col3\" >0.0063</td>\n",
       "      <td id=\"T_455e6_row9_col4\" class=\"data row9 col4\" >0.0126</td>\n",
       "      <td id=\"T_455e6_row9_col5\" class=\"data row9 col5\" >0.0085</td>\n",
       "      <td id=\"T_455e6_row9_col6\" class=\"data row9 col6\" >0.0454</td>\n",
       "    </tr>\n",
       "    <tr>\n",
       "      <th id=\"T_455e6_level0_row10\" class=\"row_heading level0 row10\" >Mean</th>\n",
       "      <td id=\"T_455e6_row10_col0\" class=\"data row10 col0\" >0.8034</td>\n",
       "      <td id=\"T_455e6_row10_col1\" class=\"data row10 col1\" >0.7948</td>\n",
       "      <td id=\"T_455e6_row10_col2\" class=\"data row10 col2\" >0.6489</td>\n",
       "      <td id=\"T_455e6_row10_col3\" class=\"data row10 col3\" >0.0071</td>\n",
       "      <td id=\"T_455e6_row10_col4\" class=\"data row10 col4\" >0.0140</td>\n",
       "      <td id=\"T_455e6_row10_col5\" class=\"data row10 col5\" >0.0098</td>\n",
       "      <td id=\"T_455e6_row10_col6\" class=\"data row10 col6\" >0.0526</td>\n",
       "    </tr>\n",
       "    <tr>\n",
       "      <th id=\"T_455e6_level0_row11\" class=\"row_heading level0 row11\" >Std</th>\n",
       "      <td id=\"T_455e6_row11_col0\" class=\"data row11 col0\" >0.0070</td>\n",
       "      <td id=\"T_455e6_row11_col1\" class=\"data row11 col1\" >0.0462</td>\n",
       "      <td id=\"T_455e6_row11_col2\" class=\"data row11 col2\" >0.1181</td>\n",
       "      <td id=\"T_455e6_row11_col3\" class=\"data row11 col3\" >0.0013</td>\n",
       "      <td id=\"T_455e6_row11_col4\" class=\"data row11 col4\" >0.0026</td>\n",
       "      <td id=\"T_455e6_row11_col5\" class=\"data row11 col5\" >0.0026</td>\n",
       "      <td id=\"T_455e6_row11_col6\" class=\"data row11 col6\" >0.0139</td>\n",
       "    </tr>\n",
       "  </tbody>\n",
       "</table>\n"
      ],
      "text/plain": [
       "<pandas.io.formats.style.Styler at 0x1d7a5612050>"
      ]
     },
     "metadata": {},
     "output_type": "display_data"
    },
    {
     "data": {
      "text/html": [],
      "text/plain": [
       "<IPython.core.display.HTML object>"
      ]
     },
     "metadata": {},
     "output_type": "display_data"
    }
   ],
   "source": [
    "model = create_model('lr')"
   ]
  },
  {
   "cell_type": "code",
   "execution_count": 52,
   "metadata": {},
   "outputs": [
    {
     "data": {
      "text/plain": [
       "array([ 0.866109  ,  0.50116737, -0.23570158, ..., -0.16632563,\n",
       "        0.2821804 , -0.11846476])"
      ]
     },
     "execution_count": 52,
     "metadata": {},
     "output_type": "execute_result"
    }
   ],
   "source": [
    "X_test_scaled[:, 1]"
   ]
  },
  {
   "cell_type": "code",
   "execution_count": 64,
   "metadata": {},
   "outputs": [
    {
     "data": {
      "text/plain": [
       "array([[9.98659469e-01, 1.34053142e-03],\n",
       "       [9.94589689e-01, 5.41031135e-03],\n",
       "       [9.98484064e-01, 1.51593623e-03],\n",
       "       ...,\n",
       "       [9.99665907e-01, 3.34093333e-04],\n",
       "       [9.98806893e-01, 1.19310677e-03],\n",
       "       [9.98771275e-01, 1.22872528e-03]])"
      ]
     },
     "execution_count": 64,
     "metadata": {},
     "output_type": "execute_result"
    }
   ],
   "source": [
    "y_pred_prob"
   ]
  },
  {
   "cell_type": "code",
   "execution_count": 93,
   "metadata": {},
   "outputs": [],
   "source": [
    "def objective(trial):\n",
    "    params = {\n",
    "        'C': trial.suggest_loguniform('C', 0.001, 10),\n",
    "        #'penalty': trial.suggest_categorical('penalty', 'l2'),\n",
    "        'class_weight': 'balanced',\n",
    "        'solver': trial.suggest_categorical('solver', ['liblinear', 'sag', 'saga']),\n",
    "        'tol': trial.suggest_loguniform(\"tol\", 1e-5, 1e-1)\n",
    "    }\n",
    "    model = LogisticRegression(**params)\n",
    "    model.fit(X_train_scaled, y_train)\n",
    "\n",
    "    y_pred = model.predict(X_test_scaled)\n",
    "\n",
    "    precision, recall, _ = precision_recall_curve(y_test, y_pred)\n",
    "    pr_auc = auc(recall, precision)\n",
    "\n",
    "    return pr_auc"
   ]
  },
  {
   "cell_type": "code",
   "execution_count": 95,
   "metadata": {},
   "outputs": [
    {
     "name": "stderr",
     "output_type": "stream",
     "text": [
      "[I 2023-06-19 18:33:27,524] A new study created in memory with name: no-name-d4f9769a-313d-4e92-9b6d-5be2684618f7\n",
      "[I 2023-06-19 18:33:42,997] Trial 0 finished with value: 0.3765787899420069 and parameters: {'C': 0.10575910872386939, 'solver': 'saga', 'tol': 6.789529206549919e-05}. Best is trial 0 with value: 0.3765787899420069.\n",
      "[I 2023-06-19 18:33:57,238] Trial 1 finished with value: 0.37617755408019843 and parameters: {'C': 0.02594116223795877, 'solver': 'sag', 'tol': 0.0004274370613705679}. Best is trial 0 with value: 0.3765787899420069.\n",
      "[I 2023-06-19 18:34:12,310] Trial 2 finished with value: 0.3338171428269378 and parameters: {'C': 0.015013433585073517, 'solver': 'sag', 'tol': 7.29940365734163e-05}. Best is trial 0 with value: 0.3765787899420069.\n",
      "[I 2023-06-19 18:34:26,004] Trial 3 finished with value: 0.3058536104661622 and parameters: {'C': 0.0020457218982293506, 'solver': 'sag', 'tol': 2.7688371655568944e-05}. Best is trial 0 with value: 0.3765787899420069.\n",
      "[I 2023-06-19 18:34:40,392] Trial 4 finished with value: 0.31236299763853675 and parameters: {'C': 1.652392848600799, 'solver': 'sag', 'tol': 1.805002141947951e-05}. Best is trial 0 with value: 0.3765787899420069.\n",
      "[I 2023-06-19 18:34:41,731] Trial 5 finished with value: 0.31392342270603407 and parameters: {'C': 0.3917506166992111, 'solver': 'liblinear', 'tol': 0.0003537710714648646}. Best is trial 0 with value: 0.3765787899420069.\n",
      "[I 2023-06-19 18:34:55,891] Trial 6 finished with value: 0.3063997782835709 and parameters: {'C': 0.03527142616657348, 'solver': 'sag', 'tol': 0.01588013380188478}. Best is trial 0 with value: 0.3765787899420069.\n",
      "[I 2023-06-19 18:34:57,021] Trial 7 finished with value: 0.3139209977001673 and parameters: {'C': 0.02659021969971907, 'solver': 'liblinear', 'tol': 0.007498250595503415}. Best is trial 0 with value: 0.3765787899420069.\n",
      "[I 2023-06-19 18:35:11,506] Trial 8 finished with value: 0.3345282092940019 and parameters: {'C': 3.742292476492572, 'solver': 'saga', 'tol': 0.00011085473864903921}. Best is trial 0 with value: 0.3765787899420069.\n",
      "[I 2023-06-19 18:35:25,471] Trial 9 finished with value: 0.29859138541806374 and parameters: {'C': 0.11325610571668275, 'solver': 'sag', 'tol': 0.00013627156775415064}. Best is trial 0 with value: 0.3765787899420069.\n",
      "[I 2023-06-19 18:35:40,264] Trial 10 finished with value: 0.3200367420337963 and parameters: {'C': 0.6397131713337428, 'solver': 'saga', 'tol': 0.001825219413166026}. Best is trial 0 with value: 0.3765787899420069.\n",
      "[I 2023-06-19 18:35:55,018] Trial 11 finished with value: 0.3065528490008184 and parameters: {'C': 0.13803086151615332, 'solver': 'saga', 'tol': 0.001195779925385232}. Best is trial 0 with value: 0.3765787899420069.\n",
      "[I 2023-06-19 18:36:10,724] Trial 12 finished with value: 0.30573500681670485 and parameters: {'C': 0.006656041252799446, 'solver': 'saga', 'tol': 0.0004466734452202901}. Best is trial 0 with value: 0.3765787899420069.\n",
      "[I 2023-06-19 18:36:25,574] Trial 13 finished with value: 0.3277200506385391 and parameters: {'C': 0.05609840037022885, 'solver': 'saga', 'tol': 0.08787292510994046}. Best is trial 0 with value: 0.3765787899420069.\n",
      "[I 2023-06-19 18:36:27,254] Trial 14 finished with value: 0.31392342270603407 and parameters: {'C': 8.424959509288392, 'solver': 'liblinear', 'tol': 1.1258230305732233e-05}. Best is trial 0 with value: 0.3765787899420069.\n",
      "[I 2023-06-19 18:36:41,295] Trial 15 finished with value: 0.28556107391077645 and parameters: {'C': 0.007953665336768608, 'solver': 'sag', 'tol': 5.8625661877889175e-05}. Best is trial 0 with value: 0.3765787899420069.\n",
      "[I 2023-06-19 18:36:56,371] Trial 16 finished with value: 0.29931343363869306 and parameters: {'C': 0.1863385194303608, 'solver': 'saga', 'tol': 0.00026621599235439997}. Best is trial 0 with value: 0.3765787899420069.\n",
      "[I 2023-06-19 18:37:10,507] Trial 17 finished with value: 0.3125972086978389 and parameters: {'C': 0.05331599792931372, 'solver': 'sag', 'tol': 3.540677941682173e-05}. Best is trial 0 with value: 0.3765787899420069.\n",
      "[I 2023-06-19 18:37:25,260] Trial 18 finished with value: 0.291886070625969 and parameters: {'C': 0.4219385088557157, 'solver': 'saga', 'tol': 0.0001800868826355082}. Best is trial 0 with value: 0.3765787899420069.\n",
      "[I 2023-06-19 18:37:26,491] Trial 19 finished with value: 0.30678104983640053 and parameters: {'C': 0.0019395484246129441, 'solver': 'liblinear', 'tol': 0.0007020340330072138}. Best is trial 0 with value: 0.3765787899420069.\n",
      "[I 2023-06-19 18:37:41,073] Trial 20 finished with value: 0.31393804066404046 and parameters: {'C': 0.01830317793319074, 'solver': 'saga', 'tol': 1.0450131056759195e-05}. Best is trial 0 with value: 0.3765787899420069.\n",
      "[I 2023-06-19 18:37:56,580] Trial 21 finished with value: 0.32727633847519183 and parameters: {'C': 8.94938409532402, 'solver': 'saga', 'tol': 0.00013529613219604805}. Best is trial 0 with value: 0.3765787899420069.\n",
      "[I 2023-06-19 18:38:11,544] Trial 22 finished with value: 0.2994518358094936 and parameters: {'C': 1.401511896540026, 'solver': 'saga', 'tol': 6.41193101006294e-05}. Best is trial 0 with value: 0.3765787899420069.\n",
      "[I 2023-06-19 18:38:26,499] Trial 23 finished with value: 0.3204308875338137 and parameters: {'C': 0.08196269285138615, 'solver': 'saga', 'tol': 0.00011167958102686356}. Best is trial 0 with value: 0.3765787899420069.\n",
      "[I 2023-06-19 18:38:41,422] Trial 24 finished with value: 0.3070782965332828 and parameters: {'C': 3.286435063585059, 'solver': 'saga', 'tol': 3.497533186497841e-05}. Best is trial 0 with value: 0.3765787899420069.\n",
      "[I 2023-06-19 18:38:55,603] Trial 25 finished with value: 0.3477295661823185 and parameters: {'C': 0.16288147797143807, 'solver': 'sag', 'tol': 0.00027919432106634644}. Best is trial 0 with value: 0.3765787899420069.\n",
      "[I 2023-06-19 18:39:10,064] Trial 26 finished with value: 0.2704146278305868 and parameters: {'C': 0.1986941180524383, 'solver': 'sag', 'tol': 0.0003244612984035517}. Best is trial 0 with value: 0.3765787899420069.\n",
      "[I 2023-06-19 18:39:24,066] Trial 27 finished with value: 0.37549474265628713 and parameters: {'C': 0.0641231077919993, 'solver': 'sag', 'tol': 0.0007118402717105881}. Best is trial 0 with value: 0.3765787899420069.\n",
      "[I 2023-06-19 18:39:38,086] Trial 28 finished with value: 0.3409385501867225 and parameters: {'C': 0.07112616839800852, 'solver': 'sag', 'tol': 0.000786474632097586}. Best is trial 0 with value: 0.3765787899420069.\n",
      "[I 2023-06-19 18:39:52,316] Trial 29 finished with value: 0.3065671768322644 and parameters: {'C': 0.030010361502950486, 'solver': 'sag', 'tol': 0.0017064789959995445}. Best is trial 0 with value: 0.3765787899420069.\n",
      "[I 2023-06-19 18:40:06,338] Trial 30 finished with value: 0.3483764460429773 and parameters: {'C': 0.016068880387549007, 'solver': 'sag', 'tol': 5.7125183466898154e-05}. Best is trial 0 with value: 0.3765787899420069.\n",
      "[I 2023-06-19 18:40:20,545] Trial 31 finished with value: 0.3486205316188678 and parameters: {'C': 0.012648589784437895, 'solver': 'sag', 'tol': 6.919989922309896e-05}. Best is trial 0 with value: 0.3765787899420069.\n",
      "[I 2023-06-19 18:40:34,539] Trial 32 finished with value: 0.32755545896093324 and parameters: {'C': 0.01087159880223757, 'solver': 'sag', 'tol': 7.593771691924194e-05}. Best is trial 0 with value: 0.3765787899420069.\n",
      "[I 2023-06-19 18:40:48,203] Trial 33 finished with value: 0.33457174723608646 and parameters: {'C': 0.004616174135790656, 'solver': 'sag', 'tol': 1.910057070799967e-05}. Best is trial 0 with value: 0.3765787899420069.\n",
      "[I 2023-06-19 18:41:02,109] Trial 34 finished with value: 0.3196446006388133 and parameters: {'C': 0.03927657332731251, 'solver': 'sag', 'tol': 0.00019916744886429893}. Best is trial 0 with value: 0.3765787899420069.\n",
      "[I 2023-06-19 18:41:15,550] Trial 35 finished with value: 0.34797694702285703 and parameters: {'C': 0.003479824414083108, 'solver': 'sag', 'tol': 0.0004143874295028016}. Best is trial 0 with value: 0.3765787899420069.\n",
      "[I 2023-06-19 18:41:29,778] Trial 36 finished with value: 0.3054128646133356 and parameters: {'C': 0.020829048888794215, 'solver': 'sag', 'tol': 3.134289678676306e-05}. Best is trial 0 with value: 0.3765787899420069.\n",
      "[I 2023-06-19 18:41:31,076] Trial 37 finished with value: 0.31391797096634816 and parameters: {'C': 0.01330251358465696, 'solver': 'liblinear', 'tol': 0.0005374284710481933}. Best is trial 0 with value: 0.3765787899420069.\n",
      "[I 2023-06-19 18:41:46,298] Trial 38 finished with value: 0.30643919545335396 and parameters: {'C': 0.0010717714814665262, 'solver': 'sag', 'tol': 0.00021911062681204273}. Best is trial 0 with value: 0.3765787899420069.\n",
      "[I 2023-06-19 18:42:00,599] Trial 39 finished with value: 0.2925332658842558 and parameters: {'C': 0.03371179948985807, 'solver': 'sag', 'tol': 9.433767451960704e-05}. Best is trial 0 with value: 0.3765787899420069.\n",
      "[I 2023-06-19 18:42:01,912] Trial 40 finished with value: 0.31392342270603407 and parameters: {'C': 0.09205057062557317, 'solver': 'liblinear', 'tol': 0.00015849952510904326}. Best is trial 0 with value: 0.3765787899420069.\n",
      "[I 2023-06-19 18:42:16,237] Trial 41 finished with value: 0.37630702479957356 and parameters: {'C': 0.012200035383343853, 'solver': 'sag', 'tol': 4.1930752143391216e-05}. Best is trial 0 with value: 0.3765787899420069.\n",
      "[I 2023-06-19 18:42:30,247] Trial 42 finished with value: 0.3196067701521638 and parameters: {'C': 0.02392911015633678, 'solver': 'sag', 'tol': 4.583507747863145e-05}. Best is trial 0 with value: 0.3765787899420069.\n",
      "[I 2023-06-19 18:42:44,419] Trial 43 finished with value: 0.3130030706222667 and parameters: {'C': 0.01283225494861222, 'solver': 'sag', 'tol': 8.680101812510126e-05}. Best is trial 0 with value: 0.3765787899420069.\n",
      "[I 2023-06-19 18:42:57,664] Trial 44 finished with value: 0.3346137751616929 and parameters: {'C': 0.047776059628585305, 'solver': 'sag', 'tol': 4.67229885618907e-05}. Best is trial 0 with value: 0.3765787899420069.\n",
      "[I 2023-06-19 18:43:10,996] Trial 45 finished with value: 0.3199754353874152 and parameters: {'C': 0.02768331884577691, 'solver': 'sag', 'tol': 0.00011000951859571391}. Best is trial 0 with value: 0.3765787899420069.\n",
      "[I 2023-06-19 18:43:24,304] Trial 46 finished with value: 0.32731822620531487 and parameters: {'C': 0.009071461654418182, 'solver': 'sag', 'tol': 2.3080067795700432e-05}. Best is trial 0 with value: 0.3765787899420069.\n",
      "[I 2023-06-19 18:43:37,569] Trial 47 finished with value: 0.34108555289464815 and parameters: {'C': 0.052938792434675974, 'solver': 'sag', 'tol': 1.8059678661334837e-05}. Best is trial 0 with value: 0.3765787899420069.\n",
      "[I 2023-06-19 18:43:38,788] Trial 48 finished with value: 0.3139240294609483 and parameters: {'C': 0.12124589783763631, 'solver': 'liblinear', 'tol': 0.0014065062879668616}. Best is trial 0 with value: 0.3765787899420069.\n",
      "[I 2023-06-19 19:09:47,770] Trial 49 finished with value: 0.2922117642411481 and parameters: {'C': 0.014387144767641092, 'solver': 'sag', 'tol': 0.0026666721573594615}. Best is trial 0 with value: 0.3765787899420069.\n"
     ]
    },
    {
     "name": "stdout",
     "output_type": "stream",
     "text": [
      "Best Params:  {'C': 0.10575910872386939, 'solver': 'saga', 'tol': 6.789529206549919e-05}\n",
      "Best Score:  0.3765787899420069\n"
     ]
    }
   ],
   "source": [
    "study = optuna.create_study(direction='maximize')\n",
    "study.optimize(objective, n_trials=50)\n",
    "\n",
    "print('Best Params: ', study.best_params)\n",
    "print('Best Score: ', study.best_value)"
   ]
  },
  {
   "attachments": {},
   "cell_type": "markdown",
   "metadata": {},
   "source": [
    "### Regressão Logística"
   ]
  },
  {
   "cell_type": "code",
   "execution_count": 83,
   "metadata": {},
   "outputs": [
    {
     "name": "stdout",
     "output_type": "stream",
     "text": [
      "Regressão Logística - Resultados de Validação:\n",
      "AUC Score: 0.7186643782637244\n",
      "Accuracy: 0.8171826955277499\n"
     ]
    }
   ],
   "source": [
    "# Treinar e avaliar um modelo de regressão logística\n",
    "logreg = LogisticRegression()\n",
    "logreg.fit(X_train_scaled, y_train, sample_weight=sample_weights)\n",
    "y_pred_val_logreg = logreg.predict(X_test_scaled)\n",
    "accuracy_logreg = accuracy_score(y_test, y_pred_val_logreg)\n",
    "\n",
    "\n",
    "print(\"Regressão Logística - Resultados de Validação:\")\n",
    "#print(classification_report(y_val, y_pred_val_logreg))\n",
    "print(\"AUC Score:\", roc_auc_score(y_test, y_pred_val_logreg))\n",
    "print(\"Accuracy:\", accuracy_logreg)"
   ]
  },
  {
   "cell_type": "code",
   "execution_count": 86,
   "metadata": {},
   "outputs": [
    {
     "data": {
      "image/png": "[encoded data removed]",
      "text/plain": [
       "<Figure size 640x480 with 2 Axes>"
      ]
     },
     "metadata": {},
     "output_type": "display_data"
    }
   ],
   "source": [
    "# Plotar a matriz de confusão - Regressão Logística\n",
    "cm_logreg = confusion_matrix(y_test, y_pred_val_logreg)\n",
    "sns.heatmap(cm_logreg, annot=True, fmt='d', cmap='Blues')\n",
    "plt.title(\"Matriz de Confusão - Regressão Logística\")\n",
    "plt.xlabel(\"Valor Previsto\")\n",
    "plt.ylabel(\"Valor Real\")\n",
    "plt.show()"
   ]
  },
  {
   "attachments": {},
   "cell_type": "markdown",
   "metadata": {},
   "source": [
    "#### Cross val reg log"
   ]
  },
  {
   "cell_type": "code",
   "execution_count": 99,
   "metadata": {},
   "outputs": [],
   "source": [
    "cv_reg_log_predict = cross_val_predict(logreg, X_train_scaled, y_train, cv=10)\n",
    "logreg.fit(X_train_scaled, y_train, sample_weight=sample_weights)\n",
    "logreg_prediction_cv = logreg.predict(X_test_scaled)"
   ]
  },
  {
   "cell_type": "code",
   "execution_count": 100,
   "metadata": {},
   "outputs": [
    {
     "data": {
      "text/plain": [
       "0.7186643782637244"
      ]
     },
     "execution_count": 100,
     "metadata": {},
     "output_type": "execute_result"
    }
   ],
   "source": [
    "roc_auc_score(y_test, logreg_prediction_cv)"
   ]
  },
  {
   "attachments": {},
   "cell_type": "markdown",
   "metadata": {},
   "source": [
    "### XG Boost fodase"
   ]
  },
  {
   "cell_type": "code",
   "execution_count": 94,
   "metadata": {},
   "outputs": [],
   "source": [
    "from sklearn.pipeline import Pipeline\n",
    "scale_pos_weight = w_train[0] / w_train[1]\n",
    "pipeline = Pipeline([\n",
    "    ('scaler', StandardScaler()),  # Preprocessing step\n",
    "    ('xgb', xgb.XGBClassifier(objective='binary:logistic', eval_metric='auc', use_label_encoder=False, random_state=42, scale_pos_weight=scale_pos_weight))  # XGBoost model\n",
    "])\n",
    "\n",
    "# Fit the pipeline\n",
    "pipeline.fit(X_train_scaled, y_train)\n",
    "\n",
    "# Predict with the pipeline\n",
    "y_pred = pipeline.predict(X_test_scaled)"
   ]
  },
  {
   "cell_type": "code",
   "execution_count": 95,
   "metadata": {},
   "outputs": [
    {
     "data": {
      "text/plain": [
       "0.5"
      ]
     },
     "execution_count": 95,
     "metadata": {},
     "output_type": "execute_result"
    }
   ],
   "source": [
    "roc_xgb = roc_auc_score(y_test, y_pred)\n",
    "roc_xgb"
   ]
  },
  {
   "cell_type": "code",
   "execution_count": 87,
   "metadata": {},
   "outputs": [
    {
     "data": {
      "text/plain": [
       "0.5067218971628158"
      ]
     },
     "execution_count": 87,
     "metadata": {},
     "output_type": "execute_result"
    }
   ],
   "source": [
    "scale_pos_weight = w_train[0] / w_train[1]\n",
    "xgb_classifier = xgb.XGBClassifier(objective='binary:logistic', eval_metric='auc', use_label_encoder=False, random_state=42)\n",
    "xgb_classifier.fit(X_train_scaled, y_train, sample_weight=sample_weights)\n",
    "y_pred_xgb = xgb_classifier.predict(X_test_scaled)\n",
    "roc_xgb = roc_auc_score(y_test, y_pred_xgb)\n",
    "roc_xgb"
   ]
  },
  {
   "attachments": {},
   "cell_type": "markdown",
   "metadata": {},
   "source": [
    "### Light GBM"
   ]
  },
  {
   "cell_type": "code",
   "execution_count": 107,
   "metadata": {},
   "outputs": [
    {
     "name": "stdout",
     "output_type": "stream",
     "text": [
      "[LightGBM] [Warning] feature_fraction is set=0.9, colsample_bytree=1.0 will be ignored. Current value: feature_fraction=0.9\n",
      "[LightGBM] [Warning] bagging_fraction is set=0.8, subsample=1.0 will be ignored. Current value: bagging_fraction=0.8\n",
      "[LightGBM] [Warning] bagging_freq is set=5, subsample_freq=0 will be ignored. Current value: bagging_freq=5\n"
     ]
    }
   ],
   "source": [
    "lgbm_clf = lgb.LGBMClassifier(objective='binary', random_state=42, metric='auc', num_leaves=31, learning_rate=0.5,\n",
    "                          feature_fraction=0.9, bagging_fraction=0.8, bagging_freq=5, class_weight={0:1, 1:10})\n",
    "\n",
    "lgbm_clf.fit(X_train_scaled, y_train)\n",
    "lgbm_pred = lgbm_clf.predict(X_test_scaled)\n",
    "lbgm_pred_proba = lgbm_clf.predict_proba(X_test_scaled)\n",
    "roc_lgbm = roc_auc_score(y_test, lgbm_pred)\n",
    "roc_lgbm_proba = roc_auc_score(y_test, lbgm_pred_proba[:, 1])"
   ]
  },
  {
   "cell_type": "code",
   "execution_count": 109,
   "metadata": {},
   "outputs": [
    {
     "data": {
      "text/plain": [
       "0.37903206399735984"
      ]
     },
     "execution_count": 109,
     "metadata": {},
     "output_type": "execute_result"
    }
   ],
   "source": [
    "roc_lgbm_proba"
   ]
  },
  {
   "attachments": {},
   "cell_type": "markdown",
   "metadata": {},
   "source": [
    "### KNN"
   ]
  },
  {
   "cell_type": "code",
   "execution_count": 47,
   "metadata": {},
   "outputs": [
    {
     "name": "stdout",
     "output_type": "stream",
     "text": [
      "k-NN - Resultados de Validação:\n",
      "AUC Score: 0.5\n",
      "Accuracy: 0.9973818004688404\n"
     ]
    }
   ],
   "source": [
    "# Treinar e avaliar um modelo k-NN\n",
    "knn = KNeighborsClassifier()\n",
    "knn.fit(X_train_scaled, y_train, )\n",
    "y_pred_val_knn = knn.predict(X_val_scaled)\n",
    "accuracy_knn = accuracy_score(y_val, y_pred_val_knn)\n",
    "\n",
    "print(\"k-NN - Resultados de Validação:\")\n",
    "#print(confusion_matrix(y_val, y_pred_val_knn))\n",
    "#print(classification_report(y_val, y_pred_val_knn))\n",
    "print(\"AUC Score:\", roc_auc_score(y_val, y_pred_val_knn))\n",
    "print(\"Accuracy:\", accuracy_knn)"
   ]
  },
  {
   "cell_type": "code",
   "execution_count": 48,
   "metadata": {},
   "outputs": [
    {
     "data": {
      "text/plain": [
       "array([0, 0, 0, ..., 0, 0, 0], dtype=int64)"
      ]
     },
     "execution_count": 48,
     "metadata": {},
     "output_type": "execute_result"
    }
   ],
   "source": [
    "# Fazer previsões no conjunto de teste\n",
    "y_pred_test = logreg.predict(X_test_scaled)  # Utilize o modelo de regressão logística para prever as classes no conjunto de teste\n",
    "y_pred_test"
   ]
  },
  {
   "cell_type": "code",
   "execution_count": 49,
   "metadata": {},
   "outputs": [
    {
     "data": {
      "image/png": "[encoded data removed]",
      "text/plain": [
       "<Figure size 640x480 with 2 Axes>"
      ]
     },
     "metadata": {},
     "output_type": "display_data"
    }
   ],
   "source": [
    "# Plotar a matriz de confusão - k-NN\n",
    "cm_knn = confusion_matrix(y_val, y_pred_val_knn)\n",
    "sns.heatmap(cm_knn, annot=True, fmt='d', cmap='Blues')\n",
    "plt.title(\"Matriz de Confusão - k-NN\")\n",
    "plt.xlabel(\"Valor Previsto\")\n",
    "plt.ylabel(\"Valor Real\")\n",
    "plt.show()"
   ]
  },
  {
   "cell_type": "code",
   "execution_count": 50,
   "metadata": {},
   "outputs": [
    {
     "data": {
      "image/png": "[encoded data removed]",
      "text/plain": [
       "<Figure size 640x480 with 1 Axes>"
      ]
     },
     "metadata": {},
     "output_type": "display_data"
    }
   ],
   "source": [
    "# Plotar a curva ROC - k-NN\n",
    "fpr_knn, tpr_knn, thresholds_knn = roc_curve(y_val, y_pred_val_knn)\n",
    "plt.plot(fpr_knn, tpr_knn)\n",
    "plt.title(\"Curva ROC - k-NN\")\n",
    "plt.xlabel(\"Taxa de Falso Positivo\")\n",
    "plt.ylabel(\"Taxa de Verdadeiro Positivo\")\n",
    "plt.show()\n",
    "\n",
    "# Fazer previsões no conjunto de teste\n",
    "y_pred_test = logreg.predict(X_test_scaled)  # Utilize o modelo de regressão logística para prever as classes no conjunto de teste\n"
   ]
  },
  {
   "cell_type": "code",
   "execution_count": 17,
   "metadata": {},
   "outputs": [
    {
     "data": {
      "text/html": [
       "<div>\n",
       "<style scoped>\n",
       "    .dataframe tbody tr th:only-of-type {\n",
       "        vertical-align: middle;\n",
       "    }\n",
       "\n",
       "    .dataframe tbody tr th {\n",
       "        vertical-align: top;\n",
       "    }\n",
       "\n",
       "    .dataframe thead th {\n",
       "        text-align: right;\n",
       "    }\n",
       "</style>\n",
       "<table border=\"1\" class=\"dataframe\">\n",
       "  <thead>\n",
       "    <tr style=\"text-align: right;\">\n",
       "      <th></th>\n",
       "      <th>id</th>\n",
       "      <th>Class</th>\n",
       "    </tr>\n",
       "  </thead>\n",
       "  <tbody>\n",
       "    <tr>\n",
       "      <th>0</th>\n",
       "      <td>1</td>\n",
       "      <td>0</td>\n",
       "    </tr>\n",
       "    <tr>\n",
       "      <th>1</th>\n",
       "      <td>2</td>\n",
       "      <td>0</td>\n",
       "    </tr>\n",
       "    <tr>\n",
       "      <th>2</th>\n",
       "      <td>3</td>\n",
       "      <td>0</td>\n",
       "    </tr>\n",
       "    <tr>\n",
       "      <th>3</th>\n",
       "      <td>4</td>\n",
       "      <td>0</td>\n",
       "    </tr>\n",
       "    <tr>\n",
       "      <th>4</th>\n",
       "      <td>5</td>\n",
       "      <td>0</td>\n",
       "    </tr>\n",
       "    <tr>\n",
       "      <th>...</th>\n",
       "      <td>...</td>\n",
       "      <td>...</td>\n",
       "    </tr>\n",
       "    <tr>\n",
       "      <th>54893</th>\n",
       "      <td>54894</td>\n",
       "      <td>0</td>\n",
       "    </tr>\n",
       "    <tr>\n",
       "      <th>54894</th>\n",
       "      <td>54895</td>\n",
       "      <td>0</td>\n",
       "    </tr>\n",
       "    <tr>\n",
       "      <th>54895</th>\n",
       "      <td>54896</td>\n",
       "      <td>0</td>\n",
       "    </tr>\n",
       "    <tr>\n",
       "      <th>54896</th>\n",
       "      <td>54897</td>\n",
       "      <td>0</td>\n",
       "    </tr>\n",
       "    <tr>\n",
       "      <th>54897</th>\n",
       "      <td>54898</td>\n",
       "      <td>0</td>\n",
       "    </tr>\n",
       "  </tbody>\n",
       "</table>\n",
       "<p>54898 rows × 2 columns</p>\n",
       "</div>"
      ],
      "text/plain": [
       "          id  Class\n",
       "0          1      0\n",
       "1          2      0\n",
       "2          3      0\n",
       "3          4      0\n",
       "4          5      0\n",
       "...      ...    ...\n",
       "54893  54894      0\n",
       "54894  54895      0\n",
       "54895  54896      0\n",
       "54896  54897      0\n",
       "54897  54898      0\n",
       "\n",
       "[54898 rows x 2 columns]"
      ]
     },
     "execution_count": 17,
     "metadata": {},
     "output_type": "execute_result"
    }
   ],
   "source": [
    "output_df = pd.DataFrame({\"id\": teste[\"id\"], \"Class\": y_pred_test})\n",
    "output_df"
   ]
  },
  {
   "attachments": {},
   "cell_type": "markdown",
   "metadata": {},
   "source": [
    "## Árvore de Decisão"
   ]
  },
  {
   "cell_type": "code",
   "execution_count": 34,
   "metadata": {},
   "outputs": [
    {
     "name": "stdout",
     "output_type": "stream",
     "text": [
      "Árvore de Decisão - Resultados de Validação:\n",
      "[[32696    65]\n",
      " [   85     1]]\n",
      "              precision    recall  f1-score   support\n",
      "\n",
      "           0       1.00      1.00      1.00     32761\n",
      "           1       0.02      0.01      0.01        86\n",
      "\n",
      "    accuracy                           1.00     32847\n",
      "   macro avg       0.51      0.50      0.51     32847\n",
      "weighted avg       0.99      1.00      1.00     32847\n",
      "\n",
      "AUC Score: 0.5048219202781526\n",
      "Accuracy: 0.995433372910768\n"
     ]
    }
   ],
   "source": [
    "from sklearn.tree import DecisionTreeClassifier\n",
    "\n",
    "# Criação do modelo\n",
    "decision_tree = DecisionTreeClassifier()\n",
    "\n",
    "# Treinamento do modelo\n",
    "decision_tree.fit(X_train_scaled, y_train)\n",
    "\n",
    "# Previsões no conjunto de validação\n",
    "y_pred_val_dt = decision_tree.predict(X_val_scaled)\n",
    "\n",
    "# Avaliação do modelo\n",
    "accuracy_dt = accuracy_score(y_val, y_pred_val_dt)\n",
    "print(\"Árvore de Decisão - Resultados de Validação:\")\n",
    "print(confusion_matrix(y_val, y_pred_val_dt))\n",
    "print(classification_report(y_val, y_pred_val_dt))\n",
    "print(\"AUC Score:\", roc_auc_score(y_val, y_pred_val_dt))\n",
    "print(\"Accuracy:\", accuracy_dt)\n"
   ]
  },
  {
   "attachments": {},
   "cell_type": "markdown",
   "metadata": {},
   "source": [
    "## Random Forest"
   ]
  },
  {
   "cell_type": "code",
   "execution_count": 78,
   "metadata": {},
   "outputs": [
    {
     "name": "stdout",
     "output_type": "stream",
     "text": [
      "Random Forest - Resultados de Validação:\n",
      "[[32776     0]\n",
      " [   71     0]]\n",
      "              precision    recall  f1-score   support\n",
      "\n",
      "           0       1.00      1.00      1.00     32776\n",
      "           1       0.00      0.00      0.00        71\n",
      "\n",
      "    accuracy                           1.00     32847\n",
      "   macro avg       0.50      0.50      0.50     32847\n",
      "weighted avg       1.00      1.00      1.00     32847\n",
      "\n",
      "AUC Score: 0.5\n",
      "Accuracy: 0.9978384631777636\n"
     ]
    }
   ],
   "source": [
    "from sklearn.ensemble import RandomForestClassifier\n",
    "\n",
    "# Criação do modelo\n",
    "random_forest = RandomForestClassifier()\n",
    "\n",
    "# Treinamento do modelo\n",
    "random_forest.fit(X_train_scaled, y_train)\n",
    "\n",
    "# Previsões no conjunto de validação\n",
    "y_pred_val_rf = random_forest.predict(X_test)\n",
    "\n",
    "# Avaliação do modelo\n",
    "accuracy_rf = accuracy_score(y_test, y_pred_val_rf)\n",
    "print(\"Random Forest - Resultados de Validação:\")\n",
    "print(confusion_matrix(y_test, y_pred_val_rf))\n",
    "print(classification_report(y_test, y_pred_val_rf))\n",
    "print(\"AUC Score:\", roc_auc_score(y_test, y_pred_val_rf))\n",
    "print(\"Accuracy:\", accuracy_rf)\n"
   ]
  },
  {
   "cell_type": "code",
   "execution_count": 74,
   "metadata": {},
   "outputs": [
    {
     "data": {
      "text/plain": [
       "(54898, 21)"
      ]
     },
     "execution_count": 74,
     "metadata": {},
     "output_type": "execute_result"
    }
   ],
   "source": [
    "X_test_scaled.shape"
   ]
  },
  {
   "cell_type": "code",
   "execution_count": 75,
   "metadata": {},
   "outputs": [
    {
     "data": {
      "text/plain": [
       "(32847,)"
      ]
     },
     "execution_count": 75,
     "metadata": {},
     "output_type": "execute_result"
    }
   ],
   "source": [
    "y_test.shape"
   ]
  },
  {
   "cell_type": "code",
   "execution_count": 79,
   "metadata": {},
   "outputs": [
    {
     "data": {
      "text/plain": [
       "0.694772194743076"
      ]
     },
     "execution_count": 79,
     "metadata": {},
     "output_type": "execute_result"
    }
   ],
   "source": [
    "cv_scores = cross_val_score(random_forest, X_test_scaled, y_test, cv=5, scoring='roc_auc')\n",
    "mean_score = np.mean(cv_scores)\n",
    "mean_score"
   ]
  },
  {
   "cell_type": "code",
   "execution_count": 80,
   "metadata": {},
   "outputs": [
    {
     "data": {
      "text/plain": [
       "array([0, 0, 0, ..., 0, 0, 0], dtype=int64)"
      ]
     },
     "execution_count": 80,
     "metadata": {},
     "output_type": "execute_result"
    }
   ],
   "source": [
    "predicted_rf = cross_val_predict(random_forest, X_test_scaled, y_test, cv=5)\n",
    "predicted_rf"
   ]
  },
  {
   "cell_type": "code",
   "execution_count": 86,
   "metadata": {},
   "outputs": [
    {
     "data": {
      "text/plain": [
       "0    32846\n",
       "1        1\n",
       "Name: Predicted, dtype: int64"
      ]
     },
     "execution_count": 86,
     "metadata": {},
     "output_type": "execute_result"
    }
   ],
   "source": [
    "r = pd.DataFrame({'Actual': y_test, 'Predicted': predicted_rf})\n",
    "r['Predicted'].value_counts()"
   ]
  },
  {
   "cell_type": "code",
   "execution_count": 82,
   "metadata": {},
   "outputs": [
    {
     "name": "stdout",
     "output_type": "stream",
     "text": [
      "Random Forest after CV- Resultados de Validação:\n",
      "[[32775     1]\n",
      " [   71     0]]\n",
      "              precision    recall  f1-score   support\n",
      "\n",
      "           0       1.00      1.00      1.00     32776\n",
      "           1       0.00      0.00      0.00        71\n",
      "\n",
      "    accuracy                           1.00     32847\n",
      "   macro avg       0.50      0.50      0.50     32847\n",
      "weighted avg       1.00      1.00      1.00     32847\n",
      "\n",
      "AUC Score: 0.4999847449353185\n",
      "Accuracy: 0.9978384631777636\n"
     ]
    }
   ],
   "source": [
    "print(\"Random Forest after CV- Resultados de Validação:\")\n",
    "print(confusion_matrix(y_test, predicted_rf))\n",
    "print(classification_report(y_test, predicted_rf))\n",
    "print(\"AUC Score:\", roc_auc_score(y_test, predicted_rf))\n",
    "print(\"Accuracy:\", accuracy_rf)"
   ]
  },
  {
   "attachments": {},
   "cell_type": "markdown",
   "metadata": {},
   "source": [
    "## Gradient Boosting"
   ]
  },
  {
   "cell_type": "code",
   "execution_count": 53,
   "metadata": {},
   "outputs": [
    {
     "name": "stdout",
     "output_type": "stream",
     "text": [
      "Gradient Boosting - Resultados de Validação:\n",
      "[[32747    14]\n",
      " [   86     0]]\n",
      "              precision    recall  f1-score   support\n",
      "\n",
      "           0       1.00      1.00      1.00     32761\n",
      "           1       0.00      0.00      0.00        86\n",
      "\n",
      "    accuracy                           1.00     32847\n",
      "   macro avg       0.50      0.50      0.50     32847\n",
      "weighted avg       0.99      1.00      1.00     32847\n",
      "\n",
      "AUC Score: 0.4997863313085681\n",
      "Accuracy: 0.996955581940512\n"
     ]
    }
   ],
   "source": [
    "from sklearn.ensemble import GradientBoostingClassifier\n",
    "\n",
    "# Criação do modelo\n",
    "gradient_boosting = GradientBoostingClassifier()\n",
    "\n",
    "# Treinamento do modelo\n",
    "gradient_boosting.fit(X_train_scaled, y_train)\n",
    "\n",
    "# Previsões no conjunto de validação\n",
    "y_pred_val_gb = gradient_boosting.predict(X_val_scaled)\n",
    "\n",
    "# Avaliação do modelo\n",
    "accuracy_gb = accuracy_score(y_val, y_pred_val_gb)\n",
    "print(\"Gradient Boosting - Resultados de Validação:\")\n",
    "print(confusion_matrix(y_val, y_pred_val_gb))\n",
    "print(classification_report(y_val, y_pred_val_gb))\n",
    "print(\"AUC Score:\", roc_auc_score(y_val, y_pred_val_gb))\n",
    "print(\"Accuracy:\", accuracy_gb)\n"
   ]
  },
  {
   "attachments": {},
   "cell_type": "markdown",
   "metadata": {},
   "source": [
    "## Support Vector Machines (SVM):"
   ]
  },
  {
   "cell_type": "code",
   "execution_count": 54,
   "metadata": {},
   "outputs": [
    {
     "name": "stdout",
     "output_type": "stream",
     "text": [
      "SVM - Resultados de Validação:\n",
      "[[32761     0]\n",
      " [   86     0]]\n",
      "              precision    recall  f1-score   support\n",
      "\n",
      "           0       1.00      1.00      1.00     32761\n",
      "           1       0.00      0.00      0.00        86\n",
      "\n",
      "    accuracy                           1.00     32847\n",
      "   macro avg       0.50      0.50      0.50     32847\n",
      "weighted avg       0.99      1.00      1.00     32847\n",
      "\n",
      "AUC Score: 0.5\n",
      "Accuracy: 0.9973818004688404\n"
     ]
    }
   ],
   "source": [
    "from sklearn.svm import SVC\n",
    "\n",
    "# Criação do modelo\n",
    "svm = SVC()\n",
    "\n",
    "# Treinamento do modelo\n",
    "svm.fit(X_train_scaled, y_train)\n",
    "\n",
    "# Previsões no conjunto de validação\n",
    "y_pred_val_svm = svm.predict(X_val_scaled)\n",
    "\n",
    "# Avaliação do modelo\n",
    "accuracy_svm = accuracy_score(y_val, y_pred_val_svm)\n",
    "print(\"SVM - Resultados de Validação:\")\n",
    "print(confusion_matrix(y_val, y_pred_val_svm))\n",
    "print(classification_report(y_val, y_pred_val_svm))\n",
    "print(\"AUC Score:\", roc_auc_score(y_val, y_pred_val_svm))\n",
    "print(\"Accuracy:\", accuracy_svm)\n"
   ]
  },
  {
   "attachments": {},
   "cell_type": "markdown",
   "metadata": {},
   "source": [
    "## Redes Neurais"
   ]
  },
  {
   "cell_type": "code",
   "execution_count": 55,
   "metadata": {},
   "outputs": [
    {
     "name": "stdout",
     "output_type": "stream",
     "text": [
      "Redes Neurais - Resultados de Validação:\n",
      "[[32748    13]\n",
      " [   84     2]]\n",
      "              precision    recall  f1-score   support\n",
      "\n",
      "           0       1.00      1.00      1.00     32761\n",
      "           1       0.13      0.02      0.04        86\n",
      "\n",
      "    accuracy                           1.00     32847\n",
      "   macro avg       0.57      0.51      0.52     32847\n",
      "weighted avg       1.00      1.00      1.00     32847\n",
      "\n",
      "AUC Score: 0.5114295003347002\n",
      "Accuracy: 0.9970469144822968\n"
     ]
    }
   ],
   "source": [
    "from sklearn.neural_network import MLPClassifier\n",
    "\n",
    "# Criação do modelo\n",
    "neural_network = MLPClassifier()\n",
    "\n",
    "# Treinamento do modelo\n",
    "neural_network.fit(X_train_scaled, y_train)\n",
    "\n",
    "# Previsões no conjunto de validação\n",
    "y_pred_val_nn = neural_network.predict(X_val_scaled)\n",
    "\n",
    "# Avaliação do modelo\n",
    "accuracy_nn = accuracy_score(y_val, y_pred_val_nn)\n",
    "print(\"Redes Neurais - Resultados de Validação:\")\n",
    "print(confusion_matrix(y_val, y_pred_val_nn))\n",
    "print(classification_report(y_val, y_pred_val_nn))\n",
    "print(\"AUC Score:\", roc_auc_score(y_val, y_pred_val_nn))\n",
    "print(\"Accuracy:\", accuracy_nn)\n"
   ]
  },
  {
   "attachments": {},
   "cell_type": "markdown",
   "metadata": {},
   "source": [
    "# Hiperparâmetros e validação cruzada\n"
   ]
  },
  {
   "cell_type": "code",
   "execution_count": 56,
   "metadata": {},
   "outputs": [
    {
     "ename": "ValueError",
     "evalue": "Found input variables with inconsistent numbers of samples: [32847, 54898]",
     "output_type": "error",
     "traceback": [
      "\u001b[1;31m---------------------------------------------------------------------------\u001b[0m",
      "\u001b[1;31mValueError\u001b[0m                                Traceback (most recent call last)",
      "\u001b[1;32mc:\\Users\\Gracinha\\Desktop\\USP\\7º Semestre\\EAD0830 - IA e ML Aplicados a Finanças\\Atividade 2\\atividade2.ipynb Cell 32\u001b[0m in \u001b[0;36m3\n\u001b[0;32m     <a href='vscode-notebook-cell:/c%3A/Users/Gracinha/Desktop/USP/7%C2%BA%20Semestre/EAD0830%20-%20IA%20e%20ML%20Aplicados%20a%20Finan%C3%A7as/Atividade%202/atividade2.ipynb#X61sZmlsZQ%3D%3D?line=33'>34</a>\u001b[0m y_pred \u001b[39m=\u001b[39m best_clf\u001b[39m.\u001b[39mpredict(X_test)\n\u001b[0;32m     <a href='vscode-notebook-cell:/c%3A/Users/Gracinha/Desktop/USP/7%C2%BA%20Semestre/EAD0830%20-%20IA%20e%20ML%20Aplicados%20a%20Finan%C3%A7as/Atividade%202/atividade2.ipynb#X61sZmlsZQ%3D%3D?line=35'>36</a>\u001b[0m \u001b[39m# Calcular a acurácia das previsões\u001b[39;00m\n\u001b[1;32m---> <a href='vscode-notebook-cell:/c%3A/Users/Gracinha/Desktop/USP/7%C2%BA%20Semestre/EAD0830%20-%20IA%20e%20ML%20Aplicados%20a%20Finan%C3%A7as/Atividade%202/atividade2.ipynb#X61sZmlsZQ%3D%3D?line=36'>37</a>\u001b[0m accuracy \u001b[39m=\u001b[39m accuracy_score(y_val, y_pred)\n\u001b[0;32m     <a href='vscode-notebook-cell:/c%3A/Users/Gracinha/Desktop/USP/7%C2%BA%20Semestre/EAD0830%20-%20IA%20e%20ML%20Aplicados%20a%20Finan%C3%A7as/Atividade%202/atividade2.ipynb#X61sZmlsZQ%3D%3D?line=38'>39</a>\u001b[0m \u001b[39m# Imprimir os melhores hiperparâmetros e a acurácia\u001b[39;00m\n\u001b[0;32m     <a href='vscode-notebook-cell:/c%3A/Users/Gracinha/Desktop/USP/7%C2%BA%20Semestre/EAD0830%20-%20IA%20e%20ML%20Aplicados%20a%20Finan%C3%A7as/Atividade%202/atividade2.ipynb#X61sZmlsZQ%3D%3D?line=39'>40</a>\u001b[0m \u001b[39mprint\u001b[39m(\u001b[39m\"\u001b[39m\u001b[39mMelhores hiperparâmetros:\u001b[39m\u001b[39m\"\u001b[39m, best_params)\n",
      "File \u001b[1;32mc:\\Users\\Gracinha\\AppData\\Local\\Programs\\Python\\Python310\\lib\\site-packages\\sklearn\\metrics\\_classification.py:211\u001b[0m, in \u001b[0;36maccuracy_score\u001b[1;34m(y_true, y_pred, normalize, sample_weight)\u001b[0m\n\u001b[0;32m    145\u001b[0m \u001b[39m\"\"\"Accuracy classification score.\u001b[39;00m\n\u001b[0;32m    146\u001b[0m \n\u001b[0;32m    147\u001b[0m \u001b[39mIn multilabel classification, this function computes subset accuracy:\u001b[39;00m\n\u001b[1;32m   (...)\u001b[0m\n\u001b[0;32m    207\u001b[0m \u001b[39m0.5\u001b[39;00m\n\u001b[0;32m    208\u001b[0m \u001b[39m\"\"\"\u001b[39;00m\n\u001b[0;32m    210\u001b[0m \u001b[39m# Compute accuracy for each possible representation\u001b[39;00m\n\u001b[1;32m--> 211\u001b[0m y_type, y_true, y_pred \u001b[39m=\u001b[39m _check_targets(y_true, y_pred)\n\u001b[0;32m    212\u001b[0m check_consistent_length(y_true, y_pred, sample_weight)\n\u001b[0;32m    213\u001b[0m \u001b[39mif\u001b[39;00m y_type\u001b[39m.\u001b[39mstartswith(\u001b[39m\"\u001b[39m\u001b[39mmultilabel\u001b[39m\u001b[39m\"\u001b[39m):\n",
      "File \u001b[1;32mc:\\Users\\Gracinha\\AppData\\Local\\Programs\\Python\\Python310\\lib\\site-packages\\sklearn\\metrics\\_classification.py:84\u001b[0m, in \u001b[0;36m_check_targets\u001b[1;34m(y_true, y_pred)\u001b[0m\n\u001b[0;32m     57\u001b[0m \u001b[39mdef\u001b[39;00m \u001b[39m_check_targets\u001b[39m(y_true, y_pred):\n\u001b[0;32m     58\u001b[0m     \u001b[39m\"\"\"Check that y_true and y_pred belong to the same classification task.\u001b[39;00m\n\u001b[0;32m     59\u001b[0m \n\u001b[0;32m     60\u001b[0m \u001b[39m    This converts multiclass or binary types to a common shape, and raises a\u001b[39;00m\n\u001b[1;32m   (...)\u001b[0m\n\u001b[0;32m     82\u001b[0m \u001b[39m    y_pred : array or indicator matrix\u001b[39;00m\n\u001b[0;32m     83\u001b[0m \u001b[39m    \"\"\"\u001b[39;00m\n\u001b[1;32m---> 84\u001b[0m     check_consistent_length(y_true, y_pred)\n\u001b[0;32m     85\u001b[0m     type_true \u001b[39m=\u001b[39m type_of_target(y_true, input_name\u001b[39m=\u001b[39m\u001b[39m\"\u001b[39m\u001b[39my_true\u001b[39m\u001b[39m\"\u001b[39m)\n\u001b[0;32m     86\u001b[0m     type_pred \u001b[39m=\u001b[39m type_of_target(y_pred, input_name\u001b[39m=\u001b[39m\u001b[39m\"\u001b[39m\u001b[39my_pred\u001b[39m\u001b[39m\"\u001b[39m)\n",
      "File \u001b[1;32mc:\\Users\\Gracinha\\AppData\\Local\\Programs\\Python\\Python310\\lib\\site-packages\\sklearn\\utils\\validation.py:387\u001b[0m, in \u001b[0;36mcheck_consistent_length\u001b[1;34m(*arrays)\u001b[0m\n\u001b[0;32m    385\u001b[0m uniques \u001b[39m=\u001b[39m np\u001b[39m.\u001b[39munique(lengths)\n\u001b[0;32m    386\u001b[0m \u001b[39mif\u001b[39;00m \u001b[39mlen\u001b[39m(uniques) \u001b[39m>\u001b[39m \u001b[39m1\u001b[39m:\n\u001b[1;32m--> 387\u001b[0m     \u001b[39mraise\u001b[39;00m \u001b[39mValueError\u001b[39;00m(\n\u001b[0;32m    388\u001b[0m         \u001b[39m\"\u001b[39m\u001b[39mFound input variables with inconsistent numbers of samples: \u001b[39m\u001b[39m%r\u001b[39;00m\u001b[39m\"\u001b[39m\n\u001b[0;32m    389\u001b[0m         \u001b[39m%\u001b[39m [\u001b[39mint\u001b[39m(l) \u001b[39mfor\u001b[39;00m l \u001b[39min\u001b[39;00m lengths]\n\u001b[0;32m    390\u001b[0m     )\n",
      "\u001b[1;31mValueError\u001b[0m: Found input variables with inconsistent numbers of samples: [32847, 54898]"
     ]
    }
   ],
   "source": [
    "from sklearn.model_selection import GridSearchCV\n",
    "from sklearn.tree import DecisionTreeClassifier\n",
    "from sklearn.metrics import accuracy_score\n",
    "\n",
    "# Separar atributos e variável de destino\n",
    "X = treino.iloc[:, 1:-1]  # Atributos (colunas V1 a V21)\n",
    "y = treino[\"Class\"]  # Variável de destino (coluna Class)\n",
    "\n",
    "# Definir os hiperparâmetros que serão testados\n",
    "param_grid = {\n",
    "    'max_depth': [3, 5, 7],\n",
    "    'min_samples_split': [2, 5, 10],\n",
    "    'min_samples_leaf': [1, 2, 3]\n",
    "}\n",
    "\n",
    "# Criar o classificador de Árvore de Decisão\n",
    "clf = DecisionTreeClassifier()\n",
    "\n",
    "# Criar o objeto de busca por hiperparâmetros\n",
    "grid_search = GridSearchCV(clf, param_grid, cv=5, scoring='accuracy')\n",
    "\n",
    "# Realizar a busca por hiperparâmetros otimizados usando validação cruzada\n",
    "grid_search.fit(X, y)\n",
    "\n",
    "# Obter os melhores hiperparâmetros encontrados\n",
    "best_params = grid_search.best_params_\n",
    "\n",
    "# Treinar o modelo com os melhores hiperparâmetros encontrados\n",
    "best_clf = DecisionTreeClassifier(**best_params)\n",
    "best_clf.fit(X, y)\n",
    "\n",
    "# Fazer previsões no conjunto de teste\n",
    "X_test = teste.iloc[:, 1:]\n",
    "y_pred = best_clf.predict(X_test)\n",
    "\n",
    "# Calcular a acurácia das previsões\n",
    "accuracy = accuracy_score(y, y_pred)\n",
    "\n",
    "# Imprimir os melhores hiperparâmetros e a acurácia\n",
    "print(\"Melhores hiperparâmetros:\", best_params)\n",
    "#Melhores hiperparâmetros: {'max_depth': 3, 'min_samples_leaf': 3, 'min_samples_split': 5}\n",
    "print(\"Acurácia:\", accuracy)\n",
    "\n",
    "\n",
    "# Separar atributos e variável de destino para o conjunto de teste\n",
    "X_test = teste.iloc[:, 1:]  # Atributos (colunas V1 a V21)\n",
    "y_test = teste[\"Class\"]  # Variável de destino (coluna Class)\n",
    "\n",
    "# Fazer previsões no conjunto de teste\n",
    "y_pred = best_clf.predict(X_test)\n",
    "\n",
    "# Calcular a acurácia das previsões\n",
    "accuracy = accuracy_score(y_test, y_pred)\n",
    "\n",
    "# Imprimir os melhores hiperparâmetros e a acurácia\n",
    "print(\"Melhores hiperparâmetros:\", best_params)\n",
    "print(\"Acurácia:\", accuracy)"
   ]
  },
  {
   "cell_type": "code",
   "execution_count": 58,
   "metadata": {},
   "outputs": [
    {
     "ename": "KeyError",
     "evalue": "'Class'",
     "output_type": "error",
     "traceback": [
      "\u001b[1;31m---------------------------------------------------------------------------\u001b[0m",
      "\u001b[1;31mKeyError\u001b[0m                                  Traceback (most recent call last)",
      "File \u001b[1;32mc:\\Users\\Gracinha\\AppData\\Local\\Programs\\Python\\Python310\\lib\\site-packages\\pandas\\core\\indexes\\base.py:3629\u001b[0m, in \u001b[0;36mIndex.get_loc\u001b[1;34m(self, key, method, tolerance)\u001b[0m\n\u001b[0;32m   3628\u001b[0m \u001b[39mtry\u001b[39;00m:\n\u001b[1;32m-> 3629\u001b[0m     \u001b[39mreturn\u001b[39;00m \u001b[39mself\u001b[39;49m\u001b[39m.\u001b[39;49m_engine\u001b[39m.\u001b[39;49mget_loc(casted_key)\n\u001b[0;32m   3630\u001b[0m \u001b[39mexcept\u001b[39;00m \u001b[39mKeyError\u001b[39;00m \u001b[39mas\u001b[39;00m err:\n",
      "File \u001b[1;32mc:\\Users\\Gracinha\\AppData\\Local\\Programs\\Python\\Python310\\lib\\site-packages\\pandas\\_libs\\index.pyx:136\u001b[0m, in \u001b[0;36mpandas._libs.index.IndexEngine.get_loc\u001b[1;34m()\u001b[0m\n",
      "File \u001b[1;32mc:\\Users\\Gracinha\\AppData\\Local\\Programs\\Python\\Python310\\lib\\site-packages\\pandas\\_libs\\index.pyx:163\u001b[0m, in \u001b[0;36mpandas._libs.index.IndexEngine.get_loc\u001b[1;34m()\u001b[0m\n",
      "File \u001b[1;32mpandas\\_libs\\hashtable_class_helper.pxi:5198\u001b[0m, in \u001b[0;36mpandas._libs.hashtable.PyObjectHashTable.get_item\u001b[1;34m()\u001b[0m\n",
      "File \u001b[1;32mpandas\\_libs\\hashtable_class_helper.pxi:5206\u001b[0m, in \u001b[0;36mpandas._libs.hashtable.PyObjectHashTable.get_item\u001b[1;34m()\u001b[0m\n",
      "\u001b[1;31mKeyError\u001b[0m: 'Class'",
      "\nThe above exception was the direct cause of the following exception:\n",
      "\u001b[1;31mKeyError\u001b[0m                                  Traceback (most recent call last)",
      "\u001b[1;32mc:\\Users\\Gracinha\\Desktop\\USP\\7º Semestre\\EAD0830 - IA e ML Aplicados a Finanças\\Atividade 2\\atividade2.ipynb Cell 33\u001b[0m in \u001b[0;36m3\n\u001b[0;32m      <a href='vscode-notebook-cell:/c%3A/Users/Gracinha/Desktop/USP/7%C2%BA%20Semestre/EAD0830%20-%20IA%20e%20ML%20Aplicados%20a%20Finan%C3%A7as/Atividade%202/atividade2.ipynb#X64sZmlsZQ%3D%3D?line=0'>1</a>\u001b[0m \u001b[39m# Separar atributos e variável de destino para o conjunto de teste\u001b[39;00m\n\u001b[0;32m      <a href='vscode-notebook-cell:/c%3A/Users/Gracinha/Desktop/USP/7%C2%BA%20Semestre/EAD0830%20-%20IA%20e%20ML%20Aplicados%20a%20Finan%C3%A7as/Atividade%202/atividade2.ipynb#X64sZmlsZQ%3D%3D?line=1'>2</a>\u001b[0m X_test \u001b[39m=\u001b[39m teste\u001b[39m.\u001b[39miloc[:, \u001b[39m1\u001b[39m:]  \u001b[39m# Atributos (colunas V1 a V21)\u001b[39;00m\n\u001b[1;32m----> <a href='vscode-notebook-cell:/c%3A/Users/Gracinha/Desktop/USP/7%C2%BA%20Semestre/EAD0830%20-%20IA%20e%20ML%20Aplicados%20a%20Finan%C3%A7as/Atividade%202/atividade2.ipynb#X64sZmlsZQ%3D%3D?line=2'>3</a>\u001b[0m y_test \u001b[39m=\u001b[39m teste[\u001b[39m\"\u001b[39;49m\u001b[39mClass\u001b[39;49m\u001b[39m\"\u001b[39;49m]  \u001b[39m# Variável de destino (coluna Class)\u001b[39;00m\n\u001b[0;32m      <a href='vscode-notebook-cell:/c%3A/Users/Gracinha/Desktop/USP/7%C2%BA%20Semestre/EAD0830%20-%20IA%20e%20ML%20Aplicados%20a%20Finan%C3%A7as/Atividade%202/atividade2.ipynb#X64sZmlsZQ%3D%3D?line=4'>5</a>\u001b[0m \u001b[39m# Fazer previsões no conjunto de teste\u001b[39;00m\n\u001b[0;32m      <a href='vscode-notebook-cell:/c%3A/Users/Gracinha/Desktop/USP/7%C2%BA%20Semestre/EAD0830%20-%20IA%20e%20ML%20Aplicados%20a%20Finan%C3%A7as/Atividade%202/atividade2.ipynb#X64sZmlsZQ%3D%3D?line=5'>6</a>\u001b[0m y_pred \u001b[39m=\u001b[39m best_clf\u001b[39m.\u001b[39mpredict(X_test)\n",
      "File \u001b[1;32mc:\\Users\\Gracinha\\AppData\\Local\\Programs\\Python\\Python310\\lib\\site-packages\\pandas\\core\\frame.py:3505\u001b[0m, in \u001b[0;36mDataFrame.__getitem__\u001b[1;34m(self, key)\u001b[0m\n\u001b[0;32m   3503\u001b[0m \u001b[39mif\u001b[39;00m \u001b[39mself\u001b[39m\u001b[39m.\u001b[39mcolumns\u001b[39m.\u001b[39mnlevels \u001b[39m>\u001b[39m \u001b[39m1\u001b[39m:\n\u001b[0;32m   3504\u001b[0m     \u001b[39mreturn\u001b[39;00m \u001b[39mself\u001b[39m\u001b[39m.\u001b[39m_getitem_multilevel(key)\n\u001b[1;32m-> 3505\u001b[0m indexer \u001b[39m=\u001b[39m \u001b[39mself\u001b[39;49m\u001b[39m.\u001b[39;49mcolumns\u001b[39m.\u001b[39;49mget_loc(key)\n\u001b[0;32m   3506\u001b[0m \u001b[39mif\u001b[39;00m is_integer(indexer):\n\u001b[0;32m   3507\u001b[0m     indexer \u001b[39m=\u001b[39m [indexer]\n",
      "File \u001b[1;32mc:\\Users\\Gracinha\\AppData\\Local\\Programs\\Python\\Python310\\lib\\site-packages\\pandas\\core\\indexes\\base.py:3631\u001b[0m, in \u001b[0;36mIndex.get_loc\u001b[1;34m(self, key, method, tolerance)\u001b[0m\n\u001b[0;32m   3629\u001b[0m     \u001b[39mreturn\u001b[39;00m \u001b[39mself\u001b[39m\u001b[39m.\u001b[39m_engine\u001b[39m.\u001b[39mget_loc(casted_key)\n\u001b[0;32m   3630\u001b[0m \u001b[39mexcept\u001b[39;00m \u001b[39mKeyError\u001b[39;00m \u001b[39mas\u001b[39;00m err:\n\u001b[1;32m-> 3631\u001b[0m     \u001b[39mraise\u001b[39;00m \u001b[39mKeyError\u001b[39;00m(key) \u001b[39mfrom\u001b[39;00m \u001b[39merr\u001b[39;00m\n\u001b[0;32m   3632\u001b[0m \u001b[39mexcept\u001b[39;00m \u001b[39mTypeError\u001b[39;00m:\n\u001b[0;32m   3633\u001b[0m     \u001b[39m# If we have a listlike key, _check_indexing_error will raise\u001b[39;00m\n\u001b[0;32m   3634\u001b[0m     \u001b[39m#  InvalidIndexError. Otherwise we fall through and re-raise\u001b[39;00m\n\u001b[0;32m   3635\u001b[0m     \u001b[39m#  the TypeError.\u001b[39;00m\n\u001b[0;32m   3636\u001b[0m     \u001b[39mself\u001b[39m\u001b[39m.\u001b[39m_check_indexing_error(key)\n",
      "\u001b[1;31mKeyError\u001b[0m: 'Class'"
     ]
    }
   ],
   "source": [
    "# Separar atributos e variável de destino para o conjunto de teste\n",
    "X_test = teste.iloc[:, 1:]  # Atributos (colunas V1 a V21)\n",
    "y_test = teste[\"Class\"]  # Variável de destino (coluna Class)\n",
    "\n",
    "# Fazer previsões no conjunto de teste\n",
    "y_pred = best_clf.predict(X_test)\n",
    "\n",
    "# Calcular a acurácia das previsões\n",
    "accuracy = accuracy_score(y_test, y_pred)\n",
    "\n",
    "# Imprimir os melhores hiperparâmetros e a acurácia\n",
    "print(\"Melhores hiperparâmetros:\", best_params)\n",
    "print(\"Acurácia:\", accuracy)"
   ]
  },
  {
   "cell_type": "code",
   "execution_count": 57,
   "metadata": {},
   "outputs": [
    {
     "name": "stdout",
     "output_type": "stream",
     "text": [
      "Melhores hiperparâmetros: {'max_depth': 3, 'min_samples_leaf': 3, 'min_samples_split': 5}\n"
     ]
    }
   ],
   "source": [
    "print(\"Melhores hiperparâmetros:\", best_params)"
   ]
  },
  {
   "attachments": {},
   "cell_type": "markdown",
   "metadata": {},
   "source": [
    "A acurácia é uma métrica comumente usada para avaliar a qualidade de um modelo de classificação. Ela mede a proporção de previsões corretas em relação ao total de previsões. No entanto, a acurácia nem sempre é a métrica mais confiável, especialmente quando os dados estão desbalanceados, como é o caso do seu conjunto de dados, em que a classe \"fraude\" é uma parcela pequena da amostra.\n",
    "\n",
    "Em casos de desbalanceamento de classes, a acurácia pode ser enganosa, pois um modelo pode obter uma alta acurácia simplesmente prevendo a classe majoritária em todos os casos, ignorando completamente a classe minoritária. Isso pode ser problemático quando nosso interesse principal é detectar corretamente as transações fraudulentas.\n",
    "\n",
    "Para mitigar as falhas da acurácia em cenários de desbalanceamento de classes, é recomendável considerar outras métricas, como:\n",
    "\n",
    "    Matriz de Confusão: Uma matriz que mostra a contagem de verdadeiros positivos (TP), falsos positivos (FP), verdadeiros negativos (TN) e falsos negativos (FN). Essa matriz fornece uma visão mais detalhada do desempenho do modelo em termos de classificações corretas e incorretas.\n",
    "\n",
    "    Precisão (Precision): Mede a proporção de verdadeiros positivos em relação ao total de previsões positivas. É uma métrica útil para avaliar o modelo em termos de quantas das previsões positivas são realmente corretas.\n",
    "\n",
    "    Recall (Sensibilidade ou Revocação): Mede a proporção de verdadeiros positivos em relação ao total de casos positivos reais. É uma métrica útil para avaliar o modelo em termos de sua capacidade de detectar corretamente os casos positivos.\n",
    "\n",
    "    F1-Score: É uma média harmônica entre a precisão e o recall. Fornece uma métrica equilibrada que leva em consideração tanto os verdadeiros positivos quanto os falsos negativos.\n",
    "\n",
    "    Área sob a Curva ROC (AUC-ROC): Mede a capacidade discriminativa do modelo em distinguir entre as classes. A curva ROC representa a taxa de verdadeiros positivos em relação à taxa de falsos positivos em vários pontos de corte de probabilidade. Quanto maior a área sob a curva, melhor o desempenho do modelo.\n",
    "\n",
    "É importante considerar essas métricas em conjunto para obter uma avaliação mais completa do desempenho do modelo. No código fornecido anteriormente, já foram incluídas as métricas de precisão, recall, F1-score e AUC-ROC para ambos os modelos de regressão logística e k-NN."
   ]
  },
  {
   "attachments": {},
   "cell_type": "markdown",
   "metadata": {},
   "source": [
    "É possível comparar os modelos usando diferentes métricas de avaliação. Algumas métricas que podem ser usadas para comparar os modelos são:\n",
    "\n",
    "    Acurácia: É a proporção de predições corretas em relação ao total de predições. Quanto maior a acurácia, melhor o modelo.\n",
    "\n",
    "    Área sob a curva (AUC): Mede a capacidade do modelo em distinguir corretamente as classes. Quanto maior o valor da AUC, melhor o modelo.\n",
    "\n",
    "    Precisão: Mede a proporção de verdadeiros positivos em relação ao total de predições positivas. Uma alta precisão indica que o modelo tem baixa taxa de falsos positivos.\n",
    "\n",
    "    Revocação (Recall): Mede a proporção de verdadeiros positivos em relação ao total de amostras positivas. Uma alta revocação indica que o modelo tem baixa taxa de falsos negativos.\n",
    "\n",
    "    F1-Score: É uma média harmônica entre precisão e revocação. Oferece uma medida balanceada entre as duas métricas."
   ]
  }
 ],
 "metadata": {
  "kernelspec": {
   "display_name": "Python 3",
   "language": "python",
   "name": "python3"
  },
  "language_info": {
   "codemirror_mode": {
    "name": "ipython",
    "version": 3
   },
   "file_extension": ".py",
   "mimetype": "text/x-python",
   "name": "python",
   "nbconvert_exporter": "python",
   "pygments_lexer": "ipython3",
   "version": "3.10.7"
  },
  "orig_nbformat": 4
 },
 "nbformat": 4,
 "nbformat_minor": 2
}
