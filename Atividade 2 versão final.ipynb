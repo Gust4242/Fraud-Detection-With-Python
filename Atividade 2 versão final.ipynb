{
 "cells": [
  {
   "cell_type": "code",
   "execution_count": 8,
   "metadata": {},
   "outputs": [],
   "source": [
    "import pandas as pd\n",
    "import numpy as np\n",
    "import matplotlib.pyplot as plt\n",
    "import seaborn as sns\n",
    "import optuna\n",
    "\n",
    "from scipy.stats import shapiro\n",
    "from sklearn import preprocessing\n",
    "from sklearn.model_selection import train_test_split, cross_val_score, GridSearchCV, RandomizedSearchCV, cross_val_predict, KFold, StratifiedKFold, cross_validate\n",
    "from sklearn.metrics import confusion_matrix, classification_report, roc_auc_score, accuracy_score, roc_curve, precision_recall_curve, auc, make_scorer, precision_score, recall_score, f1_score\n",
    "from sklearn.neighbors import KNeighborsClassifier\n",
    "from sklearn.tree import DecisionTreeClassifier\n",
    "from sklearn.ensemble import RandomForestClassifier\n",
    "from sklearn.linear_model import LogisticRegression\n",
    "from sklearn.preprocessing import StandardScaler\n",
    "from sklearn.utils.class_weight import compute_class_weight\n",
    "from imblearn.over_sampling import SMOTE\n",
    "from imblearn.ensemble import BalancedBaggingClassifier\n",
    "from imblearn.under_sampling import TomekLinks, NearMiss\n",
    "from pycaret.classification import setup, compare_models, create_model\n",
    "from pycaret.classification import tune_model, plot_model, evaluate_model, finalize_model\n",
    "from pycaret.classification import save_model, load_model\n",
    "\n",
    "import warnings\n",
    "warnings.filterwarnings('ignore')"
   ]
  },
  {
   "cell_type": "code",
   "execution_count": 2,
   "metadata": {},
   "outputs": [],
   "source": [
    "treino = pd.read_excel('treino.xlsx')"
   ]
  },
  {
   "cell_type": "code",
   "execution_count": 61,
   "metadata": {},
   "outputs": [],
   "source": [
    "#treino.drop(['V13', 'V5', 'V20', 'V11', 'V6', 'V2'], axis=1, inplace=True)"
   ]
  },
  {
   "cell_type": "code",
   "execution_count": 4,
   "metadata": {},
   "outputs": [
    {
     "data": {
      "text/plain": [
       "\"\\nfor i in treino_0.iloc[:, 1:-1].columns:\\n    print(f'A média da variável {i} para classe 0 é:', treino_0[i].mean())\\n    print(f'A média da variável {i} para classe 1 é:', treino_1[i].mean())\\n    print('------------------')\\n\""
      ]
     },
     "execution_count": 4,
     "metadata": {},
     "output_type": "execute_result"
    }
   ],
   "source": [
    "treino_0 = treino[treino['Class'] == 0]\n",
    "treino_1 = treino[treino['Class'] == 1]\n",
    "\"\"\"\n",
    "for i in treino_0.iloc[:, 1:-1].columns:\n",
    "    print(f'A média da variável {i} para classe 0 é:', treino_0[i].mean())\n",
    "    print(f'A média da variável {i} para classe 1 é:', treino_1[i].mean())\n",
    "    print('------------------')\n",
    "\"\"\""
   ]
  },
  {
   "attachments": {},
   "cell_type": "markdown",
   "metadata": {},
   "source": [
    "### Separar em treino e teste"
   ]
  },
  {
   "cell_type": "code",
   "execution_count": 5,
   "metadata": {},
   "outputs": [],
   "source": [
    "#treino = treino.sample(frac=0.5)\n",
    "X = treino.iloc[:, 1:-1]\n",
    "y = treino['Class']\n",
    "\n",
    "X_train, X_test, y_train, y_test = train_test_split(X, y, test_size=0.2, random_state=42, stratify=y)"
   ]
  },
  {
   "attachments": {},
   "cell_type": "markdown",
   "metadata": {},
   "source": [
    "### Regressão logística"
   ]
  },
  {
   "cell_type": "code",
   "execution_count": 6,
   "metadata": {},
   "outputs": [
    {
     "name": "stdout",
     "output_type": "stream",
     "text": [
      "Regressão Logística - Resultados de Validação:\n",
      "AUC Score: 0.7118204405834568\n",
      "Accuracy: 0.8175480256948884\n"
     ]
    }
   ],
   "source": [
    "# Treinar e avaliar um modelo de regressão logística\n",
    "logreg = LogisticRegression(class_weight='balanced', random_state=42)\n",
    "logreg.fit(X_train, y_train)\n",
    "y_pred_val_logreg = logreg.predict(X_test)\n",
    "accuracy_logreg = accuracy_score(y_test, y_pred_val_logreg)\n",
    "\n",
    "\n",
    "print(\"Regressão Logística - Resultados de Validação:\")\n",
    "#print(classification_report(y_val, y_pred_val_logreg))\n",
    "print(\"AUC Score:\", roc_auc_score(y_test, y_pred_val_logreg))\n",
    "print(\"Accuracy:\", accuracy_logreg)"
   ]
  },
  {
   "cell_type": "code",
   "execution_count": 7,
   "metadata": {},
   "outputs": [
    {
     "data": {
      "text/plain": [
       "array([[26811,  5965],\n",
       "       [   28,    43]], dtype=int64)"
      ]
     },
     "execution_count": 7,
     "metadata": {},
     "output_type": "execute_result"
    }
   ],
   "source": [
    "confusion_matrix(y_test, y_pred_val_logreg)"
   ]
  },
  {
   "cell_type": "code",
   "execution_count": 13,
   "metadata": {},
   "outputs": [
    {
     "data": {
      "text/plain": [
       "array([0.7469968 , 0.6638891 , 0.82077251, 0.70309582, 0.64366078,\n",
       "       0.76293996, 0.78224638, 0.69414297, 0.71241964, 0.69399041])"
      ]
     },
     "execution_count": 13,
     "metadata": {},
     "output_type": "execute_result"
    }
   ],
   "source": [
    "scorer = make_scorer(roc_auc_score)\n",
    "cv_results = cross_validate(logreg, X_train, y_train, cv=10, scoring=scorer, return_estimator=True)\n",
    "cv_results['test_score']"
   ]
  },
  {
   "cell_type": "code",
   "execution_count": 14,
   "metadata": {},
   "outputs": [
    {
     "data": {
      "text/plain": [
       "[0.817152251347155,\n",
       " 0.8301823606417633,\n",
       " 0.8039090327883825,\n",
       " 0.8221755411453101,\n",
       " 0.8180046884038116,\n",
       " 0.8122811824519743,\n",
       " 0.8114896337565074,\n",
       " 0.8176089140560782,\n",
       " 0.8169391420829908,\n",
       " 0.8158735957621701]"
      ]
     },
     "execution_count": 14,
     "metadata": {},
     "output_type": "execute_result"
    }
   ],
   "source": [
    "gtest_score = []\n",
    "for i in range(len(cv_results['estimator'])):\n",
    "    gtest_score.append(cv_results['estimator'][i].score(X_test, y_test))\n",
    "gtest_score"
   ]
  },
  {
   "cell_type": "code",
   "execution_count": 25,
   "metadata": {},
   "outputs": [],
   "source": [
    "result = []\n",
    "for i in range(len(cv_results['estimator'])):\n",
    "    result.append(cv_results['estimator'][i].predict(X_test))"
   ]
  },
  {
   "cell_type": "code",
   "execution_count": 24,
   "metadata": {},
   "outputs": [
    {
     "name": "stdout",
     "output_type": "stream",
     "text": [
      "AUC:  0.7251782908827139\n",
      "Accuracy:  0.8301823606417633\n",
      "Confusion Matrix: \n",
      " [[27225  5551]\n",
      " [   27    44]]\n"
     ]
    }
   ],
   "source": [
    "y_pred = result[1]\n",
    "print('AUC: ', roc_auc_score(y_test, y_pred))\n",
    "print('Accuracy: ', accuracy_score(y_test, y_pred))\n",
    "print('Confusion Matrix: \\n', confusion_matrix(y_test, y_pred))"
   ]
  },
  {
   "cell_type": "code",
   "execution_count": 54,
   "metadata": {},
   "outputs": [
    {
     "data": {
      "image/png": "[encoded data removed]",
      "text/plain": [
       "<Figure size 1000x600 with 1 Axes>"
      ]
     },
     "metadata": {},
     "output_type": "display_data"
    }
   ],
   "source": [
    "feature_importance = np.abs(logreg.coef_[0])\n",
    "sorted_indices = np.argsort(feature_importance)[::-1]\n",
    "sorted_importance = feature_importance[sorted_indices]\n",
    "\n",
    "feature_names = X.columns[sorted_indices]\n",
    "\n",
    "plt.figure(figsize=(10, 6))\n",
    "plt.bar(range(len(feature_names)), sorted_importance)\n",
    "plt.xticks(range(len(feature_names)), feature_names, rotation=90)\n",
    "plt.xlabel(\"Features\")\n",
    "plt.ylabel(\"Importance\")\n",
    "plt.title(\"Feature Importance in Logistic Regression\")\n",
    "plt.tight_layout()\n",
    "plt.show()"
   ]
  },
  {
   "cell_type": "code",
   "execution_count": 55,
   "metadata": {},
   "outputs": [],
   "source": [
    "def punir_os_infieis(y_true, y_pred):\n",
    "    tn, fp, fn, tp = confusion_matrix(y_true, y_pred).ravel()\n",
    "    fn_penalty = 3\n",
    "    fp_penalty = 5\n",
    "    tn_bonus = -5\n",
    "    tp_bonus = -3\n",
    "\n",
    "    loss = fn_penalty * fn + fp_penalty * fp + tn_bonus * tn + tp_bonus * tp\n",
    "    return -loss"
   ]
  },
  {
   "cell_type": "code",
   "execution_count": 56,
   "metadata": {},
   "outputs": [
    {
     "name": "stdout",
     "output_type": "stream",
     "text": [
      "Fitting 5 folds for each of 36 candidates, totalling 180 fits\n"
     ]
    }
   ],
   "source": [
    "folds = KFold(n_splits=5, shuffle=True, random_state=42)\n",
    "params = {'C': [0.01, 0.1, 1],\n",
    "          'solver': ['liblinear', 'sag', 'saga'],\n",
    "          'max_iter':[100,200],\n",
    "          'penalty': ['l1', 'l2']}\n",
    "\n",
    "custom_scorer = make_scorer(punir_os_infieis)\n",
    "model_cv = GridSearchCV(estimator=LogisticRegression(class_weight='balanced'), param_grid=params, scoring=custom_scorer, cv=folds, verbose=1, return_train_score=True)\n",
    "cv_model = model_cv.fit(X_train, y_train)"
   ]
  },
  {
   "cell_type": "code",
   "execution_count": 57,
   "metadata": {},
   "outputs": [
    {
     "name": "stdout",
     "output_type": "stream",
     "text": [
      "Best Params:  {'C': 0.01, 'max_iter': 100, 'penalty': 'l2', 'solver': 'liblinear'}\n",
      "Best Score:  83438.0\n",
      "Precision 0.0071906354515050164\n",
      "Recall 0.6056338028169014\n",
      "AUC 0.712247582394538\n"
     ]
    }
   ],
   "source": [
    "print('Best Params: ', cv_model.best_params_)\n",
    "print('Best Score: ', cv_model.best_score_)\n",
    "\n",
    "y_pred = cv_model.predict(X_test)\n",
    "print('Precision', precision_score(y_test, y_pred))\n",
    "print('Recall', recall_score(y_test, y_pred))\n",
    "print('AUC', roc_auc_score(y_test, y_pred))"
   ]
  },
  {
   "cell_type": "code",
   "execution_count": 58,
   "metadata": {},
   "outputs": [
    {
     "data": {
      "text/plain": [
       "array([[26839,  5937],\n",
       "       [   28,    43]], dtype=int64)"
      ]
     },
     "execution_count": 58,
     "metadata": {},
     "output_type": "execute_result"
    }
   ],
   "source": [
    "confusion_matrix(y_test, y_pred)"
   ]
  },
  {
   "attachments": {},
   "cell_type": "markdown",
   "metadata": {},
   "source": [
    "#### Após remover as colunas menos significativas"
   ]
  },
  {
   "cell_type": "code",
   "execution_count": 63,
   "metadata": {},
   "outputs": [
    {
     "name": "stdout",
     "output_type": "stream",
     "text": [
      "Regressão Logística - Resultados de Validação:\n",
      "AUC Score: 0.7285537425185725\n",
      "Accuracy: 0.8088714342253478\n"
     ]
    }
   ],
   "source": [
    "# Treinar e avaliar um modelo de regressão logística\n",
    "logreg = LogisticRegression(class_weight='balanced', random_state=42)\n",
    "logreg.fit(X_train, y_train)\n",
    "y_pred_val_logreg = logreg.predict(X_test)\n",
    "accuracy_logreg = accuracy_score(y_test, y_pred_val_logreg)\n",
    "\n",
    "\n",
    "print(\"Regressão Logística - Resultados de Validação:\")\n",
    "#print(classification_report(y_val, y_pred_val_logreg))\n",
    "print(\"AUC Score:\", roc_auc_score(y_test, y_pred_val_logreg))\n",
    "print(\"Accuracy:\", accuracy_logreg)"
   ]
  },
  {
   "cell_type": "code",
   "execution_count": 64,
   "metadata": {},
   "outputs": [
    {
     "data": {
      "text/plain": [
       "array([[26523,  6253],\n",
       "       [   25,    46]], dtype=int64)"
      ]
     },
     "execution_count": 64,
     "metadata": {},
     "output_type": "execute_result"
    }
   ],
   "source": [
    "confusion_matrix(y_test, y_pred_val_logreg)"
   ]
  }
 ],
 "metadata": {
  "kernelspec": {
   "display_name": "Python 3",
   "language": "python",
   "name": "python3"
  },
  "language_info": {
   "codemirror_mode": {
    "name": "ipython",
    "version": 3
   },
   "file_extension": ".py",
   "mimetype": "text/x-python",
   "name": "python",
   "nbconvert_exporter": "python",
   "pygments_lexer": "ipython3",
   "version": "3.10.7"
  },
  "orig_nbformat": 4
 },
 "nbformat": 4,
 "nbformat_minor": 2
}
